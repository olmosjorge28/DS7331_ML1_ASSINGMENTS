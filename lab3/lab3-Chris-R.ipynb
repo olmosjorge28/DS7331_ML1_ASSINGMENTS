{
 "cells": [
  {
   "cell_type": "markdown",
   "metadata": {},
   "source": [
    "## Data Import"
   ]
  },
  {
   "cell_type": "code",
   "execution_count": 8,
   "metadata": {},
   "outputs": [
    {
     "ename": "ERROR",
     "evalue": "Error in library(arules): there is no package called ‘arules’\n",
     "output_type": "error",
     "traceback": [
      "Error in library(arules): there is no package called ‘arules’\nTraceback:\n",
      "1. library(arules)"
     ]
    }
   ],
   "source": [
    "library(dplyr)\n",
    "library(arules)\n",
    "\n",
    "bookings <- read.csv(\"output.csv\")\n",
    "head(bookings)"
   ]
  },
  {
   "cell_type": "code",
   "execution_count": null,
   "metadata": {},
   "outputs": [],
   "source": [
    "# Discretize lead_time and adr to (low, medium, high)\n",
    "\n",
    "bookings <- discretizeDF(bookings, methods = list(\n",
    "  lead_time = list(method = \"frequency\", breaks = 3, \n",
    "    labels = c(\"Low\", \"Medium\", \"High\")),\n",
    "  adr = list(method = \"frequency\", breaks = 3, \n",
    "    labels = c(\"Low\", \"Medium\", \"High\")),\n",
    "  stays_in_weekend_nights = list(method = \"frequency\", breaks = 3, \n",
    "    labels = c(\"Low\", \"Medium\", \"High\")),\n",
    "  stays_in_week_nights = list(method = \"frequency\", breaks = 3, \n",
    "    labels = c(\"Low\", \"Medium\", \"High\")),\n",
    "  adults = list(method = \"frequency\",  breaks = 3, \n",
    "    labels = c(\"Low\", \"Medium\", \"High\"))\n",
    "  ),\n",
    "  default = list(method = \"none\")\n",
    "  )\n",
    "head(bookings)\n"
   ]
  },
  {
   "cell_type": "code",
   "execution_count": null,
   "metadata": {
    "scrolled": true
   },
   "outputs": [],
   "source": [
    "index <- 1:ncol(bookings)\n",
    "bookings[ , index] <- lapply(bookings[ , index], as.factor)\n",
    "str(bookings)"
   ]
  },
  {
   "cell_type": "code",
   "execution_count": null,
   "metadata": {},
   "outputs": [],
   "source": [
    "head(bookings)"
   ]
  },
  {
   "cell_type": "markdown",
   "metadata": {},
   "source": [
    "## Transactions"
   ]
  },
  {
   "cell_type": "code",
   "execution_count": null,
   "metadata": {},
   "outputs": [],
   "source": [
    "trans <- as(bookings, \"transactions\")\n",
    "image(trans)\n",
    "summary(trans)\n",
    "\n",
    "str(bookings)\n",
    "str(trans)"
   ]
  },
  {
   "cell_type": "markdown",
   "metadata": {},
   "source": [
    "## Apriori"
   ]
  },
  {
   "cell_type": "code",
   "execution_count": null,
   "metadata": {},
   "outputs": [],
   "source": [
    "rules <- apriori(trans,parameter=list(minlen=2, support=.005, confidence=.9), control = list(verbose=F),appearance = list(rhs=c(\"adr=Low\",\"adr=Medium\",\"adr=High\"),default=\"lhs\"))\n",
    "\n",
    "rules_lift <- sort(rules, by=\"lift\")\n",
    "rules_pruned <- rules_lift[!is.redundant(rules_lift, measure=\"lift\")]\n",
    "length(rules_pruned)"
   ]
  },
  {
   "cell_type": "code",
   "execution_count": null,
   "metadata": {},
   "outputs": [],
   "source": [
    "inspect(rules_pruned,by=\"lift\")\n"
   ]
  },
  {
   "cell_type": "markdown",
   "metadata": {},
   "source": [
    "## Plots"
   ]
  },
  {
   "cell_type": "code",
   "execution_count": null,
   "metadata": {},
   "outputs": [],
   "source": [
    "library(arulesViz)"
   ]
  },
  {
   "cell_type": "code",
   "execution_count": null,
   "metadata": {},
   "outputs": [],
   "source": [
    "plot(rules_pruned, method=\"grouped\")"
   ]
  },
  {
   "cell_type": "code",
   "execution_count": null,
   "metadata": {},
   "outputs": [],
   "source": [
    "plot(rules_pruned, method=\"graph\")"
   ]
  },
  {
   "cell_type": "code",
   "execution_count": null,
   "metadata": {},
   "outputs": [],
   "source": [
    "plot(rules_pruned, method=\"grouped matrix\")"
   ]
  },
  {
   "cell_type": "code",
   "execution_count": null,
   "metadata": {},
   "outputs": [],
   "source": [
    "plot(rules_pruned, method=\"matrix3D\")"
   ]
  },
  {
   "cell_type": "code",
   "execution_count": null,
   "metadata": {
    "scrolled": true
   },
   "outputs": [],
   "source": [
    "plot(rules_pruned, method=\"paracoord\")"
   ]
  },
  {
   "cell_type": "code",
   "execution_count": null,
   "metadata": {},
   "outputs": [],
   "source": [
    "plot(rules_pruned, measure=c(\"support\", \"lift\"), shading = \"confidence\")"
   ]
  },
  {
   "cell_type": "code",
   "execution_count": null,
   "metadata": {},
   "outputs": [],
   "source": [
    "top10Rules <- head(rules_pruned, n = 10, by = \"confidence\")\n",
    "plot(top10Rules, method = \"graph\",  engine = \"htmlwidget\")\n",
    "saveAsGraph(head(rules_pruned, n = 100, by = \"lift\"), file = \"rules.graphml\")"
   ]
  },
  {
   "cell_type": "markdown",
   "metadata": {},
   "source": [
    "## SubRules "
   ]
  },
  {
   "cell_type": "code",
   "execution_count": null,
   "metadata": {},
   "outputs": [],
   "source": [
    "subrules <- rules_pruned[quality(rules_pruned)$lift > 2.95]"
   ]
  },
  {
   "cell_type": "code",
   "execution_count": null,
   "metadata": {},
   "outputs": [],
   "source": [
    "subrules"
   ]
  },
  {
   "cell_type": "code",
   "execution_count": null,
   "metadata": {},
   "outputs": [],
   "source": [
    "plot(subrules, method=\"grouped\")\n"
   ]
  },
  {
   "cell_type": "code",
   "execution_count": null,
   "metadata": {},
   "outputs": [],
   "source": [
    "inspect(subrules,by=\"lift\")\n"
   ]
  },
  {
   "cell_type": "code",
   "execution_count": null,
   "metadata": {},
   "outputs": [],
   "source": []
  }
 ],
 "metadata": {
  "kernelspec": {
   "display_name": "R",
   "language": "R",
   "name": "ir"
  },
  "language_info": {
   "codemirror_mode": "r",
   "file_extension": ".r",
   "mimetype": "text/x-r-source",
   "name": "R",
   "pygments_lexer": "r",
   "version": "3.6.1"
  }
 },
 "nbformat": 4,
 "nbformat_minor": 4
}
