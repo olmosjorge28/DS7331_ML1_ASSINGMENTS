{
 "cells": [
  {
   "cell_type": "markdown",
   "metadata": {},
   "source": [
    "# Mini-Lab: Logistic Regression and SVMs (Modeling)"
   ]
  },
  {
   "cell_type": "markdown",
   "metadata": {},
   "source": [
    "__Team Members__\n",
    "- Name 1: Jorge Olmos\n",
    "- Name 2: Bosang Yun\n",
    "- Name 3: Yucheol Shin\n",
    "- Name 4: Siu Wai Yeung"
   ]
  },
  {
   "cell_type": "markdown",
   "metadata": {},
   "source": [
    "# Content\n",
    "\n",
    "* [Create Models](#Create-Models)\n",
    "    - [Data Importing and Cleaning](#Data-Importing-and-Cleaning)\n",
    "    - [Logistic Regression](#Logistic-Regression)\n",
    "    - [Support Vector Machine](#Support-Vector-Machine)\n",
    "* [Model Advantages](#Model-Advantages)\n",
    "    - [Does one type of model offer superior performance over another in terms of prediction accuracy?](#question4)\n",
    "    - [In terms of training time or efficiency?](#question5)\n",
    "* [Interpret Feature importance](#Interpret-Feature-Importance)\n",
    "    - [Given the coefficients of each feature, why do you think some features are more important?](#question1)\n",
    "* [Interpret Support Vectors](#Interpret-Support-Vectors)\n",
    "    - [Do the chosen support vectors provide any insight into the data?](#question2)"
   ]
  },
  {
   "cell_type": "markdown",
   "metadata": {},
   "source": [
    "# Create Models<a id='Create-Models'/>"
   ]
  },
  {
   "cell_type": "markdown",
   "metadata": {},
   "source": [
    "## Data Importing and Cleaning"
   ]
  },
  {
   "cell_type": "code",
   "execution_count": 7,
   "metadata": {},
   "outputs": [
    {
     "data": {
      "text/html": [
       "<div>\n",
       "<style scoped>\n",
       "    .dataframe tbody tr th:only-of-type {\n",
       "        vertical-align: middle;\n",
       "    }\n",
       "\n",
       "    .dataframe tbody tr th {\n",
       "        vertical-align: top;\n",
       "    }\n",
       "\n",
       "    .dataframe thead th {\n",
       "        text-align: right;\n",
       "    }\n",
       "</style>\n",
       "<table border=\"1\" class=\"dataframe\">\n",
       "  <thead>\n",
       "    <tr style=\"text-align: right;\">\n",
       "      <th></th>\n",
       "      <th>hotel</th>\n",
       "      <th>is_canceled</th>\n",
       "      <th>lead_time</th>\n",
       "      <th>arrival_date_year</th>\n",
       "      <th>arrival_date_month</th>\n",
       "      <th>arrival_date_week_number</th>\n",
       "      <th>arrival_date_day_of_month</th>\n",
       "      <th>stays_in_weekend_nights</th>\n",
       "      <th>stays_in_week_nights</th>\n",
       "      <th>adults</th>\n",
       "      <th>...</th>\n",
       "      <th>deposit_type</th>\n",
       "      <th>agent</th>\n",
       "      <th>company</th>\n",
       "      <th>days_in_waiting_list</th>\n",
       "      <th>customer_type</th>\n",
       "      <th>adr</th>\n",
       "      <th>required_car_parking_spaces</th>\n",
       "      <th>total_of_special_requests</th>\n",
       "      <th>reservation_status</th>\n",
       "      <th>reservation_status_date</th>\n",
       "    </tr>\n",
       "  </thead>\n",
       "  <tbody>\n",
       "    <tr>\n",
       "      <th>0</th>\n",
       "      <td>Resort Hotel</td>\n",
       "      <td>0</td>\n",
       "      <td>342</td>\n",
       "      <td>2015</td>\n",
       "      <td>July</td>\n",
       "      <td>27</td>\n",
       "      <td>1</td>\n",
       "      <td>0</td>\n",
       "      <td>0</td>\n",
       "      <td>2</td>\n",
       "      <td>...</td>\n",
       "      <td>No Deposit</td>\n",
       "      <td>NaN</td>\n",
       "      <td>NaN</td>\n",
       "      <td>0</td>\n",
       "      <td>Transient</td>\n",
       "      <td>0.0</td>\n",
       "      <td>0</td>\n",
       "      <td>0</td>\n",
       "      <td>Check-Out</td>\n",
       "      <td>7/1/15</td>\n",
       "    </tr>\n",
       "    <tr>\n",
       "      <th>1</th>\n",
       "      <td>Resort Hotel</td>\n",
       "      <td>0</td>\n",
       "      <td>737</td>\n",
       "      <td>2015</td>\n",
       "      <td>July</td>\n",
       "      <td>27</td>\n",
       "      <td>1</td>\n",
       "      <td>0</td>\n",
       "      <td>0</td>\n",
       "      <td>2</td>\n",
       "      <td>...</td>\n",
       "      <td>No Deposit</td>\n",
       "      <td>NaN</td>\n",
       "      <td>NaN</td>\n",
       "      <td>0</td>\n",
       "      <td>Transient</td>\n",
       "      <td>0.0</td>\n",
       "      <td>0</td>\n",
       "      <td>0</td>\n",
       "      <td>Check-Out</td>\n",
       "      <td>7/1/15</td>\n",
       "    </tr>\n",
       "    <tr>\n",
       "      <th>2</th>\n",
       "      <td>Resort Hotel</td>\n",
       "      <td>0</td>\n",
       "      <td>7</td>\n",
       "      <td>2015</td>\n",
       "      <td>July</td>\n",
       "      <td>27</td>\n",
       "      <td>1</td>\n",
       "      <td>0</td>\n",
       "      <td>1</td>\n",
       "      <td>1</td>\n",
       "      <td>...</td>\n",
       "      <td>No Deposit</td>\n",
       "      <td>NaN</td>\n",
       "      <td>NaN</td>\n",
       "      <td>0</td>\n",
       "      <td>Transient</td>\n",
       "      <td>75.0</td>\n",
       "      <td>0</td>\n",
       "      <td>0</td>\n",
       "      <td>Check-Out</td>\n",
       "      <td>7/2/15</td>\n",
       "    </tr>\n",
       "    <tr>\n",
       "      <th>3</th>\n",
       "      <td>Resort Hotel</td>\n",
       "      <td>0</td>\n",
       "      <td>13</td>\n",
       "      <td>2015</td>\n",
       "      <td>July</td>\n",
       "      <td>27</td>\n",
       "      <td>1</td>\n",
       "      <td>0</td>\n",
       "      <td>1</td>\n",
       "      <td>1</td>\n",
       "      <td>...</td>\n",
       "      <td>No Deposit</td>\n",
       "      <td>304.0</td>\n",
       "      <td>NaN</td>\n",
       "      <td>0</td>\n",
       "      <td>Transient</td>\n",
       "      <td>75.0</td>\n",
       "      <td>0</td>\n",
       "      <td>0</td>\n",
       "      <td>Check-Out</td>\n",
       "      <td>7/2/15</td>\n",
       "    </tr>\n",
       "    <tr>\n",
       "      <th>4</th>\n",
       "      <td>Resort Hotel</td>\n",
       "      <td>0</td>\n",
       "      <td>14</td>\n",
       "      <td>2015</td>\n",
       "      <td>July</td>\n",
       "      <td>27</td>\n",
       "      <td>1</td>\n",
       "      <td>0</td>\n",
       "      <td>2</td>\n",
       "      <td>2</td>\n",
       "      <td>...</td>\n",
       "      <td>No Deposit</td>\n",
       "      <td>240.0</td>\n",
       "      <td>NaN</td>\n",
       "      <td>0</td>\n",
       "      <td>Transient</td>\n",
       "      <td>98.0</td>\n",
       "      <td>0</td>\n",
       "      <td>1</td>\n",
       "      <td>Check-Out</td>\n",
       "      <td>7/3/15</td>\n",
       "    </tr>\n",
       "  </tbody>\n",
       "</table>\n",
       "<p>5 rows × 32 columns</p>\n",
       "</div>"
      ],
      "text/plain": [
       "          hotel  is_canceled  lead_time  arrival_date_year arrival_date_month  \\\n",
       "0  Resort Hotel            0        342               2015               July   \n",
       "1  Resort Hotel            0        737               2015               July   \n",
       "2  Resort Hotel            0          7               2015               July   \n",
       "3  Resort Hotel            0         13               2015               July   \n",
       "4  Resort Hotel            0         14               2015               July   \n",
       "\n",
       "   arrival_date_week_number  arrival_date_day_of_month  \\\n",
       "0                        27                          1   \n",
       "1                        27                          1   \n",
       "2                        27                          1   \n",
       "3                        27                          1   \n",
       "4                        27                          1   \n",
       "\n",
       "   stays_in_weekend_nights  stays_in_week_nights  adults  ...  deposit_type  \\\n",
       "0                        0                     0       2  ...    No Deposit   \n",
       "1                        0                     0       2  ...    No Deposit   \n",
       "2                        0                     1       1  ...    No Deposit   \n",
       "3                        0                     1       1  ...    No Deposit   \n",
       "4                        0                     2       2  ...    No Deposit   \n",
       "\n",
       "   agent company days_in_waiting_list customer_type   adr  \\\n",
       "0    NaN     NaN                    0     Transient   0.0   \n",
       "1    NaN     NaN                    0     Transient   0.0   \n",
       "2    NaN     NaN                    0     Transient  75.0   \n",
       "3  304.0     NaN                    0     Transient  75.0   \n",
       "4  240.0     NaN                    0     Transient  98.0   \n",
       "\n",
       "   required_car_parking_spaces  total_of_special_requests  reservation_status  \\\n",
       "0                            0                          0           Check-Out   \n",
       "1                            0                          0           Check-Out   \n",
       "2                            0                          0           Check-Out   \n",
       "3                            0                          0           Check-Out   \n",
       "4                            0                          1           Check-Out   \n",
       "\n",
       "  reservation_status_date  \n",
       "0                  7/1/15  \n",
       "1                  7/1/15  \n",
       "2                  7/2/15  \n",
       "3                  7/2/15  \n",
       "4                  7/3/15  \n",
       "\n",
       "[5 rows x 32 columns]"
      ]
     },
     "execution_count": 7,
     "metadata": {},
     "output_type": "execute_result"
    }
   ],
   "source": [
    "import pandas as pd\n",
    "import numpy as np\n",
    "\n",
    "hotel_bookings = pd.read_csv('https://raw.githubusercontent.com/olmosjorge28/DS7331_ML1_ASSINGMENTS/main/hotel_bookings.csv') # read in the csv file\n",
    "hotel_bookings.head()"
   ]
  },
  {
   "cell_type": "code",
   "execution_count": 8,
   "metadata": {},
   "outputs": [],
   "source": [
    "import math\n",
    "from datetime import date\n",
    "\n",
    "\n",
    "hotel_bookings_transform = hotel_bookings\n",
    "hotel_bookings_transform= hotel_bookings_transform.drop(columns=['agent','company', 'country'])\n",
    "\n",
    "hotel_bookings_transform['meal']= hotel_bookings_transform['meal'].apply(lambda x: 'SC' if  x == 'Undefined'  else x)\n",
    "hotel_bookings_transform['children']= hotel_bookings_transform['children'].apply(lambda x: 0 if  math.isnan(x)  else x)\n",
    "hotel_bookings_transform['market_segment']= hotel_bookings_transform['market_segment'].apply(lambda x: 'Online TA' if  x == 'Undefined'  else x)\n",
    "hotel_bookings_transform['distribution_channel']= hotel_bookings_transform['distribution_channel'].apply(lambda x: 'TA/TO' if  x == 'Undefined'  else x)\n",
    "\n",
    "\n",
    "hotel_bookings_transform['hotel']=hotel_bookings_transform['hotel'].astype('category').cat.codes\n",
    "hotel_bookings_transform['market_segment']=hotel_bookings_transform['market_segment'].astype('category').cat.codes\n",
    "hotel_bookings_transform['meal']=hotel_bookings_transform['meal'].astype('category').cat.codes\n",
    "hotel_bookings_transform['reservation_status']=hotel_bookings_transform['reservation_status'].astype('category').cat.codes\n",
    "hotel_bookings_transform['distribution_channel']=hotel_bookings_transform['distribution_channel'].astype('category').cat.codes\n",
    "hotel_bookings_transform['reserved_room_type']=hotel_bookings_transform['reserved_room_type'].astype('category').cat.codes\n",
    "hotel_bookings_transform['assigned_room_type']=hotel_bookings_transform['assigned_room_type'].astype('category').cat.codes\n",
    "hotel_bookings_transform['deposit_type']=hotel_bookings_transform['deposit_type'].astype('category').cat.codes\n",
    "hotel_bookings_transform['customer_type']=hotel_bookings_transform['customer_type'].astype('category').cat.codes\n",
    "\n",
    "assign_month = {\"arrival_date_month\": {\"January\": 1, \"February\": 2, \"March\": 3, \"April\": 4,\"May\": 5,\"June\": 6,\"July\": 7,\"August\": 8,\"September\": 9,\"October\": 10,\"November\": 11,\"December\": 12}}\n",
    "hotel_bookings_transform = hotel_bookings_transform.replace(assign_month)\n",
    "\n",
    "# Convert Date to Ordinal\n",
    "import datetime as dt\n",
    "hotel_bookings_transform['reservation_status_date'] = pd.to_datetime(hotel_bookings_transform['reservation_status_date'])\n",
    "hotel_bookings_transform['reservation_status_date'] = hotel_bookings_transform['reservation_status_date'].map(dt.datetime.toordinal)\n",
    "\n",
    "hotel_bookings_transform=hotel_bookings_transform.assign(booking_day_of_year = hotel_bookings_transform[\"arrival_date_year\"].astype(str) + '-' + \n",
    "hotel_bookings_transform[\"arrival_date_month\"].astype(str) + '-' +hotel_bookings_transform[\"arrival_date_day_of_month\"].astype(str))\n",
    "hotel_bookings_transform['booking_day_of_year']=pd.to_datetime(hotel_bookings_transform.booking_day_of_year)\n",
    "hotel_bookings_transform['booking_day_of_year']=hotel_bookings_transform['booking_day_of_year'].map(lambda x: x.toordinal() - date(x.year, 1, 1).toordinal() + 1)\n",
    "\n",
    "\n",
    "hotel_bookings_transform=hotel_bookings_transform.drop(columns=['arrival_date_year','reservation_status_date'])\n",
    "#hotel_bookings_transform['booking_date']=hotel_bookings_transform['booking_date'].map(dt.datetime.toordinal)"
   ]
  },
  {
   "cell_type": "markdown",
   "metadata": {},
   "source": [
    "### Normalization"
   ]
  },
  {
   "cell_type": "markdown",
   "metadata": {},
   "source": [
    "- SVM tries to maximize the distance between the support vectors and the separating plane. \n",
    "- Prior to conducting SVM, we need to normalize the dataset so we can get rid of bias and dominance of certain features over others. \n",
    "- The result of applying normalized dataset will be having the same influence on the distance metric, thus boosting the accuracy of the model. "
   ]
  },
  {
   "cell_type": "code",
   "execution_count": 9,
   "metadata": {},
   "outputs": [],
   "source": [
    "X=hotel_bookings_transform.drop(columns=['is_canceled','reservation_status','meal'])\n",
    "y=hotel_bookings_transform.is_canceled\n",
    "columns = X.columns"
   ]
  },
  {
   "cell_type": "code",
   "execution_count": 10,
   "metadata": {},
   "outputs": [],
   "source": [
    "from sklearn import preprocessing\n",
    "scaler = preprocessing.StandardScaler().fit(X)\n",
    "scaler\n",
    "\n",
    "scaler.mean_\n",
    "scaler.scale_\n",
    "\n",
    "X_scaled = pd.DataFrame(scaler.transform(X),columns=columns)"
   ]
  },
  {
   "cell_type": "markdown",
   "metadata": {},
   "source": [
    "Verifying each feature has a mean of zero:"
   ]
  },
  {
   "cell_type": "code",
   "execution_count": 11,
   "metadata": {},
   "outputs": [
    {
     "data": {
      "text/plain": [
       "hotel                            -2.148285e-13\n",
       "lead_time                         3.358325e-16\n",
       "arrival_date_month               -1.221612e-14\n",
       "arrival_date_week_number          4.093983e-15\n",
       "arrival_date_day_of_month        -9.159196e-16\n",
       "stays_in_weekend_nights           3.928971e-14\n",
       "stays_in_week_nights             -2.182022e-14\n",
       "adults                            5.708995e-15\n",
       "children                         -6.989886e-16\n",
       "babies                            5.955017e-15\n",
       "market_segment                    4.484909e-15\n",
       "distribution_channel              2.185129e-14\n",
       "is_repeated_guest                -3.493540e-14\n",
       "previous_cancellations            1.741766e-14\n",
       "previous_bookings_not_canceled   -1.286381e-15\n",
       "reserved_room_type                1.246924e-13\n",
       "assigned_room_type                9.462049e-14\n",
       "booking_changes                  -7.015186e-14\n",
       "deposit_type                      1.754553e-13\n",
       "days_in_waiting_list             -1.846956e-14\n",
       "customer_type                    -2.170149e-14\n",
       "adr                               1.441786e-14\n",
       "required_car_parking_spaces       1.359733e-13\n",
       "total_of_special_requests         1.044865e-13\n",
       "booking_day_of_year               1.311287e-15\n",
       "dtype: float64"
      ]
     },
     "execution_count": 11,
     "metadata": {},
     "output_type": "execute_result"
    }
   ],
   "source": [
    "X_scaled.mean(axis=0)"
   ]
  },
  {
   "cell_type": "markdown",
   "metadata": {},
   "source": [
    "Verifying that the standard deviation should be 1:"
   ]
  },
  {
   "cell_type": "code",
   "execution_count": 12,
   "metadata": {},
   "outputs": [
    {
     "data": {
      "text/plain": [
       "hotel                             1.000004\n",
       "lead_time                         1.000004\n",
       "arrival_date_month                1.000004\n",
       "arrival_date_week_number          1.000004\n",
       "arrival_date_day_of_month         1.000004\n",
       "stays_in_weekend_nights           1.000004\n",
       "stays_in_week_nights              1.000004\n",
       "adults                            1.000004\n",
       "children                          1.000004\n",
       "babies                            1.000004\n",
       "market_segment                    1.000004\n",
       "distribution_channel              1.000004\n",
       "is_repeated_guest                 1.000004\n",
       "previous_cancellations            1.000004\n",
       "previous_bookings_not_canceled    1.000004\n",
       "reserved_room_type                1.000004\n",
       "assigned_room_type                1.000004\n",
       "booking_changes                   1.000004\n",
       "deposit_type                      1.000004\n",
       "days_in_waiting_list              1.000004\n",
       "customer_type                     1.000004\n",
       "adr                               1.000004\n",
       "required_car_parking_spaces       1.000004\n",
       "total_of_special_requests         1.000004\n",
       "booking_day_of_year               1.000004\n",
       "dtype: float64"
      ]
     },
     "execution_count": 12,
     "metadata": {},
     "output_type": "execute_result"
    }
   ],
   "source": [
    "X_scaled.std(axis=0)"
   ]
  },
  {
   "cell_type": "markdown",
   "metadata": {},
   "source": [
    "### Feature Selection "
   ]
  },
  {
   "cell_type": "markdown",
   "metadata": {},
   "source": [
    "#### Optimizing variable settings before running feature selection\n",
    "- Identifying highly correlated variables before running RFE (>0.8)\n",
    "- Selecting best logistic regression parameters for RFE"
   ]
  },
  {
   "cell_type": "markdown",
   "metadata": {},
   "source": [
    "Identifying highly correlated variables beforehand:"
   ]
  },
  {
   "cell_type": "code",
   "execution_count": 13,
   "metadata": {},
   "outputs": [
    {
     "name": "stdout",
     "output_type": "stream",
     "text": [
      "Highly correlated features are: {'booking_day_of_year', 'assigned_room_type', 'arrival_date_week_number'}\n"
     ]
    }
   ],
   "source": [
    "correlated_features = set()\n",
    "correlation_matrix = X_scaled.corr()\n",
    "\n",
    "for i in range(len(correlation_matrix.columns)):\n",
    "    for j in range(i):\n",
    "        if abs(correlation_matrix.iloc[i, j]) > 0.8:\n",
    "            colname = correlation_matrix.columns[i]\n",
    "            correlated_features.add(colname)\n",
    "            \n",
    "print('Highly correlated features are: {}'.format(correlated_features))"
   ]
  },
  {
   "cell_type": "code",
   "execution_count": 14,
   "metadata": {},
   "outputs": [],
   "source": [
    "X_scaled=X_scaled.drop(['booking_day_of_year', 'arrival_date_week_number','assigned_room_type'], axis=1)"
   ]
  },
  {
   "cell_type": "markdown",
   "metadata": {},
   "source": [
    "Since we will be using Logistic regression method for RFE, we will be running initial model to select the best LR parameters:"
   ]
  },
  {
   "cell_type": "markdown",
   "metadata": {},
   "source": [
    "#### RFE Selection\n",
    "Work cited : https://towardsdatascience.com/feature-selection-in-python-recursive-feature-elimination-19f1c39b8d15"
   ]
  },
  {
   "cell_type": "markdown",
   "metadata": {},
   "source": [
    "Here we're examining the plot of the categorical values of interest and looking at the optimal number of features using RandomForest:"
   ]
  },
  {
   "cell_type": "code",
   "execution_count": 15,
   "metadata": {},
   "outputs": [
    {
     "data": {
      "text/plain": [
       "RFECV(cv=StratifiedKFold(n_splits=3, random_state=None, shuffle=False),\n",
       "      estimator=RandomForestClassifier(random_state=10), scoring='accuracy')"
      ]
     },
     "execution_count": 15,
     "metadata": {},
     "output_type": "execute_result"
    }
   ],
   "source": [
    "from sklearn.ensemble import RandomForestClassifier\n",
    "from sklearn.feature_selection import RFECV\n",
    "from sklearn.model_selection import StratifiedKFold\n",
    "\n",
    "rfc = RandomForestClassifier(random_state=10)\n",
    "rfecv = RFECV(estimator=rfc, step=1, cv=StratifiedKFold(3), scoring='accuracy')\n",
    "rfecv.fit(X_scaled, y)"
   ]
  },
  {
   "cell_type": "code",
   "execution_count": 16,
   "metadata": {},
   "outputs": [
    {
     "name": "stdout",
     "output_type": "stream",
     "text": [
      "Optimal number of features: 9\n"
     ]
    }
   ],
   "source": [
    "print('Optimal number of features: {}'.format(rfecv.n_features_))"
   ]
  },
  {
   "cell_type": "code",
   "execution_count": 17,
   "metadata": {},
   "outputs": [
    {
     "data": {
      "image/png": "[encoded data removed]",
      "text/plain": [
       "<Figure size 720x360 with 1 Axes>"
      ]
     },
     "metadata": {
      "needs_background": "light"
     },
     "output_type": "display_data"
    }
   ],
   "source": [
    "import matplotlib.pyplot as plt\n",
    "\n",
    "plt.figure(figsize=(10, 5))\n",
    "plt.title('RFE with Cross Validation', fontsize=18, fontweight='bold', pad=20)\n",
    "plt.xlabel('Number of features selected', fontsize=14, labelpad=20)\n",
    "plt.ylabel('% Correct Classification', fontsize=14, labelpad=20)\n",
    "plt.plot(range(1, len(rfecv.grid_scores_) + 1), rfecv.grid_scores_, color='#303F9F', linewidth=2)\n",
    "\n",
    "plt.show()"
   ]
  },
  {
   "cell_type": "code",
   "execution_count": 18,
   "metadata": {},
   "outputs": [
    {
     "name": "stdout",
     "output_type": "stream",
     "text": [
      "[ 0  4  6  7  8 10 11 13 14 15 17 18 20]\n"
     ]
    }
   ],
   "source": [
    "print(np.where(rfecv.support_ == False)[0])\n",
    "\n",
    "X_scaled.drop(X_scaled.columns[np.where(rfecv.support_ == False)[0]], axis=1, inplace=True)"
   ]
  },
  {
   "cell_type": "code",
   "execution_count": 19,
   "metadata": {},
   "outputs": [
    {
     "data": {
      "image/png": "[encoded data removed]",
      "text/plain": [
       "<Figure size 576x576 with 1 Axes>"
      ]
     },
     "metadata": {
      "needs_background": "light"
     },
     "output_type": "display_data"
    }
   ],
   "source": [
    "dset = pd.DataFrame()\n",
    "dset['attr'] = X_scaled.columns\n",
    "dset['importance'] = rfecv.estimator_.feature_importances_\n",
    "\n",
    "dset = dset.sort_values(by='importance', ascending=True)\n",
    "\n",
    "\n",
    "plt.figure(figsize=(8, 8))\n",
    "plt.barh(y=dset['attr'], width=dset['importance'], color='#1976D2')\n",
    "plt.title('RFECV - Feature Importances', fontsize=20, fontweight='bold', pad=20)\n",
    "plt.xlabel('Importance', fontsize=14, labelpad=20)\n",
    "plt.show()"
   ]
  },
  {
   "cell_type": "markdown",
   "metadata": {},
   "source": [
    "#### Result from Recursive Feature Elimination using Random Forest\n",
    "- 31 features are run and put through the elimination process through RFE. \n",
    "- Recursive method is utilized to reduce the number of features down with Random Forest method. \n",
    "- A total of 9 features are selected : \n",
    "    - lead_time,\n",
    "    - adr,\n",
    "    - deposit_type,\n",
    "    - arrival_date_day_of_month,\n",
    "    - market_segment,\n",
    "    - arrival_date_month,\n",
    "    - total_of_special_requests,\n",
    "    - stays_in_week_nights,\n",
    "    - previous_cancellations"
   ]
  },
  {
   "cell_type": "markdown",
   "metadata": {},
   "source": [
    "### Train test split using the final set of features\n",
    "- We applied the feature selection from above and decided to use 80:20 training/test split"
   ]
  },
  {
   "cell_type": "markdown",
   "metadata": {},
   "source": [
    "## Logistic Regression<a id='Logistic-Regression'/>"
   ]
  },
  {
   "cell_type": "code",
   "execution_count": 41,
   "metadata": {},
   "outputs": [
    {
     "name": "stdout",
     "output_type": "stream",
     "text": [
      "Training set score: 0.784\n",
      "Test set score: 0.784\n",
      "Optimization terminated successfully.\n",
      "         Current function value: 0.488284\n",
      "         Iterations 7\n",
      "                           Logit Regression Results                           \n",
      "==============================================================================\n",
      "Dep. Variable:            is_canceled   No. Observations:               119390\n",
      "Model:                          Logit   Df Residuals:                   119381\n",
      "Method:                           MLE   Df Model:                            8\n",
      "Date:                Tue, 02 Mar 2021   Pseudo R-squ.:                  0.2593\n",
      "Time:                        16:54:28   Log-Likelihood:                -58296.\n",
      "converged:                       True   LL-Null:                       -78699.\n",
      "Covariance Type:            nonrobust   LLR p-value:                     0.000\n",
      "=============================================================================================\n",
      "                                coef    std err          z      P>|z|      [0.025      0.975]\n",
      "---------------------------------------------------------------------------------------------\n",
      "lead_time                     0.3256      0.008     39.517      0.000       0.309       0.342\n",
      "arrival_date_month           -0.0389      0.008     -5.161      0.000      -0.054      -0.024\n",
      "arrival_date_day_of_month    -0.0102      0.007     -1.424      0.155      -0.024       0.004\n",
      "stays_in_week_nights          0.0746      0.007     10.764      0.000       0.061       0.088\n",
      "market_segment                0.5581      0.009     61.878      0.000       0.540       0.576\n",
      "previous_cancellations        1.5599      0.035     43.983      0.000       1.490       1.629\n",
      "deposit_type                  2.1493      0.020    107.888      0.000       2.110       2.188\n",
      "adr                           0.2707      0.008     35.602      0.000       0.256       0.286\n",
      "total_of_special_requests    -0.4870      0.008    -60.181      0.000      -0.503      -0.471\n",
      "=============================================================================================\n"
     ]
    }
   ],
   "source": [
    "from sklearn.model_selection import StratifiedShuffleSplit \n",
    "from sklearn.model_selection import train_test_split\n",
    "from sklearn import metrics as mt\n",
    "\n",
    "from sklearn.linear_model import LogisticRegression\n",
    "from sklearn.model_selection import ShuffleSplit\n",
    "from sklearn import metrics as mt\n",
    "from sklearn.model_selection import cross_val_score\n",
    "num_cv_iterations = 3\n",
    "num_instances = len(y)\n",
    "cv_object = ShuffleSplit(n_splits=num_cv_iterations,test_size= 0.2) \n",
    "\n",
    "for train_indices, test_indices in cv_object.split(X_scaled,y): \n",
    "    # I will create new variables here so that it is more obvious what \n",
    "    # the code is doing (you can compact this syntax and avoid duplicating memory,\n",
    "    # but it makes this code less readable)\n",
    "    X_train = X_scaled.iloc[train_indices]\n",
    "    y_train = y.iloc[train_indices]\n",
    "    \n",
    "    X_test = X_scaled.iloc[test_indices]\n",
    "    y_test = y.iloc[test_indices]\n",
    "    \n",
    "logreg = LogisticRegression().fit(X_train,y_train)\n",
    "logreg\n",
    "\n",
    "print(\"Training set score: {:.3f}\".format(logreg.score(X_train,y_train)))\n",
    "print(\"Test set score: {:.3f}\".format(logreg.score(X_test,y_test)))\n",
    "\n",
    "import statsmodels.api as sm\n",
    "logit_model=sm.Logit(y,X_scaled)\n",
    "result=logit_model.fit()\n",
    "print(result.summary())"
   ]
  },
  {
   "cell_type": "code",
   "execution_count": 42,
   "metadata": {},
   "outputs": [
    {
     "name": "stdout",
     "output_type": "stream",
     "text": [
      "lead_time has weight of 0.3367997121947084\n",
      "arrival_date_month has weight of -0.04374581652297639\n",
      "arrival_date_day_of_month has weight of -0.01050900486743662\n",
      "stays_in_week_nights has weight of 0.07580431825494012\n",
      "market_segment has weight of 0.5930811801454208\n",
      "previous_cancellations has weight of 1.5152259118180393\n",
      "deposit_type has weight of 1.4398150176898177\n",
      "adr has weight of 0.274641784223386\n",
      "total_of_special_requests has weight of -0.513066495689784\n"
     ]
    }
   ],
   "source": [
    "# iterate over the coefficients\n",
    "weights = logreg.coef_.T # take transpose to make a column vector\n",
    "variable_names = X_scaled.columns\n",
    "for coef, name in zip(weights,variable_names):\n",
    "    print(name, 'has weight of', coef[0])"
   ]
  },
  {
   "cell_type": "code",
   "execution_count": 22,
   "metadata": {},
   "outputs": [
    {
     "data": {
      "image/png": "[encoded data removed]",
      "text/plain": [
       "<Figure size 432x288 with 1 Axes>"
      ]
     },
     "metadata": {},
     "output_type": "display_data"
    }
   ],
   "source": [
    "# now let's make a pandas Series with the names and values, and plot them\n",
    "from matplotlib import pyplot as plt\n",
    "%matplotlib inline\n",
    "plt.style.use('ggplot')\n",
    "\n",
    "\n",
    "weights = pd.Series(logreg.coef_[0],index=X_scaled.columns)\n",
    "weights.plot(kind='bar')\n",
    "plt.show()"
   ]
  },
  {
   "cell_type": "markdown",
   "metadata": {},
   "source": [
    "### `Given the coefficients of each feature, why do you think some features are more important?` <a id='question1'/> "
   ]
  },
  {
   "cell_type": "markdown",
   "metadata": {},
   "source": [
    "- The __intercept__ is __-0.10307943__ which corresponds to the log odds for hotel booking being canceled\n",
    "- Most important feature, __deposit_type__, is categorical variable and it has __coefficient__ of __1.104487__ which gives odd ratio of __3.0177__.\n",
    "    - For every 1 unit increase in deposit type (0 = No Deposit, 1 = Non Refund, 2 = Refundable), the odds will increase by a multiplicative factor of 3.0177 holding all other features employed in the model fixed.\n",
    "- Second important feature, __lead_time__, is continuous variable and it has __coefficient__ of __0.350749__ which gives odd ratio of __1.4201__.\n",
    "    - For every 1 unit increase  in lead_time, the odds will increase by a multiplicative factor of 1.4201 holding all other features employed in the model fixed."
   ]
  },
  {
   "cell_type": "markdown",
   "metadata": {},
   "source": [
    "## Support Vector Machine<a id='Support-Vector-Machine'/>"
   ]
  },
  {
   "cell_type": "markdown",
   "metadata": {},
   "source": [
    "### Model 1 - Linear"
   ]
  },
  {
   "cell_type": "code",
   "execution_count": 23,
   "metadata": {},
   "outputs": [
    {
     "name": "stdout",
     "output_type": "stream",
     "text": [
      "accuracy: 0.7643437473825279\n",
      "[[14857   160]\n",
      " [ 5467  3394]]\n"
     ]
    }
   ],
   "source": [
    "# lets investigate SVMs on the data and play with the parameters and kernels\n",
    "from sklearn.svm import SVC\n",
    "\n",
    "# train the model just as before\n",
    "svm_clf = SVC(C=1.0, kernel='linear') # get object\n",
    "svm_clf.fit(X_train, y_train)  # train object\n",
    "\n",
    "y_hat = svm_clf.predict(X_test) # get test set precitions\n",
    "\n",
    "acc = mt.accuracy_score(y_test,y_hat)\n",
    "conf = mt.confusion_matrix(y_test,y_hat)\n",
    "print('accuracy:', acc )\n",
    "print(conf)"
   ]
  },
  {
   "cell_type": "code",
   "execution_count": 24,
   "metadata": {},
   "outputs": [
    {
     "name": "stdout",
     "output_type": "stream",
     "text": [
      "(47385, 9)\n",
      "(47385,)\n",
      "[24049 23336]\n"
     ]
    }
   ],
   "source": [
    "# look at the support vectors\n",
    "print(svm_clf.support_vectors_.shape)\n",
    "print(svm_clf.support_.shape)\n",
    "print(svm_clf.n_support_ )"
   ]
  },
  {
   "cell_type": "code",
   "execution_count": 26,
   "metadata": {
    "scrolled": false
   },
   "outputs": [
    {
     "name": "stdout",
     "output_type": "stream",
     "text": [
      "[[ 3.28238277e-05  3.85673405e-06  8.82874247e-06  3.23347299e-05\n",
      "   5.78774070e-05  1.68849702e+00  6.69380025e-01  1.97136878e-05\n",
      "  -1.25442934e-04]]\n"
     ]
    },
    {
     "data": {
      "text/plain": [
       "<AxesSubplot:>"
      ]
     },
     "execution_count": 26,
     "metadata": {},
     "output_type": "execute_result"
    },
    {
     "data": {
      "image/png": "[encoded data removed]",
      "text/plain": [
       "<Figure size 432x288 with 1 Axes>"
      ]
     },
     "metadata": {},
     "output_type": "display_data"
    }
   ],
   "source": [
    "\n",
    "# if using linear kernel, these make sense to look at (not otherwise, why?)\n",
    "print(svm_clf.coef_)\n",
    "weights = pd.Series(svm_clf.coef_[0],index=X_scaled.columns)\n",
    "weights.plot(kind='bar')"
   ]
  },
  {
   "cell_type": "code",
   "execution_count": 48,
   "metadata": {},
   "outputs": [
    {
     "name": "stdout",
     "output_type": "stream",
     "text": [
      "<class 'pandas.core.frame.DataFrame'>\n",
      "Int64Index: 47385 entries, 43527 to 85097\n",
      "Data columns (total 10 columns):\n",
      " #   Column                     Non-Null Count  Dtype  \n",
      "---  ------                     --------------  -----  \n",
      " 0   lead_time                  47385 non-null  float64\n",
      " 1   arrival_date_month         47385 non-null  float64\n",
      " 2   arrival_date_day_of_month  47385 non-null  float64\n",
      " 3   stays_in_week_nights       47385 non-null  float64\n",
      " 4   market_segment             47385 non-null  float64\n",
      " 5   previous_cancellations     47385 non-null  float64\n",
      " 6   deposit_type               47385 non-null  float64\n",
      " 7   adr                        47385 non-null  float64\n",
      " 8   total_of_special_requests  47385 non-null  float64\n",
      " 9   is_canceled                18857 non-null  float64\n",
      "dtypes: float64(10)\n",
      "memory usage: 4.0 MB\n"
     ]
    },
    {
     "name": "stderr",
     "output_type": "stream",
     "text": [
      "<ipython-input-48-c64f711eaea9>:11: SettingWithCopyWarning: \n",
      "A value is trying to be set on a copy of a slice from a DataFrame.\n",
      "Try using .loc[row_indexer,col_indexer] = value instead\n",
      "\n",
      "See the caveats in the documentation: https://pandas.pydata.org/pandas-docs/stable/user_guide/indexing.html#returning-a-view-versus-a-copy\n",
      "  df_support['is_canceled'] = y.loc[svm_clf.support_] # add back in the 'Survived' Column to the pandas dataframe\n"
     ]
    }
   ],
   "source": [
    "\n",
    "# Now let's do some different analysis with the SVM and look at the instances that were chosen as support vectors\n",
    "\n",
    "# now lets look at the support for the vectors and see if we they are indicative of anything\n",
    "# grabe the rows that were selected as support vectors (these are usually instances that are hard to classify)\n",
    "\n",
    "# make a dataframe of the training data\n",
    "df_tested_on = X_scaled.iloc[train_indices] # saved from above, the indices chosen for training\n",
    "# now get the support vectors from the trained model\n",
    "df_support = df_tested_on.iloc[svm_clf.support_,:]\n",
    "\n",
    "df_support['is_canceled'] = y.loc[svm_clf.support_] # add back in the 'Survived' Column to the pandas dataframe\n",
    "X_scaled['is_canceled'] = y # also add it back in for the original data\n",
    "df_support.info()"
   ]
  },
  {
   "cell_type": "markdown",
   "metadata": {},
   "source": [
    "##### Here in the following graphs (original data vs support vectors), we notice that the closer the match is the better the support vectors are doing their job classifying whether the reservation has been canceled or not. \n",
    "- Previous_cancellations, deposit_type have outperformed other features as expected.\n",
    "- total_of_special_requests and lead_time have done decent jobs. \n",
    "- adr showed the most variation when it comes to support vectors' ability to classify, meaning it performed poorly. "
   ]
  },
  {
   "cell_type": "code",
   "execution_count": 57,
   "metadata": {},
   "outputs": [
    {
     "data": {
      "image/png": "[encoded data removed]",
      "text/plain": [
       "<Figure size 720x288 with 2 Axes>"
      ]
     },
     "metadata": {},
     "output_type": "display_data"
    },
    {
     "data": {
      "image/png": "[encoded data removed]",
      "text/plain": [
       "<Figure size 720x288 with 2 Axes>"
      ]
     },
     "metadata": {},
     "output_type": "display_data"
    },
    {
     "data": {
      "image/png": "[encoded data removed]",
      "text/plain": [
       "<Figure size 720x288 with 2 Axes>"
      ]
     },
     "metadata": {},
     "output_type": "display_data"
    },
    {
     "data": {
      "image/png": "[encoded data removed]",
      "text/plain": [
       "<Figure size 720x288 with 2 Axes>"
      ]
     },
     "metadata": {},
     "output_type": "display_data"
    },
    {
     "data": {
      "image/png": "[encoded data removed]",
      "text/plain": [
       "<Figure size 720x288 with 2 Axes>"
      ]
     },
     "metadata": {},
     "output_type": "display_data"
    },
    {
     "data": {
      "image/png": "[encoded data removed]",
      "text/plain": [
       "<Figure size 720x288 with 2 Axes>"
      ]
     },
     "metadata": {},
     "output_type": "display_data"
    }
   ],
   "source": [
    "# now lets see the statistics of these attributes\n",
    "import pandas\n",
    "from pandas.plotting import boxplot\n",
    "\n",
    "# group the original data and the support vectors\n",
    "df_grouped_support = df_support.groupby(['is_canceled'])\n",
    "df_grouped = X_scaled.groupby(['is_canceled'])\n",
    "\n",
    "# plot KDE of Different variables\n",
    "vars_to_plot = ['adr','lead_time','market_segment','total_of_special_requests','deposit_type','previous_cancellations']\n",
    "\n",
    "for v in vars_to_plot:\n",
    "    plt.figure(figsize=(10,4))\n",
    "    # plot support vector stats\n",
    "    plt.subplot(1,2,1)\n",
    "    ax = df_grouped_support[v].plot.kde() \n",
    "    plt.legend(['Canceled','Not-canceled'])\n",
    "    plt.title(v+' (Support Vectors)')\n",
    "    \n",
    "    # plot original distributions\n",
    "    plt.subplot(1,2,2)\n",
    "    ax = df_grouped[v].plot.kde() \n",
    "    plt.legend(['Canceled','Not-canceled'])\n",
    "    plt.title(v+' (Original)')"
   ]
  },
  {
   "cell_type": "markdown",
   "metadata": {},
   "source": [
    "#### Downsampling data\n",
    "- For the execution of GridSearch method, we decided to downsample our data (3% of the original data) due to a computational issue"
   ]
  },
  {
   "cell_type": "code",
   "execution_count": 42,
   "metadata": {
    "scrolled": true
   },
   "outputs": [
    {
     "name": "stderr",
     "output_type": "stream",
     "text": [
      "/Users/boyun/opt/anaconda3/lib/python3.8/site-packages/pandas/core/indexing.py:1745: SettingWithCopyWarning: \n",
      "A value is trying to be set on a copy of a slice from a DataFrame.\n",
      "Try using .loc[row_indexer,col_indexer] = value instead\n",
      "\n",
      "See the caveats in the documentation: https://pandas.pydata.org/pandas-docs/stable/user_guide/indexing.html#returning-a-view-versus-a-copy\n",
      "  isetter(ilocs[0], value)\n"
     ]
    }
   ],
   "source": [
    "\n",
    "X_downsample = X_sel\n",
    "\n",
    "\n",
    "X_downsample.loc[:,'target'] = y"
   ]
  },
  {
   "cell_type": "code",
   "execution_count": 43,
   "metadata": {},
   "outputs": [],
   "source": [
    "X_sample=X_downsample.sample(frac=0.03, replace=False, random_state=10)\n",
    "y_sample=X_sample.target\n",
    "X_sample.drop(\"target\",axis=1,inplace=True)"
   ]
  },
  {
   "cell_type": "code",
   "execution_count": 44,
   "metadata": {},
   "outputs": [],
   "source": [
    "from sklearn.model_selection import train_test_split\n",
    "X_sample_train, X_sample_test, y_sample_train, y_sample_test = train_test_split(X_sample, y_sample,test_size=0.2,random_state=10)"
   ]
  },
  {
   "cell_type": "markdown",
   "metadata": {},
   "source": [
    "### Model 2 - RBF using GridSearch method\n",
    "- This method explores optimal parameters of gamma and C for both linear and non-linear kernel SVMs. \n",
    "\n",
    "- For the SGD Logistic classifier we were able to achieve __f1-score__ __not canceled (0)__ of __0.82__ and __canceled (1)__ of __0.45__. Our model is better at predicting __not canceled (0)__ than it is at predicting __canceled (1)__.\n",
    "- Model had an __accuracy__ of __0.73__"
   ]
  },
  {
   "cell_type": "code",
   "execution_count": 69,
   "metadata": {},
   "outputs": [
    {
     "name": "stdout",
     "output_type": "stream",
     "text": [
      "Fitting 5 folds for each of 9 candidates, totalling 45 fits\n"
     ]
    },
    {
     "name": "stderr",
     "output_type": "stream",
     "text": [
      "[Parallel(n_jobs=8)]: Using backend LokyBackend with 8 concurrent workers.\n",
      "[Parallel(n_jobs=8)]: Done  45 out of  45 | elapsed:  2.5min finished\n"
     ]
    }
   ],
   "source": [
    "from sklearn.svm import SVC\n",
    "from sklearn.model_selection import GridSearchCV\n",
    "from sklearn.metrics import classification_report\n",
    "from sklearn.linear_model import SGDClassifier\n",
    "from sklearn.model_selection import ParameterGrid\n",
    "from sklearn.metrics import roc_auc_score\n",
    "\n",
    "\n",
    "svm_estimator = SVC()\n",
    "\n",
    "\n",
    "tuned_parameters = [\n",
    "    {'kernel': ['rbf'], 'gamma': [1e-3, 1e-4], 'C': [1, 10, 100, 1000], 'random_state': [10]},\n",
    "    {'kernel': ['linear'], 'C': [100], 'random_state': [10]}]\n",
    "\n",
    "\n",
    "svmGridSearch = GridSearchCV(estimator=svm_estimator\n",
    "                   , n_jobs=8 # jobs to run in parallel\n",
    "                   , verbose=1 # low verbosity\n",
    "                   , param_grid=tuned_parameters\n",
    "                   , scoring='f1')\n",
    "\n",
    "svmGridSearch.fit(X_sample_train, y_sample_train)\n",
    "\n",
    "means = svmGridSearch.cv_results_['mean_test_score']\n",
    "stds = svmGridSearch.cv_results_['std_test_score']\n"
   ]
  },
  {
   "cell_type": "code",
   "execution_count": 71,
   "metadata": {
    "scrolled": false
   },
   "outputs": [
    {
     "name": "stdout",
     "output_type": "stream",
     "text": [
      "              precision    recall  f1-score   support\n",
      "\n",
      "           0       0.70      1.00      0.82       444\n",
      "           1       0.99      0.29      0.45       273\n",
      "\n",
      "    accuracy                           0.73       717\n",
      "   macro avg       0.84      0.64      0.63       717\n",
      "weighted avg       0.81      0.73      0.68       717\n",
      "\n"
     ]
    }
   ],
   "source": [
    "y_true, y_pred = y_sample_test, svmGridSearch.predict(X_sample_test)\n",
    "print(classification_report(y_true, y_pred))"
   ]
  },
  {
   "cell_type": "code",
   "execution_count": 72,
   "metadata": {},
   "outputs": [
    {
     "data": {
      "text/plain": [
       "{'C': 1000, 'gamma': 0.001, 'kernel': 'rbf', 'random_state': 10}"
      ]
     },
     "execution_count": 72,
     "metadata": {},
     "output_type": "execute_result"
    }
   ],
   "source": [
    "svmGridSearch.best_params_"
   ]
  },
  {
   "cell_type": "code",
   "execution_count": 47,
   "metadata": {},
   "outputs": [
    {
     "data": {
      "text/plain": [
       "1410"
      ]
     },
     "execution_count": 47,
     "metadata": {},
     "output_type": "execute_result"
    }
   ],
   "source": [
    "# Support vector positions\n",
    "\n",
    "len(svmGridSearch.best_estimator_.support_vectors_)"
   ]
  },
  {
   "cell_type": "code",
   "execution_count": 51,
   "metadata": {},
   "outputs": [
    {
     "data": {
      "text/html": [
       "<div>\n",
       "<style scoped>\n",
       "    .dataframe tbody tr th:only-of-type {\n",
       "        vertical-align: middle;\n",
       "    }\n",
       "\n",
       "    .dataframe tbody tr th {\n",
       "        vertical-align: top;\n",
       "    }\n",
       "\n",
       "    .dataframe thead th {\n",
       "        text-align: right;\n",
       "    }\n",
       "</style>\n",
       "<table border=\"1\" class=\"dataframe\">\n",
       "  <thead>\n",
       "    <tr style=\"text-align: right;\">\n",
       "      <th></th>\n",
       "      <th>0</th>\n",
       "      <th>0</th>\n",
       "      <th>1</th>\n",
       "      <th>2</th>\n",
       "      <th>3</th>\n",
       "      <th>4</th>\n",
       "      <th>5</th>\n",
       "      <th>6</th>\n",
       "      <th>7</th>\n",
       "      <th>8</th>\n",
       "      <th>...</th>\n",
       "      <th>1400</th>\n",
       "      <th>1401</th>\n",
       "      <th>1402</th>\n",
       "      <th>1403</th>\n",
       "      <th>1404</th>\n",
       "      <th>1405</th>\n",
       "      <th>1406</th>\n",
       "      <th>1407</th>\n",
       "      <th>1408</th>\n",
       "      <th>1409</th>\n",
       "    </tr>\n",
       "  </thead>\n",
       "  <tbody>\n",
       "    <tr>\n",
       "      <th>0</th>\n",
       "      <td>deposit_type</td>\n",
       "      <td>-0.373175</td>\n",
       "      <td>-0.373175</td>\n",
       "      <td>-0.373175</td>\n",
       "      <td>-0.373175</td>\n",
       "      <td>-0.373175</td>\n",
       "      <td>-0.373175</td>\n",
       "      <td>-0.373175</td>\n",
       "      <td>-0.373175</td>\n",
       "      <td>-0.373175</td>\n",
       "      <td>...</td>\n",
       "      <td>-0.373175</td>\n",
       "      <td>2.614780</td>\n",
       "      <td>-0.373175</td>\n",
       "      <td>-0.373175</td>\n",
       "      <td>-0.373175</td>\n",
       "      <td>2.614780</td>\n",
       "      <td>2.614780</td>\n",
       "      <td>-0.373175</td>\n",
       "      <td>-0.373175</td>\n",
       "      <td>-0.373175</td>\n",
       "    </tr>\n",
       "    <tr>\n",
       "      <th>1</th>\n",
       "      <td>lead_time</td>\n",
       "      <td>0.963747</td>\n",
       "      <td>1.019894</td>\n",
       "      <td>1.197692</td>\n",
       "      <td>0.112187</td>\n",
       "      <td>-0.954603</td>\n",
       "      <td>1.328702</td>\n",
       "      <td>-0.421208</td>\n",
       "      <td>0.196407</td>\n",
       "      <td>-0.664511</td>\n",
       "      <td>...</td>\n",
       "      <td>-0.935887</td>\n",
       "      <td>4.847237</td>\n",
       "      <td>1.974390</td>\n",
       "      <td>0.439710</td>\n",
       "      <td>-0.907814</td>\n",
       "      <td>-0.617722</td>\n",
       "      <td>0.084113</td>\n",
       "      <td>-0.589649</td>\n",
       "      <td>0.355490</td>\n",
       "      <td>1.506500</td>\n",
       "    </tr>\n",
       "    <tr>\n",
       "      <th>2</th>\n",
       "      <td>market_segment</td>\n",
       "      <td>0.846227</td>\n",
       "      <td>-0.732679</td>\n",
       "      <td>0.846227</td>\n",
       "      <td>0.056774</td>\n",
       "      <td>0.846227</td>\n",
       "      <td>0.056774</td>\n",
       "      <td>0.846227</td>\n",
       "      <td>0.846227</td>\n",
       "      <td>0.846227</td>\n",
       "      <td>...</td>\n",
       "      <td>0.846227</td>\n",
       "      <td>-0.732679</td>\n",
       "      <td>0.846227</td>\n",
       "      <td>0.846227</td>\n",
       "      <td>0.846227</td>\n",
       "      <td>-2.311586</td>\n",
       "      <td>-2.311586</td>\n",
       "      <td>-0.732679</td>\n",
       "      <td>0.846227</td>\n",
       "      <td>-0.732679</td>\n",
       "    </tr>\n",
       "    <tr>\n",
       "      <th>3</th>\n",
       "      <td>distribution_channel</td>\n",
       "      <td>0.456981</td>\n",
       "      <td>0.456981</td>\n",
       "      <td>0.456981</td>\n",
       "      <td>0.456981</td>\n",
       "      <td>0.456981</td>\n",
       "      <td>0.456981</td>\n",
       "      <td>0.456981</td>\n",
       "      <td>0.456981</td>\n",
       "      <td>0.456981</td>\n",
       "      <td>...</td>\n",
       "      <td>0.456981</td>\n",
       "      <td>0.456981</td>\n",
       "      <td>0.456981</td>\n",
       "      <td>0.456981</td>\n",
       "      <td>0.456981</td>\n",
       "      <td>-2.848688</td>\n",
       "      <td>0.456981</td>\n",
       "      <td>0.456981</td>\n",
       "      <td>0.456981</td>\n",
       "      <td>0.456981</td>\n",
       "    </tr>\n",
       "    <tr>\n",
       "      <th>4</th>\n",
       "      <td>total_of_special_requests</td>\n",
       "      <td>0.540666</td>\n",
       "      <td>-0.720694</td>\n",
       "      <td>0.540666</td>\n",
       "      <td>-0.720694</td>\n",
       "      <td>-0.720694</td>\n",
       "      <td>-0.720694</td>\n",
       "      <td>-0.720694</td>\n",
       "      <td>-0.720694</td>\n",
       "      <td>0.540666</td>\n",
       "      <td>...</td>\n",
       "      <td>-0.720694</td>\n",
       "      <td>-0.720694</td>\n",
       "      <td>-0.720694</td>\n",
       "      <td>-0.720694</td>\n",
       "      <td>-0.720694</td>\n",
       "      <td>-0.720694</td>\n",
       "      <td>-0.720694</td>\n",
       "      <td>-0.720694</td>\n",
       "      <td>-0.720694</td>\n",
       "      <td>-0.720694</td>\n",
       "    </tr>\n",
       "    <tr>\n",
       "      <th>5</th>\n",
       "      <td>required_car_parking_spaces</td>\n",
       "      <td>-0.254873</td>\n",
       "      <td>-0.254873</td>\n",
       "      <td>-0.254873</td>\n",
       "      <td>-0.254873</td>\n",
       "      <td>-0.254873</td>\n",
       "      <td>-0.254873</td>\n",
       "      <td>-0.254873</td>\n",
       "      <td>-0.254873</td>\n",
       "      <td>-0.254873</td>\n",
       "      <td>...</td>\n",
       "      <td>-0.254873</td>\n",
       "      <td>-0.254873</td>\n",
       "      <td>-0.254873</td>\n",
       "      <td>-0.254873</td>\n",
       "      <td>-0.254873</td>\n",
       "      <td>-0.254873</td>\n",
       "      <td>-0.254873</td>\n",
       "      <td>-0.254873</td>\n",
       "      <td>-0.254873</td>\n",
       "      <td>-0.254873</td>\n",
       "    </tr>\n",
       "    <tr>\n",
       "      <th>6</th>\n",
       "      <td>previous_bookings_not_canceled</td>\n",
       "      <td>-0.091555</td>\n",
       "      <td>-0.091555</td>\n",
       "      <td>-0.091555</td>\n",
       "      <td>-0.091555</td>\n",
       "      <td>-0.091555</td>\n",
       "      <td>-0.091555</td>\n",
       "      <td>-0.091555</td>\n",
       "      <td>-0.091555</td>\n",
       "      <td>-0.091555</td>\n",
       "      <td>...</td>\n",
       "      <td>-0.091555</td>\n",
       "      <td>-0.091555</td>\n",
       "      <td>-0.091555</td>\n",
       "      <td>-0.091555</td>\n",
       "      <td>-0.091555</td>\n",
       "      <td>-0.091555</td>\n",
       "      <td>-0.091555</td>\n",
       "      <td>-0.091555</td>\n",
       "      <td>-0.091555</td>\n",
       "      <td>-0.091555</td>\n",
       "    </tr>\n",
       "    <tr>\n",
       "      <th>7</th>\n",
       "      <td>adr</td>\n",
       "      <td>-0.056022</td>\n",
       "      <td>0.042918</td>\n",
       "      <td>-0.698540</td>\n",
       "      <td>-0.293479</td>\n",
       "      <td>1.335670</td>\n",
       "      <td>-1.195813</td>\n",
       "      <td>1.309352</td>\n",
       "      <td>1.493381</td>\n",
       "      <td>0.763202</td>\n",
       "      <td>...</td>\n",
       "      <td>0.137900</td>\n",
       "      <td>-0.788180</td>\n",
       "      <td>1.052108</td>\n",
       "      <td>0.047865</td>\n",
       "      <td>-0.273691</td>\n",
       "      <td>-0.530935</td>\n",
       "      <td>-0.036234</td>\n",
       "      <td>0.557407</td>\n",
       "      <td>-0.323161</td>\n",
       "      <td>-0.772349</td>\n",
       "    </tr>\n",
       "  </tbody>\n",
       "</table>\n",
       "<p>8 rows × 1411 columns</p>\n",
       "</div>"
      ],
      "text/plain": [
       "                             0         0         1         2         3     \\\n",
       "0                    deposit_type -0.373175 -0.373175 -0.373175 -0.373175   \n",
       "1                       lead_time  0.963747  1.019894  1.197692  0.112187   \n",
       "2                  market_segment  0.846227 -0.732679  0.846227  0.056774   \n",
       "3            distribution_channel  0.456981  0.456981  0.456981  0.456981   \n",
       "4       total_of_special_requests  0.540666 -0.720694  0.540666 -0.720694   \n",
       "5     required_car_parking_spaces -0.254873 -0.254873 -0.254873 -0.254873   \n",
       "6  previous_bookings_not_canceled -0.091555 -0.091555 -0.091555 -0.091555   \n",
       "7                             adr -0.056022  0.042918 -0.698540 -0.293479   \n",
       "\n",
       "       4         5         6         7         8     ...      1400      1401  \\\n",
       "0 -0.373175 -0.373175 -0.373175 -0.373175 -0.373175  ... -0.373175  2.614780   \n",
       "1 -0.954603  1.328702 -0.421208  0.196407 -0.664511  ... -0.935887  4.847237   \n",
       "2  0.846227  0.056774  0.846227  0.846227  0.846227  ...  0.846227 -0.732679   \n",
       "3  0.456981  0.456981  0.456981  0.456981  0.456981  ...  0.456981  0.456981   \n",
       "4 -0.720694 -0.720694 -0.720694 -0.720694  0.540666  ... -0.720694 -0.720694   \n",
       "5 -0.254873 -0.254873 -0.254873 -0.254873 -0.254873  ... -0.254873 -0.254873   \n",
       "6 -0.091555 -0.091555 -0.091555 -0.091555 -0.091555  ... -0.091555 -0.091555   \n",
       "7  1.335670 -1.195813  1.309352  1.493381  0.763202  ...  0.137900 -0.788180   \n",
       "\n",
       "       1402      1403      1404      1405      1406      1407      1408  \\\n",
       "0 -0.373175 -0.373175 -0.373175  2.614780  2.614780 -0.373175 -0.373175   \n",
       "1  1.974390  0.439710 -0.907814 -0.617722  0.084113 -0.589649  0.355490   \n",
       "2  0.846227  0.846227  0.846227 -2.311586 -2.311586 -0.732679  0.846227   \n",
       "3  0.456981  0.456981  0.456981 -2.848688  0.456981  0.456981  0.456981   \n",
       "4 -0.720694 -0.720694 -0.720694 -0.720694 -0.720694 -0.720694 -0.720694   \n",
       "5 -0.254873 -0.254873 -0.254873 -0.254873 -0.254873 -0.254873 -0.254873   \n",
       "6 -0.091555 -0.091555 -0.091555 -0.091555 -0.091555 -0.091555 -0.091555   \n",
       "7  1.052108  0.047865 -0.273691 -0.530935 -0.036234  0.557407 -0.323161   \n",
       "\n",
       "       1409  \n",
       "0 -0.373175  \n",
       "1  1.506500  \n",
       "2 -0.732679  \n",
       "3  0.456981  \n",
       "4 -0.720694  \n",
       "5 -0.254873  \n",
       "6 -0.091555  \n",
       "7 -0.772349  \n",
       "\n",
       "[8 rows x 1411 columns]"
      ]
     },
     "execution_count": 51,
     "metadata": {},
     "output_type": "execute_result"
    }
   ],
   "source": [
    "# SVM coefficients\n",
    "svm_coefficients = pd.concat([pd.DataFrame(X_sample_test.columns),pd.DataFrame(np.transpose(svmGridSearch.best_estimator_.support_vectors_))], axis = 1)\n",
    "svm_coefficients"
   ]
  },
  {
   "cell_type": "code",
   "execution_count": 49,
   "metadata": {
    "scrolled": false
   },
   "outputs": [
    {
     "data": {
      "image/png": "[encoded data removed]",
      "text/plain": [
       "<Figure size 432x288 with 1 Axes>"
      ]
     },
     "metadata": {
      "needs_background": "light"
     },
     "output_type": "display_data"
    }
   ],
   "source": [
    "import matplotlib.pyplot as plt\n",
    "support_vectors = svmGridSearch.best_estimator_.support_vectors_\n",
    "\n",
    "# Visualize support vectors\n",
    "plt.scatter(X_sample_train['lead_time'], X_sample_train['adr'], color='blue')\n",
    "plt.scatter(support_vectors[:,1], support_vectors[:,7], color='red')\n",
    "plt.title('Linearly separable data with support vectors')\n",
    "plt.xlabel('X1')\n",
    "plt.ylabel('X2')\n",
    "plt.show()"
   ]
  },
  {
   "cell_type": "markdown",
   "metadata": {},
   "source": [
    "### `Do the chosen support vectors provide any insight into the data?`   <a id='question2'/> "
   ]
  },
  {
   "cell_type": "markdown",
   "metadata": {},
   "source": [
    "- The goal of SVM is to find the hyperplane in which the margin is maximized between the separated dataset. \n",
    "- Support vectors are the points closest to the hyperplane and gives us an idea on how separable the data is.\n",
    "- The optimal parameter setting that the GridSearch method suggested showed too many support vector points in relation to the training dataset. Also it is clear that there is no linearity between the dependent features and the target feature. \n",
    "\n",
    "### So how can we fix this problem?<a id='question3'/> \n",
    "- We are going to experiment with the non-linear kernel SVM with adjusting different parameters. Depending on how much slack we allow the support vectors to enter the margin area, the number of support vectors can vary. The accuracy depends too on finding the right level of slack for the data. \n",
    "- Higher C is recommended as higher C results in a smaller margin so that we can minimize the number of misclassified support vectors with a high penalty. \n",
    "- Gamma is going to stay the same throughout the experiment.\n",
    "\n",
    "### Result : \n",
    "- Gamma 0.1 and C of 100 resulted in the highest accuracy of 78.8%. The resulting SVM plot shows separation of the data a bit better than the previous plot. "
   ]
  },
  {
   "cell_type": "markdown",
   "metadata": {},
   "source": [
    "#### Model 2- RBF SVM with Gamma= 0.1, C=10"
   ]
  },
  {
   "cell_type": "code",
   "execution_count": 58,
   "metadata": {},
   "outputs": [],
   "source": [
    "# Import svm model\n",
    "from sklearn import svm\n",
    "\n",
    "rbf = SVC(kernel='rbf', random_state=10, gamma=0.1, C=10)\n",
    "rbf.fit(X_sample_train, y_sample_train)\n",
    "\n",
    "# Make prediction for test dataset\n",
    "y_pred = rbf.predict(X_sample_test)"
   ]
  },
  {
   "cell_type": "code",
   "execution_count": 64,
   "metadata": {},
   "outputs": [
    {
     "name": "stdout",
     "output_type": "stream",
     "text": [
      "Accuracy for non-linear SVM: 0.7852161785216178\n"
     ]
    }
   ],
   "source": [
    "#Import scikit-learn metrics module for accuracy calculation\n",
    "from sklearn import metrics\n",
    "\n",
    "# Model Accuracy\n",
    "print(\"Accuracy for non-linear SVM:\", metrics.accuracy_score(y_sample_test, y_pred))"
   ]
  },
  {
   "cell_type": "markdown",
   "metadata": {},
   "source": [
    "#### Model 2- RBF SVM with Gamma= 0.1, C=100"
   ]
  },
  {
   "cell_type": "code",
   "execution_count": 65,
   "metadata": {},
   "outputs": [],
   "source": [
    "# Import svm model\n",
    "from sklearn import svm\n",
    "\n",
    "rbf = SVC(kernel='rbf', random_state=10, gamma=0.1, C=100)\n",
    "rbf.fit(X_sample_train, y_sample_train)\n",
    "\n",
    "# Make prediction for test dataset\n",
    "y_pred = rbf.predict(X_sample_test)"
   ]
  },
  {
   "cell_type": "code",
   "execution_count": 66,
   "metadata": {},
   "outputs": [
    {
     "name": "stdout",
     "output_type": "stream",
     "text": [
      "Accuracy for non-linear SVM: 0.7880055788005579\n"
     ]
    }
   ],
   "source": [
    "#Import scikit-learn metrics module for accuracy calculation\n",
    "from sklearn import metrics\n",
    "\n",
    "# Model Accuracy\n",
    "print(\"Accuracy for non-linear SVM:\", metrics.accuracy_score(y_sample_test, y_pred))"
   ]
  },
  {
   "cell_type": "code",
   "execution_count": 74,
   "metadata": {},
   "outputs": [
    {
     "data": {
      "text/plain": [
       "array([[-0.37317536,  0.96374724,  0.84622724, ..., -0.25487288,\n",
       "        -0.09155477, -0.05602234],\n",
       "       [-0.37317536,  1.01989408, -0.73267928, ..., -0.25487288,\n",
       "        -0.09155477,  0.04291785],\n",
       "       [-0.37317536, -0.45863935, -0.73267928, ..., -0.25487288,\n",
       "        -0.09155477, -0.53093528],\n",
       "       ...,\n",
       "       [-0.37317536, -0.90781407,  0.84622724, ..., -0.25487288,\n",
       "        -0.09155477, -0.27369077],\n",
       "       [-0.37317536, -0.58964864, -0.73267928, ..., -0.25487288,\n",
       "        -0.09155477,  0.55740687],\n",
       "       [-0.37317536,  1.50650002, -0.73267928, ..., -0.25487288,\n",
       "        -0.09155477, -0.77234935]])"
      ]
     },
     "execution_count": 74,
     "metadata": {},
     "output_type": "execute_result"
    }
   ],
   "source": [
    "rbf.support_vectors_"
   ]
  },
  {
   "cell_type": "code",
   "execution_count": 75,
   "metadata": {},
   "outputs": [
    {
     "data": {
      "image/png": "[encoded data removed]",
      "text/plain": [
       "<Figure size 432x288 with 1 Axes>"
      ]
     },
     "metadata": {
      "needs_background": "light"
     },
     "output_type": "display_data"
    }
   ],
   "source": [
    "import matplotlib.pyplot as plt\n",
    "support_vectors = rbf.support_vectors_\n",
    "\n",
    "# Visualize support vectors\n",
    "plt.scatter(X_sample_train['lead_time'], X_sample_train['adr'], color='blue')\n",
    "plt.scatter(support_vectors[:,1], support_vectors[:,7], color='red')\n",
    "plt.title('Linearly separable data with support vectors')\n",
    "plt.xlabel('X1')\n",
    "plt.ylabel('X2')\n",
    "plt.show()"
   ]
  },
  {
   "cell_type": "markdown",
   "metadata": {},
   "source": [
    "# Model Advantages<a id='Model-Advantages'/>"
   ]
  },
  {
   "cell_type": "markdown",
   "metadata": {},
   "source": [
    "### General Pros and Cons of each model\n",
    "For this lab we selected Logistic Regression and SVM as we are trying to predict classification data. The following lays out the pros and cons of each modeling used for this lab. The detailed explanation on how the models performed is discussed below. \n",
    "\n",
    " - Logistic regression \n",
    "\t- Advantage\n",
    "\t\t- Performs well when data is linearly separable. \n",
    "\t\t- Provides model coefficients as indicators of feature importance. \n",
    "\t\t\n",
    "\t- Disadvantages\n",
    "\t\t- Limited only to linear boundary\n",
    "\t\t- Bounded by the assumption of linearity between dependent features and independent features. \n",
    "\n",
    " - SVM\n",
    "\t- Advantages\n",
    "\t\t- Provides good accuracy\n",
    "\t\t- Uses less memory. \n",
    "\t\t- Offers clear margin of separation. \n",
    "\t- Disadvantages \n",
    "\t\t- Not ideal for large dataset due to high training time. \n",
    "        - Works poorly with highly correlated features and is very sensitive to the type of kernel used"
   ]
  },
  {
   "cell_type": "markdown",
   "metadata": {},
   "source": [
    "#### Model 2- RBF SVM with Gamma= 0.1, C=1000"
   ]
  },
  {
   "cell_type": "code",
   "execution_count": 67,
   "metadata": {},
   "outputs": [],
   "source": [
    "# Import svm model\n",
    "from sklearn import svm\n",
    "\n",
    "rbf = SVC(kernel='rbf', random_state=10, gamma=0.1, C=1000)\n",
    "rbf.fit(X_sample_train, y_sample_train)\n",
    "\n",
    "# Make prediction for test dataset\n",
    "y_pred = rbf.predict(X_sample_test)"
   ]
  },
  {
   "cell_type": "code",
   "execution_count": 68,
   "metadata": {},
   "outputs": [
    {
     "name": "stdout",
     "output_type": "stream",
     "text": [
      "Accuracy for non-linear SVM: 0.7852161785216178\n"
     ]
    }
   ],
   "source": [
    "#Import scikit-learn metrics module for accuracy calculation\n",
    "from sklearn import metrics\n",
    "\n",
    "# Model Accuracy\n",
    "print(\"Accuracy for non-linear SVM:\", metrics.accuracy_score(y_sample_test, y_pred))"
   ]
  },
  {
   "cell_type": "markdown",
   "metadata": {},
   "source": [
    "#### Model 2- RBF SVM with Gamma= 0.1, C=10"
   ]
  },
  {
   "cell_type": "code",
   "execution_count": 58,
   "metadata": {},
   "outputs": [],
   "source": [
    "# Import svm model\n",
    "from sklearn import svm\n",
    "\n",
    "rbf = SVC(kernel='rbf', random_state=10, gamma=0.1, C=10)\n",
    "rbf.fit(X_sample_train, y_sample_train)\n",
    "\n",
    "# Make prediction for test dataset\n",
    "y_pred = rbf.predict(X_sample_test)"
   ]
  },
  {
   "cell_type": "code",
   "execution_count": 64,
   "metadata": {},
   "outputs": [
    {
     "name": "stdout",
     "output_type": "stream",
     "text": [
      "Accuracy for non-linear SVM: 0.7852161785216178\n"
     ]
    }
   ],
   "source": [
    "#Import scikit-learn metrics module for accuracy calculation\n",
    "from sklearn import metrics\n",
    "\n",
    "# Model Accuracy\n",
    "print(\"Accuracy for non-linear SVM:\", metrics.accuracy_score(y_sample_test, y_pred))"
   ]
  },
  {
   "cell_type": "markdown",
   "metadata": {},
   "source": [
    "#### Model 2- RBF SVM with Gamma= 0.1, C=100"
   ]
  },
  {
   "cell_type": "code",
   "execution_count": 65,
   "metadata": {},
   "outputs": [],
   "source": [
    "# Import svm model\n",
    "from sklearn import svm\n",
    "\n",
    "rbf = SVC(kernel='rbf', random_state=10, gamma=0.1, C=100)\n",
    "rbf.fit(X_sample_train, y_sample_train)\n",
    "\n",
    "# Make prediction for test dataset\n",
    "y_pred = rbf.predict(X_sample_test)"
   ]
  },
  {
   "cell_type": "code",
   "execution_count": 66,
   "metadata": {},
   "outputs": [
    {
     "name": "stdout",
     "output_type": "stream",
     "text": [
      "Accuracy for non-linear SVM: 0.7880055788005579\n"
     ]
    }
   ],
   "source": [
    "#Import scikit-learn metrics module for accuracy calculation\n",
    "from sklearn import metrics\n",
    "\n",
    "# Model Accuracy\n",
    "print(\"Accuracy for non-linear SVM:\", metrics.accuracy_score(y_sample_test, y_pred))"
   ]
  },
  {
   "cell_type": "code",
   "execution_count": 74,
   "metadata": {},
   "outputs": [
    {
     "data": {
      "text/plain": [
       "array([[-0.37317536,  0.96374724,  0.84622724, ..., -0.25487288,\n",
       "        -0.09155477, -0.05602234],\n",
       "       [-0.37317536,  1.01989408, -0.73267928, ..., -0.25487288,\n",
       "        -0.09155477,  0.04291785],\n",
       "       [-0.37317536, -0.45863935, -0.73267928, ..., -0.25487288,\n",
       "        -0.09155477, -0.53093528],\n",
       "       ...,\n",
       "       [-0.37317536, -0.90781407,  0.84622724, ..., -0.25487288,\n",
       "        -0.09155477, -0.27369077],\n",
       "       [-0.37317536, -0.58964864, -0.73267928, ..., -0.25487288,\n",
       "        -0.09155477,  0.55740687],\n",
       "       [-0.37317536,  1.50650002, -0.73267928, ..., -0.25487288,\n",
       "        -0.09155477, -0.77234935]])"
      ]
     },
     "execution_count": 74,
     "metadata": {},
     "output_type": "execute_result"
    }
   ],
   "source": [
    "rbf.support_vectors_"
   ]
  },
  {
   "cell_type": "code",
   "execution_count": 75,
   "metadata": {},
   "outputs": [
    {
     "data": {
      "image/png": "[encoded data removed]",
      "text/plain": [
       "<Figure size 432x288 with 1 Axes>"
      ]
     },
     "metadata": {
      "needs_background": "light"
     },
     "output_type": "display_data"
    }
   ],
   "source": [
    "import matplotlib.pyplot as plt\n",
    "support_vectors = rbf.support_vectors_\n",
    "\n",
    "# Visualize support vectors\n",
    "plt.scatter(X_sample_train['lead_time'], X_sample_train['adr'], color='blue')\n",
    "plt.scatter(support_vectors[:,1], support_vectors[:,7], color='red')\n",
    "plt.title('Linearly separable data with support vectors')\n",
    "plt.xlabel('X1')\n",
    "plt.ylabel('X2')\n",
    "plt.show()"
   ]
  },
  {
   "cell_type": "markdown",
   "metadata": {},
   "source": [
    "#### Model 2- RBF SVM with Gamma= 0.1, C=1000"
   ]
  },
  {
   "cell_type": "code",
   "execution_count": 67,
   "metadata": {},
   "outputs": [],
   "source": [
    "# Import svm model\n",
    "from sklearn import svm\n",
    "\n",
    "rbf = SVC(kernel='rbf', random_state=10, gamma=0.1, C=1000)\n",
    "rbf.fit(X_sample_train, y_sample_train)\n",
    "\n",
    "# Make prediction for test dataset\n",
    "y_pred = rbf.predict(X_sample_test)"
   ]
  },
  {
   "cell_type": "code",
   "execution_count": 68,
   "metadata": {},
   "outputs": [
    {
     "name": "stdout",
     "output_type": "stream",
     "text": [
      "Accuracy for non-linear SVM: 0.7852161785216178\n"
     ]
    }
   ],
   "source": [
    "#Import scikit-learn metrics module for accuracy calculation\n",
    "from sklearn import metrics\n",
    "\n",
    "# Model Accuracy\n",
    "print(\"Accuracy for non-linear SVM:\", metrics.accuracy_score(y_sample_test, y_pred))"
   ]
  },
  {
   "cell_type": "markdown",
   "metadata": {},
   "source": [
    "### Does one type of model offer superior performance over another in terms of prediction accuracy?<a id='question4'/>  \n",
    "\n",
    "The model that the best performanc was the __SDG Classifier using logistic regression__ which had a __Accuracy__ of __0.78__, a __Precision__ of __0.77__ and __0.82__ for not canceled and canceled, respectively, and a __Recall__ of __0.93__ and __0.52__, respectively. Additionally it achieved a __f1-score__ of __0.84__ and __0.64__ for not canceled and cancelled respectively, which means our model was better at predicting __not canceled__ over __canceled__. Below you'll the classification report for each of our models:\n",
    "\n",
    "\n",
    "\n",
    "#### [Best Model] Stochastic Gradient Descent (Logistic)\n",
    "    - Accuracy: 0.78\n",
    "    - Pression\n",
    "        - not canceled (0): 0.77\n",
    "        - canceled (1): 0.82\n",
    "    - Recall\n",
    "        - not canceled (0): 0.93\n",
    "        - canceled (1): 0.52\n",
    "    - f1 score\n",
    "        - not canceled (0): 0.84\n",
    "        - canceled (1): 0.64\n",
    "\n",
    "#### Logistic regression \n",
    "    - Accuracy: 0.75\n",
    "    - Pression\n",
    "        - not canceled (0): 0.80 \n",
    "        - canceled (1): 0.66 \n",
    "    - Recall\n",
    "        - not canceled (0): 0.79\n",
    "        - canceled (1): 0.67\n",
    "    - f1 score\n",
    "        - not canceled (0): 0.80\n",
    "        - canceled (1):  0.67\n",
    "\n",
    "#### Stochastic Gradient Descent (SVM)\n",
    "    - Accuracy: 0.75\n",
    "    - Pression\n",
    "        - not canceled (0): 0.72\n",
    "        - canceled (1): 0.99\n",
    "    - Recall\n",
    "        - not canceled (0): 1.00\n",
    "        - canceled (1): 0.33\n",
    "    - f1 score\n",
    "        - not canceled (0): 0.83\n",
    "        - canceled (1):  0.50\n",
    " \n",
    "#### Linear SVM\n",
    "    - Accuracy: 0.73\n",
    "    - Pression\n",
    "        - not canceled (0): 0.70\n",
    "        - canceled (1): 0.99\n",
    "    - Recall\n",
    "        - not canceled (0): 1.00\n",
    "        - canceled (1): 0.29\n",
    "    - f1 score\n",
    "        - not canceled (0): 0.82\n",
    "        - canceled (1): 0.45"
   ]
  },
  {
   "cell_type": "markdown",
   "metadata": {},
   "source": [
    "### In terms of training time or efficiency?  <a id='question5'/> \n",
    "\n",
    "#### Logistic regression \n",
    "- It took about 11.1 seconds to process the data with LogisticRegression Classifier.\n",
    "\n",
    "#### Linear SVM\n",
    "- It took about 20 mins for the gridSearch CV for the linear SVM to process the data. \n",
    "\n",
    "#### Stochastic Gradient Descent\n",
    "- It took about 3.2 seconds to process the data with __logistic regression__ loss function\n",
    "- It took about 2.4 seconds to process the data with __linear SVM__ loss function\n",
    "\n",
    "### Best Model for efficiency and Accuracy\n",
    "- For both Computation performance and Accuracy, **SDG Classifier with logistic regression** had better results."
   ]
  },
  {
   "cell_type": "markdown",
   "metadata": {},
   "source": [
    "# Interpret Feature Importance<a id='Interpret-Feature-Importance'/>"
   ]
  },
  {
   "cell_type": "markdown",
   "metadata": {},
   "source": [
    "## Interpreting weights for Logistic Regression"
   ]
  },
  {
   "cell_type": "markdown",
   "metadata": {},
   "source": [
    "### Weights before Normalization"
   ]
  },
  {
   "cell_type": "code",
   "execution_count": 4,
   "metadata": {},
   "outputs": [
    {
     "ename": "NameError",
     "evalue": "name 'lr_clf' is not defined",
     "output_type": "error",
     "traceback": [
      "\u001b[0;31m---------------------------------------------------------------------------\u001b[0m",
      "\u001b[0;31mNameError\u001b[0m                                 Traceback (most recent call last)",
      "\u001b[0;32m<ipython-input-4-da24da84f236>\u001b[0m in \u001b[0;36m<module>\u001b[0;34m\u001b[0m\n\u001b[1;32m      1\u001b[0m \u001b[0;31m# iterate over the coefficients\u001b[0m\u001b[0;34m\u001b[0m\u001b[0;34m\u001b[0m\u001b[0;34m\u001b[0m\u001b[0m\n\u001b[0;32m----> 2\u001b[0;31m \u001b[0mweights\u001b[0m \u001b[0;34m=\u001b[0m \u001b[0mlr_clf\u001b[0m\u001b[0;34m.\u001b[0m\u001b[0mcoef_\u001b[0m\u001b[0;34m.\u001b[0m\u001b[0mT\u001b[0m \u001b[0;31m# take transpose to make a column vector\u001b[0m\u001b[0;34m\u001b[0m\u001b[0;34m\u001b[0m\u001b[0m\n\u001b[0m\u001b[1;32m      3\u001b[0m \u001b[0mvariable_names\u001b[0m \u001b[0;34m=\u001b[0m \u001b[0mdf_imputed\u001b[0m\u001b[0;34m.\u001b[0m\u001b[0mcolumns\u001b[0m\u001b[0;34m\u001b[0m\u001b[0;34m\u001b[0m\u001b[0m\n\u001b[1;32m      4\u001b[0m \u001b[0;32mfor\u001b[0m \u001b[0mcoef\u001b[0m\u001b[0;34m,\u001b[0m \u001b[0mname\u001b[0m \u001b[0;32min\u001b[0m \u001b[0mzip\u001b[0m\u001b[0;34m(\u001b[0m\u001b[0mweights\u001b[0m\u001b[0;34m,\u001b[0m\u001b[0mvariable_names\u001b[0m\u001b[0;34m)\u001b[0m\u001b[0;34m:\u001b[0m\u001b[0;34m\u001b[0m\u001b[0;34m\u001b[0m\u001b[0m\n\u001b[1;32m      5\u001b[0m     \u001b[0mprint\u001b[0m\u001b[0;34m(\u001b[0m\u001b[0mname\u001b[0m\u001b[0;34m,\u001b[0m \u001b[0;34m'has weight of'\u001b[0m\u001b[0;34m,\u001b[0m \u001b[0mcoef\u001b[0m\u001b[0;34m[\u001b[0m\u001b[0;36m0\u001b[0m\u001b[0;34m]\u001b[0m\u001b[0;34m)\u001b[0m\u001b[0;34m\u001b[0m\u001b[0;34m\u001b[0m\u001b[0m\n",
      "\u001b[0;31mNameError\u001b[0m: name 'lr_clf' is not defined"
     ]
    }
   ],
   "source": [
    "# iterate over the coefficients\n",
    "weights = lr_clf.coef_.T # take transpose to make a column vector\n",
    "variable_names = df_imputed.columns\n",
    "for coef, name in zip(weights,variable_names):\n",
    "    print(name, 'has weight of', coef[0])\n",
    "    \n",
    "# does this look correct?"
   ]
  },
  {
   "cell_type": "markdown",
   "metadata": {},
   "source": [
    "### Weights After Normalization"
   ]
  },
  {
   "cell_type": "markdown",
   "metadata": {},
   "source": [
    "# Interpret Support Vectors<a id='Interpret-Support-Vectors'/>"
   ]
  },
  {
   "cell_type": "code",
   "execution_count": null,
   "metadata": {},
   "outputs": [],
   "source": []
  }
 ],
 "metadata": {
  "kernelspec": {
   "display_name": "Python 3",
   "language": "python",
   "name": "python3"
  },
  "language_info": {
   "codemirror_mode": {
    "name": "ipython",
    "version": 3
   },
   "file_extension": ".py",
   "mimetype": "text/x-python",
   "name": "python",
   "nbconvert_exporter": "python",
   "pygments_lexer": "ipython3",
   "version": "3.8.5"
  }
 },
 "nbformat": 4,
 "nbformat_minor": 4
}
