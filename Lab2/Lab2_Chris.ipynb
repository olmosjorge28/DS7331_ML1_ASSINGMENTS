{
 "cells": [
  {
   "cell_type": "markdown",
   "metadata": {},
   "source": [
    "# Lab 2"
   ]
  },
  {
   "cell_type": "markdown",
   "metadata": {},
   "source": [
    "# Content\n",
    "* [Data Preparation](#data-preparation)\n",
    "* [Modeling and Evaluation](#model-and-evaluation)\n",
    "* [Deployment](#deployment)\n",
    "* [Exceptional Work](#exceptional-work)"
   ]
  },
  {
   "cell_type": "markdown",
   "metadata": {},
   "source": [
    "# Data Preparation <a id='data-preparation'/>"
   ]
  },
  {
   "cell_type": "markdown",
   "metadata": {},
   "source": [
    "### Part 1"
   ]
  },
  {
   "cell_type": "markdown",
   "metadata": {},
   "source": [
    "*Define and prepare your class variables. Use proper variable representations (int, float, one-hot, etc.). Use pre-processing methods (as needed) for dimensionality reduction, scaling, etc. Remove variables that are not needed/useful for the analysis.*"
   ]
  },
  {
   "cell_type": "markdown",
   "metadata": {},
   "source": [
    "##### Data Importing and Cleaning"
   ]
  },
  {
   "cell_type": "code",
   "execution_count": 44,
   "metadata": {},
   "outputs": [
    {
     "data": {
      "text/html": [
       "<div>\n",
       "<style scoped>\n",
       "    .dataframe tbody tr th:only-of-type {\n",
       "        vertical-align: middle;\n",
       "    }\n",
       "\n",
       "    .dataframe tbody tr th {\n",
       "        vertical-align: top;\n",
       "    }\n",
       "\n",
       "    .dataframe thead th {\n",
       "        text-align: right;\n",
       "    }\n",
       "</style>\n",
       "<table border=\"1\" class=\"dataframe\">\n",
       "  <thead>\n",
       "    <tr style=\"text-align: right;\">\n",
       "      <th></th>\n",
       "      <th>hotel</th>\n",
       "      <th>is_canceled</th>\n",
       "      <th>lead_time</th>\n",
       "      <th>arrival_date_year</th>\n",
       "      <th>arrival_date_month</th>\n",
       "      <th>arrival_date_week_number</th>\n",
       "      <th>arrival_date_day_of_month</th>\n",
       "      <th>stays_in_weekend_nights</th>\n",
       "      <th>stays_in_week_nights</th>\n",
       "      <th>adults</th>\n",
       "      <th>...</th>\n",
       "      <th>deposit_type</th>\n",
       "      <th>agent</th>\n",
       "      <th>company</th>\n",
       "      <th>days_in_waiting_list</th>\n",
       "      <th>customer_type</th>\n",
       "      <th>adr</th>\n",
       "      <th>required_car_parking_spaces</th>\n",
       "      <th>total_of_special_requests</th>\n",
       "      <th>reservation_status</th>\n",
       "      <th>reservation_status_date</th>\n",
       "    </tr>\n",
       "  </thead>\n",
       "  <tbody>\n",
       "    <tr>\n",
       "      <th>0</th>\n",
       "      <td>Resort Hotel</td>\n",
       "      <td>0</td>\n",
       "      <td>342</td>\n",
       "      <td>2015</td>\n",
       "      <td>July</td>\n",
       "      <td>27</td>\n",
       "      <td>1</td>\n",
       "      <td>0</td>\n",
       "      <td>0</td>\n",
       "      <td>2</td>\n",
       "      <td>...</td>\n",
       "      <td>No Deposit</td>\n",
       "      <td>NaN</td>\n",
       "      <td>NaN</td>\n",
       "      <td>0</td>\n",
       "      <td>Transient</td>\n",
       "      <td>0.0</td>\n",
       "      <td>0</td>\n",
       "      <td>0</td>\n",
       "      <td>Check-Out</td>\n",
       "      <td>7/1/15</td>\n",
       "    </tr>\n",
       "    <tr>\n",
       "      <th>1</th>\n",
       "      <td>Resort Hotel</td>\n",
       "      <td>0</td>\n",
       "      <td>737</td>\n",
       "      <td>2015</td>\n",
       "      <td>July</td>\n",
       "      <td>27</td>\n",
       "      <td>1</td>\n",
       "      <td>0</td>\n",
       "      <td>0</td>\n",
       "      <td>2</td>\n",
       "      <td>...</td>\n",
       "      <td>No Deposit</td>\n",
       "      <td>NaN</td>\n",
       "      <td>NaN</td>\n",
       "      <td>0</td>\n",
       "      <td>Transient</td>\n",
       "      <td>0.0</td>\n",
       "      <td>0</td>\n",
       "      <td>0</td>\n",
       "      <td>Check-Out</td>\n",
       "      <td>7/1/15</td>\n",
       "    </tr>\n",
       "    <tr>\n",
       "      <th>2</th>\n",
       "      <td>Resort Hotel</td>\n",
       "      <td>0</td>\n",
       "      <td>7</td>\n",
       "      <td>2015</td>\n",
       "      <td>July</td>\n",
       "      <td>27</td>\n",
       "      <td>1</td>\n",
       "      <td>0</td>\n",
       "      <td>1</td>\n",
       "      <td>1</td>\n",
       "      <td>...</td>\n",
       "      <td>No Deposit</td>\n",
       "      <td>NaN</td>\n",
       "      <td>NaN</td>\n",
       "      <td>0</td>\n",
       "      <td>Transient</td>\n",
       "      <td>75.0</td>\n",
       "      <td>0</td>\n",
       "      <td>0</td>\n",
       "      <td>Check-Out</td>\n",
       "      <td>7/2/15</td>\n",
       "    </tr>\n",
       "    <tr>\n",
       "      <th>3</th>\n",
       "      <td>Resort Hotel</td>\n",
       "      <td>0</td>\n",
       "      <td>13</td>\n",
       "      <td>2015</td>\n",
       "      <td>July</td>\n",
       "      <td>27</td>\n",
       "      <td>1</td>\n",
       "      <td>0</td>\n",
       "      <td>1</td>\n",
       "      <td>1</td>\n",
       "      <td>...</td>\n",
       "      <td>No Deposit</td>\n",
       "      <td>304.0</td>\n",
       "      <td>NaN</td>\n",
       "      <td>0</td>\n",
       "      <td>Transient</td>\n",
       "      <td>75.0</td>\n",
       "      <td>0</td>\n",
       "      <td>0</td>\n",
       "      <td>Check-Out</td>\n",
       "      <td>7/2/15</td>\n",
       "    </tr>\n",
       "    <tr>\n",
       "      <th>4</th>\n",
       "      <td>Resort Hotel</td>\n",
       "      <td>0</td>\n",
       "      <td>14</td>\n",
       "      <td>2015</td>\n",
       "      <td>July</td>\n",
       "      <td>27</td>\n",
       "      <td>1</td>\n",
       "      <td>0</td>\n",
       "      <td>2</td>\n",
       "      <td>2</td>\n",
       "      <td>...</td>\n",
       "      <td>No Deposit</td>\n",
       "      <td>240.0</td>\n",
       "      <td>NaN</td>\n",
       "      <td>0</td>\n",
       "      <td>Transient</td>\n",
       "      <td>98.0</td>\n",
       "      <td>0</td>\n",
       "      <td>1</td>\n",
       "      <td>Check-Out</td>\n",
       "      <td>7/3/15</td>\n",
       "    </tr>\n",
       "  </tbody>\n",
       "</table>\n",
       "<p>5 rows × 32 columns</p>\n",
       "</div>"
      ],
      "text/plain": [
       "          hotel  is_canceled  lead_time  arrival_date_year arrival_date_month  \\\n",
       "0  Resort Hotel            0        342               2015               July   \n",
       "1  Resort Hotel            0        737               2015               July   \n",
       "2  Resort Hotel            0          7               2015               July   \n",
       "3  Resort Hotel            0         13               2015               July   \n",
       "4  Resort Hotel            0         14               2015               July   \n",
       "\n",
       "   arrival_date_week_number  arrival_date_day_of_month  \\\n",
       "0                        27                          1   \n",
       "1                        27                          1   \n",
       "2                        27                          1   \n",
       "3                        27                          1   \n",
       "4                        27                          1   \n",
       "\n",
       "   stays_in_weekend_nights  stays_in_week_nights  adults  ...  deposit_type  \\\n",
       "0                        0                     0       2  ...    No Deposit   \n",
       "1                        0                     0       2  ...    No Deposit   \n",
       "2                        0                     1       1  ...    No Deposit   \n",
       "3                        0                     1       1  ...    No Deposit   \n",
       "4                        0                     2       2  ...    No Deposit   \n",
       "\n",
       "   agent company days_in_waiting_list customer_type   adr  \\\n",
       "0    NaN     NaN                    0     Transient   0.0   \n",
       "1    NaN     NaN                    0     Transient   0.0   \n",
       "2    NaN     NaN                    0     Transient  75.0   \n",
       "3  304.0     NaN                    0     Transient  75.0   \n",
       "4  240.0     NaN                    0     Transient  98.0   \n",
       "\n",
       "   required_car_parking_spaces  total_of_special_requests  reservation_status  \\\n",
       "0                            0                          0           Check-Out   \n",
       "1                            0                          0           Check-Out   \n",
       "2                            0                          0           Check-Out   \n",
       "3                            0                          0           Check-Out   \n",
       "4                            0                          1           Check-Out   \n",
       "\n",
       "  reservation_status_date  \n",
       "0                  7/1/15  \n",
       "1                  7/1/15  \n",
       "2                  7/2/15  \n",
       "3                  7/2/15  \n",
       "4                  7/3/15  \n",
       "\n",
       "[5 rows x 32 columns]"
      ]
     },
     "execution_count": 44,
     "metadata": {},
     "output_type": "execute_result"
    }
   ],
   "source": [
    "import pandas as pd\n",
    "import numpy as np\n",
    "\n",
    "hotel_bookings = pd.read_csv('https://raw.githubusercontent.com/olmosjorge28/DS7331_ML1_ASSINGMENTS/main/hotel_bookings.csv') # read in the csv file\n",
    "hotel_bookings.head()"
   ]
  },
  {
   "cell_type": "code",
   "execution_count": 45,
   "metadata": {},
   "outputs": [],
   "source": [
    "import math\n",
    "from datetime import date\n",
    "\n",
    "\n",
    "hotel_bookings_transform = hotel_bookings\n",
    "hotel_bookings_transform= hotel_bookings_transform.drop(columns=['agent','company', 'country'])\n",
    "\n",
    "hotel_bookings_transform['meal']= hotel_bookings_transform['meal'].apply(lambda x: 'SC' if  x == 'Undefined'  else x)\n",
    "hotel_bookings_transform['children']= hotel_bookings_transform['children'].apply(lambda x: 0 if  math.isnan(x)  else x)\n",
    "hotel_bookings_transform['market_segment']= hotel_bookings_transform['market_segment'].apply(lambda x: 'Online TA' if  x == 'Undefined'  else x)\n",
    "hotel_bookings_transform['distribution_channel']= hotel_bookings_transform['distribution_channel'].apply(lambda x: 'TA/TO' if  x == 'Undefined'  else x)\n",
    "\n",
    "\n",
    "hotel_bookings_transform['hotel']=hotel_bookings_transform['hotel'].astype('category').cat.codes\n",
    "hotel_bookings_transform['market_segment']=hotel_bookings_transform['market_segment'].astype('category').cat.codes\n",
    "hotel_bookings_transform['meal']=hotel_bookings_transform['meal'].astype('category').cat.codes\n",
    "hotel_bookings_transform['reservation_status']=hotel_bookings_transform['reservation_status'].astype('category').cat.codes\n",
    "hotel_bookings_transform['distribution_channel']=hotel_bookings_transform['distribution_channel'].astype('category').cat.codes\n",
    "hotel_bookings_transform['reserved_room_type']=hotel_bookings_transform['reserved_room_type'].astype('category').cat.codes\n",
    "hotel_bookings_transform['assigned_room_type']=hotel_bookings_transform['assigned_room_type'].astype('category').cat.codes\n",
    "hotel_bookings_transform['deposit_type']=hotel_bookings_transform['deposit_type'].astype('category').cat.codes\n",
    "hotel_bookings_transform['customer_type']=hotel_bookings_transform['customer_type'].astype('category').cat.codes\n",
    "\n",
    "assign_month = {\"arrival_date_month\": {\"January\": 1, \"February\": 2, \"March\": 3, \"April\": 4,\"May\": 5,\"June\": 6,\"July\": 7,\"August\": 8,\"September\": 9,\"October\": 10,\"November\": 11,\"December\": 12}}\n",
    "hotel_bookings_transform = hotel_bookings_transform.replace(assign_month)\n",
    "\n",
    "# Convert Date to Ordinal\n",
    "import datetime as dt\n",
    "hotel_bookings_transform['reservation_status_date'] = pd.to_datetime(hotel_bookings_transform['reservation_status_date'])\n",
    "hotel_bookings_transform['reservation_status_date'] = hotel_bookings_transform['reservation_status_date'].map(dt.datetime.toordinal)\n",
    "\n",
    "hotel_bookings_transform=hotel_bookings_transform.assign(booking_day_of_year = hotel_bookings_transform[\"arrival_date_year\"].astype(str) + '-' + \n",
    "hotel_bookings_transform[\"arrival_date_month\"].astype(str) + '-' +hotel_bookings_transform[\"arrival_date_day_of_month\"].astype(str))\n",
    "hotel_bookings_transform['booking_day_of_year']=pd.to_datetime(hotel_bookings_transform.booking_day_of_year)\n",
    "hotel_bookings_transform['booking_day_of_year']=hotel_bookings_transform['booking_day_of_year'].map(lambda x: x.toordinal() - date(x.year, 1, 1).toordinal() + 1)\n",
    "\n",
    "\n",
    "hotel_bookings_transform=hotel_bookings_transform.drop(columns=['arrival_date_year','reservation_status_date'])\n",
    "#hotel_bookings_transform['booking_date']=hotel_bookings_transform['booking_date'].map(dt.datetime.toordinal)"
   ]
  },
  {
   "cell_type": "markdown",
   "metadata": {},
   "source": [
    "##### Normalization"
   ]
  },
  {
   "cell_type": "code",
   "execution_count": 46,
   "metadata": {},
   "outputs": [
    {
     "data": {
      "text/plain": [
       "(Index(['hotel', 'lead_time', 'arrival_date_month', 'arrival_date_week_number',\n",
       "        'arrival_date_day_of_month', 'stays_in_weekend_nights',\n",
       "        'stays_in_week_nights', 'adults', 'children', 'babies',\n",
       "        'market_segment', 'distribution_channel', 'is_repeated_guest',\n",
       "        'previous_cancellations', 'previous_bookings_not_canceled',\n",
       "        'reserved_room_type', 'assigned_room_type', 'booking_changes',\n",
       "        'deposit_type', 'days_in_waiting_list', 'customer_type', 'adr',\n",
       "        'required_car_parking_spaces', 'total_of_special_requests',\n",
       "        'booking_day_of_year'],\n",
       "       dtype='object'),\n",
       " Index(['hotel', 'is_canceled', 'lead_time', 'arrival_date_month',\n",
       "        'arrival_date_week_number', 'arrival_date_day_of_month',\n",
       "        'stays_in_weekend_nights', 'stays_in_week_nights', 'adults', 'children',\n",
       "        'babies', 'market_segment', 'distribution_channel', 'is_repeated_guest',\n",
       "        'previous_cancellations', 'previous_bookings_not_canceled',\n",
       "        'reserved_room_type', 'assigned_room_type', 'booking_changes',\n",
       "        'deposit_type', 'days_in_waiting_list', 'customer_type',\n",
       "        'required_car_parking_spaces', 'total_of_special_requests',\n",
       "        'booking_day_of_year'],\n",
       "       dtype='object'))"
      ]
     },
     "execution_count": 46,
     "metadata": {},
     "output_type": "execute_result"
    }
   ],
   "source": [
    "X_cls=hotel_bookings_transform.drop(columns=['is_canceled','reservation_status','meal'])\n",
    "y_cls=hotel_bookings_transform.is_canceled\n",
    "\n",
    "X_reg=hotel_bookings_transform.drop(columns=['adr','reservation_status','meal'])\n",
    "y_reg=hotel_bookings_transform.adr\n",
    "\n",
    "columns_cls = X_cls.columns\n",
    "columns_reg = X_reg.columns\n",
    "\n",
    "columns_cls, columns_reg"
   ]
  },
  {
   "cell_type": "code",
   "execution_count": 47,
   "metadata": {},
   "outputs": [],
   "source": [
    "from sklearn import preprocessing\n",
    "scaler_cls = preprocessing.StandardScaler().fit(X_cls)\n",
    "scaler_reg = preprocessing.StandardScaler().fit(X_reg)\n",
    "\n",
    "X_cls_scaled = pd.DataFrame(scaler_cls.transform(X_cls),columns=columns_cls)\n",
    "X_reg_scaled = pd.DataFrame(scaler_reg.transform(X_reg),columns=columns_reg)"
   ]
  },
  {
   "cell_type": "code",
   "execution_count": 48,
   "metadata": {},
   "outputs": [
    {
     "data": {
      "text/html": [
       "<div>\n",
       "<style scoped>\n",
       "    .dataframe tbody tr th:only-of-type {\n",
       "        vertical-align: middle;\n",
       "    }\n",
       "\n",
       "    .dataframe tbody tr th {\n",
       "        vertical-align: top;\n",
       "    }\n",
       "\n",
       "    .dataframe thead th {\n",
       "        text-align: right;\n",
       "    }\n",
       "</style>\n",
       "<table border=\"1\" class=\"dataframe\">\n",
       "  <thead>\n",
       "    <tr style=\"text-align: right;\">\n",
       "      <th></th>\n",
       "      <th>hotel</th>\n",
       "      <th>lead_time</th>\n",
       "      <th>arrival_date_month</th>\n",
       "      <th>arrival_date_week_number</th>\n",
       "      <th>arrival_date_day_of_month</th>\n",
       "      <th>stays_in_weekend_nights</th>\n",
       "      <th>stays_in_week_nights</th>\n",
       "      <th>adults</th>\n",
       "      <th>children</th>\n",
       "      <th>babies</th>\n",
       "      <th>...</th>\n",
       "      <th>reserved_room_type</th>\n",
       "      <th>assigned_room_type</th>\n",
       "      <th>booking_changes</th>\n",
       "      <th>deposit_type</th>\n",
       "      <th>days_in_waiting_list</th>\n",
       "      <th>customer_type</th>\n",
       "      <th>adr</th>\n",
       "      <th>required_car_parking_spaces</th>\n",
       "      <th>total_of_special_requests</th>\n",
       "      <th>booking_day_of_year</th>\n",
       "    </tr>\n",
       "  </thead>\n",
       "  <tbody>\n",
       "    <tr>\n",
       "      <th>0</th>\n",
       "      <td>1.407224</td>\n",
       "      <td>2.227051</td>\n",
       "      <td>0.144799</td>\n",
       "      <td>-0.012141</td>\n",
       "      <td>-1.685297</td>\n",
       "      <td>-0.928890</td>\n",
       "      <td>-1.310240</td>\n",
       "      <td>0.247897</td>\n",
       "      <td>-0.260659</td>\n",
       "      <td>-0.081579</td>\n",
       "      <td>...</td>\n",
       "      <td>0.595363</td>\n",
       "      <td>0.356939</td>\n",
       "      <td>4.260101</td>\n",
       "      <td>-0.373175</td>\n",
       "      <td>-0.131924</td>\n",
       "      <td>-0.237979</td>\n",
       "      <td>-2.015038</td>\n",
       "      <td>-0.254873</td>\n",
       "      <td>-0.720694</td>\n",
       "      <td>-0.023432</td>\n",
       "    </tr>\n",
       "    <tr>\n",
       "      <th>1</th>\n",
       "      <td>1.407224</td>\n",
       "      <td>5.923385</td>\n",
       "      <td>0.144799</td>\n",
       "      <td>-0.012141</td>\n",
       "      <td>-1.685297</td>\n",
       "      <td>-0.928890</td>\n",
       "      <td>-1.310240</td>\n",
       "      <td>0.247897</td>\n",
       "      <td>-0.260659</td>\n",
       "      <td>-0.081579</td>\n",
       "      <td>...</td>\n",
       "      <td>0.595363</td>\n",
       "      <td>0.356939</td>\n",
       "      <td>5.793131</td>\n",
       "      <td>-0.373175</td>\n",
       "      <td>-0.131924</td>\n",
       "      <td>-0.237979</td>\n",
       "      <td>-2.015038</td>\n",
       "      <td>-0.254873</td>\n",
       "      <td>-0.720694</td>\n",
       "      <td>-0.023432</td>\n",
       "    </tr>\n",
       "    <tr>\n",
       "      <th>2</th>\n",
       "      <td>1.407224</td>\n",
       "      <td>-0.907814</td>\n",
       "      <td>0.144799</td>\n",
       "      <td>-0.012141</td>\n",
       "      <td>-1.685297</td>\n",
       "      <td>-0.928890</td>\n",
       "      <td>-0.786207</td>\n",
       "      <td>-1.478447</td>\n",
       "      <td>-0.260659</td>\n",
       "      <td>-0.081579</td>\n",
       "      <td>...</td>\n",
       "      <td>-0.582996</td>\n",
       "      <td>0.356939</td>\n",
       "      <td>-0.338990</td>\n",
       "      <td>-0.373175</td>\n",
       "      <td>-0.131924</td>\n",
       "      <td>-0.237979</td>\n",
       "      <td>-0.530935</td>\n",
       "      <td>-0.254873</td>\n",
       "      <td>-0.720694</td>\n",
       "      <td>-0.023432</td>\n",
       "    </tr>\n",
       "    <tr>\n",
       "      <th>3</th>\n",
       "      <td>1.407224</td>\n",
       "      <td>-0.851667</td>\n",
       "      <td>0.144799</td>\n",
       "      <td>-0.012141</td>\n",
       "      <td>-1.685297</td>\n",
       "      <td>-0.928890</td>\n",
       "      <td>-0.786207</td>\n",
       "      <td>-1.478447</td>\n",
       "      <td>-0.260659</td>\n",
       "      <td>-0.081579</td>\n",
       "      <td>...</td>\n",
       "      <td>-0.582996</td>\n",
       "      <td>-0.707596</td>\n",
       "      <td>-0.338990</td>\n",
       "      <td>-0.373175</td>\n",
       "      <td>-0.131924</td>\n",
       "      <td>-0.237979</td>\n",
       "      <td>-0.530935</td>\n",
       "      <td>-0.254873</td>\n",
       "      <td>-0.720694</td>\n",
       "      <td>-0.023432</td>\n",
       "    </tr>\n",
       "    <tr>\n",
       "      <th>4</th>\n",
       "      <td>1.407224</td>\n",
       "      <td>-0.842309</td>\n",
       "      <td>0.144799</td>\n",
       "      <td>-0.012141</td>\n",
       "      <td>-1.685297</td>\n",
       "      <td>-0.928890</td>\n",
       "      <td>-0.262174</td>\n",
       "      <td>0.247897</td>\n",
       "      <td>-0.260659</td>\n",
       "      <td>-0.081579</td>\n",
       "      <td>...</td>\n",
       "      <td>-0.582996</td>\n",
       "      <td>-0.707596</td>\n",
       "      <td>-0.338990</td>\n",
       "      <td>-0.373175</td>\n",
       "      <td>-0.131924</td>\n",
       "      <td>-0.237979</td>\n",
       "      <td>-0.075810</td>\n",
       "      <td>-0.254873</td>\n",
       "      <td>0.540666</td>\n",
       "      <td>-0.023432</td>\n",
       "    </tr>\n",
       "    <tr>\n",
       "      <th>...</th>\n",
       "      <td>...</td>\n",
       "      <td>...</td>\n",
       "      <td>...</td>\n",
       "      <td>...</td>\n",
       "      <td>...</td>\n",
       "      <td>...</td>\n",
       "      <td>...</td>\n",
       "      <td>...</td>\n",
       "      <td>...</td>\n",
       "      <td>...</td>\n",
       "      <td>...</td>\n",
       "      <td>...</td>\n",
       "      <td>...</td>\n",
       "      <td>...</td>\n",
       "      <td>...</td>\n",
       "      <td>...</td>\n",
       "      <td>...</td>\n",
       "      <td>...</td>\n",
       "      <td>...</td>\n",
       "      <td>...</td>\n",
       "      <td>...</td>\n",
       "    </tr>\n",
       "    <tr>\n",
       "      <th>119385</th>\n",
       "      <td>-0.710619</td>\n",
       "      <td>-0.758089</td>\n",
       "      <td>0.468360</td>\n",
       "      <td>0.575875</td>\n",
       "      <td>1.617366</td>\n",
       "      <td>1.073895</td>\n",
       "      <td>1.309924</td>\n",
       "      <td>0.247897</td>\n",
       "      <td>-0.260659</td>\n",
       "      <td>-0.081579</td>\n",
       "      <td>...</td>\n",
       "      <td>-0.582996</td>\n",
       "      <td>-0.707596</td>\n",
       "      <td>-0.338990</td>\n",
       "      <td>-0.373175</td>\n",
       "      <td>-0.131924</td>\n",
       "      <td>-0.237979</td>\n",
       "      <td>-0.112616</td>\n",
       "      <td>-0.254873</td>\n",
       "      <td>-0.720694</td>\n",
       "      <td>0.612376</td>\n",
       "    </tr>\n",
       "    <tr>\n",
       "      <th>119386</th>\n",
       "      <td>-0.710619</td>\n",
       "      <td>-0.018822</td>\n",
       "      <td>0.468360</td>\n",
       "      <td>0.575875</td>\n",
       "      <td>1.731251</td>\n",
       "      <td>1.073895</td>\n",
       "      <td>1.309924</td>\n",
       "      <td>1.974242</td>\n",
       "      <td>-0.260659</td>\n",
       "      <td>-0.081579</td>\n",
       "      <td>...</td>\n",
       "      <td>1.773723</td>\n",
       "      <td>1.421475</td>\n",
       "      <td>-0.338990</td>\n",
       "      <td>-0.373175</td>\n",
       "      <td>-0.131924</td>\n",
       "      <td>-0.237979</td>\n",
       "      <td>2.445779</td>\n",
       "      <td>-0.254873</td>\n",
       "      <td>1.802026</td>\n",
       "      <td>0.622973</td>\n",
       "    </tr>\n",
       "    <tr>\n",
       "      <th>119387</th>\n",
       "      <td>-0.710619</td>\n",
       "      <td>-0.655153</td>\n",
       "      <td>0.468360</td>\n",
       "      <td>0.575875</td>\n",
       "      <td>1.731251</td>\n",
       "      <td>1.073895</td>\n",
       "      <td>1.309924</td>\n",
       "      <td>0.247897</td>\n",
       "      <td>-0.260659</td>\n",
       "      <td>-0.081579</td>\n",
       "      <td>...</td>\n",
       "      <td>1.184543</td>\n",
       "      <td>0.889207</td>\n",
       "      <td>-0.338990</td>\n",
       "      <td>-0.373175</td>\n",
       "      <td>-0.131924</td>\n",
       "      <td>-0.237979</td>\n",
       "      <td>1.105733</td>\n",
       "      <td>-0.254873</td>\n",
       "      <td>4.324746</td>\n",
       "      <td>0.622973</td>\n",
       "    </tr>\n",
       "    <tr>\n",
       "      <th>119388</th>\n",
       "      <td>-0.710619</td>\n",
       "      <td>0.046682</td>\n",
       "      <td>0.468360</td>\n",
       "      <td>0.575875</td>\n",
       "      <td>1.731251</td>\n",
       "      <td>1.073895</td>\n",
       "      <td>1.309924</td>\n",
       "      <td>0.247897</td>\n",
       "      <td>-0.260659</td>\n",
       "      <td>-0.081579</td>\n",
       "      <td>...</td>\n",
       "      <td>-0.582996</td>\n",
       "      <td>-0.707596</td>\n",
       "      <td>-0.338990</td>\n",
       "      <td>-0.373175</td>\n",
       "      <td>-0.131924</td>\n",
       "      <td>-0.237979</td>\n",
       "      <td>0.050833</td>\n",
       "      <td>-0.254873</td>\n",
       "      <td>-0.720694</td>\n",
       "      <td>0.622973</td>\n",
       "    </tr>\n",
       "    <tr>\n",
       "      <th>119389</th>\n",
       "      <td>-0.710619</td>\n",
       "      <td>0.945032</td>\n",
       "      <td>0.468360</td>\n",
       "      <td>0.575875</td>\n",
       "      <td>1.503481</td>\n",
       "      <td>1.073895</td>\n",
       "      <td>2.357989</td>\n",
       "      <td>0.247897</td>\n",
       "      <td>-0.260659</td>\n",
       "      <td>-0.081579</td>\n",
       "      <td>...</td>\n",
       "      <td>-0.582996</td>\n",
       "      <td>-0.707596</td>\n",
       "      <td>-0.338990</td>\n",
       "      <td>-0.373175</td>\n",
       "      <td>-0.131924</td>\n",
       "      <td>-0.237979</td>\n",
       "      <td>0.976913</td>\n",
       "      <td>-0.254873</td>\n",
       "      <td>1.802026</td>\n",
       "      <td>0.601779</td>\n",
       "    </tr>\n",
       "  </tbody>\n",
       "</table>\n",
       "<p>119390 rows × 25 columns</p>\n",
       "</div>"
      ],
      "text/plain": [
       "           hotel  lead_time  arrival_date_month  arrival_date_week_number  \\\n",
       "0       1.407224   2.227051            0.144799                 -0.012141   \n",
       "1       1.407224   5.923385            0.144799                 -0.012141   \n",
       "2       1.407224  -0.907814            0.144799                 -0.012141   \n",
       "3       1.407224  -0.851667            0.144799                 -0.012141   \n",
       "4       1.407224  -0.842309            0.144799                 -0.012141   \n",
       "...          ...        ...                 ...                       ...   \n",
       "119385 -0.710619  -0.758089            0.468360                  0.575875   \n",
       "119386 -0.710619  -0.018822            0.468360                  0.575875   \n",
       "119387 -0.710619  -0.655153            0.468360                  0.575875   \n",
       "119388 -0.710619   0.046682            0.468360                  0.575875   \n",
       "119389 -0.710619   0.945032            0.468360                  0.575875   \n",
       "\n",
       "        arrival_date_day_of_month  stays_in_weekend_nights  \\\n",
       "0                       -1.685297                -0.928890   \n",
       "1                       -1.685297                -0.928890   \n",
       "2                       -1.685297                -0.928890   \n",
       "3                       -1.685297                -0.928890   \n",
       "4                       -1.685297                -0.928890   \n",
       "...                           ...                      ...   \n",
       "119385                   1.617366                 1.073895   \n",
       "119386                   1.731251                 1.073895   \n",
       "119387                   1.731251                 1.073895   \n",
       "119388                   1.731251                 1.073895   \n",
       "119389                   1.503481                 1.073895   \n",
       "\n",
       "        stays_in_week_nights    adults  children    babies  ...  \\\n",
       "0                  -1.310240  0.247897 -0.260659 -0.081579  ...   \n",
       "1                  -1.310240  0.247897 -0.260659 -0.081579  ...   \n",
       "2                  -0.786207 -1.478447 -0.260659 -0.081579  ...   \n",
       "3                  -0.786207 -1.478447 -0.260659 -0.081579  ...   \n",
       "4                  -0.262174  0.247897 -0.260659 -0.081579  ...   \n",
       "...                      ...       ...       ...       ...  ...   \n",
       "119385              1.309924  0.247897 -0.260659 -0.081579  ...   \n",
       "119386              1.309924  1.974242 -0.260659 -0.081579  ...   \n",
       "119387              1.309924  0.247897 -0.260659 -0.081579  ...   \n",
       "119388              1.309924  0.247897 -0.260659 -0.081579  ...   \n",
       "119389              2.357989  0.247897 -0.260659 -0.081579  ...   \n",
       "\n",
       "        reserved_room_type  assigned_room_type  booking_changes  deposit_type  \\\n",
       "0                 0.595363            0.356939         4.260101     -0.373175   \n",
       "1                 0.595363            0.356939         5.793131     -0.373175   \n",
       "2                -0.582996            0.356939        -0.338990     -0.373175   \n",
       "3                -0.582996           -0.707596        -0.338990     -0.373175   \n",
       "4                -0.582996           -0.707596        -0.338990     -0.373175   \n",
       "...                    ...                 ...              ...           ...   \n",
       "119385           -0.582996           -0.707596        -0.338990     -0.373175   \n",
       "119386            1.773723            1.421475        -0.338990     -0.373175   \n",
       "119387            1.184543            0.889207        -0.338990     -0.373175   \n",
       "119388           -0.582996           -0.707596        -0.338990     -0.373175   \n",
       "119389           -0.582996           -0.707596        -0.338990     -0.373175   \n",
       "\n",
       "        days_in_waiting_list  customer_type       adr  \\\n",
       "0                  -0.131924      -0.237979 -2.015038   \n",
       "1                  -0.131924      -0.237979 -2.015038   \n",
       "2                  -0.131924      -0.237979 -0.530935   \n",
       "3                  -0.131924      -0.237979 -0.530935   \n",
       "4                  -0.131924      -0.237979 -0.075810   \n",
       "...                      ...            ...       ...   \n",
       "119385             -0.131924      -0.237979 -0.112616   \n",
       "119386             -0.131924      -0.237979  2.445779   \n",
       "119387             -0.131924      -0.237979  1.105733   \n",
       "119388             -0.131924      -0.237979  0.050833   \n",
       "119389             -0.131924      -0.237979  0.976913   \n",
       "\n",
       "        required_car_parking_spaces  total_of_special_requests  \\\n",
       "0                         -0.254873                  -0.720694   \n",
       "1                         -0.254873                  -0.720694   \n",
       "2                         -0.254873                  -0.720694   \n",
       "3                         -0.254873                  -0.720694   \n",
       "4                         -0.254873                   0.540666   \n",
       "...                             ...                        ...   \n",
       "119385                    -0.254873                  -0.720694   \n",
       "119386                    -0.254873                   1.802026   \n",
       "119387                    -0.254873                   4.324746   \n",
       "119388                    -0.254873                  -0.720694   \n",
       "119389                    -0.254873                   1.802026   \n",
       "\n",
       "        booking_day_of_year  \n",
       "0                 -0.023432  \n",
       "1                 -0.023432  \n",
       "2                 -0.023432  \n",
       "3                 -0.023432  \n",
       "4                 -0.023432  \n",
       "...                     ...  \n",
       "119385             0.612376  \n",
       "119386             0.622973  \n",
       "119387             0.622973  \n",
       "119388             0.622973  \n",
       "119389             0.601779  \n",
       "\n",
       "[119390 rows x 25 columns]"
      ]
     },
     "execution_count": 48,
     "metadata": {},
     "output_type": "execute_result"
    }
   ],
   "source": [
    "X_cls_scaled"
   ]
  },
  {
   "cell_type": "code",
   "execution_count": 49,
   "metadata": {},
   "outputs": [
    {
     "data": {
      "text/html": [
       "<div>\n",
       "<style scoped>\n",
       "    .dataframe tbody tr th:only-of-type {\n",
       "        vertical-align: middle;\n",
       "    }\n",
       "\n",
       "    .dataframe tbody tr th {\n",
       "        vertical-align: top;\n",
       "    }\n",
       "\n",
       "    .dataframe thead th {\n",
       "        text-align: right;\n",
       "    }\n",
       "</style>\n",
       "<table border=\"1\" class=\"dataframe\">\n",
       "  <thead>\n",
       "    <tr style=\"text-align: right;\">\n",
       "      <th></th>\n",
       "      <th>hotel</th>\n",
       "      <th>is_canceled</th>\n",
       "      <th>lead_time</th>\n",
       "      <th>arrival_date_month</th>\n",
       "      <th>arrival_date_week_number</th>\n",
       "      <th>arrival_date_day_of_month</th>\n",
       "      <th>stays_in_weekend_nights</th>\n",
       "      <th>stays_in_week_nights</th>\n",
       "      <th>adults</th>\n",
       "      <th>children</th>\n",
       "      <th>...</th>\n",
       "      <th>previous_bookings_not_canceled</th>\n",
       "      <th>reserved_room_type</th>\n",
       "      <th>assigned_room_type</th>\n",
       "      <th>booking_changes</th>\n",
       "      <th>deposit_type</th>\n",
       "      <th>days_in_waiting_list</th>\n",
       "      <th>customer_type</th>\n",
       "      <th>required_car_parking_spaces</th>\n",
       "      <th>total_of_special_requests</th>\n",
       "      <th>booking_day_of_year</th>\n",
       "    </tr>\n",
       "  </thead>\n",
       "  <tbody>\n",
       "    <tr>\n",
       "      <th>0</th>\n",
       "      <td>1.407224</td>\n",
       "      <td>-0.76704</td>\n",
       "      <td>2.227051</td>\n",
       "      <td>0.144799</td>\n",
       "      <td>-0.012141</td>\n",
       "      <td>-1.685297</td>\n",
       "      <td>-0.928890</td>\n",
       "      <td>-1.310240</td>\n",
       "      <td>0.247897</td>\n",
       "      <td>-0.260659</td>\n",
       "      <td>...</td>\n",
       "      <td>-0.091555</td>\n",
       "      <td>0.595363</td>\n",
       "      <td>0.356939</td>\n",
       "      <td>4.260101</td>\n",
       "      <td>-0.373175</td>\n",
       "      <td>-0.131924</td>\n",
       "      <td>-0.237979</td>\n",
       "      <td>-0.254873</td>\n",
       "      <td>-0.720694</td>\n",
       "      <td>-0.023432</td>\n",
       "    </tr>\n",
       "    <tr>\n",
       "      <th>1</th>\n",
       "      <td>1.407224</td>\n",
       "      <td>-0.76704</td>\n",
       "      <td>5.923385</td>\n",
       "      <td>0.144799</td>\n",
       "      <td>-0.012141</td>\n",
       "      <td>-1.685297</td>\n",
       "      <td>-0.928890</td>\n",
       "      <td>-1.310240</td>\n",
       "      <td>0.247897</td>\n",
       "      <td>-0.260659</td>\n",
       "      <td>...</td>\n",
       "      <td>-0.091555</td>\n",
       "      <td>0.595363</td>\n",
       "      <td>0.356939</td>\n",
       "      <td>5.793131</td>\n",
       "      <td>-0.373175</td>\n",
       "      <td>-0.131924</td>\n",
       "      <td>-0.237979</td>\n",
       "      <td>-0.254873</td>\n",
       "      <td>-0.720694</td>\n",
       "      <td>-0.023432</td>\n",
       "    </tr>\n",
       "    <tr>\n",
       "      <th>2</th>\n",
       "      <td>1.407224</td>\n",
       "      <td>-0.76704</td>\n",
       "      <td>-0.907814</td>\n",
       "      <td>0.144799</td>\n",
       "      <td>-0.012141</td>\n",
       "      <td>-1.685297</td>\n",
       "      <td>-0.928890</td>\n",
       "      <td>-0.786207</td>\n",
       "      <td>-1.478447</td>\n",
       "      <td>-0.260659</td>\n",
       "      <td>...</td>\n",
       "      <td>-0.091555</td>\n",
       "      <td>-0.582996</td>\n",
       "      <td>0.356939</td>\n",
       "      <td>-0.338990</td>\n",
       "      <td>-0.373175</td>\n",
       "      <td>-0.131924</td>\n",
       "      <td>-0.237979</td>\n",
       "      <td>-0.254873</td>\n",
       "      <td>-0.720694</td>\n",
       "      <td>-0.023432</td>\n",
       "    </tr>\n",
       "    <tr>\n",
       "      <th>3</th>\n",
       "      <td>1.407224</td>\n",
       "      <td>-0.76704</td>\n",
       "      <td>-0.851667</td>\n",
       "      <td>0.144799</td>\n",
       "      <td>-0.012141</td>\n",
       "      <td>-1.685297</td>\n",
       "      <td>-0.928890</td>\n",
       "      <td>-0.786207</td>\n",
       "      <td>-1.478447</td>\n",
       "      <td>-0.260659</td>\n",
       "      <td>...</td>\n",
       "      <td>-0.091555</td>\n",
       "      <td>-0.582996</td>\n",
       "      <td>-0.707596</td>\n",
       "      <td>-0.338990</td>\n",
       "      <td>-0.373175</td>\n",
       "      <td>-0.131924</td>\n",
       "      <td>-0.237979</td>\n",
       "      <td>-0.254873</td>\n",
       "      <td>-0.720694</td>\n",
       "      <td>-0.023432</td>\n",
       "    </tr>\n",
       "    <tr>\n",
       "      <th>4</th>\n",
       "      <td>1.407224</td>\n",
       "      <td>-0.76704</td>\n",
       "      <td>-0.842309</td>\n",
       "      <td>0.144799</td>\n",
       "      <td>-0.012141</td>\n",
       "      <td>-1.685297</td>\n",
       "      <td>-0.928890</td>\n",
       "      <td>-0.262174</td>\n",
       "      <td>0.247897</td>\n",
       "      <td>-0.260659</td>\n",
       "      <td>...</td>\n",
       "      <td>-0.091555</td>\n",
       "      <td>-0.582996</td>\n",
       "      <td>-0.707596</td>\n",
       "      <td>-0.338990</td>\n",
       "      <td>-0.373175</td>\n",
       "      <td>-0.131924</td>\n",
       "      <td>-0.237979</td>\n",
       "      <td>-0.254873</td>\n",
       "      <td>0.540666</td>\n",
       "      <td>-0.023432</td>\n",
       "    </tr>\n",
       "    <tr>\n",
       "      <th>...</th>\n",
       "      <td>...</td>\n",
       "      <td>...</td>\n",
       "      <td>...</td>\n",
       "      <td>...</td>\n",
       "      <td>...</td>\n",
       "      <td>...</td>\n",
       "      <td>...</td>\n",
       "      <td>...</td>\n",
       "      <td>...</td>\n",
       "      <td>...</td>\n",
       "      <td>...</td>\n",
       "      <td>...</td>\n",
       "      <td>...</td>\n",
       "      <td>...</td>\n",
       "      <td>...</td>\n",
       "      <td>...</td>\n",
       "      <td>...</td>\n",
       "      <td>...</td>\n",
       "      <td>...</td>\n",
       "      <td>...</td>\n",
       "      <td>...</td>\n",
       "    </tr>\n",
       "    <tr>\n",
       "      <th>119385</th>\n",
       "      <td>-0.710619</td>\n",
       "      <td>-0.76704</td>\n",
       "      <td>-0.758089</td>\n",
       "      <td>0.468360</td>\n",
       "      <td>0.575875</td>\n",
       "      <td>1.617366</td>\n",
       "      <td>1.073895</td>\n",
       "      <td>1.309924</td>\n",
       "      <td>0.247897</td>\n",
       "      <td>-0.260659</td>\n",
       "      <td>...</td>\n",
       "      <td>-0.091555</td>\n",
       "      <td>-0.582996</td>\n",
       "      <td>-0.707596</td>\n",
       "      <td>-0.338990</td>\n",
       "      <td>-0.373175</td>\n",
       "      <td>-0.131924</td>\n",
       "      <td>-0.237979</td>\n",
       "      <td>-0.254873</td>\n",
       "      <td>-0.720694</td>\n",
       "      <td>0.612376</td>\n",
       "    </tr>\n",
       "    <tr>\n",
       "      <th>119386</th>\n",
       "      <td>-0.710619</td>\n",
       "      <td>-0.76704</td>\n",
       "      <td>-0.018822</td>\n",
       "      <td>0.468360</td>\n",
       "      <td>0.575875</td>\n",
       "      <td>1.731251</td>\n",
       "      <td>1.073895</td>\n",
       "      <td>1.309924</td>\n",
       "      <td>1.974242</td>\n",
       "      <td>-0.260659</td>\n",
       "      <td>...</td>\n",
       "      <td>-0.091555</td>\n",
       "      <td>1.773723</td>\n",
       "      <td>1.421475</td>\n",
       "      <td>-0.338990</td>\n",
       "      <td>-0.373175</td>\n",
       "      <td>-0.131924</td>\n",
       "      <td>-0.237979</td>\n",
       "      <td>-0.254873</td>\n",
       "      <td>1.802026</td>\n",
       "      <td>0.622973</td>\n",
       "    </tr>\n",
       "    <tr>\n",
       "      <th>119387</th>\n",
       "      <td>-0.710619</td>\n",
       "      <td>-0.76704</td>\n",
       "      <td>-0.655153</td>\n",
       "      <td>0.468360</td>\n",
       "      <td>0.575875</td>\n",
       "      <td>1.731251</td>\n",
       "      <td>1.073895</td>\n",
       "      <td>1.309924</td>\n",
       "      <td>0.247897</td>\n",
       "      <td>-0.260659</td>\n",
       "      <td>...</td>\n",
       "      <td>-0.091555</td>\n",
       "      <td>1.184543</td>\n",
       "      <td>0.889207</td>\n",
       "      <td>-0.338990</td>\n",
       "      <td>-0.373175</td>\n",
       "      <td>-0.131924</td>\n",
       "      <td>-0.237979</td>\n",
       "      <td>-0.254873</td>\n",
       "      <td>4.324746</td>\n",
       "      <td>0.622973</td>\n",
       "    </tr>\n",
       "    <tr>\n",
       "      <th>119388</th>\n",
       "      <td>-0.710619</td>\n",
       "      <td>-0.76704</td>\n",
       "      <td>0.046682</td>\n",
       "      <td>0.468360</td>\n",
       "      <td>0.575875</td>\n",
       "      <td>1.731251</td>\n",
       "      <td>1.073895</td>\n",
       "      <td>1.309924</td>\n",
       "      <td>0.247897</td>\n",
       "      <td>-0.260659</td>\n",
       "      <td>...</td>\n",
       "      <td>-0.091555</td>\n",
       "      <td>-0.582996</td>\n",
       "      <td>-0.707596</td>\n",
       "      <td>-0.338990</td>\n",
       "      <td>-0.373175</td>\n",
       "      <td>-0.131924</td>\n",
       "      <td>-0.237979</td>\n",
       "      <td>-0.254873</td>\n",
       "      <td>-0.720694</td>\n",
       "      <td>0.622973</td>\n",
       "    </tr>\n",
       "    <tr>\n",
       "      <th>119389</th>\n",
       "      <td>-0.710619</td>\n",
       "      <td>-0.76704</td>\n",
       "      <td>0.945032</td>\n",
       "      <td>0.468360</td>\n",
       "      <td>0.575875</td>\n",
       "      <td>1.503481</td>\n",
       "      <td>1.073895</td>\n",
       "      <td>2.357989</td>\n",
       "      <td>0.247897</td>\n",
       "      <td>-0.260659</td>\n",
       "      <td>...</td>\n",
       "      <td>-0.091555</td>\n",
       "      <td>-0.582996</td>\n",
       "      <td>-0.707596</td>\n",
       "      <td>-0.338990</td>\n",
       "      <td>-0.373175</td>\n",
       "      <td>-0.131924</td>\n",
       "      <td>-0.237979</td>\n",
       "      <td>-0.254873</td>\n",
       "      <td>1.802026</td>\n",
       "      <td>0.601779</td>\n",
       "    </tr>\n",
       "  </tbody>\n",
       "</table>\n",
       "<p>119390 rows × 25 columns</p>\n",
       "</div>"
      ],
      "text/plain": [
       "           hotel  is_canceled  lead_time  arrival_date_month  \\\n",
       "0       1.407224     -0.76704   2.227051            0.144799   \n",
       "1       1.407224     -0.76704   5.923385            0.144799   \n",
       "2       1.407224     -0.76704  -0.907814            0.144799   \n",
       "3       1.407224     -0.76704  -0.851667            0.144799   \n",
       "4       1.407224     -0.76704  -0.842309            0.144799   \n",
       "...          ...          ...        ...                 ...   \n",
       "119385 -0.710619     -0.76704  -0.758089            0.468360   \n",
       "119386 -0.710619     -0.76704  -0.018822            0.468360   \n",
       "119387 -0.710619     -0.76704  -0.655153            0.468360   \n",
       "119388 -0.710619     -0.76704   0.046682            0.468360   \n",
       "119389 -0.710619     -0.76704   0.945032            0.468360   \n",
       "\n",
       "        arrival_date_week_number  arrival_date_day_of_month  \\\n",
       "0                      -0.012141                  -1.685297   \n",
       "1                      -0.012141                  -1.685297   \n",
       "2                      -0.012141                  -1.685297   \n",
       "3                      -0.012141                  -1.685297   \n",
       "4                      -0.012141                  -1.685297   \n",
       "...                          ...                        ...   \n",
       "119385                  0.575875                   1.617366   \n",
       "119386                  0.575875                   1.731251   \n",
       "119387                  0.575875                   1.731251   \n",
       "119388                  0.575875                   1.731251   \n",
       "119389                  0.575875                   1.503481   \n",
       "\n",
       "        stays_in_weekend_nights  stays_in_week_nights    adults  children  \\\n",
       "0                     -0.928890             -1.310240  0.247897 -0.260659   \n",
       "1                     -0.928890             -1.310240  0.247897 -0.260659   \n",
       "2                     -0.928890             -0.786207 -1.478447 -0.260659   \n",
       "3                     -0.928890             -0.786207 -1.478447 -0.260659   \n",
       "4                     -0.928890             -0.262174  0.247897 -0.260659   \n",
       "...                         ...                   ...       ...       ...   \n",
       "119385                 1.073895              1.309924  0.247897 -0.260659   \n",
       "119386                 1.073895              1.309924  1.974242 -0.260659   \n",
       "119387                 1.073895              1.309924  0.247897 -0.260659   \n",
       "119388                 1.073895              1.309924  0.247897 -0.260659   \n",
       "119389                 1.073895              2.357989  0.247897 -0.260659   \n",
       "\n",
       "        ...  previous_bookings_not_canceled  reserved_room_type  \\\n",
       "0       ...                       -0.091555            0.595363   \n",
       "1       ...                       -0.091555            0.595363   \n",
       "2       ...                       -0.091555           -0.582996   \n",
       "3       ...                       -0.091555           -0.582996   \n",
       "4       ...                       -0.091555           -0.582996   \n",
       "...     ...                             ...                 ...   \n",
       "119385  ...                       -0.091555           -0.582996   \n",
       "119386  ...                       -0.091555            1.773723   \n",
       "119387  ...                       -0.091555            1.184543   \n",
       "119388  ...                       -0.091555           -0.582996   \n",
       "119389  ...                       -0.091555           -0.582996   \n",
       "\n",
       "        assigned_room_type  booking_changes  deposit_type  \\\n",
       "0                 0.356939         4.260101     -0.373175   \n",
       "1                 0.356939         5.793131     -0.373175   \n",
       "2                 0.356939        -0.338990     -0.373175   \n",
       "3                -0.707596        -0.338990     -0.373175   \n",
       "4                -0.707596        -0.338990     -0.373175   \n",
       "...                    ...              ...           ...   \n",
       "119385           -0.707596        -0.338990     -0.373175   \n",
       "119386            1.421475        -0.338990     -0.373175   \n",
       "119387            0.889207        -0.338990     -0.373175   \n",
       "119388           -0.707596        -0.338990     -0.373175   \n",
       "119389           -0.707596        -0.338990     -0.373175   \n",
       "\n",
       "        days_in_waiting_list  customer_type  required_car_parking_spaces  \\\n",
       "0                  -0.131924      -0.237979                    -0.254873   \n",
       "1                  -0.131924      -0.237979                    -0.254873   \n",
       "2                  -0.131924      -0.237979                    -0.254873   \n",
       "3                  -0.131924      -0.237979                    -0.254873   \n",
       "4                  -0.131924      -0.237979                    -0.254873   \n",
       "...                      ...            ...                          ...   \n",
       "119385             -0.131924      -0.237979                    -0.254873   \n",
       "119386             -0.131924      -0.237979                    -0.254873   \n",
       "119387             -0.131924      -0.237979                    -0.254873   \n",
       "119388             -0.131924      -0.237979                    -0.254873   \n",
       "119389             -0.131924      -0.237979                    -0.254873   \n",
       "\n",
       "        total_of_special_requests  booking_day_of_year  \n",
       "0                       -0.720694            -0.023432  \n",
       "1                       -0.720694            -0.023432  \n",
       "2                       -0.720694            -0.023432  \n",
       "3                       -0.720694            -0.023432  \n",
       "4                        0.540666            -0.023432  \n",
       "...                           ...                  ...  \n",
       "119385                  -0.720694             0.612376  \n",
       "119386                   1.802026             0.622973  \n",
       "119387                   4.324746             0.622973  \n",
       "119388                  -0.720694             0.622973  \n",
       "119389                   1.802026             0.601779  \n",
       "\n",
       "[119390 rows x 25 columns]"
      ]
     },
     "execution_count": 49,
     "metadata": {},
     "output_type": "execute_result"
    }
   ],
   "source": [
    "X_reg_scaled"
   ]
  },
  {
   "cell_type": "markdown",
   "metadata": {},
   "source": [
    "Verifying each feature has a mean of zero and the standard deviation should be 1 for classification:"
   ]
  },
  {
   "cell_type": "code",
   "execution_count": 50,
   "metadata": {
    "scrolled": false
   },
   "outputs": [
    {
     "name": "stdout",
     "output_type": "stream",
     "text": [
      "classification scaler mean:\n",
      "hotel                            -2.148285e-13\n",
      "lead_time                         3.358325e-16\n",
      "arrival_date_month               -1.221612e-14\n",
      "arrival_date_week_number          4.093983e-15\n",
      "arrival_date_day_of_month        -9.159196e-16\n",
      "stays_in_weekend_nights           3.928971e-14\n",
      "stays_in_week_nights             -2.182022e-14\n",
      "adults                            5.708995e-15\n",
      "children                         -6.989886e-16\n",
      "babies                            5.955017e-15\n",
      "market_segment                    4.484909e-15\n",
      "distribution_channel              2.185129e-14\n",
      "is_repeated_guest                -3.493540e-14\n",
      "previous_cancellations            1.741766e-14\n",
      "previous_bookings_not_canceled   -1.286381e-15\n",
      "reserved_room_type                1.246924e-13\n",
      "assigned_room_type                9.462049e-14\n",
      "booking_changes                  -7.015186e-14\n",
      "deposit_type                      1.754553e-13\n",
      "days_in_waiting_list             -1.846956e-14\n",
      "customer_type                    -2.170149e-14\n",
      "adr                               1.441786e-14\n",
      "required_car_parking_spaces       1.359733e-13\n",
      "total_of_special_requests         1.044865e-13\n",
      "booking_day_of_year               1.311287e-15\n",
      "dtype: float64 \n",
      "\n",
      "classification scaler std:\n",
      "hotel                             1.000004\n",
      "lead_time                         1.000004\n",
      "arrival_date_month                1.000004\n",
      "arrival_date_week_number          1.000004\n",
      "arrival_date_day_of_month         1.000004\n",
      "stays_in_weekend_nights           1.000004\n",
      "stays_in_week_nights              1.000004\n",
      "adults                            1.000004\n",
      "children                          1.000004\n",
      "babies                            1.000004\n",
      "market_segment                    1.000004\n",
      "distribution_channel              1.000004\n",
      "is_repeated_guest                 1.000004\n",
      "previous_cancellations            1.000004\n",
      "previous_bookings_not_canceled    1.000004\n",
      "reserved_room_type                1.000004\n",
      "assigned_room_type                1.000004\n",
      "booking_changes                   1.000004\n",
      "deposit_type                      1.000004\n",
      "days_in_waiting_list              1.000004\n",
      "customer_type                     1.000004\n",
      "adr                               1.000004\n",
      "required_car_parking_spaces       1.000004\n",
      "total_of_special_requests         1.000004\n",
      "booking_day_of_year               1.000004\n",
      "dtype: float64 \n",
      "\n"
     ]
    }
   ],
   "source": [
    "print('classification scaler mean:')\n",
    "print(X_cls_scaled.mean(axis=0),'\\n')\n",
    "print('classification scaler std:')\n",
    "print(X_cls_scaled.std(axis=0),'\\n')"
   ]
  },
  {
   "cell_type": "markdown",
   "metadata": {},
   "source": [
    "Verifying each feature has a mean of zero and the standard deviation should be 1 for regression:"
   ]
  },
  {
   "cell_type": "code",
   "execution_count": 51,
   "metadata": {},
   "outputs": [
    {
     "name": "stdout",
     "output_type": "stream",
     "text": [
      "regression scaler mean:\n",
      "hotel                            -2.148285e-13\n",
      "is_canceled                      -1.376344e-13\n",
      "lead_time                         3.358325e-16\n",
      "arrival_date_month               -1.221612e-14\n",
      "arrival_date_week_number          4.093983e-15\n",
      "arrival_date_day_of_month        -9.159196e-16\n",
      "stays_in_weekend_nights           3.928971e-14\n",
      "stays_in_week_nights             -2.182022e-14\n",
      "adults                            5.708995e-15\n",
      "children                         -6.989886e-16\n",
      "babies                            5.955017e-15\n",
      "market_segment                    4.484909e-15\n",
      "distribution_channel              2.185129e-14\n",
      "is_repeated_guest                -3.493540e-14\n",
      "previous_cancellations            1.741766e-14\n",
      "previous_bookings_not_canceled   -1.286381e-15\n",
      "reserved_room_type                1.246924e-13\n",
      "assigned_room_type                9.462049e-14\n",
      "booking_changes                  -7.015186e-14\n",
      "deposit_type                      1.754553e-13\n",
      "days_in_waiting_list             -1.846956e-14\n",
      "customer_type                    -2.170149e-14\n",
      "required_car_parking_spaces       1.359733e-13\n",
      "total_of_special_requests         1.044865e-13\n",
      "booking_day_of_year               1.311287e-15\n",
      "dtype: float64 \n",
      "\n",
      "regression scaler std:\n",
      "hotel                             1.000004\n",
      "is_canceled                       1.000004\n",
      "lead_time                         1.000004\n",
      "arrival_date_month                1.000004\n",
      "arrival_date_week_number          1.000004\n",
      "arrival_date_day_of_month         1.000004\n",
      "stays_in_weekend_nights           1.000004\n",
      "stays_in_week_nights              1.000004\n",
      "adults                            1.000004\n",
      "children                          1.000004\n",
      "babies                            1.000004\n",
      "market_segment                    1.000004\n",
      "distribution_channel              1.000004\n",
      "is_repeated_guest                 1.000004\n",
      "previous_cancellations            1.000004\n",
      "previous_bookings_not_canceled    1.000004\n",
      "reserved_room_type                1.000004\n",
      "assigned_room_type                1.000004\n",
      "booking_changes                   1.000004\n",
      "deposit_type                      1.000004\n",
      "days_in_waiting_list              1.000004\n",
      "customer_type                     1.000004\n",
      "required_car_parking_spaces       1.000004\n",
      "total_of_special_requests         1.000004\n",
      "booking_day_of_year               1.000004\n",
      "dtype: float64 \n",
      "\n"
     ]
    }
   ],
   "source": [
    "print('regression scaler mean:')\n",
    "print(X_reg_scaled.mean(axis=0),'\\n')\n",
    "print('regression scaler std:')\n",
    "print(X_reg_scaled.std(axis=0),'\\n')"
   ]
  },
  {
   "cell_type": "markdown",
   "metadata": {},
   "source": [
    "##### Feature Selection for Classification"
   ]
  },
  {
   "cell_type": "code",
   "execution_count": 52,
   "metadata": {},
   "outputs": [
    {
     "name": "stdout",
     "output_type": "stream",
     "text": [
      "Highly correlated feature pairs are: [['arrival_date_month', 'arrival_date_week_number'], ['market_segment', 'distribution_channel'], ['reserved_room_type', 'assigned_room_type'], ['arrival_date_month', 'booking_day_of_year'], ['arrival_date_week_number', 'booking_day_of_year']]\n"
     ]
    }
   ],
   "source": [
    "correlated_features = []\n",
    "correlation_matrix = X_cls_scaled.corr()\n",
    "\n",
    "for i in range(len(correlation_matrix.columns)):\n",
    "    for j in range(i):\n",
    "        if abs(correlation_matrix.iloc[i, j]) > 0.7:\n",
    "            colname = correlation_matrix.columns[i]\n",
    "            \n",
    "            correlated_features.append([correlation_matrix.columns[j],colname])\n",
    "            \n",
    "            \n",
    "print('Highly correlated feature pairs are: {}'.format(correlated_features))"
   ]
  },
  {
   "cell_type": "code",
   "execution_count": 54,
   "metadata": {},
   "outputs": [],
   "source": [
    "# Decided to drop the following features from the highly correlated pairs\n",
    "X_cls_scaled=X_cls_scaled.drop(['distribution_channel', 'arrival_date_month','assigned_room_type','booking_day_of_year'], axis=1)"
   ]
  },
  {
   "cell_type": "code",
   "execution_count": 56,
   "metadata": {},
   "outputs": [
    {
     "data": {
      "text/plain": [
       "RFECV(cv=StratifiedKFold(n_splits=3, random_state=None, shuffle=False),\n",
       "      estimator=RandomForestClassifier(random_state=10), scoring='accuracy')"
      ]
     },
     "execution_count": 56,
     "metadata": {},
     "output_type": "execute_result"
    }
   ],
   "source": [
    "# Using randomforest to run RFE\n",
    "\n",
    "from sklearn.ensemble import RandomForestClassifier\n",
    "from sklearn.feature_selection import RFECV\n",
    "from sklearn.model_selection import StratifiedKFold\n",
    "\n",
    "rfc = RandomForestClassifier(random_state=10)\n",
    "rfecv = RFECV(estimator=rfc, step=1, cv=StratifiedKFold(3), scoring='accuracy')\n",
    "rfecv.fit(X_cls_scaled, y_cls)"
   ]
  },
  {
   "cell_type": "code",
   "execution_count": 57,
   "metadata": {},
   "outputs": [
    {
     "name": "stdout",
     "output_type": "stream",
     "text": [
      "Optimal number of features: 13\n"
     ]
    }
   ],
   "source": [
    "print('Optimal number of features: {}'.format(rfecv.n_features_))"
   ]
  },
  {
   "cell_type": "code",
   "execution_count": 58,
   "metadata": {},
   "outputs": [
    {
     "data": {
      "image/png": "[encoded data removed]",
      "text/plain": [
       "<Figure size 720x360 with 1 Axes>"
      ]
     },
     "metadata": {
      "needs_background": "light"
     },
     "output_type": "display_data"
    }
   ],
   "source": [
    "# Plotting RFE result\n",
    "\n",
    "import matplotlib.pyplot as plt\n",
    "\n",
    "plt.figure(figsize=(10, 5))\n",
    "plt.title('RFE with Cross Validation', fontsize=18, fontweight='bold', pad=20)\n",
    "plt.xlabel('Number of features selected', fontsize=14, labelpad=20)\n",
    "plt.ylabel('% Correct Classification', fontsize=14, labelpad=20)\n",
    "plt.plot(range(1, len(rfecv.grid_scores_) + 1), rfecv.grid_scores_, color='#303F9F', linewidth=2)\n",
    "\n",
    "plt.show()"
   ]
  },
  {
   "cell_type": "code",
   "execution_count": 59,
   "metadata": {},
   "outputs": [
    {
     "name": "stdout",
     "output_type": "stream",
     "text": [
      "Index(['lead_time', 'arrival_date_week_number', 'arrival_date_day_of_month',\n",
      "       'stays_in_weekend_nights', 'stays_in_week_nights', 'market_segment',\n",
      "       'previous_cancellations', 'reserved_room_type', 'booking_changes',\n",
      "       'deposit_type', 'customer_type', 'adr', 'total_of_special_requests'],\n",
      "      dtype='object')\n"
     ]
    }
   ],
   "source": [
    "# Identifying which feature is Selected(= identified as True)\n",
    "\n",
    "print(X_cls_scaled.columns[np.where(rfecv.support_ == True)[0]])"
   ]
  },
  {
   "cell_type": "code",
   "execution_count": 60,
   "metadata": {},
   "outputs": [],
   "source": [
    "# Dropping those features that are identified as not important\n",
    "X_cls_sel=X_cls_scaled[X_cls_scaled.columns[np.where(rfecv.support_ == True)[0]]]"
   ]
  },
  {
   "cell_type": "code",
   "execution_count": 61,
   "metadata": {},
   "outputs": [
    {
     "data": {
      "image/png": "[encoded data removed]",
      "text/plain": [
       "<Figure size 576x576 with 1 Axes>"
      ]
     },
     "metadata": {
      "needs_background": "light"
     },
     "output_type": "display_data"
    }
   ],
   "source": [
    "# Plotting features in the order of importance \n",
    "\n",
    "dset = pd.DataFrame()\n",
    "dset['attr'] = X_cls_sel.columns\n",
    "dset['importance'] = rfecv.estimator_.feature_importances_\n",
    "\n",
    "dset = dset.sort_values(by='importance', ascending=True)\n",
    "\n",
    "\n",
    "plt.figure(figsize=(8, 8))\n",
    "plt.barh(y=dset['attr'], width=dset['importance'], color='#1976D2')\n",
    "plt.title('RFECV - Feature Importances', fontsize=20, fontweight='bold', pad=20)\n",
    "plt.xlabel('Importance', fontsize=14, labelpad=20)\n",
    "plt.show()"
   ]
  },
  {
   "cell_type": "markdown",
   "metadata": {},
   "source": [
    "##### Feature Selection for Regression"
   ]
  },
  {
   "cell_type": "code",
   "execution_count": 62,
   "metadata": {},
   "outputs": [
    {
     "name": "stdout",
     "output_type": "stream",
     "text": [
      "Highly correlated feature pairs are: [['arrival_date_month', 'arrival_date_week_number'], ['market_segment', 'distribution_channel'], ['reserved_room_type', 'assigned_room_type'], ['arrival_date_month', 'booking_day_of_year'], ['arrival_date_week_number', 'booking_day_of_year']]\n"
     ]
    }
   ],
   "source": [
    "correlated_features = []\n",
    "correlation_matrix = X_reg_scaled.corr()\n",
    "\n",
    "for i in range(len(correlation_matrix.columns)):\n",
    "    for j in range(i):\n",
    "        if abs(correlation_matrix.iloc[i, j]) > 0.7:\n",
    "            colname = correlation_matrix.columns[i]\n",
    "            \n",
    "            correlated_features.append([correlation_matrix.columns[j],colname])\n",
    "            \n",
    "            \n",
    "print('Highly correlated feature pairs are: {}'.format(correlated_features))"
   ]
  },
  {
   "cell_type": "code",
   "execution_count": 64,
   "metadata": {},
   "outputs": [],
   "source": [
    "X_reg_scaled=X_reg_scaled.drop(['distribution_channel', 'arrival_date_month','assigned_room_type','booking_day_of_year'], axis=1)"
   ]
  },
  {
   "cell_type": "code",
   "execution_count": 65,
   "metadata": {},
   "outputs": [
    {
     "data": {
      "text/plain": [
       "RFECV(cv=ShuffleSplit(n_splits=5, random_state=10, test_size=0.2, train_size=None),\n",
       "      estimator=RandomForestRegressor(random_state=10), scoring='r2')"
      ]
     },
     "execution_count": 65,
     "metadata": {},
     "output_type": "execute_result"
    }
   ],
   "source": [
    "# Using randomforest to run RFE\n",
    "\n",
    "from sklearn import linear_model\n",
    "from sklearn.feature_selection import RFECV\n",
    "from sklearn.model_selection import StratifiedKFold \n",
    "from sklearn.model_selection import ShuffleSplit \n",
    "from sklearn.ensemble import RandomForestRegressor\n",
    "\n",
    "# rfc = linear_model.Lasso(alpha=0.1, random_state=10)\n",
    "rfc = RandomForestRegressor(random_state=10)\n",
    "# rfecv = RFECV(estimator=rfc, step=1, cv=StratifiedKFold(3), scoring='r2')\n",
    "\n",
    "rfecv = RFECV(estimator=rfc, step=1, cv=ShuffleSplit(n_splits=5, test_size=0.20, random_state=10), scoring='r2')\n",
    "\n",
    "rfecv.fit(X_reg_scaled, y_reg)"
   ]
  },
  {
   "cell_type": "code",
   "execution_count": 66,
   "metadata": {},
   "outputs": [
    {
     "name": "stdout",
     "output_type": "stream",
     "text": [
      "Optimal number of features: 19\n"
     ]
    }
   ],
   "source": [
    "print('Optimal number of features: {}'.format(rfecv.n_features_))"
   ]
  },
  {
   "cell_type": "code",
   "execution_count": 67,
   "metadata": {},
   "outputs": [
    {
     "data": {
      "image/png": "[encoded data removed]",
      "text/plain": [
       "<Figure size 720x360 with 1 Axes>"
      ]
     },
     "metadata": {
      "needs_background": "light"
     },
     "output_type": "display_data"
    }
   ],
   "source": [
    "# Plotting RFE result\n",
    "\n",
    "import matplotlib.pyplot as plt\n",
    "\n",
    "plt.figure(figsize=(10, 5))\n",
    "plt.title('RFE with Cross Validation', fontsize=18, fontweight='bold', pad=20)\n",
    "plt.xlabel('Number of features selected', fontsize=14, labelpad=20)\n",
    "plt.ylabel('% Correct Classification', fontsize=14, labelpad=20)\n",
    "plt.plot(range(1, len(rfecv.grid_scores_) + 1), rfecv.grid_scores_, color='#303F9F', linewidth=2)\n",
    "\n",
    "plt.show()"
   ]
  },
  {
   "cell_type": "code",
   "execution_count": 68,
   "metadata": {},
   "outputs": [
    {
     "name": "stdout",
     "output_type": "stream",
     "text": [
      "Index(['hotel', 'is_canceled', 'lead_time', 'arrival_date_week_number',\n",
      "       'arrival_date_day_of_month', 'stays_in_weekend_nights',\n",
      "       'stays_in_week_nights', 'adults', 'children', 'market_segment',\n",
      "       'is_repeated_guest', 'previous_cancellations', 'reserved_room_type',\n",
      "       'booking_changes', 'deposit_type', 'days_in_waiting_list',\n",
      "       'customer_type', 'required_car_parking_spaces',\n",
      "       'total_of_special_requests'],\n",
      "      dtype='object')\n"
     ]
    }
   ],
   "source": [
    "# Identifying which feature is Selected(= identified as True)\n",
    "\n",
    "print(X_reg_scaled.columns[np.where(rfecv.support_ == True)[0]])"
   ]
  },
  {
   "cell_type": "code",
   "execution_count": 69,
   "metadata": {},
   "outputs": [],
   "source": [
    "# Dropping those features that are identified as not important\n",
    "X_reg_sel=X_reg_scaled[X_reg_scaled.columns[np.where(rfecv.support_ == True)[0]]]"
   ]
  },
  {
   "cell_type": "code",
   "execution_count": 70,
   "metadata": {},
   "outputs": [
    {
     "data": {
      "image/png": "[encoded data removed]",
      "text/plain": [
       "<Figure size 576x576 with 1 Axes>"
      ]
     },
     "metadata": {
      "needs_background": "light"
     },
     "output_type": "display_data"
    }
   ],
   "source": [
    "# Plotting features in the order of importance \n",
    "\n",
    "dset = pd.DataFrame()\n",
    "dset['attr'] = X_reg_sel.columns\n",
    "dset['importance'] = rfecv.estimator_.feature_importances_\n",
    "\n",
    "dset = dset.sort_values(by='importance', ascending=True)\n",
    "\n",
    "\n",
    "plt.figure(figsize=(8, 8))\n",
    "plt.barh(y=dset['attr'], width=dset['importance'], color='#1976D2')\n",
    "plt.title('RFECV - Feature Importances', fontsize=20, fontweight='bold', pad=20)\n",
    "plt.xlabel('Importance', fontsize=14, labelpad=20)\n",
    "plt.show()"
   ]
  },
  {
   "cell_type": "markdown",
   "metadata": {},
   "source": [
    "### Part 2"
   ]
  },
  {
   "cell_type": "markdown",
   "metadata": {},
   "source": [
    "*Describe the final dataset that is used for classification/regression (include a description of any newly formed variables you created).*"
   ]
  },
  {
   "cell_type": "markdown",
   "metadata": {},
   "source": [
    "##### Dataset for Classification"
   ]
  },
  {
   "cell_type": "markdown",
   "metadata": {},
   "source": [
    "    For Classification, we ran RFECV with Random forest and extract ... features: ..."
   ]
  },
  {
   "cell_type": "markdown",
   "metadata": {},
   "source": [
    "##### Dataset for Regression"
   ]
  },
  {
   "cell_type": "markdown",
   "metadata": {},
   "source": [
    "    For Regression, we ran RFECV with Random Regressor and extract ... features: ..."
   ]
  },
  {
   "cell_type": "markdown",
   "metadata": {},
   "source": [
    "# Modeling and Evaluation <a id='model-and-evaluation'/>"
   ]
  },
  {
   "cell_type": "markdown",
   "metadata": {},
   "source": [
    "### Part 1: Evaluation Metrics"
   ]
  },
  {
   "cell_type": "markdown",
   "metadata": {},
   "source": [
    "*Choose and explain your evaluation metrics that you will use (i.e., accuracy, precision, recall, F-measure, or any metric we have discussed). Why are the measure(s) appropriate for analyzing the results of your modeling? Give a detailed explanation backing up any assertions.*"
   ]
  },
  {
   "cell_type": "markdown",
   "metadata": {},
   "source": [
    "    For classification model we use ... because ..."
   ]
  },
  {
   "cell_type": "markdown",
   "metadata": {},
   "source": [
    "    For regression model we use ... because ..."
   ]
  },
  {
   "cell_type": "markdown",
   "metadata": {},
   "source": [
    "### Part 2: Train and Test Splits"
   ]
  },
  {
   "cell_type": "markdown",
   "metadata": {},
   "source": [
    "*Choose the method you will use for dividing your data into training and testing splits (i.e., are you using Stratified 10-fold cross validation? Why?). Explain why your chosen method is appropriate or use more than one method as appropriate. For example, if you are using time series data then you should be using continuous training and testing sets across time.*"
   ]
  },
  {
   "cell_type": "code",
   "execution_count": 71,
   "metadata": {},
   "outputs": [],
   "source": [
    "from sklearn.model_selection import ShuffleSplit\n",
    "\n",
    "# Using cross validation, test/train split 80:20\n",
    "num_cv_iterations = 3\n",
    "num_instances = len(y_cls)\n",
    "cv_object = ShuffleSplit(n_splits=num_cv_iterations,test_size= 0.2, random_state=10) "
   ]
  },
  {
   "cell_type": "markdown",
   "metadata": {},
   "source": [
    "    We use training and testing splits with ... because ..."
   ]
  },
  {
   "cell_type": "markdown",
   "metadata": {},
   "source": [
    "### Part 3.a: Models for Classification"
   ]
  },
  {
   "cell_type": "markdown",
   "metadata": {},
   "source": [
    "*Create three different classification/regression models for each task (e.g., random forest, KNN, and SVM for task one and the same or different algorithms for task two). Two modeling techniques must be new (but the third could be SVM or logistic regression). Adjust parameters as appropriate to increase generalization performance using your chosen metric. You must investigate different parameters of the algorithms!*"
   ]
  },
  {
   "cell_type": "markdown",
   "metadata": {},
   "source": [
    "##### KNN"
   ]
  },
  {
   "cell_type": "code",
   "execution_count": 72,
   "metadata": {},
   "outputs": [
    {
     "name": "stdout",
     "output_type": "stream",
     "text": [
      "KNN accuracy 0.7172962559678365\n"
     ]
    }
   ],
   "source": [
    "from sklearn.model_selection import StratifiedShuffleSplit \n",
    "from sklearn.model_selection import train_test_split\n",
    "from sklearn import metrics as mt\n",
    "\n",
    "from sklearn.linear_model import LogisticRegression\n",
    "from sklearn import metrics as mt\n",
    "from sklearn.model_selection import cross_val_score\n",
    "from sklearn.neighbors import KNeighborsClassifier\n",
    "\n",
    "\n",
    "\n",
    "clf = KNeighborsClassifier(n_neighbors=3)\n",
    "\n",
    "yhat = np.zeros(y_cls.shape) # we will fill this with predictions\n",
    "\n",
    "for train_indices, test_indices in cv_object.split(X_cls_sel,y_cls): \n",
    "    X_train = X_cls_sel.iloc[train_indices]\n",
    "    y_train = y_cls.iloc[train_indices]\n",
    "    \n",
    "    X_test = X_cls_sel.iloc[test_indices]\n",
    "    y_test = y_cls.iloc[test_indices]\n",
    "    clf.fit(X_train,y_train)\n",
    "    yhat[test_indices] = clf.predict(X_test)\n",
    "\n",
    "total_accuracy = mt.accuracy_score(y_cls, yhat)\n",
    "print ('KNN accuracy', total_accuracy)"
   ]
  },
  {
   "cell_type": "markdown",
   "metadata": {},
   "source": [
    "##### Random Forest"
   ]
  },
  {
   "cell_type": "code",
   "execution_count": 73,
   "metadata": {},
   "outputs": [],
   "source": [
    "def per_class_accuracy(ytrue,yhat):\n",
    "    conf = mt.confusion_matrix(ytrue,yhat)\n",
    "    norm_conf = conf.astype('float') / conf.sum(axis=1)[:, np.newaxis]\n",
    "    return np.diag(norm_conf)\n",
    "\n",
    "def plot_class_acc(ytrue,yhat, title=''):\n",
    "    acc_list = per_class_accuracy(ytrue,yhat)\n",
    "    plt.bar(range(len(acc_list)), acc_list)\n",
    "    plt.xlabel('Class value (one per face)')\n",
    "    plt.ylabel('Accuracy within class')\n",
    "    plt.title(title+\", Total Acc=%.1f\"%(100*mt.accuracy_score(ytrue,yhat)))\n",
    "    plt.grid()\n",
    "    plt.ylim([0,1])\n",
    "    plt.show()"
   ]
  },
  {
   "cell_type": "code",
   "execution_count": 74,
   "metadata": {},
   "outputs": [
    {
     "name": "stdout",
     "output_type": "stream",
     "text": [
      "Accuracy 0.7412178574419969\n"
     ]
    },
    {
     "data": {
      "image/png": "[encoded data removed]",
      "text/plain": [
       "<Figure size 432x288 with 1 Axes>"
      ]
     },
     "metadata": {
      "needs_background": "light"
     },
     "output_type": "display_data"
    }
   ],
   "source": [
    "from sklearn.ensemble import RandomForestClassifier\n",
    "\n",
    "clf = RandomForestClassifier(max_depth=50, n_estimators=150, n_jobs=-1, oob_score=True)\n",
    "\n",
    "yhat = np.zeros(y_cls.shape) # we will fill this with predictions\n",
    "\n",
    "# now iterate through and get predictions, saved to the correct row in yhat\n",
    "for train_indices, test_indices in cv_object.split(X_cls_sel,y_cls): \n",
    "    X_train = X_cls_sel.iloc[train_indices]\n",
    "    y_train = y_cls.iloc[train_indices]\n",
    "    \n",
    "    X_test = X_cls_sel.iloc[test_indices]\n",
    "    y_test = y_cls.iloc[test_indices]\n",
    "    clf.fit(X_train,y_train)\n",
    "    yhat[test_indices] = clf.predict(X_test)\n",
    "    \n",
    "total_accuracy = mt.accuracy_score(y_cls, yhat)\n",
    "print ('Accuracy', total_accuracy)\n",
    "plot_class_acc(y_cls,yhat,title=\"Random Forest, Raw\")"
   ]
  },
  {
   "cell_type": "markdown",
   "metadata": {},
   "source": [
    "##### Logistic Regression"
   ]
  },
  {
   "cell_type": "code",
   "execution_count": 75,
   "metadata": {},
   "outputs": [
    {
     "name": "stdout",
     "output_type": "stream",
     "text": [
      "Training set score: 0.787\n",
      "Test set score: 0.787\n",
      "Optimization terminated successfully.\n",
      "         Current function value: 0.483765\n",
      "         Iterations 7\n",
      "                           Logit Regression Results                           \n",
      "==============================================================================\n",
      "Dep. Variable:            is_canceled   No. Observations:               119390\n",
      "Model:                          Logit   Df Residuals:                   119377\n",
      "Method:                           MLE   Df Model:                           12\n",
      "Date:                Tue, 09 Mar 2021   Pseudo R-squ.:                  0.2661\n",
      "Time:                        20:29:28   Log-Likelihood:                -57757.\n",
      "converged:                       True   LL-Null:                       -78699.\n",
      "Covariance Type:            nonrobust   LLR p-value:                     0.000\n",
      "=============================================================================================\n",
      "                                coef    std err          z      P>|z|      [0.025      0.975]\n",
      "---------------------------------------------------------------------------------------------\n",
      "lead_time                     0.3517      0.009     41.059      0.000       0.335       0.369\n",
      "arrival_date_week_number     -0.0452      0.008     -5.934      0.000      -0.060      -0.030\n",
      "arrival_date_day_of_month    -0.0031      0.007     -0.424      0.672      -0.017       0.011\n",
      "stays_in_weekend_nights       0.0386      0.008      4.678      0.000       0.022       0.055\n",
      "stays_in_week_nights          0.0615      0.008      7.420      0.000       0.045       0.078\n",
      "market_segment                0.5167      0.009     55.856      0.000       0.499       0.535\n",
      "previous_cancellations        1.4997      0.035     42.331      0.000       1.430       1.569\n",
      "reserved_room_type           -0.0125      0.008     -1.602      0.109      -0.028       0.003\n",
      "booking_changes              -0.2700      0.009    -28.613      0.000      -0.288      -0.251\n",
      "deposit_type                  2.1473      0.020    105.994      0.000       2.108       2.187\n",
      "customer_type                -0.0375      0.008     -4.907      0.000      -0.052      -0.022\n",
      "adr                           0.2864      0.009     33.500      0.000       0.270       0.303\n",
      "total_of_special_requests    -0.4854      0.008    -59.398      0.000      -0.501      -0.469\n",
      "=============================================================================================\n"
     ]
    }
   ],
   "source": [
    "from sklearn.model_selection import StratifiedShuffleSplit \n",
    "from sklearn.model_selection import train_test_split\n",
    "from sklearn import metrics as mt\n",
    "\n",
    "from sklearn.linear_model import LogisticRegression\n",
    "from sklearn.model_selection import ShuffleSplit\n",
    "from sklearn import metrics as mt\n",
    "from sklearn.model_selection import cross_val_score\n",
    "\n",
    "# Using cross validation, test/train split 80:20\n",
    "num_cv_iterations = 3\n",
    "num_instances = len(y_cls)\n",
    "cv_object = ShuffleSplit(n_splits=num_cv_iterations,test_size= 0.2, random_state=10) \n",
    "\n",
    "for train_indices, test_indices in cv_object.split(X_cls_sel,y_cls): \n",
    "    X_train = X_cls_sel.iloc[train_indices]\n",
    "    y_train = y_cls.iloc[train_indices]\n",
    "    \n",
    "    X_test = X_cls_sel.iloc[test_indices]\n",
    "    y_test = y_cls.iloc[test_indices]\n",
    "    \n",
    "logreg = LogisticRegression(random_state=10).fit(X_train,y_train)\n",
    "logreg\n",
    "\n",
    "print(\"Training set score: {:.3f}\".format(logreg.score(X_train,y_train)))\n",
    "print(\"Test set score: {:.3f}\".format(logreg.score(X_test,y_test)))\n",
    "\n",
    "import statsmodels.api as sm\n",
    "logit_model=sm.Logit(y_cls,X_cls_sel)\n",
    "result=logit_model.fit()\n",
    "print(result.summary())"
   ]
  },
  {
   "cell_type": "markdown",
   "metadata": {},
   "source": [
    "##### Decision Tree"
   ]
  },
  {
   "cell_type": "code",
   "execution_count": null,
   "metadata": {},
   "outputs": [],
   "source": []
  },
  {
   "cell_type": "markdown",
   "metadata": {},
   "source": [
    "##### Naive Bayes"
   ]
  },
  {
   "cell_type": "code",
   "execution_count": null,
   "metadata": {},
   "outputs": [],
   "source": []
  },
  {
   "cell_type": "markdown",
   "metadata": {},
   "source": [
    "### Part 3.b: Models for Regression"
   ]
  },
  {
   "cell_type": "code",
   "execution_count": 76,
   "metadata": {},
   "outputs": [],
   "source": [
    "from sklearn.model_selection import cross_validate\n",
    "\n",
    "def EvaluateRegressionEstimator(regEstimator, X, y, cv):\n",
    "    \n",
    "    scores = cross_validate(regEstimator, X, y, scoring=errorScoring, cv=cv, return_train_score=True)\n",
    "\n",
    "    #cross val score sign-flips the outputs of MAE\n",
    "    # https://github.com/scikit-learn/scikit-learn/issues/2439\n",
    "    scores['test_MAE'] = scores['test_MAE'] * -1\n",
    "    scores['test_MAPE'] = scores['test_MAPE'] * -1\n",
    "    scores['test_RMSE'] = scores['test_RMSE'] * -1\n",
    "\n",
    "    #print mean MAE for all folds \n",
    "    maeAvg = scores['test_MAE'].mean()\n",
    "    print_str = \"The average MAE for all cv folds is: \\t\\t\\t {maeAvg:.5}\"\n",
    "    print(print_str.format(maeAvg=maeAvg))\n",
    "\n",
    "    #print mean test_MAPE for all folds\n",
    "    scores['test_MAPE'] = scores['test_MAPE']\n",
    "    mape_avg = scores['test_MAPE'].mean()\n",
    "    print_str = \"The average MAE percentage (MAPE) for all cv folds is: \\t {mape_avg:.5}\"\n",
    "    print(print_str.format(mape_avg=mape_avg))\n",
    "\n",
    "    #print mean MAE for all folds \n",
    "    RMSEavg = scores['test_RMSE'].mean()\n",
    "    print_str = \"The average RMSE for all cv folds is: \\t\\t\\t {RMSEavg:.5}\"\n",
    "    print(print_str.format(RMSEavg=RMSEavg))\n",
    "    print('*********************************************************')\n",
    "\n",
    "    print('Cross Validation Fold Mean Error Scores')\n",
    "    scoresResults = pd.DataFrame()\n",
    "    scoresResults['MAE'] = scores['test_MAE']\n",
    "    scoresResults['MAPE'] = scores['test_MAPE']\n",
    "    scoresResults['RMSE'] = scores['test_RMSE']\n",
    "    return scoresResults"
   ]
  },
  {
   "cell_type": "code",
   "execution_count": 77,
   "metadata": {},
   "outputs": [],
   "source": [
    "\n",
    "#Use mean absolute error (MAE) to score the regression models created \n",
    "#(the scale of MAE is identical to the response variable)\n",
    "from sklearn.metrics import mean_absolute_error, make_scorer, mean_squared_error\n",
    "\n",
    "#Function for Root mean squared error\n",
    "#https://stackoverflow.com/questions/17197492/root-mean-square-error-in-python\n",
    "def rmse(y_actual, y_predicted):\n",
    "    return np.sqrt(mean_squared_error(y_actual, y_predicted))\n",
    "\n",
    "#Function for Mean Absolute Percentage Error (MAPE) - Untested\n",
    "#Adapted from - https://stackoverflow.com/questions/42250958/how-to-optimize-mape-code-in-python\n",
    "def mape(y_actual, y_predicted): \n",
    "    mask = y_actual != 0\n",
    "    return (np.fabs(y_actual - y_predicted)/y_actual)[mask].mean() * 100\n",
    "\n",
    "#Create scorers for rmse and mape functions\n",
    "mae_scorer = make_scorer(score_func=mean_absolute_error, greater_is_better=False)\n",
    "rmse_scorer = make_scorer(score_func=rmse, greater_is_better=False)\n",
    "mape_scorer = make_scorer(score_func=mape, greater_is_better=False)\n",
    "\n",
    "#Make scorer array to pass into cross_validate() function for producing mutiple scores for each cv fold.\n",
    "errorScoring = {'MAE':  mae_scorer, \n",
    "                'RMSE': rmse_scorer,\n",
    "                'MAPE': mape_scorer\n",
    "               }"
   ]
  },
  {
   "cell_type": "markdown",
   "metadata": {},
   "source": [
    "##### Support Vector Regression"
   ]
  },
  {
   "cell_type": "code",
   "execution_count": null,
   "metadata": {},
   "outputs": [
    {
     "name": "stdout",
     "output_type": "stream",
     "text": [
      "Fitting 3 folds for each of 8 candidates, totalling 24 fits\n"
     ]
    },
    {
     "name": "stderr",
     "output_type": "stream",
     "text": [
      "[Parallel(n_jobs=8)]: Using backend LokyBackend with 8 concurrent workers.\n"
     ]
    }
   ],
   "source": [
    "#Create a Linear regression object and perform a grid search to find the best parameters\n",
    "from sklearn.svm import SVR\n",
    "reg = SVR()\n",
    "\n",
    "#Set up SVR parameters to test (WARNING: Creates 80 models!!!) \n",
    "costs = [0.001, 0.1]\n",
    "defGamma = 1 / X_reg_sel.shape[1]  #This is the default value for the gamma parameter\n",
    "gammas = [defGamma, 0.1]\n",
    "kernels = ['rbf','linear']\n",
    "parameters = {'C': costs, 'gamma' : gammas, 'kernel': kernels}\n",
    "\n",
    "#Create a grid search object using the parameters above\n",
    "from sklearn.model_selection import GridSearchCV\n",
    "regGridSearch = GridSearchCV(estimator=reg\n",
    "                   , n_jobs=8 # jobs to run in parallel\n",
    "                   , verbose=1 # low verbosity\n",
    "                   , param_grid=parameters\n",
    "                   , cv=cv_object # KFolds = 10\n",
    "                   , scoring=mae_scorer)\n",
    "\n",
    "#Perform hyperparameter search to find the best combination of parameters for our data\n",
    "regGridSearch.fit(X_reg_sel, y_reg)"
   ]
  },
  {
   "cell_type": "code",
   "execution_count": null,
   "metadata": {},
   "outputs": [],
   "source": [
    "\n",
    "#Display the best estimator parameters\n",
    "regGridSearch.best_estimator_"
   ]
  },
  {
   "cell_type": "code",
   "execution_count": null,
   "metadata": {},
   "outputs": [],
   "source": [
    "\n",
    "from sklearn.svm import SVR\n",
    "\n",
    "#Create a regression estimator with best parameters for cross validation\n",
    "regEstimator = SVR(C=0.001, cache_size=200, coef0=0.0, degree=3, epsilon=0.1,\n",
    "                   gamma=0.0016313213703099511, kernel='rbf', max_iter=-1, shrinking=True,\n",
    "                   tol=0.001, verbose=False)\n",
    "\n",
    "#Evaluate the regression estimator above using our pre-defined cross validation and scoring metrics.\n",
    "EvaluateRegressionEstimator(regEstimator, X_reg_sel, y_reg, cv_object)"
   ]
  },
  {
   "cell_type": "markdown",
   "metadata": {},
   "source": [
    "##### Linear"
   ]
  },
  {
   "cell_type": "code",
   "execution_count": null,
   "metadata": {},
   "outputs": [],
   "source": [
    "#Make new estimator compatible for use with GridSearchCV() and cross_validate()\n",
    "# -  Cap predict function for LinearRegression between 0 and 100\n",
    "# -  See: Roll your own estimator links above for details. \n",
    "from sklearn.base import BaseEstimator, RegressorMixin\n",
    "from sklearn.linear_model import LinearRegression\n",
    "from sklearn.metrics import mean_absolute_error, make_scorer, mean_squared_error\n",
    "\n",
    "class CappedLinearRegression(LinearRegression):\n",
    "\n",
    "    def predict(self, X):\n",
    "        return np.clip(super(CappedLinearRegression, self).predict(X), 0, 100)"
   ]
  },
  {
   "cell_type": "code",
   "execution_count": null,
   "metadata": {},
   "outputs": [],
   "source": [
    "\n",
    "#Create a Linear Regression object and perform a grid search to find the best parameters\n",
    "linreg = CappedLinearRegression()\n",
    "parameters = {'normalize':(True,False), 'fit_intercept':(True,False)}\n",
    "\n",
    "#Create a grid search object using the  \n",
    "from sklearn.model_selection import GridSearchCV\n",
    "regGridSearch = GridSearchCV(estimator=linreg\n",
    "                   , verbose=1 # low verbosity\n",
    "                   , param_grid=parameters\n",
    "                   , cv=cv_object # KFolds = 10\n",
    "                   , scoring=mae_scorer)\n",
    "\n",
    "#Perform hyperparameter search to find the best combination of parameters for our data\n",
    "regGridSearch.fit(X_reg_sel, y_reg)"
   ]
  },
  {
   "cell_type": "code",
   "execution_count": null,
   "metadata": {},
   "outputs": [],
   "source": [
    "#Print the parameterization of the best estimator\n",
    "regGridSearch.best_estimator_"
   ]
  },
  {
   "cell_type": "code",
   "execution_count": null,
   "metadata": {},
   "outputs": [],
   "source": [
    "#Create CappedLinearRegression predictions between 0 and 100% using the best parameters for our Linear Regression object\n",
    "regEstimator = regGridSearch.best_estimator_\n",
    "\n",
    "#Evaluate the regression estimator above using our pre-defined cross validation and scoring metrics. \n",
    "EvaluateRegressionEstimator(regEstimator, X_reg_sel, y_reg, cv_object)"
   ]
  },
  {
   "cell_type": "markdown",
   "metadata": {},
   "source": [
    "##### Lasso"
   ]
  },
  {
   "cell_type": "code",
   "execution_count": null,
   "metadata": {},
   "outputs": [],
   "source": [
    "#Create a regression object and perform a grid search to find the best parameters\n",
    "from sklearn.linear_model import Lasso\n",
    "\n",
    "reg = Lasso(fit_intercept=True, normalize=True,copy_X=True\n",
    "          , max_iter=10000, precompute=True, tol=0.0001, random_state=0)\n",
    "\n",
    "#Test parameters \n",
    "alpha = [0.001, 0.1, 1, 10, 20]\n",
    "selection = ['cyclic','random']\n",
    "warm_start = [True, False]\n",
    "parameters = {'alpha': alpha, 'selection': selection, 'warm_start': warm_start}\n",
    "\n",
    "#Create a grid search object using the parameters above\n",
    "from sklearn.model_selection import GridSearchCV\n",
    "regGridSearch = GridSearchCV(estimator=reg\n",
    "                   , n_jobs=8 # jobs to run in parallel\n",
    "                   , verbose=1 # low verbosity\n",
    "                   , param_grid=parameters\n",
    "                   , cv=cv_object # KFolds = 10\n",
    "                   , scoring=mae_scorer)\n",
    "\n",
    "#Perform hyperparameter search to find the best combination of parameters for our data\n",
    "regGridSearch.fit(X_reg_sel, y_reg)"
   ]
  },
  {
   "cell_type": "code",
   "execution_count": null,
   "metadata": {},
   "outputs": [],
   "source": [
    "#Display the best estimator parameters\n",
    "regGridSearch.best_estimator_"
   ]
  },
  {
   "cell_type": "code",
   "execution_count": null,
   "metadata": {},
   "outputs": [],
   "source": [
    "from sklearn.linear_model import Lasso\n",
    "\n",
    "#Create a regression estimator with best parameters for cross validation\n",
    "regEstimator = Lasso(alpha=0.1, copy_X=True, fit_intercept=True, max_iter=10000,\n",
    "                     normalize=True, positive=False, precompute=True, random_state=0,\n",
    "                     selection='cyclic', tol=0.0001, warm_start=True)\n",
    "\n",
    "#Evaluate the regression estimator above using our pre-defined cross validation and scoring metrics.\n",
    "EvaluateRegressionEstimator(regEstimator, X_reg_sel, y_reg, cv_object)"
   ]
  },
  {
   "cell_type": "markdown",
   "metadata": {},
   "source": [
    "##### KNN Regression"
   ]
  },
  {
   "cell_type": "code",
   "execution_count": null,
   "metadata": {},
   "outputs": [],
   "source": []
  },
  {
   "cell_type": "markdown",
   "metadata": {},
   "source": [
    "### Part 4: Model Analysis with Visualizations"
   ]
  },
  {
   "cell_type": "markdown",
   "metadata": {},
   "source": [
    "*Analyze the results using your chosen method of evaluation. Use visualizations of the results to bolster the analysis. Explain any visuals and analyze why they are interesting to someone that might use this model.*"
   ]
  },
  {
   "cell_type": "markdown",
   "metadata": {},
   "source": [
    "### Part 5: Model Comparison "
   ]
  },
  {
   "cell_type": "markdown",
   "metadata": {},
   "source": [
    "*Discuss the advantages of each model for each classification task, if any. If there are not advantages, explain why. Is any model better than another? Is the difference significant with 95% confidence? Use proper statistical comparison methods. You must use statistical comparison techniques—be sure they are appropriate for your chosen method of validation as discussed in unit 7 of the course.*"
   ]
  },
  {
   "cell_type": "markdown",
   "metadata": {},
   "source": [
    "### Part 6: Feature Importance"
   ]
  },
  {
   "cell_type": "markdown",
   "metadata": {},
   "source": [
    "*Which attributes from your analysis are most important? Use proper methods discussed in class to evaluate the importance of different attributes. Discuss the results and hypothesize about why certain attributes are more important than others for a given classification task.*"
   ]
  },
  {
   "cell_type": "markdown",
   "metadata": {},
   "source": [
    "# Deployment <a id='deployment'/>"
   ]
  },
  {
   "cell_type": "markdown",
   "metadata": {},
   "source": [
    "*How useful is your model for interested parties (i.e., the companies or organizations that might want to use it for prediction)? How would you measure the model's value if it was used by these parties? How would your deploy your model for interested parties? What other data should be collected? How often would the model need to be updated, etc.?*"
   ]
  },
  {
   "cell_type": "markdown",
   "metadata": {},
   "source": [
    "# Exceptional Work <a id='exceptional-work'/>"
   ]
  },
  {
   "cell_type": "markdown",
   "metadata": {},
   "source": [
    "*You have free reign to provide additional analyses. One idea: grid search parameters in a parallelized fashion and visualize the performances across attributes. Which parameters are most significant for making a good model for each classification algorithm?*"
   ]
  },
  {
   "cell_type": "code",
   "execution_count": null,
   "metadata": {},
   "outputs": [],
   "source": []
  }
 ],
 "metadata": {
  "kernelspec": {
   "display_name": "Python 3",
   "language": "python",
   "name": "python3"
  },
  "language_info": {
   "codemirror_mode": {
    "name": "ipython",
    "version": 3
   },
   "file_extension": ".py",
   "mimetype": "text/x-python",
   "name": "python",
   "nbconvert_exporter": "python",
   "pygments_lexer": "ipython3",
   "version": "3.8.5"
  }
 },
 "nbformat": 4,
 "nbformat_minor": 4
}
