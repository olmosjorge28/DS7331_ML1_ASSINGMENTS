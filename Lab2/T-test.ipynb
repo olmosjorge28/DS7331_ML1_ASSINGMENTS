{
 "cells": [
  {
   "cell_type": "markdown",
   "metadata": {},
   "source": [
    "# Lab 2"
   ]
  },
  {
   "cell_type": "markdown",
   "metadata": {},
   "source": [
    "#### Statistical approach (using mlxtend), alpha = 0.05\n",
    "Using the mlxtend package, we delved into the statistical significance in performance difference among different pairs of regression models. From the results below, __XXX__ performed significantly better than the rest of the regression models discussed above (Linear, Lasso, Support Vector Regression, KNN Regression). "
   ]
  },
  {
   "cell_type": "markdown",
   "metadata": {},
   "source": [
    "##### Linear vs Lasso\n",
    "- Since p(X.XXX) < a (0.05), we __XXX__ the null hypothesis that both algorithms perform equally well on the dataset. Thus we find the performance difference between the two models to be __XXX__. "
   ]
  },
  {
   "cell_type": "code",
   "execution_count": null,
   "metadata": {},
   "outputs": [],
   "source": [
    "from mlxtend.evaluate import paired_ttest_5x2cv\n",
    "    \n",
    "t, p = paired_ttest_5x2cv(estimator1=linearReg,\n",
    "                          estimator2=lassoReg,\n",
    "                          X=X_reg_test, y=y_reg_test,\n",
    "                          random_seed=10)\n",
    "\n",
    "print('t statistic: %.3f' % t)\n",
    "print('p value: %.3f' % p)"
   ]
  },
  {
   "cell_type": "markdown",
   "metadata": {},
   "source": [
    "##### Linear vs SVR\n",
    "- Since p(X.XXX) < a (0.05), we __XXX__ the null hypothesis that both algorithms perform equally well on the dataset. Thus we find the performance difference between the two models to be __XXX__. "
   ]
  },
  {
   "cell_type": "code",
   "execution_count": null,
   "metadata": {},
   "outputs": [],
   "source": [
    "from mlxtend.evaluate import paired_ttest_5x2cv\n",
    "    \n",
    "t, p = paired_ttest_5x2cv(estimator1=linearReg,\n",
    "                          estimator2=svr,\n",
    "                          X=X_reg_test, y=y_reg_test,\n",
    "                          random_seed=10)\n",
    "\n",
    "print('t statistic: %.3f' % t)\n",
    "print('p value: %.3f' % p)"
   ]
  },
  {
   "cell_type": "markdown",
   "metadata": {},
   "source": [
    "##### Linear vs KNN\n",
    "- Since p(X.XXX) < a (0.05), we __XXX__ the null hypothesis that both algorithms perform equally well on the dataset. Thus we find the performance difference between the two models to be __XXX__. "
   ]
  },
  {
   "cell_type": "code",
   "execution_count": null,
   "metadata": {},
   "outputs": [],
   "source": [
    "from mlxtend.evaluate import paired_ttest_5x2cv\n",
    "    \n",
    "t, p = paired_ttest_5x2cv(estimator1=linearReg,\n",
    "                          estimator2=gs,\n",
    "                          X=X_reg_test, y=y_reg_test,\n",
    "                          random_seed=10)\n",
    "\n",
    "print('t statistic: %.3f' % t)\n",
    "print('p value: %.3f' % p)"
   ]
  },
  {
   "cell_type": "markdown",
   "metadata": {},
   "source": [
    "##### Lasso vs SVR\n",
    "- Since p(X.XXX) < a (0.05), we __XXX__ the null hypothesis that both algorithms perform equally well on the dataset. Thus we find the performance difference between the two models to be __XXX__. "
   ]
  },
  {
   "cell_type": "code",
   "execution_count": null,
   "metadata": {},
   "outputs": [],
   "source": [
    "from mlxtend.evaluate import paired_ttest_5x2cv\n",
    "    \n",
    "t, p = paired_ttest_5x2cv(estimator1=lassoReg,\n",
    "                          estimator2=svr,\n",
    "                          X=X_reg_test, y=y_reg_test,\n",
    "                          random_seed=10)\n",
    "\n",
    "print('t statistic: %.3f' % t)\n",
    "print('p value: %.3f' % p)"
   ]
  },
  {
   "cell_type": "markdown",
   "metadata": {},
   "source": [
    "##### Lasso vs KNN\n",
    "- Since p(X.XXX) < a (0.05), we __XXX__ the null hypothesis that both algorithms perform equally well on the dataset. Thus we find the performance difference between the two models to be __XXX__. "
   ]
  },
  {
   "cell_type": "code",
   "execution_count": null,
   "metadata": {},
   "outputs": [],
   "source": [
    "from mlxtend.evaluate import paired_ttest_5x2cv\n",
    "    \n",
    "t, p = paired_ttest_5x2cv(estimator1=lassoReg,\n",
    "                          estimator2=gs,\n",
    "                          X=X_reg_test, y=y_reg_test,\n",
    "                          random_seed=10)\n",
    "\n",
    "print('t statistic: %.3f' % t)\n",
    "print('p value: %.3f' % p)"
   ]
  },
  {
   "cell_type": "markdown",
   "metadata": {},
   "source": [
    "##### SVR vs KNN\n",
    "- Since p(X.XXX) < a (0.05), we __XXX__ the null hypothesis that both algorithms perform equally well on the dataset. Thus we find the performance difference between the two models to be __XXX__. "
   ]
  },
  {
   "cell_type": "code",
   "execution_count": null,
   "metadata": {},
   "outputs": [],
   "source": [
    "from mlxtend.evaluate import paired_ttest_5x2cv\n",
    "    \n",
    "t, p = paired_ttest_5x2cv(estimator1=svr,\n",
    "                          estimator2=gs,\n",
    "                          X=X_reg_test, y=y_reg_test,\n",
    "                          random_seed=10)\n",
    "\n",
    "print('t statistic: %.3f' % t)\n",
    "print('p value: %.3f' % p)"
   ]
  },
  {
   "cell_type": "markdown",
   "metadata": {},
   "source": [
    "Logistic Regression vs Random Forest¶\n",
    "fig, (ax1, ax2) = plt.subplots(1,2)\n",
    "fig.subtitle()\n",
    "yhat= knn_fit.best_estimator_.predict(X_clas_test)\n",
    "total_accuracy = mt.accuracy_score(y_clas_test, yhat)\n",
    "print ('Accuracy', total_accuracy)\n",
    "plot_class_acc(y_clas_test,yhat,title=\"Random Forest\")\n",
    "\n",
    "\n",
    "##### Logistic Regression vs KNN\n",
    "\n",
    "Logistic is quick to train in contrast to KNN specially with a large number of features. Logistic is also quick to generate predictions in contrast to KNN which depending on the number of neighbors it has to look at might take a while to generate prediction. Additionally if data has a lot of noice KNN is better for determining the classification\n",
    "\n",
    "##### Logistic Regression vs Decision Tree\n",
    "\n",
    "In Comparison to logistic it takes more time to generate a model using Decision Tree, however just like the logistic model it is quick to generate predictions. \n",
    "\n",
    "##### Logistic Regression vs Naive Bayes\n",
    "\n",
    "Naive Bayes is the faster of the two models as it is a parametric model. Naive Bayes has some poor assumptions that lead to poor performance with data imbalance. \n",
    "er to train.\n",
    "1\n",
    "##### KNN vs Random Forest\n",
    "\n",
    "Both models are expensive to run, but they are both great at handling large number of training examples, however KNN has dificulties with large number of attribures or dimensions whereas Random Forest is can handle large number of dimensions/attributes. For our data both these models performed well, however KNN took significantly longer to train. \n",
    "\n",
    "##### KNN vs Decision Tree\n",
    "\n",
    "Both are non-parametric, however decision tree supports feature interaction. KNN is more expensive for training the model . \n",
    "\n",
    "Bayes\n",
    "\n",
    "##### KNN vs Naive Bayes\n",
    "\n",
    "Naive is non-parametric which means training the model is much quicker. For our use case KNN provided better accuracy and recall compared to Naive Bayes\n",
    "##### Decision Tree vs Random Forest\n",
    "\n",
    "##### Decision Tree vs Random Forest\n",
    "\n",
    "\n",
    "\n",
    "##### Decision Tree vs Naive Bayes\n",
    "##### Random Forest vs Naive Bayes\n",
    "##### Comparing Regression Models"
   ]
  }
 ],
 "metadata": {
  "kernelspec": {
   "display_name": "Python 3",
   "language": "python",
   "name": "python3"
  },
  "language_info": {
   "codemirror_mode": {
    "name": "ipython",
    "version": 3
   },
   "file_extension": ".py",
   "mimetype": "text/x-python",
   "name": "python",
   "nbconvert_exporter": "python",
   "pygments_lexer": "ipython3",
   "version": "3.8.5"
  }
 },
 "nbformat": 4,
 "nbformat_minor": 4
}
