{
 "cells": [
  {
   "cell_type": "markdown",
   "metadata": {},
   "source": [
    "# Lab 2"
   ]
  },
  {
   "cell_type": "markdown",
   "metadata": {},
   "source": [
    "## Exceptional point\n",
    "\n",
    "- In the Modeling and evaluation section above earlier, the __gridsearchCV__ method to explore different parameter options for both classification and regression models is discussed. The following plots show performance across attributes for each model.  \n",
    "- In addition to the required 6 basic models (Random Forest, Logistic Regression,KNN Classification, Linear Regression, Lasso Regression, Support Vector Regression), Naive Bayes, Decision Tree, and  KNN regression are also explored and compared with the rest of the models. \n",
    "- Recursive Feature engineering cross validation(RFECV) was run for each classification and regression model set for having different target feature.  \n"
   ]
  },
  {
   "cell_type": "markdown",
   "metadata": {},
   "source": [
    "### Classification models"
   ]
  },
  {
   "cell_type": "markdown",
   "metadata": {},
   "source": [
    "##### Random Forest\n",
    "- __XXX__ shows the most significance. \n",
    "- __XXX__ shows the least significance. "
   ]
  },
  {
   "cell_type": "code",
   "execution_count": null,
   "metadata": {},
   "outputs": [],
   "source": [
    "import pandas as pd \n",
    "print(rf_clf.coef_)\n",
    "weights = pd.Series(rf_clf.coef_[0],index=X_cls_sel_train.columns)\n",
    "weights.plot(kind='bar')"
   ]
  },
  {
   "cell_type": "markdown",
   "metadata": {},
   "source": [
    "##### KNN\n",
    "- __XXX__ shows the most significance. \n",
    "- __XXX__ shows the least significance. "
   ]
  },
  {
   "cell_type": "code",
   "execution_count": null,
   "metadata": {},
   "outputs": [],
   "source": [
    "print(knn_clf.coef_)\n",
    "weights = pd.Series(knn_clf.coef_[0],index=X_cls_sel_train.columns)\n",
    "weights.plot(kind='bar')"
   ]
  },
  {
   "cell_type": "markdown",
   "metadata": {},
   "source": [
    "##### Decision tree\n",
    "- __XXX__ shows the most significance. \n",
    "- __XXX__ shows the least significance. "
   ]
  },
  {
   "cell_type": "code",
   "execution_count": null,
   "metadata": {},
   "outputs": [],
   "source": [
    "print(dt_clf.coef_)\n",
    "weights = pd.Series(dt_clf.coef_[0],index=X_cls_sel_train.columns)\n",
    "weights.plot(kind='bar')"
   ]
  },
  {
   "cell_type": "markdown",
   "metadata": {},
   "source": [
    "##### Logistic Regression\n",
    "- __XXX__ shows the most significance. \n",
    "- __XXX__ shows the least significance. "
   ]
  },
  {
   "cell_type": "code",
   "execution_count": null,
   "metadata": {},
   "outputs": [],
   "source": [
    "print(lg_clf.coef_)\n",
    "weights = pd.Series(lg_clf.coef_[0],index=X_cls_sel_train.columns)\n",
    "weights.plot(kind='bar')"
   ]
  },
  {
   "cell_type": "markdown",
   "metadata": {},
   "source": [
    "##### Naive Bayes\n",
    "- __XXX__ shows the most significance. \n",
    "- __XXX__ shows the least significance. "
   ]
  },
  {
   "cell_type": "code",
   "execution_count": null,
   "metadata": {},
   "outputs": [],
   "source": [
    "print(clf_nb.coef_)\n",
    "weights = pd.Series(clf_nb.coef_[0],index=X_cls_sel_train.columns)\n",
    "weights.plot(kind='bar')"
   ]
  },
  {
   "cell_type": "markdown",
   "metadata": {},
   "source": [
    "### Regression models"
   ]
  },
  {
   "cell_type": "markdown",
   "metadata": {},
   "source": [
    "##### Linear\n",
    "- __XXX__ shows the most significance. \n",
    "- __XXX__ shows the least significance. "
   ]
  },
  {
   "cell_type": "code",
   "execution_count": null,
   "metadata": {},
   "outputs": [],
   "source": [
    "print(linearReg.coef_)\n",
    "weights = pd.Series(linearReg.coef_[0],index=X_reg_sel_train.columns)\n",
    "weights.plot(kind='bar')"
   ]
  },
  {
   "cell_type": "markdown",
   "metadata": {},
   "source": [
    "##### Lasso\n",
    "- __XXX__ shows the most significance. \n",
    "- __XXX__ shows the least significance. "
   ]
  },
  {
   "cell_type": "code",
   "execution_count": null,
   "metadata": {},
   "outputs": [],
   "source": [
    "print(lassoReg.coef_)\n",
    "weights = pd.Series(lassoReg.coef_[0],index=X_reg_sel_train.columns)\n",
    "weights.plot(kind='bar')"
   ]
  },
  {
   "cell_type": "markdown",
   "metadata": {},
   "source": [
    "##### SVR\n",
    "- __XXX__ shows the most significance. \n",
    "- __XXX__ shows the least significance. "
   ]
  },
  {
   "cell_type": "code",
   "execution_count": null,
   "metadata": {},
   "outputs": [],
   "source": [
    "print(svr.coef_)\n",
    "weights = pd.Series(svr.coef_[0],index=X_reg_sel_train.columns)\n",
    "weights.plot(kind='bar')"
   ]
  },
  {
   "cell_type": "markdown",
   "metadata": {},
   "source": [
    "##### KNN\n",
    "- __XXX__ shows the most significance. \n",
    "- __XXX__ shows the least significance. "
   ]
  },
  {
   "cell_type": "code",
   "execution_count": null,
   "metadata": {},
   "outputs": [],
   "source": [
    "print(knn_reg.coef_)\n",
    "weights = pd.Series(knn_reg.coef_[0],index=X_reg_sel_train.columns)\n",
    "weights.plot(kind='bar')"
   ]
  }
 ],
 "metadata": {
  "kernelspec": {
   "display_name": "Python 3",
   "language": "python",
   "name": "python3"
  },
  "language_info": {
   "codemirror_mode": {
    "name": "ipython",
    "version": 3
   },
   "file_extension": ".py",
   "mimetype": "text/x-python",
   "name": "python",
   "nbconvert_exporter": "python",
   "pygments_lexer": "ipython3",
   "version": "3.8.5"
  }
 },
 "nbformat": 4,
 "nbformat_minor": 4
}
