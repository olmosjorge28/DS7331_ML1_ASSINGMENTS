{
 "cells": [
  {
   "cell_type": "markdown",
   "metadata": {},
   "source": [
    "# Lab 2"
   ]
  },
  {
   "cell_type": "markdown",
   "metadata": {},
   "source": [
    "#### Statistical approach (using mlxtend), alpha = 0.05\n",
    "Using the mlxtend package, we delved into the statistical significance in performance difference among different pairs of regression models. From the results below, __XXX__ performed significantly better than the rest of the regression models discussed above (Linear, Lasso, Support Vector Regression, KNN Regression). "
   ]
  },
  {
   "cell_type": "markdown",
   "metadata": {},
   "source": [
    "##### Linear vs Lasso\n",
    "- Since p(X.XXX) < a (0.05), we __XXX__ the null hypothesis that both algorithms perform equally well on the dataset. Thus we find the performance difference between the two models to be __XXX__. "
   ]
  },
  {
   "cell_type": "code",
   "execution_count": null,
   "metadata": {},
   "outputs": [],
   "source": [
    "from mlxtend.evaluate import paired_ttest_5x2cv\n",
    "    \n",
    "t, p = paired_ttest_5x2cv(estimator1=linearReg,\n",
    "                          estimator2=lassoReg,\n",
    "                          X=X_reg_test, y=y_reg_test,\n",
    "                          random_seed=10)\n",
    "\n",
    "print('t statistic: %.3f' % t)\n",
    "print('p value: %.3f' % p)"
   ]
  },
  {
   "cell_type": "markdown",
   "metadata": {},
   "source": [
    "##### Linear vs SVR\n",
    "- Since p(X.XXX) < a (0.05), we __XXX__ the null hypothesis that both algorithms perform equally well on the dataset. Thus we find the performance difference between the two models to be __XXX__. "
   ]
  },
  {
   "cell_type": "code",
   "execution_count": null,
   "metadata": {},
   "outputs": [],
   "source": [
    "from mlxtend.evaluate import paired_ttest_5x2cv\n",
    "    \n",
    "t, p = paired_ttest_5x2cv(estimator1=linearReg,\n",
    "                          estimator2=svr,\n",
    "                          X=X_reg_test, y=y_reg_test,\n",
    "                          random_seed=10)\n",
    "\n",
    "print('t statistic: %.3f' % t)\n",
    "print('p value: %.3f' % p)"
   ]
  },
  {
   "cell_type": "markdown",
   "metadata": {},
   "source": [
    "##### Linear vs KNN\n",
    "- Since p(X.XXX) < a (0.05), we __XXX__ the null hypothesis that both algorithms perform equally well on the dataset. Thus we find the performance difference between the two models to be __XXX__. "
   ]
  },
  {
   "cell_type": "code",
   "execution_count": null,
   "metadata": {},
   "outputs": [],
   "source": [
    "from mlxtend.evaluate import paired_ttest_5x2cv\n",
    "    \n",
    "t, p = paired_ttest_5x2cv(estimator1=linearReg,\n",
    "                          estimator2=gs,\n",
    "                          X=X_reg_test, y=y_reg_test,\n",
    "                          random_seed=10)\n",
    "\n",
    "print('t statistic: %.3f' % t)\n",
    "print('p value: %.3f' % p)"
   ]
  },
  {
   "cell_type": "markdown",
   "metadata": {},
   "source": [
    "##### Lasso vs SVR\n",
    "- Since p(X.XXX) < a (0.05), we __XXX__ the null hypothesis that both algorithms perform equally well on the dataset. Thus we find the performance difference between the two models to be __XXX__. "
   ]
  },
  {
   "cell_type": "code",
   "execution_count": null,
   "metadata": {},
   "outputs": [],
   "source": [
    "from mlxtend.evaluate import paired_ttest_5x2cv\n",
    "    \n",
    "t, p = paired_ttest_5x2cv(estimator1=lassoReg,\n",
    "                          estimator2=svr,\n",
    "                          X=X_reg_test, y=y_reg_test,\n",
    "                          random_seed=10)\n",
    "\n",
    "print('t statistic: %.3f' % t)\n",
    "print('p value: %.3f' % p)"
   ]
  },
  {
   "cell_type": "markdown",
   "metadata": {},
   "source": [
    "##### Lasso vs KNN\n",
    "- Since p(X.XXX) < a (0.05), we __XXX__ the null hypothesis that both algorithms perform equally well on the dataset. Thus we find the performance difference between the two models to be __XXX__. "
   ]
  },
  {
   "cell_type": "code",
   "execution_count": null,
   "metadata": {},
   "outputs": [],
   "source": [
    "from mlxtend.evaluate import paired_ttest_5x2cv\n",
    "    \n",
    "t, p = paired_ttest_5x2cv(estimator1=lassoReg,\n",
    "                          estimator2=gs,\n",
    "                          X=X_reg_test, y=y_reg_test,\n",
    "                          random_seed=10)\n",
    "\n",
    "print('t statistic: %.3f' % t)\n",
    "print('p value: %.3f' % p)"
   ]
  },
  {
   "cell_type": "markdown",
   "metadata": {},
   "source": [
    "##### SVR vs KNN\n",
    "- Since p(X.XXX) < a (0.05), we __XXX__ the null hypothesis that both algorithms perform equally well on the dataset. Thus we find the performance difference between the two models to be __XXX__. "
   ]
  },
  {
   "cell_type": "code",
   "execution_count": null,
   "metadata": {},
   "outputs": [],
   "source": [
    "from mlxtend.evaluate import paired_ttest_5x2cv\n",
    "    \n",
    "t, p = paired_ttest_5x2cv(estimator1=svr,\n",
    "                          estimator2=gs,\n",
    "                          X=X_reg_test, y=y_reg_test,\n",
    "                          random_seed=10)\n",
    "\n",
    "print('t statistic: %.3f' % t)\n",
    "print('p value: %.3f' % p)"
   ]
  }
 ],
 "metadata": {
  "kernelspec": {
   "display_name": "Python 3",
   "language": "python",
   "name": "python3"
  }
 },
 "nbformat": 4,
 "nbformat_minor": 4
}
