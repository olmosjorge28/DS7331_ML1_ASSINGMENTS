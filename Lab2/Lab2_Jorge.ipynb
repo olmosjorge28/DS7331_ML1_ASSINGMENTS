{
 "cells": [
  {
   "cell_type": "markdown",
   "metadata": {},
   "source": [
    "# Lab 2"
   ]
  },
  {
   "cell_type": "markdown",
   "metadata": {},
   "source": [
    "# Content\n",
    "* [Data Preparation](#data-preparation)\n",
    "    - [Part 1. Data Processing](#data-preparation1)\n",
    "    - [Part 2. Final Datasets](#data-preparation2)\n",
    "* [Modeling and Evaluation](#model-and-evaluation)\n",
    "    - [Part 1. Evaluation Metrics](#model-and-evaluation1)\n",
    "    - [Part 2. Train and Test Splits](#model-and-evaluation2)\n",
    "    - [Part 3. Models for Tasks](#model-and-evaluation3)\n",
    "        - [Part 3.a. Models for Classification](#model-and-evaluation3a)\n",
    "        - [Part 3.b. Models for Regression](#model-and-evaluation3b)\n",
    "    - [Part 4. Model Analysis with Visualization](#model-and-evaluation4)\n",
    "    - [Part 5. Model Comparison](#model-and-evaluation5)\n",
    "    - [Part 6. Feature Importance](#model-and-evaluation6)\n",
    "* [Deployment](#deployment)\n",
    "* [Exceptional Work](#exceptional-work)"
   ]
  },
  {
   "cell_type": "markdown",
   "metadata": {},
   "source": [
    "# Rubric"
   ]
  },
  {
   "cell_type": "markdown",
   "metadata": {},
   "source": [
    "@class Here is the rubric for Lab 2.  You must have these EXACT sections in your submission, if you want me to grade it!  You may have as many subsections as you feel are necessary for each section. Lab 2 is due Sunday 3/14/21 by 11:59 PM.\n",
    "\n",
    "\n",
    "\n",
    " \n",
    "\n",
    "Category \tAvailable \tRequirements\n",
    "Total Points \t100\t\n",
    "\n",
    "\n",
    "\n",
    "Data Preparation Part 1\t10\tDefine and prepare your class variables. Use proper variable representations (int, float, one-hot, etc.). Use pre-processing methods (as needed) for dimensionality reduction, scaling, etc. Remove variables that are not needed/useful for the analysis.\n",
    "\n",
    "Data Preparation Part 2\t5\tDescribe the final dataset that is used for classification/regression (include a description of any newly formed variables you created).\n",
    "\n",
    "Modeling and Evaluation 1\t10\tChoose and explain your evaluation metrics that you will use (i.e., accuracy,\n",
    "precision, recall, F-measure, or any metric we have discussed). Why are the measure(s) appropriate for analyzing the results of your modeling? Give a detailed explanation backing up any assertions.\n",
    "\n",
    "Modeling and Evaluation 2\t10\tChoose the method you will use for dividing your data into training and\n",
    "testing splits (i.e., are you using Stratified 10-fold cross validation? Why?). Explain why\n",
    "your chosen method is appropriate or use more than one method as appropriate. For example, if you are using time series data then you should be using continuous training and testing sets across time.\n",
    "\n",
    "Modeling and Evaluation 3\t20\tCreate three different classification/regression models for each task (e.g., random forest, KNN, and SVM for task one and the same or different algorithms for task two). Two modeling techniques must be new (but the third could be SVM or logistic regression). Adjust parameters as appropriate to increase generalization performance using your chosen metric. You must investigate different parameters of the algorithms!\n",
    "\n",
    "Modeling and Evaluation 4\t10\tAnalyze the results using your chosen method of evaluation. Use visualizations of the results to bolster the analysis. Explain any visuals and analyze why they are interesting to someone that might use this model.\n",
    "\n",
    "Modeling and Evaluation 5\t10\tDiscuss the advantages of each model for each classification task, if any. If there are not advantages, explain why. Is any model better than another? Is the difference significant with 95% confidence? Use proper statistical comparison methods. You must use statistical comparison techniques—be sure they are appropriate for your chosen method of validation as discussed in unit 7 of the course.\n",
    "\n",
    "Modeling and Evaluation 6\t10\tWhich attributes from your analysis are most important? Use proper methods discussed in class to evaluate the importance of different attributes. Discuss the results and hypothesize about why certain attributes are more important than others for a given classification task.\n",
    "\n",
    "Deployment\t5\tHow useful is your model for interested parties (i.e., the companies or organizations that might want to use it for prediction)? How would you measure the model's value if it was used by these parties? How would your deploy your model for interested parties? What other data should be collected? How often would the model need to be updated, etc.? \n",
    "\n",
    "Exceptional Work\t10\tYou have free reign to provide additional analyses. One idea: grid search parameters in a parallelized fashion and visualize the performances across attributes. Which parameters are most significant for making a good model for each classification algorithm?"
   ]
  },
  {
   "cell_type": "markdown",
   "metadata": {},
   "source": [
    "# Data Preparation <a id='data-preparation'/>"
   ]
  },
  {
   "cell_type": "markdown",
   "metadata": {},
   "source": [
    "### Part 1. Data Processing <a id='data-preparation1'/>"
   ]
  },
  {
   "cell_type": "markdown",
   "metadata": {},
   "source": [
    "##### Data Importing and Cleaning"
   ]
  },
  {
   "cell_type": "code",
   "execution_count": 1,
   "metadata": {},
   "outputs": [
    {
     "data": {
      "text/html": [
       "<div>\n",
       "<style scoped>\n",
       "    .dataframe tbody tr th:only-of-type {\n",
       "        vertical-align: middle;\n",
       "    }\n",
       "\n",
       "    .dataframe tbody tr th {\n",
       "        vertical-align: top;\n",
       "    }\n",
       "\n",
       "    .dataframe thead th {\n",
       "        text-align: right;\n",
       "    }\n",
       "</style>\n",
       "<table border=\"1\" class=\"dataframe\">\n",
       "  <thead>\n",
       "    <tr style=\"text-align: right;\">\n",
       "      <th></th>\n",
       "      <th>hotel</th>\n",
       "      <th>is_canceled</th>\n",
       "      <th>lead_time</th>\n",
       "      <th>arrival_date_year</th>\n",
       "      <th>arrival_date_month</th>\n",
       "      <th>arrival_date_week_number</th>\n",
       "      <th>arrival_date_day_of_month</th>\n",
       "      <th>stays_in_weekend_nights</th>\n",
       "      <th>stays_in_week_nights</th>\n",
       "      <th>adults</th>\n",
       "      <th>...</th>\n",
       "      <th>deposit_type</th>\n",
       "      <th>agent</th>\n",
       "      <th>company</th>\n",
       "      <th>days_in_waiting_list</th>\n",
       "      <th>customer_type</th>\n",
       "      <th>adr</th>\n",
       "      <th>required_car_parking_spaces</th>\n",
       "      <th>total_of_special_requests</th>\n",
       "      <th>reservation_status</th>\n",
       "      <th>reservation_status_date</th>\n",
       "    </tr>\n",
       "  </thead>\n",
       "  <tbody>\n",
       "    <tr>\n",
       "      <th>0</th>\n",
       "      <td>Resort Hotel</td>\n",
       "      <td>0</td>\n",
       "      <td>342</td>\n",
       "      <td>2015</td>\n",
       "      <td>July</td>\n",
       "      <td>27</td>\n",
       "      <td>1</td>\n",
       "      <td>0</td>\n",
       "      <td>0</td>\n",
       "      <td>2</td>\n",
       "      <td>...</td>\n",
       "      <td>No Deposit</td>\n",
       "      <td>NaN</td>\n",
       "      <td>NaN</td>\n",
       "      <td>0</td>\n",
       "      <td>Transient</td>\n",
       "      <td>0.0</td>\n",
       "      <td>0</td>\n",
       "      <td>0</td>\n",
       "      <td>Check-Out</td>\n",
       "      <td>7/1/15</td>\n",
       "    </tr>\n",
       "    <tr>\n",
       "      <th>1</th>\n",
       "      <td>Resort Hotel</td>\n",
       "      <td>0</td>\n",
       "      <td>737</td>\n",
       "      <td>2015</td>\n",
       "      <td>July</td>\n",
       "      <td>27</td>\n",
       "      <td>1</td>\n",
       "      <td>0</td>\n",
       "      <td>0</td>\n",
       "      <td>2</td>\n",
       "      <td>...</td>\n",
       "      <td>No Deposit</td>\n",
       "      <td>NaN</td>\n",
       "      <td>NaN</td>\n",
       "      <td>0</td>\n",
       "      <td>Transient</td>\n",
       "      <td>0.0</td>\n",
       "      <td>0</td>\n",
       "      <td>0</td>\n",
       "      <td>Check-Out</td>\n",
       "      <td>7/1/15</td>\n",
       "    </tr>\n",
       "    <tr>\n",
       "      <th>2</th>\n",
       "      <td>Resort Hotel</td>\n",
       "      <td>0</td>\n",
       "      <td>7</td>\n",
       "      <td>2015</td>\n",
       "      <td>July</td>\n",
       "      <td>27</td>\n",
       "      <td>1</td>\n",
       "      <td>0</td>\n",
       "      <td>1</td>\n",
       "      <td>1</td>\n",
       "      <td>...</td>\n",
       "      <td>No Deposit</td>\n",
       "      <td>NaN</td>\n",
       "      <td>NaN</td>\n",
       "      <td>0</td>\n",
       "      <td>Transient</td>\n",
       "      <td>75.0</td>\n",
       "      <td>0</td>\n",
       "      <td>0</td>\n",
       "      <td>Check-Out</td>\n",
       "      <td>7/2/15</td>\n",
       "    </tr>\n",
       "    <tr>\n",
       "      <th>3</th>\n",
       "      <td>Resort Hotel</td>\n",
       "      <td>0</td>\n",
       "      <td>13</td>\n",
       "      <td>2015</td>\n",
       "      <td>July</td>\n",
       "      <td>27</td>\n",
       "      <td>1</td>\n",
       "      <td>0</td>\n",
       "      <td>1</td>\n",
       "      <td>1</td>\n",
       "      <td>...</td>\n",
       "      <td>No Deposit</td>\n",
       "      <td>304.0</td>\n",
       "      <td>NaN</td>\n",
       "      <td>0</td>\n",
       "      <td>Transient</td>\n",
       "      <td>75.0</td>\n",
       "      <td>0</td>\n",
       "      <td>0</td>\n",
       "      <td>Check-Out</td>\n",
       "      <td>7/2/15</td>\n",
       "    </tr>\n",
       "    <tr>\n",
       "      <th>4</th>\n",
       "      <td>Resort Hotel</td>\n",
       "      <td>0</td>\n",
       "      <td>14</td>\n",
       "      <td>2015</td>\n",
       "      <td>July</td>\n",
       "      <td>27</td>\n",
       "      <td>1</td>\n",
       "      <td>0</td>\n",
       "      <td>2</td>\n",
       "      <td>2</td>\n",
       "      <td>...</td>\n",
       "      <td>No Deposit</td>\n",
       "      <td>240.0</td>\n",
       "      <td>NaN</td>\n",
       "      <td>0</td>\n",
       "      <td>Transient</td>\n",
       "      <td>98.0</td>\n",
       "      <td>0</td>\n",
       "      <td>1</td>\n",
       "      <td>Check-Out</td>\n",
       "      <td>7/3/15</td>\n",
       "    </tr>\n",
       "  </tbody>\n",
       "</table>\n",
       "<p>5 rows × 32 columns</p>\n",
       "</div>"
      ],
      "text/plain": [
       "          hotel  is_canceled  lead_time  arrival_date_year arrival_date_month  \\\n",
       "0  Resort Hotel            0        342               2015               July   \n",
       "1  Resort Hotel            0        737               2015               July   \n",
       "2  Resort Hotel            0          7               2015               July   \n",
       "3  Resort Hotel            0         13               2015               July   \n",
       "4  Resort Hotel            0         14               2015               July   \n",
       "\n",
       "   arrival_date_week_number  arrival_date_day_of_month  \\\n",
       "0                        27                          1   \n",
       "1                        27                          1   \n",
       "2                        27                          1   \n",
       "3                        27                          1   \n",
       "4                        27                          1   \n",
       "\n",
       "   stays_in_weekend_nights  stays_in_week_nights  adults  ...  deposit_type  \\\n",
       "0                        0                     0       2  ...    No Deposit   \n",
       "1                        0                     0       2  ...    No Deposit   \n",
       "2                        0                     1       1  ...    No Deposit   \n",
       "3                        0                     1       1  ...    No Deposit   \n",
       "4                        0                     2       2  ...    No Deposit   \n",
       "\n",
       "   agent company days_in_waiting_list customer_type   adr  \\\n",
       "0    NaN     NaN                    0     Transient   0.0   \n",
       "1    NaN     NaN                    0     Transient   0.0   \n",
       "2    NaN     NaN                    0     Transient  75.0   \n",
       "3  304.0     NaN                    0     Transient  75.0   \n",
       "4  240.0     NaN                    0     Transient  98.0   \n",
       "\n",
       "   required_car_parking_spaces  total_of_special_requests  reservation_status  \\\n",
       "0                            0                          0           Check-Out   \n",
       "1                            0                          0           Check-Out   \n",
       "2                            0                          0           Check-Out   \n",
       "3                            0                          0           Check-Out   \n",
       "4                            0                          1           Check-Out   \n",
       "\n",
       "  reservation_status_date  \n",
       "0                  7/1/15  \n",
       "1                  7/1/15  \n",
       "2                  7/2/15  \n",
       "3                  7/2/15  \n",
       "4                  7/3/15  \n",
       "\n",
       "[5 rows x 32 columns]"
      ]
     },
     "execution_count": 1,
     "metadata": {},
     "output_type": "execute_result"
    }
   ],
   "source": [
    "import pandas as pd\n",
    "import numpy as np\n",
    "\n",
    "hotel_bookings = pd.read_csv('https://raw.githubusercontent.com/olmosjorge28/DS7331_ML1_ASSINGMENTS/main/hotel_bookings.csv') # read in the csv file\n",
    "hotel_bookings.head()"
   ]
  },
  {
   "cell_type": "code",
   "execution_count": 53,
   "metadata": {},
   "outputs": [
    {
     "name": "stdout",
     "output_type": "stream",
     "text": [
      "<class 'pandas.core.frame.DataFrame'>\n",
      "RangeIndex: 119390 entries, 0 to 119389\n",
      "Data columns (total 32 columns):\n",
      " #   Column                          Non-Null Count   Dtype  \n",
      "---  ------                          --------------   -----  \n",
      " 0   hotel                           119390 non-null  object \n",
      " 1   is_canceled                     119390 non-null  int64  \n",
      " 2   lead_time                       119390 non-null  int64  \n",
      " 3   arrival_date_year               119390 non-null  int64  \n",
      " 4   arrival_date_month              119390 non-null  object \n",
      " 5   arrival_date_week_number        119390 non-null  int64  \n",
      " 6   arrival_date_day_of_month       119390 non-null  int64  \n",
      " 7   stays_in_weekend_nights         119390 non-null  int64  \n",
      " 8   stays_in_week_nights            119390 non-null  int64  \n",
      " 9   adults                          119390 non-null  int64  \n",
      " 10  children                        119386 non-null  float64\n",
      " 11  babies                          119390 non-null  int64  \n",
      " 12  meal                            119390 non-null  object \n",
      " 13  country                         118902 non-null  object \n",
      " 14  market_segment                  119390 non-null  object \n",
      " 15  distribution_channel            119390 non-null  object \n",
      " 16  is_repeated_guest               119390 non-null  int64  \n",
      " 17  previous_cancellations          119390 non-null  int64  \n",
      " 18  previous_bookings_not_canceled  119390 non-null  int64  \n",
      " 19  reserved_room_type              119390 non-null  object \n",
      " 20  assigned_room_type              119390 non-null  object \n",
      " 21  booking_changes                 119390 non-null  int64  \n",
      " 22  deposit_type                    119390 non-null  object \n",
      " 23  agent                           103050 non-null  float64\n",
      " 24  company                         6797 non-null    float64\n",
      " 25  days_in_waiting_list            119390 non-null  int64  \n",
      " 26  customer_type                   119390 non-null  object \n",
      " 27  adr                             119390 non-null  float64\n",
      " 28  required_car_parking_spaces     119390 non-null  int64  \n",
      " 29  total_of_special_requests       119390 non-null  int64  \n",
      " 30  reservation_status              119390 non-null  object \n",
      " 31  reservation_status_date         119390 non-null  object \n",
      "dtypes: float64(4), int64(16), object(12)\n",
      "memory usage: 29.1+ MB\n"
     ]
    }
   ],
   "source": [
    "# data info\n",
    "hotel_bookings.info()"
   ]
  },
  {
   "cell_type": "code",
   "execution_count": 54,
   "metadata": {},
   "outputs": [
    {
     "data": {
      "text/plain": [
       "hotel                                  0\n",
       "is_canceled                            0\n",
       "lead_time                              0\n",
       "arrival_date_year                      0\n",
       "arrival_date_month                     0\n",
       "arrival_date_week_number               0\n",
       "arrival_date_day_of_month              0\n",
       "stays_in_weekend_nights                0\n",
       "stays_in_week_nights                   0\n",
       "adults                                 0\n",
       "children                               4\n",
       "babies                                 0\n",
       "meal                                   0\n",
       "country                              488\n",
       "market_segment                         0\n",
       "distribution_channel                   0\n",
       "is_repeated_guest                      0\n",
       "previous_cancellations                 0\n",
       "previous_bookings_not_canceled         0\n",
       "reserved_room_type                     0\n",
       "assigned_room_type                     0\n",
       "booking_changes                        0\n",
       "deposit_type                           0\n",
       "agent                              16340\n",
       "company                           112593\n",
       "days_in_waiting_list                   0\n",
       "customer_type                          0\n",
       "adr                                    0\n",
       "required_car_parking_spaces            0\n",
       "total_of_special_requests              0\n",
       "reservation_status                     0\n",
       "reservation_status_date                0\n",
       "dtype: int64"
      ]
     },
     "execution_count": 54,
     "metadata": {},
     "output_type": "execute_result"
    }
   ],
   "source": [
    "hotel_bookings.isnull().sum()"
   ]
  },
  {
   "cell_type": "markdown",
   "metadata": {},
   "source": [
    "Upon initial inspection of the 31 attributes, we noticed the following,\n",
    "1. Total of 7 attributes appears to have some missing data.\n",
    "We decided to replace the missing value “__nan__ and “__Undefined__” with __MODE__ as they appear to be accidental\n",
    "2. We decided to __remove__ “__agent__” and “__company__” attributes as they do not provide any valuable information for analysis\n",
    "3. we decided to replace '__Undefined__' with '__SC__' under Meal attribute as they are synonymous. \n",
    "4. We classify the non-categorical attributes that are above and below 1.5 times the interquartile range of the dataset as __outliers__. \n",
    "\n",
    "Below is a list of all the attributes with missing values and the counts:\n",
    "* agent- 16340\n",
    "* company- 112593\n",
    "* children- 4\n",
    "* country- 488\n",
    "* market_segment - 2\n",
    "* meal - 1169\n",
    "* distribution_channel – 5\n",
    "\n",
    "There's an association between the distribution channel type and the agent and company attributes. \n",
    "1. If the distribution channel is from a Traveling Agent (__TA__) or Tour Operator (__TO__), then the agency company is supplied in the agent column. \n",
    "2. if the distribution channel is __Corporate__, then the company associated with the booking is populated under the company attribute. \n",
    "3. If the distribution is neither __Corporate__, __TA__ or __TO__ than both the __agent and company__ attributes will be __null__. \n",
    "4. For the meal attribute during our data investigation, we have found out that '__Undefined__' and '__SC__' are synonymous so we have decided to __replace__ '__Undefined__' with '__SC__'. \n",
    "\n",
    "\n",
    "To simplify our data exploration, we decided to __remove__ the __agent and company__ attributes as they don't provide any additional information beyond what already is provided in the distribution channel. \n",
    "Data cleaning for the above attributes will be followed. "
   ]
  },
  {
   "cell_type": "code",
   "execution_count": 55,
   "metadata": {},
   "outputs": [],
   "source": [
    "import math\n",
    "from datetime import date\n",
    "\n",
    "\n",
    "hotel_bookings_transform = hotel_bookings\n",
    "# removing 'agent','company' and 'country'\n",
    "hotel_bookings_transform= hotel_bookings_transform.drop(columns=['agent','company', 'country'])\n",
    "\n",
    "# For the remainder they appear to have been omitted accidentally and we decided to populate the missing values with the mode.\n",
    "hotel_bookings[['children','country','market_segment','meal','distribution_channel']].mode() \n",
    "\n",
    "\n",
    "hotel_bookings_transform['meal']= hotel_bookings_transform['meal'].apply(lambda x: 'SC' if  x == 'Undefined'  else x)\n",
    "hotel_bookings_transform['children']= hotel_bookings_transform['children'].apply(lambda x: 0 if  math.isnan(x)  else x)\n",
    "hotel_bookings_transform['market_segment']= hotel_bookings_transform['market_segment'].apply(lambda x: 'Online TA' if  x == 'Undefined'  else x)\n",
    "hotel_bookings_transform['distribution_channel']= hotel_bookings_transform['distribution_channel'].apply(lambda x: 'TA/TO' if  x == 'Undefined'  else x)"
   ]
  },
  {
   "cell_type": "markdown",
   "metadata": {},
   "source": [
    "Additionally, the following attributes were __classified as objects__, however they're __categorical__ in nature so we have decided to encode each of these attributes with a corresponding number according to their alphabetical order:\n",
    "\n",
    "- hotel - ['City Hotel', 'Resort Hotel']\n",
    "- market_segment - ['Aviation', 'Complementary', 'Corporate', 'Direct', 'Groups', 'Offline TA/TO', 'Online TA']\n",
    "- meal - ['BB', 'FB', 'HB', 'SC']\n",
    "- reservation_status - ['Canceled', 'Check-Out', 'No-Show']\n",
    "- distribution_channel - ['Corporate', 'Direct', 'GDS', 'TA/TO']\n",
    "- reserved_room_type - ['A', 'B', 'C', 'D', 'E', 'F', 'G', 'H', 'L', 'P']\n",
    "- assigned_room_type - ['A', 'B', 'C', 'D', 'E', 'F', 'G', 'H', 'I', 'K', 'L', 'P']\n",
    "- deposit_type - ['No Deposit', 'Non Refund', 'Refundable']\n",
    "- country - [['ABW','AGO','AIA','ALB','AND', 'ARE', 'ARG', 'ARM', 'ASM', 'ATA', 'ATF', 'AUS', 'AUT', 'AZE', 'BDI', 'BEL', 'BEN', 'BFA', 'BGD', 'BGR', 'BHR', 'BHS', 'BIH', 'BLR', 'BOL', 'BRA', 'BRB', 'BWA', 'CAF', 'CHE', 'CHL', 'CHN', 'CIV', 'CMR', 'CN', 'COL', 'COM', 'CPV', 'CRI', 'CUB', 'CYM', 'CYP', 'CZE', 'DEU', 'DJI', 'DMA', 'DNK', 'DOM', 'DZA', 'ECU', 'EGY', 'ESP', 'EST', 'ETH', 'FIN', 'FJI', 'FRA', 'FRO', 'GAB', 'GBR', 'GEO', 'GGY', 'GHA', 'GIB', 'GLP', 'GNB', 'GRC', 'GTM', 'GUY', 'HKG', 'HND', 'HRV', 'HUN', 'IDN', 'IMN', 'IND', 'IRL', 'IRN', 'IRQ', 'ISL', 'ISR', 'ITA', 'JAM', 'JEY', 'JOR', 'JPN', 'KAZ', 'KEN', 'KHM', 'KIR', 'KNA', 'KOR', 'KWT', 'LAO', 'LBN', 'LBY', 'LCA', 'LIE', 'LKA', 'LTU', 'LUX', 'LVA', 'MAC', 'MAR', 'MCO' 'MDG', 'MDV', 'MEX', 'MKD', 'MLI', 'MLT', 'MMR', 'MNE', 'MOZ', 'MRT', 'MUS', 'MWI', 'MYS', 'MYT', 'NAM', 'NCL', 'NGA', 'NIC', 'NLD', 'NOR', 'NPL', 'NZL', 'OMN', 'PAK', 'PAN', 'PER', 'PHL', 'PLW', 'POL', 'PRI', 'PRT', 'PRY', 'PYF', 'QAT', 'ROU', 'RUS', 'RWA', 'SAU', 'SDN', 'SEN', 'SGP', 'SLE', 'SLV', 'SMR', 'SRB', 'STP', 'SUR', 'SVK', 'SVN', 'SWE', 'SYC', 'SYR', 'TGO', 'THA', 'TJK', 'TMP', 'TUN', 'TUR', 'TWN', 'TZA', 'UGA', 'UKR', 'UMI', 'URY', 'USA', 'UZB', 'VEN', 'VGB', 'VNM', 'ZAF', 'ZMB', 'ZWE']]\n",
    "- customer_type - ['Contract', 'Group', 'Transient', 'Transient-Party']\n"
   ]
  },
  {
   "cell_type": "code",
   "execution_count": 56,
   "metadata": {},
   "outputs": [],
   "source": [
    "# Encoding process\n",
    "\n",
    "hotel_bookings_transform['hotel']=hotel_bookings_transform['hotel'].astype('category').cat.codes\n",
    "hotel_bookings_transform['market_segment']=hotel_bookings_transform['market_segment'].astype('category').cat.codes\n",
    "hotel_bookings_transform['meal']=hotel_bookings_transform['meal'].astype('category').cat.codes\n",
    "hotel_bookings_transform['reservation_status']=hotel_bookings_transform['reservation_status'].astype('category').cat.codes\n",
    "hotel_bookings_transform['distribution_channel']=hotel_bookings_transform['distribution_channel'].astype('category').cat.codes\n",
    "hotel_bookings_transform['reserved_room_type']=hotel_bookings_transform['reserved_room_type'].astype('category').cat.codes\n",
    "hotel_bookings_transform['assigned_room_type']=hotel_bookings_transform['assigned_room_type'].astype('category').cat.codes\n",
    "hotel_bookings_transform['deposit_type']=hotel_bookings_transform['deposit_type'].astype('category').cat.codes\n",
    "hotel_bookings_transform['customer_type']=hotel_bookings_transform['customer_type'].astype('category').cat.codes\n",
    "\n",
    "assign_month = {\"arrival_date_month\": {\"January\": 1, \"February\": 2, \"March\": 3, \"April\": 4,\"May\": 5,\"June\": 6,\"July\": 7,\"August\": 8,\"September\": 9,\"October\": 10,\"November\": 11,\"December\": 12}}\n",
    "hotel_bookings_transform = hotel_bookings_transform.replace(assign_month)\n",
    "\n",
    "# Convert Date to Ordinal\n",
    "import datetime as dt\n",
    "hotel_bookings_transform['reservation_status_date'] = pd.to_datetime(hotel_bookings_transform['reservation_status_date'])\n",
    "hotel_bookings_transform['reservation_status_date'] = hotel_bookings_transform['reservation_status_date'].map(dt.datetime.toordinal)\n",
    "\n",
    "hotel_bookings_transform=hotel_bookings_transform.assign(booking_day_of_year = hotel_bookings_transform[\"arrival_date_year\"].astype(str) + '-' + \n",
    "hotel_bookings_transform[\"arrival_date_month\"].astype(str) + '-' +hotel_bookings_transform[\"arrival_date_day_of_month\"].astype(str))\n",
    "hotel_bookings_transform['booking_day_of_year']=pd.to_datetime(hotel_bookings_transform.booking_day_of_year)\n",
    "hotel_bookings_transform['booking_day_of_year']=hotel_bookings_transform['booking_day_of_year'].map(lambda x: x.toordinal() - date(x.year, 1, 1).toordinal() + 1)\n",
    "\n",
    "\n",
    "hotel_bookings_transform=hotel_bookings_transform.drop(columns=['arrival_date_year','reservation_status_date'])\n",
    "#hotel_bookings_transform['booking_date']=hotel_bookings_transform['booking_date'].map(dt.datetime.toordinal)"
   ]
  },
  {
   "cell_type": "markdown",
   "metadata": {},
   "source": [
    "##### Outlier removal\n",
    "- First we decided to take a look the simple statistics of the continuous variables to see if they make sense. \n",
    "- __adr__ and __lead_time__ had minimum and maximum values that appear as data entry error.  \n",
    "- __stays_in_week_nights__ and __stays_in_weekend_nights__ had too extreme maximum values when there are only seven days in a week. \n",
    "- __days_in_waiting_list__, __total_of_special_requests__ and __required_car_parking_spaces__ had reasonable data distribution. \n",
    "- After determining that the 4 continuous features(adr, lead_time, stays_week_nights, stays_weekend_nights) have extreme outliers, the 25% and 75% interquartile range (IQR) was utilized in order to identify and remove the outliers from the dataset. \n",
    "- Outliers that are positioned at above and below the 1.5 times the upper and lower limit of IQR are removed. "
   ]
  },
  {
   "cell_type": "code",
   "execution_count": 6,
   "metadata": {
    "scrolled": false
   },
   "outputs": [
    {
     "data": {
      "text/html": [
       "<div>\n",
       "<style scoped>\n",
       "    .dataframe tbody tr th:only-of-type {\n",
       "        vertical-align: middle;\n",
       "    }\n",
       "\n",
       "    .dataframe tbody tr th {\n",
       "        vertical-align: top;\n",
       "    }\n",
       "\n",
       "    .dataframe thead th {\n",
       "        text-align: right;\n",
       "    }\n",
       "</style>\n",
       "<table border=\"1\" class=\"dataframe\">\n",
       "  <thead>\n",
       "    <tr style=\"text-align: right;\">\n",
       "      <th></th>\n",
       "      <th>adr</th>\n",
       "      <th>lead_time</th>\n",
       "      <th>days_in_waiting_list</th>\n",
       "      <th>total_of_special_requests</th>\n",
       "      <th>required_car_parking_spaces</th>\n",
       "      <th>stays_in_week_nights</th>\n",
       "      <th>stays_in_weekend_nights</th>\n",
       "    </tr>\n",
       "  </thead>\n",
       "  <tbody>\n",
       "    <tr>\n",
       "      <th>count</th>\n",
       "      <td>119390.000000</td>\n",
       "      <td>119390.000000</td>\n",
       "      <td>119390.000000</td>\n",
       "      <td>119390.000000</td>\n",
       "      <td>119390.000000</td>\n",
       "      <td>119390.000000</td>\n",
       "      <td>119390.000000</td>\n",
       "    </tr>\n",
       "    <tr>\n",
       "      <th>mean</th>\n",
       "      <td>101.831122</td>\n",
       "      <td>104.011416</td>\n",
       "      <td>2.321149</td>\n",
       "      <td>0.571363</td>\n",
       "      <td>0.062518</td>\n",
       "      <td>2.500302</td>\n",
       "      <td>0.927599</td>\n",
       "    </tr>\n",
       "    <tr>\n",
       "      <th>std</th>\n",
       "      <td>50.535790</td>\n",
       "      <td>106.863097</td>\n",
       "      <td>17.594721</td>\n",
       "      <td>0.792798</td>\n",
       "      <td>0.245291</td>\n",
       "      <td>1.908286</td>\n",
       "      <td>0.998613</td>\n",
       "    </tr>\n",
       "    <tr>\n",
       "      <th>min</th>\n",
       "      <td>-6.380000</td>\n",
       "      <td>0.000000</td>\n",
       "      <td>0.000000</td>\n",
       "      <td>0.000000</td>\n",
       "      <td>0.000000</td>\n",
       "      <td>0.000000</td>\n",
       "      <td>0.000000</td>\n",
       "    </tr>\n",
       "    <tr>\n",
       "      <th>25%</th>\n",
       "      <td>69.290000</td>\n",
       "      <td>18.000000</td>\n",
       "      <td>0.000000</td>\n",
       "      <td>0.000000</td>\n",
       "      <td>0.000000</td>\n",
       "      <td>1.000000</td>\n",
       "      <td>0.000000</td>\n",
       "    </tr>\n",
       "    <tr>\n",
       "      <th>50%</th>\n",
       "      <td>94.575000</td>\n",
       "      <td>69.000000</td>\n",
       "      <td>0.000000</td>\n",
       "      <td>0.000000</td>\n",
       "      <td>0.000000</td>\n",
       "      <td>2.000000</td>\n",
       "      <td>1.000000</td>\n",
       "    </tr>\n",
       "    <tr>\n",
       "      <th>75%</th>\n",
       "      <td>126.000000</td>\n",
       "      <td>160.000000</td>\n",
       "      <td>0.000000</td>\n",
       "      <td>1.000000</td>\n",
       "      <td>0.000000</td>\n",
       "      <td>3.000000</td>\n",
       "      <td>2.000000</td>\n",
       "    </tr>\n",
       "    <tr>\n",
       "      <th>max</th>\n",
       "      <td>5400.000000</td>\n",
       "      <td>737.000000</td>\n",
       "      <td>391.000000</td>\n",
       "      <td>5.000000</td>\n",
       "      <td>8.000000</td>\n",
       "      <td>50.000000</td>\n",
       "      <td>19.000000</td>\n",
       "    </tr>\n",
       "  </tbody>\n",
       "</table>\n",
       "</div>"
      ],
      "text/plain": [
       "                 adr      lead_time  days_in_waiting_list  \\\n",
       "count  119390.000000  119390.000000         119390.000000   \n",
       "mean      101.831122     104.011416              2.321149   \n",
       "std        50.535790     106.863097             17.594721   \n",
       "min        -6.380000       0.000000              0.000000   \n",
       "25%        69.290000      18.000000              0.000000   \n",
       "50%        94.575000      69.000000              0.000000   \n",
       "75%       126.000000     160.000000              0.000000   \n",
       "max      5400.000000     737.000000            391.000000   \n",
       "\n",
       "       total_of_special_requests  required_car_parking_spaces  \\\n",
       "count              119390.000000                119390.000000   \n",
       "mean                    0.571363                     0.062518   \n",
       "std                     0.792798                     0.245291   \n",
       "min                     0.000000                     0.000000   \n",
       "25%                     0.000000                     0.000000   \n",
       "50%                     0.000000                     0.000000   \n",
       "75%                     1.000000                     0.000000   \n",
       "max                     5.000000                     8.000000   \n",
       "\n",
       "       stays_in_week_nights  stays_in_weekend_nights  \n",
       "count         119390.000000            119390.000000  \n",
       "mean               2.500302                 0.927599  \n",
       "std                1.908286                 0.998613  \n",
       "min                0.000000                 0.000000  \n",
       "25%                1.000000                 0.000000  \n",
       "50%                2.000000                 1.000000  \n",
       "75%                3.000000                 2.000000  \n",
       "max               50.000000                19.000000  "
      ]
     },
     "execution_count": 6,
     "metadata": {},
     "output_type": "execute_result"
    }
   ],
   "source": [
    "# simple statistics of continuous features \n",
    "hotel_bookings_transform[['adr', 'lead_time','days_in_waiting_list','total_of_special_requests','required_car_parking_spaces','stays_in_week_nights','stays_in_weekend_nights']].describe()"
   ]
  },
  {
   "cell_type": "code",
   "execution_count": 48,
   "metadata": {},
   "outputs": [
    {
     "name": "stdout",
     "output_type": "stream",
     "text": [
      "<class 'pandas.core.frame.DataFrame'>\n",
      "RangeIndex: 119390 entries, 0 to 119389\n",
      "Data columns (total 28 columns):\n",
      " #   Column                          Non-Null Count   Dtype  \n",
      "---  ------                          --------------   -----  \n",
      " 0   hotel                           119390 non-null  int8   \n",
      " 1   is_canceled                     119390 non-null  int64  \n",
      " 2   lead_time                       119390 non-null  int64  \n",
      " 3   arrival_date_month              119390 non-null  int64  \n",
      " 4   arrival_date_week_number        119390 non-null  int64  \n",
      " 5   arrival_date_day_of_month       119390 non-null  int64  \n",
      " 6   stays_in_weekend_nights         119390 non-null  int64  \n",
      " 7   stays_in_week_nights            119390 non-null  int64  \n",
      " 8   adults                          119390 non-null  int64  \n",
      " 9   children                        119390 non-null  float64\n",
      " 10  babies                          119390 non-null  int64  \n",
      " 11  meal                            119390 non-null  int8   \n",
      " 12  market_segment                  119390 non-null  int8   \n",
      " 13  distribution_channel            119390 non-null  int8   \n",
      " 14  is_repeated_guest               119390 non-null  int64  \n",
      " 15  previous_cancellations          119390 non-null  int64  \n",
      " 16  previous_bookings_not_canceled  119390 non-null  int64  \n",
      " 17  reserved_room_type              119390 non-null  int8   \n",
      " 18  assigned_room_type              119390 non-null  int8   \n",
      " 19  booking_changes                 119390 non-null  int64  \n",
      " 20  deposit_type                    119390 non-null  int8   \n",
      " 21  days_in_waiting_list            119390 non-null  int64  \n",
      " 22  customer_type                   119390 non-null  int8   \n",
      " 23  adr                             119390 non-null  float64\n",
      " 24  required_car_parking_spaces     119390 non-null  int64  \n",
      " 25  total_of_special_requests       119390 non-null  int64  \n",
      " 26  reservation_status              119390 non-null  int8   \n",
      " 27  booking_day_of_year             119390 non-null  int64  \n",
      "dtypes: float64(2), int64(17), int8(9)\n",
      "memory usage: 18.3 MB\n"
     ]
    }
   ],
   "source": [
    "hotel_bookings_transform.info()"
   ]
  },
  {
   "cell_type": "code",
   "execution_count": 49,
   "metadata": {},
   "outputs": [
    {
     "name": "stdout",
     "output_type": "stream",
     "text": [
      "                            OLS Regression Results                            \n",
      "==============================================================================\n",
      "Dep. Variable:            is_canceled   R-squared:                       0.846\n",
      "Model:                            OLS   Adj. R-squared:                  0.846\n",
      "Method:                 Least Squares   F-statistic:                 1.942e+04\n",
      "Date:                Sat, 13 Mar 2021   Prob (F-statistic):               0.00\n",
      "Time:                        17:05:27   Log-Likelihood:                 23334.\n",
      "No. Observations:               95512   AIC:                        -4.661e+04\n",
      "Df Residuals:                   95484   BIC:                        -4.635e+04\n",
      "Df Model:                          27                                         \n",
      "Covariance Type:            nonrobust                                         \n",
      "==================================================================================================\n",
      "                                     coef    std err          t      P>|t|      [0.025      0.975]\n",
      "--------------------------------------------------------------------------------------------------\n",
      "const                              1.1158      0.030     37.302      0.000       1.057       1.174\n",
      "hotel                             -0.0131      0.001     -8.776      0.000      -0.016      -0.010\n",
      "lead_time                       2.204e-05   6.91e-06      3.187      0.001    8.48e-06    3.56e-05\n",
      "arrival_date_month                -0.1972      0.028     -6.977      0.000      -0.253      -0.142\n",
      "arrival_date_week_number          -0.0059      0.002     -3.514      0.000      -0.009      -0.003\n",
      "arrival_date_day_of_month         -0.0062      0.001     -6.617      0.000      -0.008      -0.004\n",
      "stays_in_weekend_nights            0.0049      0.001      6.715      0.000       0.003       0.006\n",
      "stays_in_week_nights               0.0017      0.000      4.363      0.000       0.001       0.002\n",
      "adults                            -0.0058      0.001     -4.832      0.000      -0.008      -0.003\n",
      "children                           0.0080      0.002      4.676      0.000       0.005       0.011\n",
      "babies                             0.0044      0.006      0.708      0.479      -0.008       0.016\n",
      "meal                              -0.0009      0.001     -1.550      0.121      -0.002       0.000\n",
      "market_segment                     0.0099      0.001     10.967      0.000       0.008       0.012\n",
      "distribution_channel              -0.0079      0.001     -6.568      0.000      -0.010      -0.006\n",
      "is_repeated_guest                  0.0035      0.004      0.871      0.384      -0.004       0.011\n",
      "previous_cancellations             0.0037      0.001      4.812      0.000       0.002       0.005\n",
      "previous_bookings_not_canceled    -0.0011      0.000     -2.412      0.016      -0.002      -0.000\n",
      "reserved_room_type                 0.0059      0.001      8.558      0.000       0.005       0.007\n",
      "assigned_room_type                -0.0062      0.001    -10.321      0.000      -0.007      -0.005\n",
      "booking_changes                   -0.0079      0.001     -8.166      0.000      -0.010      -0.006\n",
      "deposit_type                       0.0756      0.002     30.966      0.000       0.071       0.080\n",
      "days_in_waiting_list              -0.0001   3.54e-05     -3.656      0.000      -0.000      -6e-05\n",
      "customer_type                     -0.0045      0.001     -3.968      0.000      -0.007      -0.002\n",
      "adr                             6.717e-05   1.48e-05      4.535      0.000    3.81e-05    9.62e-05\n",
      "required_car_parking_spaces       -0.0537      0.003    -20.503      0.000      -0.059      -0.049\n",
      "total_of_special_requests         -0.0172      0.001    -19.820      0.000      -0.019      -0.015\n",
      "reservation_status                -0.8480      0.001   -567.279      0.000      -0.851      -0.845\n",
      "booking_day_of_year                0.0073      0.001      6.978      0.000       0.005       0.009\n",
      "==============================================================================\n",
      "Omnibus:                   131375.032   Durbin-Watson:                   2.002\n",
      "Prob(Omnibus):                  0.000   Jarque-Bera (JB):         23380137.713\n",
      "Skew:                           8.297   Prob(JB):                         0.00\n",
      "Kurtosis:                      77.830   Cond. No.                     1.72e+04\n",
      "==============================================================================\n",
      "\n",
      "Notes:\n",
      "[1] Standard Errors assume that the covariance matrix of the errors is correctly specified.\n",
      "[2] The condition number is large, 1.72e+04. This might indicate that there are\n",
      "strong multicollinearity or other numerical problems.\n"
     ]
    }
   ],
   "source": [
    "import sklearn\n",
    "from sklearn.model_selection import train_test_split\n",
    "feature_names = hotel_bookings_transform.columns.tolist()\n",
    "feature_names.remove('is_canceled')\n",
    "\n",
    "X = pd.DataFrame(data=hotel_bookings_transform, columns=feature_names)\n",
    "Y = pd.DataFrame(data=hotel_bookings_transform, columns=['is_canceled'])\n",
    "\n",
    "\n",
    "\n",
    "X_train, X_test, Y_train, Y_test = sklearn.model_selection.train_test_split(X, Y, test_size = 0.20, random_state = 5)\n",
    "\n",
    "import statsmodels.formula.api as smf\n",
    "\n",
    "from statsmodels.tools.tools import add_constant\n",
    "import statsmodels.api as sm\n",
    "\n",
    "\n",
    "model1 = sm.OLS(Y_train, add_constant(X_train)).fit()\n",
    "print_model1 = model1.summary()\n",
    "print(print_model1)\n",
    "\n",
    "#X = pd.DataFrame(data=hotel_bookings_transform,columns=hotel_bookings_transform.columns)"
   ]
  },
  {
   "cell_type": "code",
   "execution_count": 50,
   "metadata": {},
   "outputs": [
    {
     "data": {
      "text/plain": [
       "count    95512.000000\n",
       "mean         0.000293\n",
       "std          0.000969\n",
       "min          0.000053\n",
       "25%          0.000162\n",
       "50%          0.000207\n",
       "75%          0.000296\n",
       "max          0.171419\n",
       "dtype: float64"
      ]
     },
     "execution_count": 50,
     "metadata": {},
     "output_type": "execute_result"
    }
   ],
   "source": [
    "influence = model1.get_influence()\n",
    "pd.Series(influence.hat_matrix_diag).describe()"
   ]
  },
  {
   "cell_type": "code",
   "execution_count": 52,
   "metadata": {},
   "outputs": [
    {
     "ename": "KeyboardInterrupt",
     "evalue": "",
     "output_type": "error",
     "traceback": [
      "\u001b[0;31m---------------------------------------------------------------------------\u001b[0m",
      "\u001b[0;31mKeyboardInterrupt\u001b[0m                         Traceback (most recent call last)",
      "\u001b[0;32m<ipython-input-52-5234bf7b634d>\u001b[0m in \u001b[0;36m<module>\u001b[0;34m\u001b[0m\n\u001b[1;32m      1\u001b[0m \u001b[0minfluence\u001b[0m \u001b[0;34m=\u001b[0m \u001b[0mmodel1\u001b[0m\u001b[0;34m.\u001b[0m\u001b[0mget_influence\u001b[0m\u001b[0;34m(\u001b[0m\u001b[0;34m)\u001b[0m\u001b[0;34m\u001b[0m\u001b[0;34m\u001b[0m\u001b[0m\n\u001b[0;32m----> 2\u001b[0;31m \u001b[0minf_sum\u001b[0m \u001b[0;34m=\u001b[0m \u001b[0minfluence\u001b[0m\u001b[0;34m.\u001b[0m\u001b[0msummary_frame\u001b[0m\u001b[0;34m(\u001b[0m\u001b[0;34m)\u001b[0m\u001b[0;34m\u001b[0m\u001b[0;34m\u001b[0m\u001b[0m\n\u001b[0m\u001b[1;32m      3\u001b[0m \u001b[0;34m\u001b[0m\u001b[0m\n",
      "\u001b[0;32m/opt/anaconda3/lib/python3.8/site-packages/statsmodels/stats/outliers_influence.py\u001b[0m in \u001b[0;36msummary_frame\u001b[0;34m(self)\u001b[0m\n\u001b[1;32m    999\u001b[0m             \u001b[0mhat_diag\u001b[0m\u001b[0;34m=\u001b[0m\u001b[0mself\u001b[0m\u001b[0;34m.\u001b[0m\u001b[0mhat_matrix_diag\u001b[0m\u001b[0;34m,\u001b[0m\u001b[0;34m\u001b[0m\u001b[0;34m\u001b[0m\u001b[0m\n\u001b[1;32m   1000\u001b[0m             \u001b[0mdffits_internal\u001b[0m\u001b[0;34m=\u001b[0m\u001b[0mself\u001b[0m\u001b[0;34m.\u001b[0m\u001b[0mdffits_internal\u001b[0m\u001b[0;34m[\u001b[0m\u001b[0;36m0\u001b[0m\u001b[0;34m]\u001b[0m\u001b[0;34m,\u001b[0m\u001b[0;34m\u001b[0m\u001b[0;34m\u001b[0m\u001b[0m\n\u001b[0;32m-> 1001\u001b[0;31m             \u001b[0mstudent_resid\u001b[0m\u001b[0;34m=\u001b[0m\u001b[0mself\u001b[0m\u001b[0;34m.\u001b[0m\u001b[0mresid_studentized_external\u001b[0m\u001b[0;34m,\u001b[0m\u001b[0;34m\u001b[0m\u001b[0;34m\u001b[0m\u001b[0m\n\u001b[0m\u001b[1;32m   1002\u001b[0m             \u001b[0mdffits\u001b[0m\u001b[0;34m=\u001b[0m\u001b[0mself\u001b[0m\u001b[0;34m.\u001b[0m\u001b[0mdffits\u001b[0m\u001b[0;34m[\u001b[0m\u001b[0;36m0\u001b[0m\u001b[0;34m]\u001b[0m\u001b[0;34m,\u001b[0m\u001b[0;34m\u001b[0m\u001b[0;34m\u001b[0m\u001b[0m\n\u001b[1;32m   1003\u001b[0m         ),\n",
      "\u001b[0;32mpandas/_libs/properties.pyx\u001b[0m in \u001b[0;36mpandas._libs.properties.CachedProperty.__get__\u001b[0;34m()\u001b[0m\n",
      "\u001b[0;32m/opt/anaconda3/lib/python3.8/site-packages/statsmodels/stats/outliers_influence.py\u001b[0m in \u001b[0;36mresid_studentized_external\u001b[0;34m(self)\u001b[0m\n\u001b[1;32m    658\u001b[0m         \u001b[0mrequires\u001b[0m \u001b[0mleave\u001b[0m \u001b[0mone\u001b[0m \u001b[0mout\u001b[0m \u001b[0mloop\u001b[0m \u001b[0;32mfor\u001b[0m \u001b[0mobservations\u001b[0m\u001b[0;34m\u001b[0m\u001b[0;34m\u001b[0m\u001b[0m\n\u001b[1;32m    659\u001b[0m         \"\"\"\n\u001b[0;32m--> 660\u001b[0;31m         \u001b[0msigma_looo\u001b[0m \u001b[0;34m=\u001b[0m \u001b[0mnp\u001b[0m\u001b[0;34m.\u001b[0m\u001b[0msqrt\u001b[0m\u001b[0;34m(\u001b[0m\u001b[0mself\u001b[0m\u001b[0;34m.\u001b[0m\u001b[0msigma2_not_obsi\u001b[0m\u001b[0;34m)\u001b[0m\u001b[0;34m\u001b[0m\u001b[0;34m\u001b[0m\u001b[0m\n\u001b[0m\u001b[1;32m    661\u001b[0m         \u001b[0;32mreturn\u001b[0m \u001b[0mself\u001b[0m\u001b[0;34m.\u001b[0m\u001b[0mget_resid_studentized_external\u001b[0m\u001b[0;34m(\u001b[0m\u001b[0msigma\u001b[0m\u001b[0;34m=\u001b[0m\u001b[0msigma_looo\u001b[0m\u001b[0;34m)\u001b[0m\u001b[0;34m\u001b[0m\u001b[0;34m\u001b[0m\u001b[0m\n\u001b[1;32m    662\u001b[0m \u001b[0;34m\u001b[0m\u001b[0m\n",
      "\u001b[0;32mpandas/_libs/properties.pyx\u001b[0m in \u001b[0;36mpandas._libs.properties.CachedProperty.__get__\u001b[0;34m()\u001b[0m\n",
      "\u001b[0;32m/opt/anaconda3/lib/python3.8/site-packages/statsmodels/stats/outliers_influence.py\u001b[0m in \u001b[0;36msigma2_not_obsi\u001b[0;34m(self)\u001b[0m\n\u001b[1;32m    792\u001b[0m         \u001b[0muses\u001b[0m \u001b[0mresults\u001b[0m \u001b[0;32mfrom\u001b[0m \u001b[0mleave\u001b[0m\u001b[0;34m-\u001b[0m\u001b[0mone\u001b[0m\u001b[0;34m-\u001b[0m\u001b[0mobservation\u001b[0m\u001b[0;34m-\u001b[0m\u001b[0mout\u001b[0m \u001b[0mloop\u001b[0m\u001b[0;34m\u001b[0m\u001b[0;34m\u001b[0m\u001b[0m\n\u001b[1;32m    793\u001b[0m         \"\"\"\n\u001b[0;32m--> 794\u001b[0;31m         \u001b[0;32mreturn\u001b[0m \u001b[0mnp\u001b[0m\u001b[0;34m.\u001b[0m\u001b[0masarray\u001b[0m\u001b[0;34m(\u001b[0m\u001b[0mself\u001b[0m\u001b[0;34m.\u001b[0m\u001b[0m_res_looo\u001b[0m\u001b[0;34m[\u001b[0m\u001b[0;34m'mse_resid'\u001b[0m\u001b[0;34m]\u001b[0m\u001b[0;34m)\u001b[0m\u001b[0;34m\u001b[0m\u001b[0;34m\u001b[0m\u001b[0m\n\u001b[0m\u001b[1;32m    795\u001b[0m \u001b[0;34m\u001b[0m\u001b[0m\n\u001b[1;32m    796\u001b[0m     \u001b[0;34m@\u001b[0m\u001b[0mproperty\u001b[0m\u001b[0;34m\u001b[0m\u001b[0;34m\u001b[0m\u001b[0m\n",
      "\u001b[0;32mpandas/_libs/properties.pyx\u001b[0m in \u001b[0;36mpandas._libs.properties.CachedProperty.__get__\u001b[0;34m()\u001b[0m\n",
      "\u001b[0;32m/opt/anaconda3/lib/python3.8/site-packages/statsmodels/stats/outliers_influence.py\u001b[0m in \u001b[0;36m_res_looo\u001b[0;34m(self)\u001b[0m\n\u001b[1;32m    952\u001b[0m         \u001b[0mcv_iter\u001b[0m \u001b[0;34m=\u001b[0m \u001b[0mLeaveOneOut\u001b[0m\u001b[0;34m(\u001b[0m\u001b[0mself\u001b[0m\u001b[0;34m.\u001b[0m\u001b[0mnobs\u001b[0m\u001b[0;34m)\u001b[0m\u001b[0;34m\u001b[0m\u001b[0;34m\u001b[0m\u001b[0m\n\u001b[1;32m    953\u001b[0m         \u001b[0;32mfor\u001b[0m \u001b[0minidx\u001b[0m\u001b[0;34m,\u001b[0m \u001b[0moutidx\u001b[0m \u001b[0;32min\u001b[0m \u001b[0mcv_iter\u001b[0m\u001b[0;34m:\u001b[0m\u001b[0;34m\u001b[0m\u001b[0;34m\u001b[0m\u001b[0m\n\u001b[0;32m--> 954\u001b[0;31m             \u001b[0mres_i\u001b[0m \u001b[0;34m=\u001b[0m \u001b[0mself\u001b[0m\u001b[0;34m.\u001b[0m\u001b[0mmodel_class\u001b[0m\u001b[0;34m(\u001b[0m\u001b[0mendog\u001b[0m\u001b[0;34m[\u001b[0m\u001b[0minidx\u001b[0m\u001b[0;34m]\u001b[0m\u001b[0;34m,\u001b[0m \u001b[0mexog\u001b[0m\u001b[0;34m[\u001b[0m\u001b[0minidx\u001b[0m\u001b[0;34m]\u001b[0m\u001b[0;34m)\u001b[0m\u001b[0;34m.\u001b[0m\u001b[0mfit\u001b[0m\u001b[0;34m(\u001b[0m\u001b[0;34m)\u001b[0m\u001b[0;34m\u001b[0m\u001b[0;34m\u001b[0m\u001b[0m\n\u001b[0m\u001b[1;32m    955\u001b[0m             \u001b[0mparams\u001b[0m\u001b[0;34m[\u001b[0m\u001b[0moutidx\u001b[0m\u001b[0;34m]\u001b[0m \u001b[0;34m=\u001b[0m \u001b[0mres_i\u001b[0m\u001b[0;34m.\u001b[0m\u001b[0mparams\u001b[0m\u001b[0;34m\u001b[0m\u001b[0;34m\u001b[0m\u001b[0m\n\u001b[1;32m    956\u001b[0m             \u001b[0mmse_resid\u001b[0m\u001b[0;34m[\u001b[0m\u001b[0moutidx\u001b[0m\u001b[0;34m]\u001b[0m \u001b[0;34m=\u001b[0m \u001b[0mres_i\u001b[0m\u001b[0;34m.\u001b[0m\u001b[0mmse_resid\u001b[0m\u001b[0;34m\u001b[0m\u001b[0;34m\u001b[0m\u001b[0m\n",
      "\u001b[0;32m/opt/anaconda3/lib/python3.8/site-packages/statsmodels/regression/linear_model.py\u001b[0m in \u001b[0;36mfit\u001b[0;34m(self, method, cov_type, cov_kwds, use_t, **kwargs)\u001b[0m\n\u001b[1;32m    303\u001b[0m                     hasattr(self, 'rank')):\n\u001b[1;32m    304\u001b[0m \u001b[0;34m\u001b[0m\u001b[0m\n\u001b[0;32m--> 305\u001b[0;31m                 \u001b[0mself\u001b[0m\u001b[0;34m.\u001b[0m\u001b[0mpinv_wexog\u001b[0m\u001b[0;34m,\u001b[0m \u001b[0msingular_values\u001b[0m \u001b[0;34m=\u001b[0m \u001b[0mpinv_extended\u001b[0m\u001b[0;34m(\u001b[0m\u001b[0mself\u001b[0m\u001b[0;34m.\u001b[0m\u001b[0mwexog\u001b[0m\u001b[0;34m)\u001b[0m\u001b[0;34m\u001b[0m\u001b[0;34m\u001b[0m\u001b[0m\n\u001b[0m\u001b[1;32m    306\u001b[0m                 self.normalized_cov_params = np.dot(\n\u001b[1;32m    307\u001b[0m                     self.pinv_wexog, np.transpose(self.pinv_wexog))\n",
      "\u001b[0;32m/opt/anaconda3/lib/python3.8/site-packages/statsmodels/tools/tools.py\u001b[0m in \u001b[0;36mpinv_extended\u001b[0;34m(x, rcond)\u001b[0m\n\u001b[1;32m    405\u001b[0m     \u001b[0mx\u001b[0m \u001b[0;34m=\u001b[0m \u001b[0mnp\u001b[0m\u001b[0;34m.\u001b[0m\u001b[0masarray\u001b[0m\u001b[0;34m(\u001b[0m\u001b[0mx\u001b[0m\u001b[0;34m)\u001b[0m\u001b[0;34m\u001b[0m\u001b[0;34m\u001b[0m\u001b[0m\n\u001b[1;32m    406\u001b[0m     \u001b[0mx\u001b[0m \u001b[0;34m=\u001b[0m \u001b[0mx\u001b[0m\u001b[0;34m.\u001b[0m\u001b[0mconjugate\u001b[0m\u001b[0;34m(\u001b[0m\u001b[0;34m)\u001b[0m\u001b[0;34m\u001b[0m\u001b[0;34m\u001b[0m\u001b[0m\n\u001b[0;32m--> 407\u001b[0;31m     \u001b[0mu\u001b[0m\u001b[0;34m,\u001b[0m \u001b[0ms\u001b[0m\u001b[0;34m,\u001b[0m \u001b[0mvt\u001b[0m \u001b[0;34m=\u001b[0m \u001b[0mnp\u001b[0m\u001b[0;34m.\u001b[0m\u001b[0mlinalg\u001b[0m\u001b[0;34m.\u001b[0m\u001b[0msvd\u001b[0m\u001b[0;34m(\u001b[0m\u001b[0mx\u001b[0m\u001b[0;34m,\u001b[0m \u001b[0;32mFalse\u001b[0m\u001b[0;34m)\u001b[0m\u001b[0;34m\u001b[0m\u001b[0;34m\u001b[0m\u001b[0m\n\u001b[0m\u001b[1;32m    408\u001b[0m     \u001b[0ms_orig\u001b[0m \u001b[0;34m=\u001b[0m \u001b[0mnp\u001b[0m\u001b[0;34m.\u001b[0m\u001b[0mcopy\u001b[0m\u001b[0;34m(\u001b[0m\u001b[0ms\u001b[0m\u001b[0;34m)\u001b[0m\u001b[0;34m\u001b[0m\u001b[0;34m\u001b[0m\u001b[0m\n\u001b[1;32m    409\u001b[0m     \u001b[0mm\u001b[0m \u001b[0;34m=\u001b[0m \u001b[0mu\u001b[0m\u001b[0;34m.\u001b[0m\u001b[0mshape\u001b[0m\u001b[0;34m[\u001b[0m\u001b[0;36m0\u001b[0m\u001b[0;34m]\u001b[0m\u001b[0;34m\u001b[0m\u001b[0;34m\u001b[0m\u001b[0m\n",
      "\u001b[0;32m<__array_function__ internals>\u001b[0m in \u001b[0;36msvd\u001b[0;34m(*args, **kwargs)\u001b[0m\n",
      "\u001b[0;32m/opt/anaconda3/lib/python3.8/site-packages/numpy/linalg/linalg.py\u001b[0m in \u001b[0;36msvd\u001b[0;34m(a, full_matrices, compute_uv, hermitian)\u001b[0m\n\u001b[1;32m   1659\u001b[0m \u001b[0;34m\u001b[0m\u001b[0m\n\u001b[1;32m   1660\u001b[0m         \u001b[0msignature\u001b[0m \u001b[0;34m=\u001b[0m \u001b[0;34m'D->DdD'\u001b[0m \u001b[0;32mif\u001b[0m \u001b[0misComplexType\u001b[0m\u001b[0;34m(\u001b[0m\u001b[0mt\u001b[0m\u001b[0;34m)\u001b[0m \u001b[0;32melse\u001b[0m \u001b[0;34m'd->ddd'\u001b[0m\u001b[0;34m\u001b[0m\u001b[0;34m\u001b[0m\u001b[0m\n\u001b[0;32m-> 1661\u001b[0;31m         \u001b[0mu\u001b[0m\u001b[0;34m,\u001b[0m \u001b[0ms\u001b[0m\u001b[0;34m,\u001b[0m \u001b[0mvh\u001b[0m \u001b[0;34m=\u001b[0m \u001b[0mgufunc\u001b[0m\u001b[0;34m(\u001b[0m\u001b[0ma\u001b[0m\u001b[0;34m,\u001b[0m \u001b[0msignature\u001b[0m\u001b[0;34m=\u001b[0m\u001b[0msignature\u001b[0m\u001b[0;34m,\u001b[0m \u001b[0mextobj\u001b[0m\u001b[0;34m=\u001b[0m\u001b[0mextobj\u001b[0m\u001b[0;34m)\u001b[0m\u001b[0;34m\u001b[0m\u001b[0;34m\u001b[0m\u001b[0m\n\u001b[0m\u001b[1;32m   1662\u001b[0m         \u001b[0mu\u001b[0m \u001b[0;34m=\u001b[0m \u001b[0mu\u001b[0m\u001b[0;34m.\u001b[0m\u001b[0mastype\u001b[0m\u001b[0;34m(\u001b[0m\u001b[0mresult_t\u001b[0m\u001b[0;34m,\u001b[0m \u001b[0mcopy\u001b[0m\u001b[0;34m=\u001b[0m\u001b[0;32mFalse\u001b[0m\u001b[0;34m)\u001b[0m\u001b[0;34m\u001b[0m\u001b[0;34m\u001b[0m\u001b[0m\n\u001b[1;32m   1663\u001b[0m         \u001b[0ms\u001b[0m \u001b[0;34m=\u001b[0m \u001b[0ms\u001b[0m\u001b[0;34m.\u001b[0m\u001b[0mastype\u001b[0m\u001b[0;34m(\u001b[0m\u001b[0m_realType\u001b[0m\u001b[0;34m(\u001b[0m\u001b[0mresult_t\u001b[0m\u001b[0;34m)\u001b[0m\u001b[0;34m,\u001b[0m \u001b[0mcopy\u001b[0m\u001b[0;34m=\u001b[0m\u001b[0;32mFalse\u001b[0m\u001b[0;34m)\u001b[0m\u001b[0;34m\u001b[0m\u001b[0;34m\u001b[0m\u001b[0m\n",
      "\u001b[0;31mKeyboardInterrupt\u001b[0m: "
     ]
    }
   ],
   "source": [
    "influence = model1.get_influence()\n",
    "inf_sum = influence.summary_frame()\n",
    "\n"
   ]
  },
  {
   "cell_type": "code",
   "execution_count": null,
   "metadata": {},
   "outputs": [],
   "source": [
    "student_resid = influence.resid_studentized_external\n",
    "(cooks, p) = influence.cooks_distance\n",
    "(dffits, p) = influence.dffits\n",
    "leverage = influence.hat_matrix_diag\n",
    "\n",
    "\n",
    "\n",
    "MEDVres = pd.concat([boston_df.MEDV, inf_sum], axis = 1)\n",
    "MEDVres=MEDVres.rename(columns={'hat_diag': 'leverage'})\n",
    "MEDVres.head()\n"
   ]
  },
  {
   "cell_type": "code",
   "execution_count": 113,
   "metadata": {},
   "outputs": [],
   "source": [
    "# 4 features selected that have outliers\n",
    "cols = ['adr', 'lead_time','stays_in_week_nights','stays_in_weekend_nights'] \n",
    "\n",
    "Q1 = hotel_bookings_transform[cols].quantile(0.25)\n",
    "Q3 = hotel_bookings_transform[cols].quantile(0.75)\n",
    "IQR = Q3 - Q1\n",
    "\n",
    "hotel_bookings_transform = hotel_bookings_transform[~((hotel_bookings_transform[cols] < (Q1 - 1.5* IQR)) |(hotel_bookings_transform[cols] > (Q3 + 1.5* IQR))).any(axis=1)]"
   ]
  },
  {
   "cell_type": "code",
   "execution_count": 114,
   "metadata": {},
   "outputs": [
    {
     "data": {
      "text/plain": [
       "(109425, 28)"
      ]
     },
     "execution_count": 114,
     "metadata": {},
     "output_type": "execute_result"
    }
   ],
   "source": [
    "# dataframe shape after outlier removal\n",
    "hotel_bookings_transform.shape"
   ]
  },
  {
   "cell_type": "markdown",
   "metadata": {},
   "source": [
    "##### Normalization"
   ]
  },
  {
   "cell_type": "code",
   "execution_count": 57,
   "metadata": {},
   "outputs": [
    {
     "data": {
      "text/plain": [
       "(Index(['hotel', 'lead_time', 'arrival_date_month', 'arrival_date_week_number',\n",
       "        'arrival_date_day_of_month', 'stays_in_weekend_nights',\n",
       "        'stays_in_week_nights', 'adults', 'children', 'babies',\n",
       "        'market_segment', 'distribution_channel', 'is_repeated_guest',\n",
       "        'previous_cancellations', 'previous_bookings_not_canceled',\n",
       "        'reserved_room_type', 'assigned_room_type', 'booking_changes',\n",
       "        'deposit_type', 'days_in_waiting_list', 'customer_type', 'adr',\n",
       "        'required_car_parking_spaces', 'total_of_special_requests',\n",
       "        'booking_day_of_year'],\n",
       "       dtype='object'),\n",
       " Index(['hotel', 'is_canceled', 'lead_time', 'arrival_date_month',\n",
       "        'arrival_date_week_number', 'arrival_date_day_of_month',\n",
       "        'stays_in_weekend_nights', 'stays_in_week_nights', 'adults', 'children',\n",
       "        'babies', 'market_segment', 'distribution_channel', 'is_repeated_guest',\n",
       "        'previous_cancellations', 'previous_bookings_not_canceled',\n",
       "        'reserved_room_type', 'assigned_room_type', 'booking_changes',\n",
       "        'deposit_type', 'days_in_waiting_list', 'customer_type',\n",
       "        'required_car_parking_spaces', 'total_of_special_requests',\n",
       "        'booking_day_of_year'],\n",
       "       dtype='object'))"
      ]
     },
     "execution_count": 57,
     "metadata": {},
     "output_type": "execute_result"
    }
   ],
   "source": [
    "X_cls=hotel_bookings_transform.drop(columns=['is_canceled','reservation_status','meal'])\n",
    "y_cls=hotel_bookings_transform.is_canceled\n",
    "\n",
    "X_reg=hotel_bookings_transform.drop(columns=['adr','reservation_status','meal'])\n",
    "y_reg=hotel_bookings_transform.adr\n",
    "\n",
    "columns_cls = X_cls.columns\n",
    "columns_reg = X_reg.columns\n",
    "\n",
    "columns_cls, columns_reg"
   ]
  },
  {
   "cell_type": "code",
   "execution_count": 58,
   "metadata": {},
   "outputs": [],
   "source": [
    "from sklearn import preprocessing\n",
    "scaler_cls = preprocessing.StandardScaler().fit(X_cls)\n",
    "scaler_reg = preprocessing.StandardScaler().fit(X_reg)\n",
    "\n",
    "X_cls_scaled = pd.DataFrame(scaler_cls.transform(X_cls),columns=columns_cls)\n",
    "X_reg_scaled = pd.DataFrame(scaler_reg.transform(X_reg),columns=columns_reg)"
   ]
  },
  {
   "cell_type": "code",
   "execution_count": 59,
   "metadata": {},
   "outputs": [
    {
     "data": {
      "text/html": [
       "<div>\n",
       "<style scoped>\n",
       "    .dataframe tbody tr th:only-of-type {\n",
       "        vertical-align: middle;\n",
       "    }\n",
       "\n",
       "    .dataframe tbody tr th {\n",
       "        vertical-align: top;\n",
       "    }\n",
       "\n",
       "    .dataframe thead th {\n",
       "        text-align: right;\n",
       "    }\n",
       "</style>\n",
       "<table border=\"1\" class=\"dataframe\">\n",
       "  <thead>\n",
       "    <tr style=\"text-align: right;\">\n",
       "      <th></th>\n",
       "      <th>hotel</th>\n",
       "      <th>lead_time</th>\n",
       "      <th>arrival_date_month</th>\n",
       "      <th>arrival_date_week_number</th>\n",
       "      <th>arrival_date_day_of_month</th>\n",
       "      <th>stays_in_weekend_nights</th>\n",
       "      <th>stays_in_week_nights</th>\n",
       "      <th>adults</th>\n",
       "      <th>children</th>\n",
       "      <th>babies</th>\n",
       "      <th>...</th>\n",
       "      <th>reserved_room_type</th>\n",
       "      <th>assigned_room_type</th>\n",
       "      <th>booking_changes</th>\n",
       "      <th>deposit_type</th>\n",
       "      <th>days_in_waiting_list</th>\n",
       "      <th>customer_type</th>\n",
       "      <th>adr</th>\n",
       "      <th>required_car_parking_spaces</th>\n",
       "      <th>total_of_special_requests</th>\n",
       "      <th>booking_day_of_year</th>\n",
       "    </tr>\n",
       "  </thead>\n",
       "  <tbody>\n",
       "    <tr>\n",
       "      <th>0</th>\n",
       "      <td>1.407224</td>\n",
       "      <td>2.227051</td>\n",
       "      <td>0.144799</td>\n",
       "      <td>-0.012141</td>\n",
       "      <td>-1.685297</td>\n",
       "      <td>-0.928890</td>\n",
       "      <td>-1.310240</td>\n",
       "      <td>0.247897</td>\n",
       "      <td>-0.260659</td>\n",
       "      <td>-0.081579</td>\n",
       "      <td>...</td>\n",
       "      <td>0.595363</td>\n",
       "      <td>0.356939</td>\n",
       "      <td>4.260101</td>\n",
       "      <td>-0.373175</td>\n",
       "      <td>-0.131924</td>\n",
       "      <td>-0.237979</td>\n",
       "      <td>-2.015038</td>\n",
       "      <td>-0.254873</td>\n",
       "      <td>-0.720694</td>\n",
       "      <td>-0.023432</td>\n",
       "    </tr>\n",
       "    <tr>\n",
       "      <th>1</th>\n",
       "      <td>1.407224</td>\n",
       "      <td>5.923385</td>\n",
       "      <td>0.144799</td>\n",
       "      <td>-0.012141</td>\n",
       "      <td>-1.685297</td>\n",
       "      <td>-0.928890</td>\n",
       "      <td>-1.310240</td>\n",
       "      <td>0.247897</td>\n",
       "      <td>-0.260659</td>\n",
       "      <td>-0.081579</td>\n",
       "      <td>...</td>\n",
       "      <td>0.595363</td>\n",
       "      <td>0.356939</td>\n",
       "      <td>5.793131</td>\n",
       "      <td>-0.373175</td>\n",
       "      <td>-0.131924</td>\n",
       "      <td>-0.237979</td>\n",
       "      <td>-2.015038</td>\n",
       "      <td>-0.254873</td>\n",
       "      <td>-0.720694</td>\n",
       "      <td>-0.023432</td>\n",
       "    </tr>\n",
       "    <tr>\n",
       "      <th>2</th>\n",
       "      <td>1.407224</td>\n",
       "      <td>-0.907814</td>\n",
       "      <td>0.144799</td>\n",
       "      <td>-0.012141</td>\n",
       "      <td>-1.685297</td>\n",
       "      <td>-0.928890</td>\n",
       "      <td>-0.786207</td>\n",
       "      <td>-1.478447</td>\n",
       "      <td>-0.260659</td>\n",
       "      <td>-0.081579</td>\n",
       "      <td>...</td>\n",
       "      <td>-0.582996</td>\n",
       "      <td>0.356939</td>\n",
       "      <td>-0.338990</td>\n",
       "      <td>-0.373175</td>\n",
       "      <td>-0.131924</td>\n",
       "      <td>-0.237979</td>\n",
       "      <td>-0.530935</td>\n",
       "      <td>-0.254873</td>\n",
       "      <td>-0.720694</td>\n",
       "      <td>-0.023432</td>\n",
       "    </tr>\n",
       "    <tr>\n",
       "      <th>3</th>\n",
       "      <td>1.407224</td>\n",
       "      <td>-0.851667</td>\n",
       "      <td>0.144799</td>\n",
       "      <td>-0.012141</td>\n",
       "      <td>-1.685297</td>\n",
       "      <td>-0.928890</td>\n",
       "      <td>-0.786207</td>\n",
       "      <td>-1.478447</td>\n",
       "      <td>-0.260659</td>\n",
       "      <td>-0.081579</td>\n",
       "      <td>...</td>\n",
       "      <td>-0.582996</td>\n",
       "      <td>-0.707596</td>\n",
       "      <td>-0.338990</td>\n",
       "      <td>-0.373175</td>\n",
       "      <td>-0.131924</td>\n",
       "      <td>-0.237979</td>\n",
       "      <td>-0.530935</td>\n",
       "      <td>-0.254873</td>\n",
       "      <td>-0.720694</td>\n",
       "      <td>-0.023432</td>\n",
       "    </tr>\n",
       "    <tr>\n",
       "      <th>4</th>\n",
       "      <td>1.407224</td>\n",
       "      <td>-0.842309</td>\n",
       "      <td>0.144799</td>\n",
       "      <td>-0.012141</td>\n",
       "      <td>-1.685297</td>\n",
       "      <td>-0.928890</td>\n",
       "      <td>-0.262174</td>\n",
       "      <td>0.247897</td>\n",
       "      <td>-0.260659</td>\n",
       "      <td>-0.081579</td>\n",
       "      <td>...</td>\n",
       "      <td>-0.582996</td>\n",
       "      <td>-0.707596</td>\n",
       "      <td>-0.338990</td>\n",
       "      <td>-0.373175</td>\n",
       "      <td>-0.131924</td>\n",
       "      <td>-0.237979</td>\n",
       "      <td>-0.075810</td>\n",
       "      <td>-0.254873</td>\n",
       "      <td>0.540666</td>\n",
       "      <td>-0.023432</td>\n",
       "    </tr>\n",
       "    <tr>\n",
       "      <th>...</th>\n",
       "      <td>...</td>\n",
       "      <td>...</td>\n",
       "      <td>...</td>\n",
       "      <td>...</td>\n",
       "      <td>...</td>\n",
       "      <td>...</td>\n",
       "      <td>...</td>\n",
       "      <td>...</td>\n",
       "      <td>...</td>\n",
       "      <td>...</td>\n",
       "      <td>...</td>\n",
       "      <td>...</td>\n",
       "      <td>...</td>\n",
       "      <td>...</td>\n",
       "      <td>...</td>\n",
       "      <td>...</td>\n",
       "      <td>...</td>\n",
       "      <td>...</td>\n",
       "      <td>...</td>\n",
       "      <td>...</td>\n",
       "      <td>...</td>\n",
       "    </tr>\n",
       "    <tr>\n",
       "      <th>119385</th>\n",
       "      <td>-0.710619</td>\n",
       "      <td>-0.758089</td>\n",
       "      <td>0.468360</td>\n",
       "      <td>0.575875</td>\n",
       "      <td>1.617366</td>\n",
       "      <td>1.073895</td>\n",
       "      <td>1.309924</td>\n",
       "      <td>0.247897</td>\n",
       "      <td>-0.260659</td>\n",
       "      <td>-0.081579</td>\n",
       "      <td>...</td>\n",
       "      <td>-0.582996</td>\n",
       "      <td>-0.707596</td>\n",
       "      <td>-0.338990</td>\n",
       "      <td>-0.373175</td>\n",
       "      <td>-0.131924</td>\n",
       "      <td>-0.237979</td>\n",
       "      <td>-0.112616</td>\n",
       "      <td>-0.254873</td>\n",
       "      <td>-0.720694</td>\n",
       "      <td>0.612376</td>\n",
       "    </tr>\n",
       "    <tr>\n",
       "      <th>119386</th>\n",
       "      <td>-0.710619</td>\n",
       "      <td>-0.018822</td>\n",
       "      <td>0.468360</td>\n",
       "      <td>0.575875</td>\n",
       "      <td>1.731251</td>\n",
       "      <td>1.073895</td>\n",
       "      <td>1.309924</td>\n",
       "      <td>1.974242</td>\n",
       "      <td>-0.260659</td>\n",
       "      <td>-0.081579</td>\n",
       "      <td>...</td>\n",
       "      <td>1.773723</td>\n",
       "      <td>1.421475</td>\n",
       "      <td>-0.338990</td>\n",
       "      <td>-0.373175</td>\n",
       "      <td>-0.131924</td>\n",
       "      <td>-0.237979</td>\n",
       "      <td>2.445779</td>\n",
       "      <td>-0.254873</td>\n",
       "      <td>1.802026</td>\n",
       "      <td>0.622973</td>\n",
       "    </tr>\n",
       "    <tr>\n",
       "      <th>119387</th>\n",
       "      <td>-0.710619</td>\n",
       "      <td>-0.655153</td>\n",
       "      <td>0.468360</td>\n",
       "      <td>0.575875</td>\n",
       "      <td>1.731251</td>\n",
       "      <td>1.073895</td>\n",
       "      <td>1.309924</td>\n",
       "      <td>0.247897</td>\n",
       "      <td>-0.260659</td>\n",
       "      <td>-0.081579</td>\n",
       "      <td>...</td>\n",
       "      <td>1.184543</td>\n",
       "      <td>0.889207</td>\n",
       "      <td>-0.338990</td>\n",
       "      <td>-0.373175</td>\n",
       "      <td>-0.131924</td>\n",
       "      <td>-0.237979</td>\n",
       "      <td>1.105733</td>\n",
       "      <td>-0.254873</td>\n",
       "      <td>4.324746</td>\n",
       "      <td>0.622973</td>\n",
       "    </tr>\n",
       "    <tr>\n",
       "      <th>119388</th>\n",
       "      <td>-0.710619</td>\n",
       "      <td>0.046682</td>\n",
       "      <td>0.468360</td>\n",
       "      <td>0.575875</td>\n",
       "      <td>1.731251</td>\n",
       "      <td>1.073895</td>\n",
       "      <td>1.309924</td>\n",
       "      <td>0.247897</td>\n",
       "      <td>-0.260659</td>\n",
       "      <td>-0.081579</td>\n",
       "      <td>...</td>\n",
       "      <td>-0.582996</td>\n",
       "      <td>-0.707596</td>\n",
       "      <td>-0.338990</td>\n",
       "      <td>-0.373175</td>\n",
       "      <td>-0.131924</td>\n",
       "      <td>-0.237979</td>\n",
       "      <td>0.050833</td>\n",
       "      <td>-0.254873</td>\n",
       "      <td>-0.720694</td>\n",
       "      <td>0.622973</td>\n",
       "    </tr>\n",
       "    <tr>\n",
       "      <th>119389</th>\n",
       "      <td>-0.710619</td>\n",
       "      <td>0.945032</td>\n",
       "      <td>0.468360</td>\n",
       "      <td>0.575875</td>\n",
       "      <td>1.503481</td>\n",
       "      <td>1.073895</td>\n",
       "      <td>2.357989</td>\n",
       "      <td>0.247897</td>\n",
       "      <td>-0.260659</td>\n",
       "      <td>-0.081579</td>\n",
       "      <td>...</td>\n",
       "      <td>-0.582996</td>\n",
       "      <td>-0.707596</td>\n",
       "      <td>-0.338990</td>\n",
       "      <td>-0.373175</td>\n",
       "      <td>-0.131924</td>\n",
       "      <td>-0.237979</td>\n",
       "      <td>0.976913</td>\n",
       "      <td>-0.254873</td>\n",
       "      <td>1.802026</td>\n",
       "      <td>0.601779</td>\n",
       "    </tr>\n",
       "  </tbody>\n",
       "</table>\n",
       "<p>119390 rows × 25 columns</p>\n",
       "</div>"
      ],
      "text/plain": [
       "           hotel  lead_time  arrival_date_month  arrival_date_week_number  \\\n",
       "0       1.407224   2.227051            0.144799                 -0.012141   \n",
       "1       1.407224   5.923385            0.144799                 -0.012141   \n",
       "2       1.407224  -0.907814            0.144799                 -0.012141   \n",
       "3       1.407224  -0.851667            0.144799                 -0.012141   \n",
       "4       1.407224  -0.842309            0.144799                 -0.012141   \n",
       "...          ...        ...                 ...                       ...   \n",
       "119385 -0.710619  -0.758089            0.468360                  0.575875   \n",
       "119386 -0.710619  -0.018822            0.468360                  0.575875   \n",
       "119387 -0.710619  -0.655153            0.468360                  0.575875   \n",
       "119388 -0.710619   0.046682            0.468360                  0.575875   \n",
       "119389 -0.710619   0.945032            0.468360                  0.575875   \n",
       "\n",
       "        arrival_date_day_of_month  stays_in_weekend_nights  \\\n",
       "0                       -1.685297                -0.928890   \n",
       "1                       -1.685297                -0.928890   \n",
       "2                       -1.685297                -0.928890   \n",
       "3                       -1.685297                -0.928890   \n",
       "4                       -1.685297                -0.928890   \n",
       "...                           ...                      ...   \n",
       "119385                   1.617366                 1.073895   \n",
       "119386                   1.731251                 1.073895   \n",
       "119387                   1.731251                 1.073895   \n",
       "119388                   1.731251                 1.073895   \n",
       "119389                   1.503481                 1.073895   \n",
       "\n",
       "        stays_in_week_nights    adults  children    babies  ...  \\\n",
       "0                  -1.310240  0.247897 -0.260659 -0.081579  ...   \n",
       "1                  -1.310240  0.247897 -0.260659 -0.081579  ...   \n",
       "2                  -0.786207 -1.478447 -0.260659 -0.081579  ...   \n",
       "3                  -0.786207 -1.478447 -0.260659 -0.081579  ...   \n",
       "4                  -0.262174  0.247897 -0.260659 -0.081579  ...   \n",
       "...                      ...       ...       ...       ...  ...   \n",
       "119385              1.309924  0.247897 -0.260659 -0.081579  ...   \n",
       "119386              1.309924  1.974242 -0.260659 -0.081579  ...   \n",
       "119387              1.309924  0.247897 -0.260659 -0.081579  ...   \n",
       "119388              1.309924  0.247897 -0.260659 -0.081579  ...   \n",
       "119389              2.357989  0.247897 -0.260659 -0.081579  ...   \n",
       "\n",
       "        reserved_room_type  assigned_room_type  booking_changes  deposit_type  \\\n",
       "0                 0.595363            0.356939         4.260101     -0.373175   \n",
       "1                 0.595363            0.356939         5.793131     -0.373175   \n",
       "2                -0.582996            0.356939        -0.338990     -0.373175   \n",
       "3                -0.582996           -0.707596        -0.338990     -0.373175   \n",
       "4                -0.582996           -0.707596        -0.338990     -0.373175   \n",
       "...                    ...                 ...              ...           ...   \n",
       "119385           -0.582996           -0.707596        -0.338990     -0.373175   \n",
       "119386            1.773723            1.421475        -0.338990     -0.373175   \n",
       "119387            1.184543            0.889207        -0.338990     -0.373175   \n",
       "119388           -0.582996           -0.707596        -0.338990     -0.373175   \n",
       "119389           -0.582996           -0.707596        -0.338990     -0.373175   \n",
       "\n",
       "        days_in_waiting_list  customer_type       adr  \\\n",
       "0                  -0.131924      -0.237979 -2.015038   \n",
       "1                  -0.131924      -0.237979 -2.015038   \n",
       "2                  -0.131924      -0.237979 -0.530935   \n",
       "3                  -0.131924      -0.237979 -0.530935   \n",
       "4                  -0.131924      -0.237979 -0.075810   \n",
       "...                      ...            ...       ...   \n",
       "119385             -0.131924      -0.237979 -0.112616   \n",
       "119386             -0.131924      -0.237979  2.445779   \n",
       "119387             -0.131924      -0.237979  1.105733   \n",
       "119388             -0.131924      -0.237979  0.050833   \n",
       "119389             -0.131924      -0.237979  0.976913   \n",
       "\n",
       "        required_car_parking_spaces  total_of_special_requests  \\\n",
       "0                         -0.254873                  -0.720694   \n",
       "1                         -0.254873                  -0.720694   \n",
       "2                         -0.254873                  -0.720694   \n",
       "3                         -0.254873                  -0.720694   \n",
       "4                         -0.254873                   0.540666   \n",
       "...                             ...                        ...   \n",
       "119385                    -0.254873                  -0.720694   \n",
       "119386                    -0.254873                   1.802026   \n",
       "119387                    -0.254873                   4.324746   \n",
       "119388                    -0.254873                  -0.720694   \n",
       "119389                    -0.254873                   1.802026   \n",
       "\n",
       "        booking_day_of_year  \n",
       "0                 -0.023432  \n",
       "1                 -0.023432  \n",
       "2                 -0.023432  \n",
       "3                 -0.023432  \n",
       "4                 -0.023432  \n",
       "...                     ...  \n",
       "119385             0.612376  \n",
       "119386             0.622973  \n",
       "119387             0.622973  \n",
       "119388             0.622973  \n",
       "119389             0.601779  \n",
       "\n",
       "[119390 rows x 25 columns]"
      ]
     },
     "execution_count": 59,
     "metadata": {},
     "output_type": "execute_result"
    }
   ],
   "source": [
    "X_cls_scaled"
   ]
  },
  {
   "cell_type": "code",
   "execution_count": 60,
   "metadata": {},
   "outputs": [
    {
     "data": {
      "text/html": [
       "<div>\n",
       "<style scoped>\n",
       "    .dataframe tbody tr th:only-of-type {\n",
       "        vertical-align: middle;\n",
       "    }\n",
       "\n",
       "    .dataframe tbody tr th {\n",
       "        vertical-align: top;\n",
       "    }\n",
       "\n",
       "    .dataframe thead th {\n",
       "        text-align: right;\n",
       "    }\n",
       "</style>\n",
       "<table border=\"1\" class=\"dataframe\">\n",
       "  <thead>\n",
       "    <tr style=\"text-align: right;\">\n",
       "      <th></th>\n",
       "      <th>hotel</th>\n",
       "      <th>is_canceled</th>\n",
       "      <th>lead_time</th>\n",
       "      <th>arrival_date_month</th>\n",
       "      <th>arrival_date_week_number</th>\n",
       "      <th>arrival_date_day_of_month</th>\n",
       "      <th>stays_in_weekend_nights</th>\n",
       "      <th>stays_in_week_nights</th>\n",
       "      <th>adults</th>\n",
       "      <th>children</th>\n",
       "      <th>...</th>\n",
       "      <th>previous_bookings_not_canceled</th>\n",
       "      <th>reserved_room_type</th>\n",
       "      <th>assigned_room_type</th>\n",
       "      <th>booking_changes</th>\n",
       "      <th>deposit_type</th>\n",
       "      <th>days_in_waiting_list</th>\n",
       "      <th>customer_type</th>\n",
       "      <th>required_car_parking_spaces</th>\n",
       "      <th>total_of_special_requests</th>\n",
       "      <th>booking_day_of_year</th>\n",
       "    </tr>\n",
       "  </thead>\n",
       "  <tbody>\n",
       "    <tr>\n",
       "      <th>0</th>\n",
       "      <td>1.407224</td>\n",
       "      <td>-0.76704</td>\n",
       "      <td>2.227051</td>\n",
       "      <td>0.144799</td>\n",
       "      <td>-0.012141</td>\n",
       "      <td>-1.685297</td>\n",
       "      <td>-0.928890</td>\n",
       "      <td>-1.310240</td>\n",
       "      <td>0.247897</td>\n",
       "      <td>-0.260659</td>\n",
       "      <td>...</td>\n",
       "      <td>-0.091555</td>\n",
       "      <td>0.595363</td>\n",
       "      <td>0.356939</td>\n",
       "      <td>4.260101</td>\n",
       "      <td>-0.373175</td>\n",
       "      <td>-0.131924</td>\n",
       "      <td>-0.237979</td>\n",
       "      <td>-0.254873</td>\n",
       "      <td>-0.720694</td>\n",
       "      <td>-0.023432</td>\n",
       "    </tr>\n",
       "    <tr>\n",
       "      <th>1</th>\n",
       "      <td>1.407224</td>\n",
       "      <td>-0.76704</td>\n",
       "      <td>5.923385</td>\n",
       "      <td>0.144799</td>\n",
       "      <td>-0.012141</td>\n",
       "      <td>-1.685297</td>\n",
       "      <td>-0.928890</td>\n",
       "      <td>-1.310240</td>\n",
       "      <td>0.247897</td>\n",
       "      <td>-0.260659</td>\n",
       "      <td>...</td>\n",
       "      <td>-0.091555</td>\n",
       "      <td>0.595363</td>\n",
       "      <td>0.356939</td>\n",
       "      <td>5.793131</td>\n",
       "      <td>-0.373175</td>\n",
       "      <td>-0.131924</td>\n",
       "      <td>-0.237979</td>\n",
       "      <td>-0.254873</td>\n",
       "      <td>-0.720694</td>\n",
       "      <td>-0.023432</td>\n",
       "    </tr>\n",
       "    <tr>\n",
       "      <th>2</th>\n",
       "      <td>1.407224</td>\n",
       "      <td>-0.76704</td>\n",
       "      <td>-0.907814</td>\n",
       "      <td>0.144799</td>\n",
       "      <td>-0.012141</td>\n",
       "      <td>-1.685297</td>\n",
       "      <td>-0.928890</td>\n",
       "      <td>-0.786207</td>\n",
       "      <td>-1.478447</td>\n",
       "      <td>-0.260659</td>\n",
       "      <td>...</td>\n",
       "      <td>-0.091555</td>\n",
       "      <td>-0.582996</td>\n",
       "      <td>0.356939</td>\n",
       "      <td>-0.338990</td>\n",
       "      <td>-0.373175</td>\n",
       "      <td>-0.131924</td>\n",
       "      <td>-0.237979</td>\n",
       "      <td>-0.254873</td>\n",
       "      <td>-0.720694</td>\n",
       "      <td>-0.023432</td>\n",
       "    </tr>\n",
       "    <tr>\n",
       "      <th>3</th>\n",
       "      <td>1.407224</td>\n",
       "      <td>-0.76704</td>\n",
       "      <td>-0.851667</td>\n",
       "      <td>0.144799</td>\n",
       "      <td>-0.012141</td>\n",
       "      <td>-1.685297</td>\n",
       "      <td>-0.928890</td>\n",
       "      <td>-0.786207</td>\n",
       "      <td>-1.478447</td>\n",
       "      <td>-0.260659</td>\n",
       "      <td>...</td>\n",
       "      <td>-0.091555</td>\n",
       "      <td>-0.582996</td>\n",
       "      <td>-0.707596</td>\n",
       "      <td>-0.338990</td>\n",
       "      <td>-0.373175</td>\n",
       "      <td>-0.131924</td>\n",
       "      <td>-0.237979</td>\n",
       "      <td>-0.254873</td>\n",
       "      <td>-0.720694</td>\n",
       "      <td>-0.023432</td>\n",
       "    </tr>\n",
       "    <tr>\n",
       "      <th>4</th>\n",
       "      <td>1.407224</td>\n",
       "      <td>-0.76704</td>\n",
       "      <td>-0.842309</td>\n",
       "      <td>0.144799</td>\n",
       "      <td>-0.012141</td>\n",
       "      <td>-1.685297</td>\n",
       "      <td>-0.928890</td>\n",
       "      <td>-0.262174</td>\n",
       "      <td>0.247897</td>\n",
       "      <td>-0.260659</td>\n",
       "      <td>...</td>\n",
       "      <td>-0.091555</td>\n",
       "      <td>-0.582996</td>\n",
       "      <td>-0.707596</td>\n",
       "      <td>-0.338990</td>\n",
       "      <td>-0.373175</td>\n",
       "      <td>-0.131924</td>\n",
       "      <td>-0.237979</td>\n",
       "      <td>-0.254873</td>\n",
       "      <td>0.540666</td>\n",
       "      <td>-0.023432</td>\n",
       "    </tr>\n",
       "    <tr>\n",
       "      <th>...</th>\n",
       "      <td>...</td>\n",
       "      <td>...</td>\n",
       "      <td>...</td>\n",
       "      <td>...</td>\n",
       "      <td>...</td>\n",
       "      <td>...</td>\n",
       "      <td>...</td>\n",
       "      <td>...</td>\n",
       "      <td>...</td>\n",
       "      <td>...</td>\n",
       "      <td>...</td>\n",
       "      <td>...</td>\n",
       "      <td>...</td>\n",
       "      <td>...</td>\n",
       "      <td>...</td>\n",
       "      <td>...</td>\n",
       "      <td>...</td>\n",
       "      <td>...</td>\n",
       "      <td>...</td>\n",
       "      <td>...</td>\n",
       "      <td>...</td>\n",
       "    </tr>\n",
       "    <tr>\n",
       "      <th>119385</th>\n",
       "      <td>-0.710619</td>\n",
       "      <td>-0.76704</td>\n",
       "      <td>-0.758089</td>\n",
       "      <td>0.468360</td>\n",
       "      <td>0.575875</td>\n",
       "      <td>1.617366</td>\n",
       "      <td>1.073895</td>\n",
       "      <td>1.309924</td>\n",
       "      <td>0.247897</td>\n",
       "      <td>-0.260659</td>\n",
       "      <td>...</td>\n",
       "      <td>-0.091555</td>\n",
       "      <td>-0.582996</td>\n",
       "      <td>-0.707596</td>\n",
       "      <td>-0.338990</td>\n",
       "      <td>-0.373175</td>\n",
       "      <td>-0.131924</td>\n",
       "      <td>-0.237979</td>\n",
       "      <td>-0.254873</td>\n",
       "      <td>-0.720694</td>\n",
       "      <td>0.612376</td>\n",
       "    </tr>\n",
       "    <tr>\n",
       "      <th>119386</th>\n",
       "      <td>-0.710619</td>\n",
       "      <td>-0.76704</td>\n",
       "      <td>-0.018822</td>\n",
       "      <td>0.468360</td>\n",
       "      <td>0.575875</td>\n",
       "      <td>1.731251</td>\n",
       "      <td>1.073895</td>\n",
       "      <td>1.309924</td>\n",
       "      <td>1.974242</td>\n",
       "      <td>-0.260659</td>\n",
       "      <td>...</td>\n",
       "      <td>-0.091555</td>\n",
       "      <td>1.773723</td>\n",
       "      <td>1.421475</td>\n",
       "      <td>-0.338990</td>\n",
       "      <td>-0.373175</td>\n",
       "      <td>-0.131924</td>\n",
       "      <td>-0.237979</td>\n",
       "      <td>-0.254873</td>\n",
       "      <td>1.802026</td>\n",
       "      <td>0.622973</td>\n",
       "    </tr>\n",
       "    <tr>\n",
       "      <th>119387</th>\n",
       "      <td>-0.710619</td>\n",
       "      <td>-0.76704</td>\n",
       "      <td>-0.655153</td>\n",
       "      <td>0.468360</td>\n",
       "      <td>0.575875</td>\n",
       "      <td>1.731251</td>\n",
       "      <td>1.073895</td>\n",
       "      <td>1.309924</td>\n",
       "      <td>0.247897</td>\n",
       "      <td>-0.260659</td>\n",
       "      <td>...</td>\n",
       "      <td>-0.091555</td>\n",
       "      <td>1.184543</td>\n",
       "      <td>0.889207</td>\n",
       "      <td>-0.338990</td>\n",
       "      <td>-0.373175</td>\n",
       "      <td>-0.131924</td>\n",
       "      <td>-0.237979</td>\n",
       "      <td>-0.254873</td>\n",
       "      <td>4.324746</td>\n",
       "      <td>0.622973</td>\n",
       "    </tr>\n",
       "    <tr>\n",
       "      <th>119388</th>\n",
       "      <td>-0.710619</td>\n",
       "      <td>-0.76704</td>\n",
       "      <td>0.046682</td>\n",
       "      <td>0.468360</td>\n",
       "      <td>0.575875</td>\n",
       "      <td>1.731251</td>\n",
       "      <td>1.073895</td>\n",
       "      <td>1.309924</td>\n",
       "      <td>0.247897</td>\n",
       "      <td>-0.260659</td>\n",
       "      <td>...</td>\n",
       "      <td>-0.091555</td>\n",
       "      <td>-0.582996</td>\n",
       "      <td>-0.707596</td>\n",
       "      <td>-0.338990</td>\n",
       "      <td>-0.373175</td>\n",
       "      <td>-0.131924</td>\n",
       "      <td>-0.237979</td>\n",
       "      <td>-0.254873</td>\n",
       "      <td>-0.720694</td>\n",
       "      <td>0.622973</td>\n",
       "    </tr>\n",
       "    <tr>\n",
       "      <th>119389</th>\n",
       "      <td>-0.710619</td>\n",
       "      <td>-0.76704</td>\n",
       "      <td>0.945032</td>\n",
       "      <td>0.468360</td>\n",
       "      <td>0.575875</td>\n",
       "      <td>1.503481</td>\n",
       "      <td>1.073895</td>\n",
       "      <td>2.357989</td>\n",
       "      <td>0.247897</td>\n",
       "      <td>-0.260659</td>\n",
       "      <td>...</td>\n",
       "      <td>-0.091555</td>\n",
       "      <td>-0.582996</td>\n",
       "      <td>-0.707596</td>\n",
       "      <td>-0.338990</td>\n",
       "      <td>-0.373175</td>\n",
       "      <td>-0.131924</td>\n",
       "      <td>-0.237979</td>\n",
       "      <td>-0.254873</td>\n",
       "      <td>1.802026</td>\n",
       "      <td>0.601779</td>\n",
       "    </tr>\n",
       "  </tbody>\n",
       "</table>\n",
       "<p>119390 rows × 25 columns</p>\n",
       "</div>"
      ],
      "text/plain": [
       "           hotel  is_canceled  lead_time  arrival_date_month  \\\n",
       "0       1.407224     -0.76704   2.227051            0.144799   \n",
       "1       1.407224     -0.76704   5.923385            0.144799   \n",
       "2       1.407224     -0.76704  -0.907814            0.144799   \n",
       "3       1.407224     -0.76704  -0.851667            0.144799   \n",
       "4       1.407224     -0.76704  -0.842309            0.144799   \n",
       "...          ...          ...        ...                 ...   \n",
       "119385 -0.710619     -0.76704  -0.758089            0.468360   \n",
       "119386 -0.710619     -0.76704  -0.018822            0.468360   \n",
       "119387 -0.710619     -0.76704  -0.655153            0.468360   \n",
       "119388 -0.710619     -0.76704   0.046682            0.468360   \n",
       "119389 -0.710619     -0.76704   0.945032            0.468360   \n",
       "\n",
       "        arrival_date_week_number  arrival_date_day_of_month  \\\n",
       "0                      -0.012141                  -1.685297   \n",
       "1                      -0.012141                  -1.685297   \n",
       "2                      -0.012141                  -1.685297   \n",
       "3                      -0.012141                  -1.685297   \n",
       "4                      -0.012141                  -1.685297   \n",
       "...                          ...                        ...   \n",
       "119385                  0.575875                   1.617366   \n",
       "119386                  0.575875                   1.731251   \n",
       "119387                  0.575875                   1.731251   \n",
       "119388                  0.575875                   1.731251   \n",
       "119389                  0.575875                   1.503481   \n",
       "\n",
       "        stays_in_weekend_nights  stays_in_week_nights    adults  children  \\\n",
       "0                     -0.928890             -1.310240  0.247897 -0.260659   \n",
       "1                     -0.928890             -1.310240  0.247897 -0.260659   \n",
       "2                     -0.928890             -0.786207 -1.478447 -0.260659   \n",
       "3                     -0.928890             -0.786207 -1.478447 -0.260659   \n",
       "4                     -0.928890             -0.262174  0.247897 -0.260659   \n",
       "...                         ...                   ...       ...       ...   \n",
       "119385                 1.073895              1.309924  0.247897 -0.260659   \n",
       "119386                 1.073895              1.309924  1.974242 -0.260659   \n",
       "119387                 1.073895              1.309924  0.247897 -0.260659   \n",
       "119388                 1.073895              1.309924  0.247897 -0.260659   \n",
       "119389                 1.073895              2.357989  0.247897 -0.260659   \n",
       "\n",
       "        ...  previous_bookings_not_canceled  reserved_room_type  \\\n",
       "0       ...                       -0.091555            0.595363   \n",
       "1       ...                       -0.091555            0.595363   \n",
       "2       ...                       -0.091555           -0.582996   \n",
       "3       ...                       -0.091555           -0.582996   \n",
       "4       ...                       -0.091555           -0.582996   \n",
       "...     ...                             ...                 ...   \n",
       "119385  ...                       -0.091555           -0.582996   \n",
       "119386  ...                       -0.091555            1.773723   \n",
       "119387  ...                       -0.091555            1.184543   \n",
       "119388  ...                       -0.091555           -0.582996   \n",
       "119389  ...                       -0.091555           -0.582996   \n",
       "\n",
       "        assigned_room_type  booking_changes  deposit_type  \\\n",
       "0                 0.356939         4.260101     -0.373175   \n",
       "1                 0.356939         5.793131     -0.373175   \n",
       "2                 0.356939        -0.338990     -0.373175   \n",
       "3                -0.707596        -0.338990     -0.373175   \n",
       "4                -0.707596        -0.338990     -0.373175   \n",
       "...                    ...              ...           ...   \n",
       "119385           -0.707596        -0.338990     -0.373175   \n",
       "119386            1.421475        -0.338990     -0.373175   \n",
       "119387            0.889207        -0.338990     -0.373175   \n",
       "119388           -0.707596        -0.338990     -0.373175   \n",
       "119389           -0.707596        -0.338990     -0.373175   \n",
       "\n",
       "        days_in_waiting_list  customer_type  required_car_parking_spaces  \\\n",
       "0                  -0.131924      -0.237979                    -0.254873   \n",
       "1                  -0.131924      -0.237979                    -0.254873   \n",
       "2                  -0.131924      -0.237979                    -0.254873   \n",
       "3                  -0.131924      -0.237979                    -0.254873   \n",
       "4                  -0.131924      -0.237979                    -0.254873   \n",
       "...                      ...            ...                          ...   \n",
       "119385             -0.131924      -0.237979                    -0.254873   \n",
       "119386             -0.131924      -0.237979                    -0.254873   \n",
       "119387             -0.131924      -0.237979                    -0.254873   \n",
       "119388             -0.131924      -0.237979                    -0.254873   \n",
       "119389             -0.131924      -0.237979                    -0.254873   \n",
       "\n",
       "        total_of_special_requests  booking_day_of_year  \n",
       "0                       -0.720694            -0.023432  \n",
       "1                       -0.720694            -0.023432  \n",
       "2                       -0.720694            -0.023432  \n",
       "3                       -0.720694            -0.023432  \n",
       "4                        0.540666            -0.023432  \n",
       "...                           ...                  ...  \n",
       "119385                  -0.720694             0.612376  \n",
       "119386                   1.802026             0.622973  \n",
       "119387                   4.324746             0.622973  \n",
       "119388                  -0.720694             0.622973  \n",
       "119389                   1.802026             0.601779  \n",
       "\n",
       "[119390 rows x 25 columns]"
      ]
     },
     "execution_count": 60,
     "metadata": {},
     "output_type": "execute_result"
    }
   ],
   "source": [
    "X_reg_scaled"
   ]
  },
  {
   "cell_type": "markdown",
   "metadata": {},
   "source": [
    "Verifying each feature has a mean of zero and the standard deviation should be 1 for classification:"
   ]
  },
  {
   "cell_type": "code",
   "execution_count": 61,
   "metadata": {
    "scrolled": false
   },
   "outputs": [
    {
     "name": "stdout",
     "output_type": "stream",
     "text": [
      "classification scaler mean:\n",
      "hotel                            -2.148285e-13\n",
      "lead_time                         3.358325e-16\n",
      "arrival_date_month               -1.221612e-14\n",
      "arrival_date_week_number          4.093983e-15\n",
      "arrival_date_day_of_month        -9.159196e-16\n",
      "stays_in_weekend_nights           3.928971e-14\n",
      "stays_in_week_nights             -2.182022e-14\n",
      "adults                            5.708995e-15\n",
      "children                         -6.989886e-16\n",
      "babies                            5.955017e-15\n",
      "market_segment                    4.484909e-15\n",
      "distribution_channel              2.185129e-14\n",
      "is_repeated_guest                -3.493540e-14\n",
      "previous_cancellations            1.741766e-14\n",
      "previous_bookings_not_canceled   -1.286381e-15\n",
      "reserved_room_type                1.246924e-13\n",
      "assigned_room_type                9.462049e-14\n",
      "booking_changes                  -7.015186e-14\n",
      "deposit_type                      1.754553e-13\n",
      "days_in_waiting_list             -1.846956e-14\n",
      "customer_type                    -2.170149e-14\n",
      "adr                               1.441786e-14\n",
      "required_car_parking_spaces       1.359733e-13\n",
      "total_of_special_requests         1.044865e-13\n",
      "booking_day_of_year               1.311287e-15\n",
      "dtype: float64 \n",
      "\n",
      "classification scaler std:\n",
      "hotel                             1.000004\n",
      "lead_time                         1.000004\n",
      "arrival_date_month                1.000004\n",
      "arrival_date_week_number          1.000004\n",
      "arrival_date_day_of_month         1.000004\n",
      "stays_in_weekend_nights           1.000004\n",
      "stays_in_week_nights              1.000004\n",
      "adults                            1.000004\n",
      "children                          1.000004\n",
      "babies                            1.000004\n",
      "market_segment                    1.000004\n",
      "distribution_channel              1.000004\n",
      "is_repeated_guest                 1.000004\n",
      "previous_cancellations            1.000004\n",
      "previous_bookings_not_canceled    1.000004\n",
      "reserved_room_type                1.000004\n",
      "assigned_room_type                1.000004\n",
      "booking_changes                   1.000004\n",
      "deposit_type                      1.000004\n",
      "days_in_waiting_list              1.000004\n",
      "customer_type                     1.000004\n",
      "adr                               1.000004\n",
      "required_car_parking_spaces       1.000004\n",
      "total_of_special_requests         1.000004\n",
      "booking_day_of_year               1.000004\n",
      "dtype: float64 \n",
      "\n"
     ]
    }
   ],
   "source": [
    "print('classification scaler mean:')\n",
    "print(X_cls_scaled.mean(axis=0),'\\n')\n",
    "print('classification scaler std:')\n",
    "print(X_cls_scaled.std(axis=0),'\\n')"
   ]
  },
  {
   "cell_type": "markdown",
   "metadata": {},
   "source": [
    "Verifying each feature has a mean of zero and the standard deviation should be 1 for regression:"
   ]
  },
  {
   "cell_type": "code",
   "execution_count": 62,
   "metadata": {},
   "outputs": [
    {
     "name": "stdout",
     "output_type": "stream",
     "text": [
      "regression scaler mean:\n",
      "hotel                            -2.148285e-13\n",
      "is_canceled                      -1.376344e-13\n",
      "lead_time                         3.358325e-16\n",
      "arrival_date_month               -1.221612e-14\n",
      "arrival_date_week_number          4.093983e-15\n",
      "arrival_date_day_of_month        -9.159196e-16\n",
      "stays_in_weekend_nights           3.928971e-14\n",
      "stays_in_week_nights             -2.182022e-14\n",
      "adults                            5.708995e-15\n",
      "children                         -6.989886e-16\n",
      "babies                            5.955017e-15\n",
      "market_segment                    4.484909e-15\n",
      "distribution_channel              2.185129e-14\n",
      "is_repeated_guest                -3.493540e-14\n",
      "previous_cancellations            1.741766e-14\n",
      "previous_bookings_not_canceled   -1.286381e-15\n",
      "reserved_room_type                1.246924e-13\n",
      "assigned_room_type                9.462049e-14\n",
      "booking_changes                  -7.015186e-14\n",
      "deposit_type                      1.754553e-13\n",
      "days_in_waiting_list             -1.846956e-14\n",
      "customer_type                    -2.170149e-14\n",
      "required_car_parking_spaces       1.359733e-13\n",
      "total_of_special_requests         1.044865e-13\n",
      "booking_day_of_year               1.311287e-15\n",
      "dtype: float64 \n",
      "\n",
      "regression scaler std:\n",
      "hotel                             1.000004\n",
      "is_canceled                       1.000004\n",
      "lead_time                         1.000004\n",
      "arrival_date_month                1.000004\n",
      "arrival_date_week_number          1.000004\n",
      "arrival_date_day_of_month         1.000004\n",
      "stays_in_weekend_nights           1.000004\n",
      "stays_in_week_nights              1.000004\n",
      "adults                            1.000004\n",
      "children                          1.000004\n",
      "babies                            1.000004\n",
      "market_segment                    1.000004\n",
      "distribution_channel              1.000004\n",
      "is_repeated_guest                 1.000004\n",
      "previous_cancellations            1.000004\n",
      "previous_bookings_not_canceled    1.000004\n",
      "reserved_room_type                1.000004\n",
      "assigned_room_type                1.000004\n",
      "booking_changes                   1.000004\n",
      "deposit_type                      1.000004\n",
      "days_in_waiting_list              1.000004\n",
      "customer_type                     1.000004\n",
      "required_car_parking_spaces       1.000004\n",
      "total_of_special_requests         1.000004\n",
      "booking_day_of_year               1.000004\n",
      "dtype: float64 \n",
      "\n"
     ]
    }
   ],
   "source": [
    "print('regression scaler mean:')\n",
    "print(X_reg_scaled.mean(axis=0),'\\n')\n",
    "print('regression scaler std:')\n",
    "print(X_reg_scaled.std(axis=0),'\\n')"
   ]
  },
  {
   "cell_type": "markdown",
   "metadata": {},
   "source": [
    "##### Feature Selection for Classification\n",
    "\n",
    "In this section we're looking for covariates and removing some of the features that are highly correlated with other features in the dataset."
   ]
  },
  {
   "cell_type": "code",
   "execution_count": 63,
   "metadata": {
    "scrolled": true
   },
   "outputs": [
    {
     "name": "stdout",
     "output_type": "stream",
     "text": [
      "Highly correlated feature pairs are: [['arrival_date_month', 'arrival_date_week_number'], ['market_segment', 'distribution_channel'], ['reserved_room_type', 'assigned_room_type'], ['arrival_date_month', 'booking_day_of_year'], ['arrival_date_week_number', 'booking_day_of_year']]\n"
     ]
    }
   ],
   "source": [
    "correlated_features = []\n",
    "correlation_matrix = X_cls_scaled.corr()\n",
    "\n",
    "for i in range(len(correlation_matrix.columns)):\n",
    "    for j in range(i):\n",
    "        if abs(correlation_matrix.iloc[i, j]) > 0.7:\n",
    "            colname = correlation_matrix.columns[i]\n",
    "            \n",
    "            correlated_features.append([correlation_matrix.columns[j],colname])\n",
    "            \n",
    "            \n",
    "print('Highly correlated feature pairs are: {}'.format(correlated_features))"
   ]
  },
  {
   "cell_type": "markdown",
   "metadata": {},
   "source": [
    "Droping features chosen from coorelations analysis:"
   ]
  },
  {
   "cell_type": "code",
   "execution_count": 64,
   "metadata": {},
   "outputs": [],
   "source": [
    "# Decided to drop the following features from the highly correlated pairs\n",
    "X_cls_scaled=X_cls_scaled.drop(['distribution_channel', 'arrival_date_month','assigned_room_type','booking_day_of_year'], axis=1)"
   ]
  },
  {
   "cell_type": "markdown",
   "metadata": {},
   "source": [
    "We are running an RFECV analysis for feature elimination using Random Forest. Each loop in RFECV attempts to elimante dependencies and collinearities that may exist and only keeps those features that generate the highest test score ('accuracy'). The process is reapeated until it reaches the predetermined number of features for selection."
   ]
  },
  {
   "cell_type": "code",
   "execution_count": 65,
   "metadata": {},
   "outputs": [
    {
     "data": {
      "text/plain": [
       "RFECV(cv=StratifiedKFold(n_splits=3, random_state=None, shuffle=False),\n",
       "      estimator=RandomForestClassifier(random_state=10), scoring='accuracy')"
      ]
     },
     "execution_count": 65,
     "metadata": {},
     "output_type": "execute_result"
    }
   ],
   "source": [
    "# Using randomforest to run RFE\n",
    "\n",
    "from sklearn.ensemble import RandomForestClassifier\n",
    "from sklearn.feature_selection import RFECV\n",
    "from sklearn.model_selection import StratifiedKFold\n",
    "\n",
    "rfc = RandomForestClassifier(random_state=10)\n",
    "rfecv = RFECV(estimator=rfc, step=1, cv=StratifiedKFold(3), scoring='accuracy')\n",
    "rfecv.fit(X_cls_scaled, y_cls)"
   ]
  },
  {
   "cell_type": "code",
   "execution_count": 66,
   "metadata": {},
   "outputs": [
    {
     "name": "stdout",
     "output_type": "stream",
     "text": [
      "Optimal number of features: 13\n"
     ]
    }
   ],
   "source": [
    "print('Optimal number of features: {}'.format(rfecv.n_features_))"
   ]
  },
  {
   "cell_type": "code",
   "execution_count": 67,
   "metadata": {},
   "outputs": [
    {
     "data": {
      "image/png": "[encoded data removed]",
      "text/plain": [
       "<Figure size 720x360 with 1 Axes>"
      ]
     },
     "metadata": {
      "needs_background": "light"
     },
     "output_type": "display_data"
    }
   ],
   "source": [
    "# Plotting RFE result\n",
    "\n",
    "import matplotlib.pyplot as plt\n",
    "\n",
    "plt.figure(figsize=(10, 5))\n",
    "plt.title('RFE with Cross Validation', fontsize=18, fontweight='bold', pad=20)\n",
    "plt.xlabel('Number of features selected', fontsize=14, labelpad=20)\n",
    "plt.ylabel('% Correct Classification', fontsize=14, labelpad=20)\n",
    "plt.plot(range(1, len(rfecv.grid_scores_) + 1), rfecv.grid_scores_, color='#303F9F', linewidth=2)\n",
    "\n",
    "plt.show()"
   ]
  },
  {
   "cell_type": "code",
   "execution_count": 68,
   "metadata": {},
   "outputs": [
    {
     "name": "stdout",
     "output_type": "stream",
     "text": [
      "Index(['lead_time', 'arrival_date_week_number', 'arrival_date_day_of_month',\n",
      "       'stays_in_weekend_nights', 'stays_in_week_nights', 'market_segment',\n",
      "       'previous_cancellations', 'reserved_room_type', 'booking_changes',\n",
      "       'deposit_type', 'customer_type', 'adr', 'total_of_special_requests'],\n",
      "      dtype='object')\n"
     ]
    }
   ],
   "source": [
    "# Identifying which feature is Selected(= identified as True)\n",
    "\n",
    "print(X_cls_scaled.columns[np.where(rfecv.support_ == True)[0]])"
   ]
  },
  {
   "cell_type": "code",
   "execution_count": 69,
   "metadata": {},
   "outputs": [],
   "source": [
    "# Dropping those features that are identified as not important\n",
    "X_cls_sel=X_cls_scaled[X_cls_scaled.columns[np.where(rfecv.support_ == True)[0]]]"
   ]
  },
  {
   "cell_type": "code",
   "execution_count": 70,
   "metadata": {},
   "outputs": [
    {
     "data": {
      "image/png": "[encoded data removed]",
      "text/plain": [
       "<Figure size 576x576 with 1 Axes>"
      ]
     },
     "metadata": {
      "needs_background": "light"
     },
     "output_type": "display_data"
    }
   ],
   "source": [
    "# Plotting features in the order of importance \n",
    "\n",
    "dset = pd.DataFrame()\n",
    "dset['attr'] = X_cls_sel.columns\n",
    "dset['importance'] = rfecv.estimator_.feature_importances_\n",
    "\n",
    "dset = dset.sort_values(by='importance', ascending=True)\n",
    "\n",
    "\n",
    "plt.figure(figsize=(8, 8))\n",
    "plt.barh(y=dset['attr'], width=dset['importance'], color='#1976D2')\n",
    "plt.title('RFECV - Feature Importances', fontsize=20, fontweight='bold', pad=20)\n",
    "plt.xlabel('Importance', fontsize=14, labelpad=20)\n",
    "plt.show()"
   ]
  },
  {
   "cell_type": "markdown",
   "metadata": {},
   "source": [
    "##### Feature Selection for Regression"
   ]
  },
  {
   "cell_type": "code",
   "execution_count": 129,
   "metadata": {},
   "outputs": [
    {
     "name": "stdout",
     "output_type": "stream",
     "text": [
      "Highly correlated feature pairs are: [['arrival_date_month', 'arrival_date_week_number'], ['market_segment', 'distribution_channel'], ['reserved_room_type', 'assigned_room_type'], ['arrival_date_month', 'booking_day_of_year'], ['arrival_date_week_number', 'booking_day_of_year']]\n"
     ]
    }
   ],
   "source": [
    "correlated_features = []\n",
    "correlation_matrix = X_reg_scaled.corr()\n",
    "\n",
    "for i in range(len(correlation_matrix.columns)):\n",
    "    for j in range(i):\n",
    "        if abs(correlation_matrix.iloc[i, j]) > 0.7:\n",
    "            colname = correlation_matrix.columns[i]\n",
    "            \n",
    "            correlated_features.append([correlation_matrix.columns[j],colname])\n",
    "            \n",
    "            \n",
    "print('Highly correlated feature pairs are: {}'.format(correlated_features))"
   ]
  },
  {
   "cell_type": "code",
   "execution_count": 130,
   "metadata": {},
   "outputs": [],
   "source": [
    "X_reg_scaled=X_reg_scaled.drop(['distribution_channel', 'arrival_date_month','assigned_room_type','booking_day_of_year'], axis=1)"
   ]
  },
  {
   "cell_type": "code",
   "execution_count": 131,
   "metadata": {},
   "outputs": [
    {
     "data": {
      "text/plain": [
       "RFECV(cv=ShuffleSplit(n_splits=5, random_state=10, test_size=0.2, train_size=None),\n",
       "      estimator=RandomForestRegressor(random_state=10), scoring='r2')"
      ]
     },
     "execution_count": 131,
     "metadata": {},
     "output_type": "execute_result"
    }
   ],
   "source": [
    "# Using randomforest to run RFE\n",
    "\n",
    "from sklearn import linear_model\n",
    "from sklearn.feature_selection import RFECV\n",
    "from sklearn.model_selection import StratifiedKFold \n",
    "from sklearn.model_selection import ShuffleSplit \n",
    "from sklearn.ensemble import RandomForestRegressor\n",
    "\n",
    "# rfc = linear_model.Lasso(alpha=0.1, random_state=10)\n",
    "rfc = RandomForestRegressor(random_state=10)\n",
    "# rfecv = RFECV(estimator=rfc, step=1, cv=StratifiedKFold(3), scoring='r2')\n",
    "\n",
    "rfecv = RFECV(estimator=rfc, step=1, cv=ShuffleSplit(n_splits=5, test_size=0.20, random_state=10), scoring='r2')\n",
    "\n",
    "rfecv.fit(X_reg_scaled, y_reg)"
   ]
  },
  {
   "cell_type": "code",
   "execution_count": 132,
   "metadata": {},
   "outputs": [
    {
     "name": "stdout",
     "output_type": "stream",
     "text": [
      "Optimal number of features: 21\n"
     ]
    }
   ],
   "source": [
    "print('Optimal number of features: {}'.format(rfecv.n_features_))"
   ]
  },
  {
   "cell_type": "code",
   "execution_count": 133,
   "metadata": {},
   "outputs": [
    {
     "data": {
      "image/png": "[encoded data removed]",
      "text/plain": [
       "<Figure size 720x360 with 1 Axes>"
      ]
     },
     "metadata": {
      "needs_background": "light"
     },
     "output_type": "display_data"
    }
   ],
   "source": [
    "# Plotting RFE result\n",
    "\n",
    "import matplotlib.pyplot as plt\n",
    "\n",
    "plt.figure(figsize=(10, 5))\n",
    "plt.title('RFE with Cross Validation', fontsize=18, fontweight='bold', pad=20)\n",
    "plt.xlabel('Number of features selected', fontsize=14, labelpad=20)\n",
    "plt.ylabel('% Correct Classification', fontsize=14, labelpad=20)\n",
    "plt.plot(range(1, len(rfecv.grid_scores_) + 1), rfecv.grid_scores_, color='#303F9F', linewidth=2)\n",
    "\n",
    "plt.show()"
   ]
  },
  {
   "cell_type": "code",
   "execution_count": 134,
   "metadata": {},
   "outputs": [
    {
     "name": "stdout",
     "output_type": "stream",
     "text": [
      "Index(['hotel', 'is_canceled', 'lead_time', 'arrival_date_week_number',\n",
      "       'arrival_date_day_of_month', 'stays_in_weekend_nights',\n",
      "       'stays_in_week_nights', 'adults', 'children', 'babies',\n",
      "       'market_segment', 'is_repeated_guest', 'previous_cancellations',\n",
      "       'previous_bookings_not_canceled', 'reserved_room_type',\n",
      "       'booking_changes', 'deposit_type', 'days_in_waiting_list',\n",
      "       'customer_type', 'required_car_parking_spaces',\n",
      "       'total_of_special_requests'],\n",
      "      dtype='object')\n"
     ]
    }
   ],
   "source": [
    "# Identifying which feature is Selected(= identified as True)\n",
    "\n",
    "print(X_reg_scaled.columns[np.where(rfecv.support_ == True)[0]])"
   ]
  },
  {
   "cell_type": "code",
   "execution_count": 135,
   "metadata": {},
   "outputs": [],
   "source": [
    "# Dropping those features that are identified as not important\n",
    "X_reg_sel=X_reg_scaled[X_reg_scaled.columns[np.where(rfecv.support_ == True)[0]]]"
   ]
  },
  {
   "cell_type": "code",
   "execution_count": 136,
   "metadata": {},
   "outputs": [
    {
     "data": {
      "image/png": "[encoded data removed]",
      "text/plain": [
       "<Figure size 576x576 with 1 Axes>"
      ]
     },
     "metadata": {
      "needs_background": "light"
     },
     "output_type": "display_data"
    }
   ],
   "source": [
    "# Plotting features in the order of importance \n",
    "\n",
    "dset = pd.DataFrame()\n",
    "dset['attr'] = X_reg_sel.columns\n",
    "dset['importance'] = rfecv.estimator_.feature_importances_\n",
    "\n",
    "dset = dset.sort_values(by='importance', ascending=True)\n",
    "\n",
    "\n",
    "plt.figure(figsize=(8, 8))\n",
    "plt.barh(y=dset['attr'], width=dset['importance'], color='#1976D2')\n",
    "plt.title('RFECV - Feature Importances', fontsize=20, fontweight='bold', pad=20)\n",
    "plt.xlabel('Importance', fontsize=14, labelpad=20)\n",
    "plt.show()"
   ]
  },
  {
   "cell_type": "markdown",
   "metadata": {},
   "source": [
    "### Part 2. Final Datasets <a id='data-preparation2'/>"
   ]
  },
  {
   "cell_type": "markdown",
   "metadata": {},
   "source": [
    "We have two separate dataset for classification and regression as the output of the Recursive feature engineering (RFE) will be different based upon the different target variable. \n",
    "- Dataset for __classification__ had a total of 13 features selected. \n",
    "- Dataset for __regression__ had a total of 19 features selected. "
   ]
  },
  {
   "cell_type": "markdown",
   "metadata": {},
   "source": [
    "##### Dataset for Classification"
   ]
  },
  {
   "cell_type": "markdown",
   "metadata": {},
   "source": [
    "    For Classification, we ran RFECV with Random forest and extract below features:\n",
    "- lead_time\n",
    "- deposit_type\n",
    "- adr\n",
    "- arrival_date_week_number\n",
    "- arrival_date_day_of_month\n",
    "- market_segment\n",
    "- total_of_special_requests\n",
    "- stays_in_week_nights\n",
    "- previous_cancellations\n",
    "- stays_in_weekends_nights\n",
    "- customer_type\n",
    "- reserved_room_type\n",
    "- booking_changes   "
   ]
  },
  {
   "cell_type": "markdown",
   "metadata": {},
   "source": [
    "##### Dataset for Regression"
   ]
  },
  {
   "cell_type": "markdown",
   "metadata": {},
   "source": [
    "    For Regression, we ran RFECV with Random Regressor and extract below features\n",
    "- arrival_date_week_number\n",
    "- reserved_room_type\n",
    "- lead_time\n",
    "- hotel\n",
    "- market_segment\n",
    "- arrival_date_day_of_month\n",
    "- children\n",
    "- adults\n",
    "- stays_in_week_nights\n",
    "- stays_in_weekends_nights\n",
    "- booking_changes\n",
    "- total_of_special_requests\n",
    "- days_in_waiting_list\n",
    "- customer_type\n",
    "- is_canceled\n",
    "- deposit_type\n",
    "- previous_cancellations\n",
    "- is_repeated_guest\n",
    "- required_car_parking_spaces"
   ]
  },
  {
   "cell_type": "markdown",
   "metadata": {},
   "source": [
    "# Modeling and Evaluation <a id='model-and-evaluation'/>"
   ]
  },
  {
   "cell_type": "markdown",
   "metadata": {},
   "source": [
    "### Part 1: Evaluation Metrics <a id='model-and-evaluation1'/>"
   ]
  },
  {
   "cell_type": "markdown",
   "metadata": {},
   "source": [
    "*Choose and explain your evaluation metrics that you will use (i.e., accuracy, precision, recall, F-measure, or any metric we have discussed). Why are the measure(s) appropriate for analyzing the results of your modeling? Give a detailed explanation backing up any assertions.*"
   ]
  },
  {
   "cell_type": "markdown",
   "metadata": {},
   "source": [
    "    For classification model we use ... because ...\n",
    "    Methodology: For our classification models we have a binary target so we're looking to use f-score as it is best suited for binary classifications. We will also be looking at the overall acuracy to compare which has predictions after taking into account the f-score.\n",
    "    "
   ]
  },
  {
   "cell_type": "markdown",
   "metadata": {},
   "source": [
    "    For regression model we use ... because ...\n",
    "    \n",
    "    Methodology: select form AIC, BIC"
   ]
  },
  {
   "cell_type": "markdown",
   "metadata": {},
   "source": [
    "### Part 2: Train and Test Splits <a id='model-and-evaluation2'/>"
   ]
  },
  {
   "cell_type": "markdown",
   "metadata": {},
   "source": [
    "*Choose the method you will use for dividing your data into training and testing splits (i.e., are you using Stratified 10-fold cross validation? Why?). Explain why your chosen method is appropriate or use more than one method as appropriate. For example, if you are using time series data then you should be using continuous training and testing sets across time.*"
   ]
  },
  {
   "cell_type": "code",
   "execution_count": 80,
   "metadata": {},
   "outputs": [
    {
     "data": {
      "text/html": [
       "<div>\n",
       "<style scoped>\n",
       "    .dataframe tbody tr th:only-of-type {\n",
       "        vertical-align: middle;\n",
       "    }\n",
       "\n",
       "    .dataframe tbody tr th {\n",
       "        vertical-align: top;\n",
       "    }\n",
       "\n",
       "    .dataframe thead th {\n",
       "        text-align: right;\n",
       "    }\n",
       "</style>\n",
       "<table border=\"1\" class=\"dataframe\">\n",
       "  <thead>\n",
       "    <tr style=\"text-align: right;\">\n",
       "      <th></th>\n",
       "      <th>lead_time</th>\n",
       "      <th>arrival_date_week_number</th>\n",
       "      <th>arrival_date_day_of_month</th>\n",
       "      <th>stays_in_weekend_nights</th>\n",
       "      <th>stays_in_week_nights</th>\n",
       "      <th>market_segment</th>\n",
       "      <th>previous_cancellations</th>\n",
       "      <th>reserved_room_type</th>\n",
       "      <th>booking_changes</th>\n",
       "      <th>deposit_type</th>\n",
       "      <th>customer_type</th>\n",
       "      <th>adr</th>\n",
       "      <th>total_of_special_requests</th>\n",
       "    </tr>\n",
       "  </thead>\n",
       "  <tbody>\n",
       "    <tr>\n",
       "      <th>92654</th>\n",
       "      <td>0.542646</td>\n",
       "      <td>0.061361</td>\n",
       "      <td>-1.115872</td>\n",
       "      <td>-0.928890</td>\n",
       "      <td>0.785891</td>\n",
       "      <td>0.846227</td>\n",
       "      <td>-0.10318</td>\n",
       "      <td>1.184543</td>\n",
       "      <td>-0.338990</td>\n",
       "      <td>-0.373175</td>\n",
       "      <td>-0.237979</td>\n",
       "      <td>0.558396</td>\n",
       "      <td>0.540666</td>\n",
       "    </tr>\n",
       "    <tr>\n",
       "      <th>12833</th>\n",
       "      <td>1.824665</td>\n",
       "      <td>0.134863</td>\n",
       "      <td>0.250747</td>\n",
       "      <td>1.073895</td>\n",
       "      <td>3.930088</td>\n",
       "      <td>0.846227</td>\n",
       "      <td>-0.10318</td>\n",
       "      <td>1.773723</td>\n",
       "      <td>-0.338990</td>\n",
       "      <td>-0.373175</td>\n",
       "      <td>-0.237979</td>\n",
       "      <td>1.974230</td>\n",
       "      <td>1.802026</td>\n",
       "    </tr>\n",
       "    <tr>\n",
       "      <th>78505</th>\n",
       "      <td>-0.954603</td>\n",
       "      <td>1.090389</td>\n",
       "      <td>-0.546447</td>\n",
       "      <td>0.072502</td>\n",
       "      <td>-1.310240</td>\n",
       "      <td>-0.732679</td>\n",
       "      <td>-0.10318</td>\n",
       "      <td>-0.582996</td>\n",
       "      <td>4.260101</td>\n",
       "      <td>-0.373175</td>\n",
       "      <td>-0.237979</td>\n",
       "      <td>-0.273691</td>\n",
       "      <td>-0.720694</td>\n",
       "    </tr>\n",
       "    <tr>\n",
       "      <th>70579</th>\n",
       "      <td>-0.664511</td>\n",
       "      <td>-0.159144</td>\n",
       "      <td>0.364632</td>\n",
       "      <td>0.072502</td>\n",
       "      <td>-0.786207</td>\n",
       "      <td>0.846227</td>\n",
       "      <td>-0.10318</td>\n",
       "      <td>1.184543</td>\n",
       "      <td>2.727071</td>\n",
       "      <td>-0.373175</td>\n",
       "      <td>-0.237979</td>\n",
       "      <td>0.953168</td>\n",
       "      <td>0.540666</td>\n",
       "    </tr>\n",
       "    <tr>\n",
       "      <th>69774</th>\n",
       "      <td>-0.861025</td>\n",
       "      <td>-0.306148</td>\n",
       "      <td>-1.115872</td>\n",
       "      <td>-0.928890</td>\n",
       "      <td>-0.786207</td>\n",
       "      <td>0.846227</td>\n",
       "      <td>-0.10318</td>\n",
       "      <td>-0.582996</td>\n",
       "      <td>-0.338990</td>\n",
       "      <td>-0.373175</td>\n",
       "      <td>-0.237979</td>\n",
       "      <td>0.755287</td>\n",
       "      <td>0.540666</td>\n",
       "    </tr>\n",
       "    <tr>\n",
       "      <th>...</th>\n",
       "      <td>...</td>\n",
       "      <td>...</td>\n",
       "      <td>...</td>\n",
       "      <td>...</td>\n",
       "      <td>...</td>\n",
       "      <td>...</td>\n",
       "      <td>...</td>\n",
       "      <td>...</td>\n",
       "      <td>...</td>\n",
       "      <td>...</td>\n",
       "      <td>...</td>\n",
       "      <td>...</td>\n",
       "      <td>...</td>\n",
       "    </tr>\n",
       "    <tr>\n",
       "      <th>93553</th>\n",
       "      <td>1.759161</td>\n",
       "      <td>0.208365</td>\n",
       "      <td>0.592402</td>\n",
       "      <td>-0.928890</td>\n",
       "      <td>-0.262174</td>\n",
       "      <td>0.056774</td>\n",
       "      <td>-0.10318</td>\n",
       "      <td>-0.582996</td>\n",
       "      <td>-0.338990</td>\n",
       "      <td>-0.373175</td>\n",
       "      <td>1.495010</td>\n",
       "      <td>0.260586</td>\n",
       "      <td>-0.720694</td>\n",
       "    </tr>\n",
       "    <tr>\n",
       "      <th>50496</th>\n",
       "      <td>3.116043</td>\n",
       "      <td>-0.600156</td>\n",
       "      <td>-1.571412</td>\n",
       "      <td>0.072502</td>\n",
       "      <td>-0.262174</td>\n",
       "      <td>-0.732679</td>\n",
       "      <td>-0.10318</td>\n",
       "      <td>-0.582996</td>\n",
       "      <td>-0.338990</td>\n",
       "      <td>2.614780</td>\n",
       "      <td>-0.237979</td>\n",
       "      <td>-0.827756</td>\n",
       "      <td>-0.720694</td>\n",
       "    </tr>\n",
       "    <tr>\n",
       "      <th>94735</th>\n",
       "      <td>0.205765</td>\n",
       "      <td>0.355369</td>\n",
       "      <td>-1.115872</td>\n",
       "      <td>1.073895</td>\n",
       "      <td>-0.786207</td>\n",
       "      <td>0.846227</td>\n",
       "      <td>-0.10318</td>\n",
       "      <td>-0.582996</td>\n",
       "      <td>1.194040</td>\n",
       "      <td>-0.373175</td>\n",
       "      <td>-0.237979</td>\n",
       "      <td>-0.171387</td>\n",
       "      <td>0.540666</td>\n",
       "    </tr>\n",
       "    <tr>\n",
       "      <th>105597</th>\n",
       "      <td>-0.767447</td>\n",
       "      <td>-1.555681</td>\n",
       "      <td>-0.774217</td>\n",
       "      <td>-0.928890</td>\n",
       "      <td>0.261858</td>\n",
       "      <td>0.056774</td>\n",
       "      <td>-0.10318</td>\n",
       "      <td>-0.582996</td>\n",
       "      <td>-0.338990</td>\n",
       "      <td>-0.373175</td>\n",
       "      <td>-0.237979</td>\n",
       "      <td>-0.530935</td>\n",
       "      <td>-0.720694</td>\n",
       "    </tr>\n",
       "    <tr>\n",
       "      <th>83209</th>\n",
       "      <td>-0.954603</td>\n",
       "      <td>-1.702685</td>\n",
       "      <td>0.706287</td>\n",
       "      <td>-0.928890</td>\n",
       "      <td>-0.262174</td>\n",
       "      <td>0.846227</td>\n",
       "      <td>-0.10318</td>\n",
       "      <td>-0.582996</td>\n",
       "      <td>1.194040</td>\n",
       "      <td>-0.373175</td>\n",
       "      <td>-0.237979</td>\n",
       "      <td>-0.273691</td>\n",
       "      <td>0.540666</td>\n",
       "    </tr>\n",
       "  </tbody>\n",
       "</table>\n",
       "<p>95512 rows × 13 columns</p>\n",
       "</div>"
      ],
      "text/plain": [
       "        lead_time  arrival_date_week_number  arrival_date_day_of_month  \\\n",
       "92654    0.542646                  0.061361                  -1.115872   \n",
       "12833    1.824665                  0.134863                   0.250747   \n",
       "78505   -0.954603                  1.090389                  -0.546447   \n",
       "70579   -0.664511                 -0.159144                   0.364632   \n",
       "69774   -0.861025                 -0.306148                  -1.115872   \n",
       "...           ...                       ...                        ...   \n",
       "93553    1.759161                  0.208365                   0.592402   \n",
       "50496    3.116043                 -0.600156                  -1.571412   \n",
       "94735    0.205765                  0.355369                  -1.115872   \n",
       "105597  -0.767447                 -1.555681                  -0.774217   \n",
       "83209   -0.954603                 -1.702685                   0.706287   \n",
       "\n",
       "        stays_in_weekend_nights  stays_in_week_nights  market_segment  \\\n",
       "92654                 -0.928890              0.785891        0.846227   \n",
       "12833                  1.073895              3.930088        0.846227   \n",
       "78505                  0.072502             -1.310240       -0.732679   \n",
       "70579                  0.072502             -0.786207        0.846227   \n",
       "69774                 -0.928890             -0.786207        0.846227   \n",
       "...                         ...                   ...             ...   \n",
       "93553                 -0.928890             -0.262174        0.056774   \n",
       "50496                  0.072502             -0.262174       -0.732679   \n",
       "94735                  1.073895             -0.786207        0.846227   \n",
       "105597                -0.928890              0.261858        0.056774   \n",
       "83209                 -0.928890             -0.262174        0.846227   \n",
       "\n",
       "        previous_cancellations  reserved_room_type  booking_changes  \\\n",
       "92654                 -0.10318            1.184543        -0.338990   \n",
       "12833                 -0.10318            1.773723        -0.338990   \n",
       "78505                 -0.10318           -0.582996         4.260101   \n",
       "70579                 -0.10318            1.184543         2.727071   \n",
       "69774                 -0.10318           -0.582996        -0.338990   \n",
       "...                        ...                 ...              ...   \n",
       "93553                 -0.10318           -0.582996        -0.338990   \n",
       "50496                 -0.10318           -0.582996        -0.338990   \n",
       "94735                 -0.10318           -0.582996         1.194040   \n",
       "105597                -0.10318           -0.582996        -0.338990   \n",
       "83209                 -0.10318           -0.582996         1.194040   \n",
       "\n",
       "        deposit_type  customer_type       adr  total_of_special_requests  \n",
       "92654      -0.373175      -0.237979  0.558396                   0.540666  \n",
       "12833      -0.373175      -0.237979  1.974230                   1.802026  \n",
       "78505      -0.373175      -0.237979 -0.273691                  -0.720694  \n",
       "70579      -0.373175      -0.237979  0.953168                   0.540666  \n",
       "69774      -0.373175      -0.237979  0.755287                   0.540666  \n",
       "...              ...            ...       ...                        ...  \n",
       "93553      -0.373175       1.495010  0.260586                  -0.720694  \n",
       "50496       2.614780      -0.237979 -0.827756                  -0.720694  \n",
       "94735      -0.373175      -0.237979 -0.171387                   0.540666  \n",
       "105597     -0.373175      -0.237979 -0.530935                  -0.720694  \n",
       "83209      -0.373175      -0.237979 -0.273691                   0.540666  \n",
       "\n",
       "[95512 rows x 13 columns]"
      ]
     },
     "execution_count": 80,
     "metadata": {},
     "output_type": "execute_result"
    }
   ],
   "source": [
    "from sklearn.model_selection import StratifiedShuffleSplit \n",
    "X_cls_sel_train, X_cls_sel_train_test, y_cls_train, y_cls_test = train_test_split(X_cls_sel, y_cls, test_size=0.2, random_state=10)\n",
    "\n",
    "cv_cls = StratifiedShuffleSplit(n_splits=10, test_size= 0.2, random_state=10)"
   ]
  },
  {
   "cell_type": "markdown",
   "metadata": {},
   "source": [
    "    We use training and testing splits with StratifiedShuffleSplit for Classification. StratifiedShuffleSplit is good when there are imbalance weight of classes. Our target, is_canceled, feature has more weight of positive, non-canceled, then the negative, canceled, so we choosed the StratifiedShuffleSplit. We applied 10 folds and 80% train and 20% test size."
   ]
  },
  {
   "cell_type": "code",
   "execution_count": 76,
   "metadata": {},
   "outputs": [
    {
     "name": "stdout",
     "output_type": "stream",
     "text": [
      "TRAIN: [47296 70045 80378 ... 71106 31693 18278] TEST: [  3966  67458    156 ...  60450  27579 107811]\n",
      "TRAIN: [ 34168  66643  17504 ...  33471 107928 118654] TEST: [62933  9515 76283 ... 58904  8199 42082]\n",
      "TRAIN: [68149 78420 73550 ... 53491  7159 13730] TEST: [ 19629  20266  35096 ...  75194  79338 113921]\n",
      "TRAIN: [ 25187  88984  15952 ... 112540   1993 115415] TEST: [ 22864  62492  94948 ... 106970   6173 118641]\n",
      "TRAIN: [ 72313  38192  89211 ...   7195 112706  69729] TEST: [113825  56104  30154 ...  51413  81145   4788]\n",
      "TRAIN: [ 96429 107250 112068 ... 104402  29795 114887] TEST: [48150 51288 63615 ... 33310 86621 14215]\n",
      "TRAIN: [ 81628  76064  56687 ...   5316 113072  86183] TEST: [115141  76004 118201 ...  99839  41836   1801]\n",
      "TRAIN: [ 15734 116161  82889 ...  84938  77315  57108] TEST: [ 24329  25718 116497 ...  99631  65845  46456]\n",
      "TRAIN: [  9628  69983  20943 ... 112188 100651  70426] TEST: [107552  61480  71223 ...   9464  51667  86128]\n",
      "TRAIN: [41104 72403 65818 ... 68117 92308 18106] TEST: [ 30385   9340  89808 ...  44293  66642 106940]\n"
     ]
    }
   ],
   "source": [
    "for train_indices, test_indices in cv_cls.split(X_cls_sel,y_cls): \n",
    "    print(\"TRAIN:\", train_indices, \"TEST:\", test_indices)\n"
   ]
  },
  {
   "cell_type": "code",
   "execution_count": 152,
   "metadata": {},
   "outputs": [],
   "source": [
    "from sklearn.model_selection import ShuffleSplit\n",
    "\n",
    "\n",
    "cv_reg = ShuffleSplit(n_splits=10, test_size= 0.2, random_state=10) "
   ]
  },
  {
   "cell_type": "markdown",
   "metadata": {},
   "source": [
    "    We use training and testing splits with ShuffleSplit because we want to shuffle the target variables to give more randomness. We applied 10 folds and 80% train and 20% test size."
   ]
  },
  {
   "cell_type": "markdown",
   "metadata": {},
   "source": [
    "### Part 3. Models for Tasks"
   ]
  },
  {
   "cell_type": "markdown",
   "metadata": {},
   "source": [
    "#### Part 3.a: Models for Classification <a id='model-and-evaluation3a'/>"
   ]
  },
  {
   "cell_type": "markdown",
   "metadata": {},
   "source": [
    "*Create three different classification/regression models for each task (e.g., random forest, KNN, and SVM for task one and the same or different algorithms for task two). Two modeling techniques must be new (but the third could be SVM or logistic regression). Adjust parameters as appropriate to increase generalization performance using your chosen metric. You must investigate different parameters of the algorithms!*"
   ]
  },
  {
   "cell_type": "markdown",
   "metadata": {},
   "source": [
    "##### KNN"
   ]
  },
  {
   "cell_type": "code",
   "execution_count": 87,
   "metadata": {},
   "outputs": [
    {
     "name": "stdout",
     "output_type": "stream",
     "text": [
      "Fitting 10 folds for each of 48 candidates, totalling 480 fits\n"
     ]
    },
    {
     "name": "stderr",
     "output_type": "stream",
     "text": [
      "[Parallel(n_jobs=-1)]: Using backend LokyBackend with 8 concurrent workers.\n",
      "[Parallel(n_jobs=-1)]: Done  34 tasks      | elapsed:  2.2min\n",
      "[Parallel(n_jobs=-1)]: Done 184 tasks      | elapsed: 16.8min\n",
      "[Parallel(n_jobs=-1)]: Done 434 tasks      | elapsed: 59.2min\n",
      "[Parallel(n_jobs=-1)]: Done 480 out of 480 | elapsed: 63.0min finished\n"
     ]
    }
   ],
   "source": [
    "from sklearn.model_selection import train_test_split\n",
    "from sklearn import metrics as mt\n",
    "\n",
    "from sklearn.linear_model import LogisticRegression\n",
    "from sklearn import metrics as mt\n",
    "from sklearn.model_selection import cross_val_score\n",
    "from sklearn.neighbors import KNeighborsClassifier\n",
    "from sklearn.model_selection import GridSearchCV\n",
    "from sklearn.metrics import make_scorer\n",
    "from sklearn.metrics import accuracy_score\n",
    "from sklearn.metrics import f1_score\n",
    "from sklearn.metrics import roc_auc_score\n",
    "\n",
    "scoring = {'F1': make_scorer(f1_score), 'Accuracy': make_scorer(accuracy_score), 'AUC': make_scorer(roc_auc_score) }\n",
    "\n",
    "# grid_params = {\n",
    "#     'n_neighbors': [3,5,11,19],\n",
    "#     'weights': ['uniform', 'distance'],\n",
    "#     'metric': ['euclidean', 'manhattan'],\n",
    "#     'algorithm': ['auto', 'ball_tree', 'kd_tree']\n",
    "# }\n",
    "\n",
    "\n",
    "grid_params = {\n",
    "    'n_neighbors': [3,5,11,19],\n",
    "    'weights': ['uniform', 'distance'],\n",
    "    'metric': ['euclidean', 'manhattan'],\n",
    "    'algorithm': ['auto', 'ball_tree', 'kd_tree']\n",
    "}\n",
    "#using grid search value\n",
    "KNN_grid_search_classifier = GridSearchCV(\n",
    "    KNeighborsClassifier(),\n",
    "    grid_params,\n",
    "    verbose = 1,\n",
    "    scoring=scoring,\n",
    "    cv = cv_cls,\n",
    "    n_jobs = -1\n",
    ")\n",
    "\n",
    "knn_fit = KNN_grid_search_classifier.fit(X_cls_sel_train, y_cls_train)"
   ]
  },
  {
   "cell_type": "code",
   "execution_count": 90,
   "metadata": {},
   "outputs": [
    {
     "data": {
      "text/plain": [
       "KNeighborsClassifier(metric='manhattan', n_neighbors=19, weights='distance')"
      ]
     },
     "execution_count": 90,
     "metadata": {},
     "output_type": "execute_result"
    }
   ],
   "source": [
    "knn_fit.best_estimator_"
   ]
  },
  {
   "cell_type": "code",
   "execution_count": 94,
   "metadata": {},
   "outputs": [
    {
     "data": {
      "text/plain": [
       "0.8420719258755168"
      ]
     },
     "execution_count": 94,
     "metadata": {},
     "output_type": "execute_result"
    }
   ],
   "source": [
    "knn_fit.best_score_"
   ]
  },
  {
   "cell_type": "code",
   "execution_count": 95,
   "metadata": {
    "scrolled": true
   },
   "outputs": [
    {
     "data": {
      "text/plain": [
       "{'algorithm': 'auto',\n",
       " 'metric': 'manhattan',\n",
       " 'n_neighbors': 19,\n",
       " 'weights': 'distance'}"
      ]
     },
     "execution_count": 95,
     "metadata": {},
     "output_type": "execute_result"
    }
   ],
   "source": [
    "knn_fit.best_params_"
   ]
  },
  {
   "cell_type": "markdown",
   "metadata": {},
   "source": [
    "##### Random Forest"
   ]
  },
  {
   "cell_type": "code",
   "execution_count": 144,
   "metadata": {},
   "outputs": [],
   "source": [
    "def per_class_accuracy(ytrue,yhat):\n",
    "    conf = mt.confusion_matrix(ytrue,yhat)\n",
    "    norm_conf = conf.astype('float') / conf.sum(axis=1)[:, np.newaxis]\n",
    "    return np.diag(norm_conf)\n",
    "\n",
    "def plot_class_acc(ytrue,yhat, title=''):\n",
    "    acc_list = per_class_accuracy(ytrue,yhat)\n",
    "    plt.bar(range(len(acc_list)), acc_list)\n",
    "    plt.xlabel('Class value (one per face)')\n",
    "    plt.ylabel('Accuracy within class')\n",
    "    plt.title(title+\", Total Acc=%.1f\"%(100*mt.accuracy_score(ytrue,yhat)))\n",
    "    plt.grid()\n",
    "    plt.ylim([0,1])\n",
    "    plt.show()"
   ]
  },
  {
   "cell_type": "code",
   "execution_count": 106,
   "metadata": {},
   "outputs": [
    {
     "name": "stdout",
     "output_type": "stream",
     "text": [
      "Fitting 10 folds for each of 18 candidates, totalling 180 fits\n"
     ]
    },
    {
     "name": "stderr",
     "output_type": "stream",
     "text": [
      "[Parallel(n_jobs=-1)]: Using backend LokyBackend with 8 concurrent workers.\n",
      "[Parallel(n_jobs=-1)]: Done  34 tasks      | elapsed:   48.3s\n",
      "[Parallel(n_jobs=-1)]: Done 180 out of 180 | elapsed:  4.4min finished\n"
     ]
    }
   ],
   "source": [
    "from sklearn.ensemble import RandomForestClassifier\n",
    "from sklearn.model_selection import GridSearchCV\n",
    "from sklearn.metrics import make_scorer\n",
    "from sklearn.metrics import accuracy_score\n",
    "from sklearn.metrics import f1_score\n",
    "from sklearn.metrics import roc_auc_score\n",
    "\n",
    "#scoring = {'F1': make_scorer(f1_score), 'Accuracy': make_scorer(accuracy_score), 'AUC': make_scorer(roc_auc_score) }\n",
    "scoring = {'AUC': make_scorer(roc_auc_score) }\n",
    "\n",
    "\n",
    "# grid_params = {'bootstrap': [True, False],\n",
    "#  'max_depth': [10, 20, 30, 40, 50, 60, 70, 80, 90, 100],\n",
    "#  'max_features': ['auto', 'sqrt'],\n",
    "#  'min_samples_leaf': [1, 2, 4],\n",
    "#  'min_samples_split': [2, 5, 10],\n",
    "#  'n_estimators': [10, 100, 200, 400, 500, 1000],\n",
    "#  'oob_score': [True,False]\n",
    "# }\n",
    "\n",
    "# grid_params = {'bootstrap': [True, False],\n",
    "#  'max_depth': [10, 20, 30,50],\n",
    "#  'max_features': ['auto', 'sqrt'],\n",
    "#  'min_samples_leaf': [1, 2, 4],\n",
    "#  'min_samples_split': [2, 5, 10],\n",
    "#  'n_estimators': [10, 100],\n",
    "#  'oob_score': [True,False]\n",
    "# }\n",
    "\n",
    "grid_params = {\n",
    " 'max_depth': [50],\n",
    " 'max_features': ['auto'],\n",
    " 'min_samples_leaf': [1, 2, 4],\n",
    " 'min_samples_split': [2, 5, 10],\n",
    " 'n_estimators': [10, 100],\n",
    " 'oob_score': [True]\n",
    "}\n",
    "\n",
    "\n",
    "#using grid search value\n",
    "random_forest_gridsearch = GridSearchCV(\n",
    "    RandomForestClassifier(),\n",
    "    grid_params,\n",
    "    verbose = 1,\n",
    "    cv = cv_cls,\n",
    "    scoring=scoring,\n",
    "    refit='AUC', \n",
    "    return_train_score=True,\n",
    "    n_jobs = -1\n",
    ")\n",
    "\n",
    "rf_clf = random_forest_gridsearch.fit(X_cls_sel_train, y_cls_train)\n",
    "results = rf_clf.cv_results_"
   ]
  },
  {
   "cell_type": "code",
   "execution_count": 107,
   "metadata": {},
   "outputs": [
    {
     "data": {
      "text/plain": [
       "RandomForestClassifier(max_depth=50, oob_score=True)"
      ]
     },
     "execution_count": 107,
     "metadata": {},
     "output_type": "execute_result"
    }
   ],
   "source": [
    "rf_clf.best_estimator_"
   ]
  },
  {
   "cell_type": "code",
   "execution_count": 108,
   "metadata": {},
   "outputs": [
    {
     "data": {
      "text/plain": [
       "{'mean_fit_time': array([ 1.69169462, 16.63188231,  1.68448751, 16.76463957,  1.59426799,\n",
       "        17.43990216,  1.70717502, 18.36719613,  1.6780091 , 16.59384243,\n",
       "         1.59043822, 16.39779177,  1.61493354, 18.53067667,  1.96697707,\n",
       "        16.86679804,  1.56904895, 15.18991179]),\n",
       " 'std_fit_time': array([0.03363062, 0.14028806, 0.08407937, 0.85707538, 0.04246253,\n",
       "        0.6633912 , 0.066258  , 0.75437991, 0.12067105, 0.20170269,\n",
       "        0.04846484, 0.49615127, 0.13549314, 0.57459163, 0.06367595,\n",
       "        0.40667223, 0.05635302, 2.98441652]),\n",
       " 'mean_score_time': array([0.08005016, 0.71091363, 0.09497788, 0.78131759, 0.07624116,\n",
       "        0.70257757, 0.08140814, 0.79779119, 0.08312228, 0.68752236,\n",
       "        0.0754348 , 0.70941236, 0.09830832, 0.7791734 , 0.10229471,\n",
       "        0.71168251, 0.07303588, 0.61064265]),\n",
       " 'std_score_time': array([0.0073418 , 0.00866718, 0.01452217, 0.09019174, 0.00549974,\n",
       "        0.05184862, 0.00411929, 0.10730428, 0.01406093, 0.02523675,\n",
       "        0.00294953, 0.11612125, 0.06481532, 0.07615982, 0.03192066,\n",
       "        0.08493677, 0.00371112, 0.19930376]),\n",
       " 'param_max_depth': masked_array(data=[50, 50, 50, 50, 50, 50, 50, 50, 50, 50, 50, 50, 50, 50,\n",
       "                    50, 50, 50, 50],\n",
       "              mask=[False, False, False, False, False, False, False, False,\n",
       "                    False, False, False, False, False, False, False, False,\n",
       "                    False, False],\n",
       "        fill_value='?',\n",
       "             dtype=object),\n",
       " 'param_max_features': masked_array(data=['auto', 'auto', 'auto', 'auto', 'auto', 'auto', 'auto',\n",
       "                    'auto', 'auto', 'auto', 'auto', 'auto', 'auto', 'auto',\n",
       "                    'auto', 'auto', 'auto', 'auto'],\n",
       "              mask=[False, False, False, False, False, False, False, False,\n",
       "                    False, False, False, False, False, False, False, False,\n",
       "                    False, False],\n",
       "        fill_value='?',\n",
       "             dtype=object),\n",
       " 'param_min_samples_leaf': masked_array(data=[1, 1, 1, 1, 1, 1, 2, 2, 2, 2, 2, 2, 4, 4, 4, 4, 4, 4],\n",
       "              mask=[False, False, False, False, False, False, False, False,\n",
       "                    False, False, False, False, False, False, False, False,\n",
       "                    False, False],\n",
       "        fill_value='?',\n",
       "             dtype=object),\n",
       " 'param_min_samples_split': masked_array(data=[2, 2, 5, 5, 10, 10, 2, 2, 5, 5, 10, 10, 2, 2, 5, 5, 10,\n",
       "                    10],\n",
       "              mask=[False, False, False, False, False, False, False, False,\n",
       "                    False, False, False, False, False, False, False, False,\n",
       "                    False, False],\n",
       "        fill_value='?',\n",
       "             dtype=object),\n",
       " 'param_n_estimators': masked_array(data=[10, 100, 10, 100, 10, 100, 10, 100, 10, 100, 10, 100,\n",
       "                    10, 100, 10, 100, 10, 100],\n",
       "              mask=[False, False, False, False, False, False, False, False,\n",
       "                    False, False, False, False, False, False, False, False,\n",
       "                    False, False],\n",
       "        fill_value='?',\n",
       "             dtype=object),\n",
       " 'param_oob_score': masked_array(data=[True, True, True, True, True, True, True, True, True,\n",
       "                    True, True, True, True, True, True, True, True, True],\n",
       "              mask=[False, False, False, False, False, False, False, False,\n",
       "                    False, False, False, False, False, False, False, False,\n",
       "                    False, False],\n",
       "        fill_value='?',\n",
       "             dtype=object),\n",
       " 'params': [{'max_depth': 50,\n",
       "   'max_features': 'auto',\n",
       "   'min_samples_leaf': 1,\n",
       "   'min_samples_split': 2,\n",
       "   'n_estimators': 10,\n",
       "   'oob_score': True},\n",
       "  {'max_depth': 50,\n",
       "   'max_features': 'auto',\n",
       "   'min_samples_leaf': 1,\n",
       "   'min_samples_split': 2,\n",
       "   'n_estimators': 100,\n",
       "   'oob_score': True},\n",
       "  {'max_depth': 50,\n",
       "   'max_features': 'auto',\n",
       "   'min_samples_leaf': 1,\n",
       "   'min_samples_split': 5,\n",
       "   'n_estimators': 10,\n",
       "   'oob_score': True},\n",
       "  {'max_depth': 50,\n",
       "   'max_features': 'auto',\n",
       "   'min_samples_leaf': 1,\n",
       "   'min_samples_split': 5,\n",
       "   'n_estimators': 100,\n",
       "   'oob_score': True},\n",
       "  {'max_depth': 50,\n",
       "   'max_features': 'auto',\n",
       "   'min_samples_leaf': 1,\n",
       "   'min_samples_split': 10,\n",
       "   'n_estimators': 10,\n",
       "   'oob_score': True},\n",
       "  {'max_depth': 50,\n",
       "   'max_features': 'auto',\n",
       "   'min_samples_leaf': 1,\n",
       "   'min_samples_split': 10,\n",
       "   'n_estimators': 100,\n",
       "   'oob_score': True},\n",
       "  {'max_depth': 50,\n",
       "   'max_features': 'auto',\n",
       "   'min_samples_leaf': 2,\n",
       "   'min_samples_split': 2,\n",
       "   'n_estimators': 10,\n",
       "   'oob_score': True},\n",
       "  {'max_depth': 50,\n",
       "   'max_features': 'auto',\n",
       "   'min_samples_leaf': 2,\n",
       "   'min_samples_split': 2,\n",
       "   'n_estimators': 100,\n",
       "   'oob_score': True},\n",
       "  {'max_depth': 50,\n",
       "   'max_features': 'auto',\n",
       "   'min_samples_leaf': 2,\n",
       "   'min_samples_split': 5,\n",
       "   'n_estimators': 10,\n",
       "   'oob_score': True},\n",
       "  {'max_depth': 50,\n",
       "   'max_features': 'auto',\n",
       "   'min_samples_leaf': 2,\n",
       "   'min_samples_split': 5,\n",
       "   'n_estimators': 100,\n",
       "   'oob_score': True},\n",
       "  {'max_depth': 50,\n",
       "   'max_features': 'auto',\n",
       "   'min_samples_leaf': 2,\n",
       "   'min_samples_split': 10,\n",
       "   'n_estimators': 10,\n",
       "   'oob_score': True},\n",
       "  {'max_depth': 50,\n",
       "   'max_features': 'auto',\n",
       "   'min_samples_leaf': 2,\n",
       "   'min_samples_split': 10,\n",
       "   'n_estimators': 100,\n",
       "   'oob_score': True},\n",
       "  {'max_depth': 50,\n",
       "   'max_features': 'auto',\n",
       "   'min_samples_leaf': 4,\n",
       "   'min_samples_split': 2,\n",
       "   'n_estimators': 10,\n",
       "   'oob_score': True},\n",
       "  {'max_depth': 50,\n",
       "   'max_features': 'auto',\n",
       "   'min_samples_leaf': 4,\n",
       "   'min_samples_split': 2,\n",
       "   'n_estimators': 100,\n",
       "   'oob_score': True},\n",
       "  {'max_depth': 50,\n",
       "   'max_features': 'auto',\n",
       "   'min_samples_leaf': 4,\n",
       "   'min_samples_split': 5,\n",
       "   'n_estimators': 10,\n",
       "   'oob_score': True},\n",
       "  {'max_depth': 50,\n",
       "   'max_features': 'auto',\n",
       "   'min_samples_leaf': 4,\n",
       "   'min_samples_split': 5,\n",
       "   'n_estimators': 100,\n",
       "   'oob_score': True},\n",
       "  {'max_depth': 50,\n",
       "   'max_features': 'auto',\n",
       "   'min_samples_leaf': 4,\n",
       "   'min_samples_split': 10,\n",
       "   'n_estimators': 10,\n",
       "   'oob_score': True},\n",
       "  {'max_depth': 50,\n",
       "   'max_features': 'auto',\n",
       "   'min_samples_leaf': 4,\n",
       "   'min_samples_split': 10,\n",
       "   'n_estimators': 100,\n",
       "   'oob_score': True}],\n",
       " 'split0_test_AUC': array([0.81838671, 0.83080352, 0.81793229, 0.83107707, 0.81963889,\n",
       "        0.82642709, 0.81928152, 0.82730878, 0.8176897 , 0.82712192,\n",
       "        0.81681549, 0.82206092, 0.81477753, 0.81927414, 0.81318041,\n",
       "        0.81936152, 0.81310938, 0.81734095]),\n",
       " 'split1_test_AUC': array([0.81562548, 0.82989166, 0.82048005, 0.82734217, 0.81361343,\n",
       "        0.82067127, 0.81677819, 0.8224602 , 0.81481518, 0.82043076,\n",
       "        0.81423192, 0.81777292, 0.81152434, 0.81479606, 0.81116732,\n",
       "        0.81472894, 0.81040641, 0.81432966]),\n",
       " 'split2_test_AUC': array([0.81827445, 0.83130227, 0.82010668, 0.82654499, 0.8145292 ,\n",
       "        0.82195719, 0.81463362, 0.82535924, 0.8157146 , 0.82295504,\n",
       "        0.81511464, 0.81853062, 0.80718904, 0.81563618, 0.80967567,\n",
       "        0.81538681, 0.81047641, 0.81465502]),\n",
       " 'split3_test_AUC': array([0.81293599, 0.82796377, 0.81512916, 0.82398732, 0.81069978,\n",
       "        0.8176624 , 0.8158812 , 0.81959629, 0.81388054, 0.81989931,\n",
       "        0.80967567, 0.81325432, 0.80916022, 0.80921214, 0.80564661,\n",
       "        0.80930804, 0.80630309, 0.81003096]),\n",
       " 'split4_test_AUC': array([0.81698175, 0.83167633, 0.81953298, 0.83112254, 0.81625457,\n",
       "        0.82394933, 0.81951985, 0.82665195, 0.81436686, 0.82469354,\n",
       "        0.8133431 , 0.81976576, 0.80988705, 0.81660099, 0.8103325 ,\n",
       "        0.81477154, 0.8112014 , 0.81480919]),\n",
       " 'split5_test_AUC': array([0.8167448 , 0.82675776, 0.81781151, 0.82537202, 0.81284112,\n",
       "        0.81842688, 0.81427095, 0.82257672, 0.81387237, 0.8210382 ,\n",
       "        0.8119257 , 0.81566957, 0.80750519, 0.81166538, 0.8071713 ,\n",
       "        0.81051762, 0.80936343, 0.80929918]),\n",
       " 'split6_test_AUC': array([0.81940091, 0.83052536, 0.8225521 , 0.82777162, 0.81652099,\n",
       "        0.82217422, 0.81721155, 0.82483136, 0.81635117, 0.82315964,\n",
       "        0.81523542, 0.82157069, 0.81103906, 0.81813134, 0.81187032,\n",
       "        0.81892955, 0.81272288, 0.81568661]),\n",
       " 'split7_test_AUC': array([0.81770109, 0.83250333, 0.81948324, 0.83028242, 0.81594302,\n",
       "        0.82480188, 0.8219024 , 0.82708036, 0.82102428, 0.82615285,\n",
       "        0.816337  , 0.8220531 , 0.81122236, 0.81670968, 0.81800838,\n",
       "        0.81645604, 0.8116046 , 0.8151623 ]),\n",
       " 'split8_test_AUC': array([0.814336  , 0.82921457, 0.81852199, 0.82784587, 0.81214169,\n",
       "        0.82337458, 0.81673663, 0.82480154, 0.81464145, 0.8237536 ,\n",
       "        0.81311468, 0.81845958, 0.80818942, 0.81480849, 0.81189093,\n",
       "        0.81494596, 0.81120462, 0.81381029]),\n",
       " 'split9_test_AUC': array([0.81882294, 0.82862061, 0.82022641, 0.82821211, 0.81073742,\n",
       "        0.82283853, 0.81368977, 0.82458555, 0.81788013, 0.82333763,\n",
       "        0.81372568, 0.81762406, 0.80988705, 0.81432252, 0.80924265,\n",
       "        0.81395237, 0.80915987, 0.81316625]),\n",
       " 'mean_test_AUC': array([0.81692101, 0.82992592, 0.81917764, 0.82795581, 0.81429201,\n",
       "        0.82222834, 0.81699057, 0.8245252 , 0.81602363, 0.82325425,\n",
       "        0.81395193, 0.81867615, 0.81003813, 0.81511569, 0.81081861,\n",
       "        0.81483584, 0.81055521, 0.81382904]),\n",
       " 'std_test_AUC': array([0.00196549, 0.00169791, 0.00188423, 0.00223801, 0.00270037,\n",
       "        0.00258264, 0.00246997, 0.00228089, 0.00216259, 0.0022344 ,\n",
       "        0.00201199, 0.00269912, 0.00214108, 0.00281046, 0.00322067,\n",
       "        0.00300301, 0.00186116, 0.00234179]),\n",
       " 'rank_test_AUC': array([ 9,  1,  6,  2, 13,  5,  8,  3, 10,  4, 14,  7, 18, 11, 16, 12, 17,\n",
       "        15], dtype=int32),\n",
       " 'split0_train_AUC': array([0.97473826, 0.9897088 , 0.94585642, 0.96319309, 0.905504  ,\n",
       "        0.91473097, 0.92692949, 0.93949639, 0.9213803 , 0.93192332,\n",
       "        0.89237144, 0.89522156, 0.87432937, 0.87500529, 0.87289525,\n",
       "        0.87630045, 0.87034415, 0.86987221]),\n",
       " 'split1_train_AUC': array([0.97483576, 0.98906807, 0.94690891, 0.96443222, 0.90601965,\n",
       "        0.913638  , 0.92699912, 0.9397146 , 0.92072501, 0.93203316,\n",
       "        0.89172654, 0.8953449 , 0.87279814, 0.87651468, 0.87220703,\n",
       "        0.87549988, 0.87128458, 0.87036865]),\n",
       " 'split2_train_AUC': array([0.97445751, 0.98970764, 0.94653707, 0.9652329 , 0.90710709,\n",
       "        0.91479118, 0.92779222, 0.94011615, 0.92190023, 0.93252813,\n",
       "        0.89261781, 0.89547483, 0.87373886, 0.87510794, 0.87516501,\n",
       "        0.8744438 , 0.86627311, 0.87176277]),\n",
       " 'split3_train_AUC': array([0.97429524, 0.98949652, 0.94643287, 0.96438765, 0.90645218,\n",
       "        0.91218299, 0.92647442, 0.93820531, 0.92145799, 0.93061136,\n",
       "        0.89067172, 0.89453218, 0.87277132, 0.8744674 , 0.87087011,\n",
       "        0.87521   , 0.87142073, 0.87137918]),\n",
       " 'split4_train_AUC': array([0.97507018, 0.989739  , 0.9474263 , 0.96383159, 0.90518634,\n",
       "        0.91354797, 0.92721285, 0.93968692, 0.91988597, 0.93290977,\n",
       "        0.89153222, 0.89407382, 0.87327826, 0.87457966, 0.87582886,\n",
       "        0.87453207, 0.86733441, 0.86855083]),\n",
       " 'split5_train_AUC': array([0.976491  , 0.99010278, 0.94751847, 0.96419546, 0.90687869,\n",
       "        0.91349796, 0.92632546, 0.94018888, 0.92303108, 0.93186088,\n",
       "        0.89126225, 0.89393465, 0.87282474, 0.87486603, 0.87206788,\n",
       "        0.87535984, 0.86876435, 0.86884498]),\n",
       " 'split6_train_AUC': array([0.97453734, 0.98963587, 0.94624593, 0.96409428, 0.90750408,\n",
       "        0.91386058, 0.926872  , 0.93977393, 0.92112247, 0.93276285,\n",
       "        0.88854938, 0.8936005 , 0.87375129, 0.87486856, 0.87273387,\n",
       "        0.87480515, 0.86801041, 0.86891219]),\n",
       " 'split7_train_AUC': array([0.97488693, 0.98920966, 0.94719314, 0.96389802, 0.90563635,\n",
       "        0.91353117, 0.92776055, 0.93975325, 0.91941119, 0.9319947 ,\n",
       "        0.89137908, 0.89526498, 0.87108269, 0.87504597, 0.87034532,\n",
       "        0.87467997, 0.86688373, 0.86912719]),\n",
       " 'split8_train_AUC': array([0.97556778, 0.98951526, 0.9476181 , 0.96360572, 0.90641878,\n",
       "        0.91322635, 0.9274701 , 0.93961283, 0.92041017, 0.93226098,\n",
       "        0.89221461, 0.8955702 , 0.87152222, 0.87553726, 0.87314415,\n",
       "        0.87564544, 0.86719982, 0.86956827]),\n",
       " 'split9_train_AUC': array([0.97461658, 0.98957372, 0.94668176, 0.96383256, 0.90658444,\n",
       "        0.9156072 , 0.9271105 , 0.94119844, 0.92139982, 0.93270205,\n",
       "        0.89156484, 0.89497394, 0.87189841, 0.87623918, 0.8759251 ,\n",
       "        0.87553969, 0.86938304, 0.87056345]),\n",
       " 'mean_train_AUC': array([0.97494966, 0.98957573, 0.9468419 , 0.96407035, 0.90632916,\n",
       "        0.91386144, 0.92709467, 0.93977467, 0.92107243, 0.93215872,\n",
       "        0.89138899, 0.89479916, 0.87279953, 0.8752232 , 0.87311826,\n",
       "        0.87520163, 0.86868983, 0.86989497]),\n",
       " 'std_train_AUC': array([0.00061525, 0.00027291, 0.00056052, 0.00052231, 0.00070276,\n",
       "        0.00090984, 0.00046341, 0.00069954, 0.00097987, 0.00062867,\n",
       "        0.00109162, 0.00067501, 0.00098744, 0.00064262, 0.00185176,\n",
       "        0.0005554 , 0.00176167, 0.00104568])}"
      ]
     },
     "execution_count": 108,
     "metadata": {},
     "output_type": "execute_result"
    }
   ],
   "source": []
  },
  {
   "cell_type": "code",
   "execution_count": 145,
   "metadata": {},
   "outputs": [
    {
     "name": "stdout",
     "output_type": "stream",
     "text": [
      "Accuracy 0.8363262508567512\n"
     ]
    },
    {
     "data": {
      "image/png": "[encoded data removed]",
      "text/plain": [
       "<Figure size 432x288 with 1 Axes>"
      ]
     },
     "metadata": {
      "needs_background": "light"
     },
     "output_type": "display_data"
    }
   ],
   "source": [
    "from sklearn.ensemble import RandomForestClassifier\n",
    "\n",
    "clf_rf = RandomForestClassifier(max_depth=50, n_estimators=150, n_jobs=-1, oob_score=True)\n",
    "\n",
    "yhat = np.zeros(y_cls.shape) # we will fill this with predictions\n",
    "\n",
    "# now iterate through and get predictions, saved to the correct row in yhat\n",
    "for train_indices, test_indices in cv_cls.split(X_cls_sel,y_cls): \n",
    "    X_train = X_cls_sel.iloc[train_indices]\n",
    "    y_train = y_cls.iloc[train_indices]\n",
    "    \n",
    "    X_test = X_cls_sel.iloc[test_indices]\n",
    "    y_test = y_cls.iloc[test_indices]\n",
    "    clf_rf.fit(X_train,y_train)\n",
    "    yhat[test_indices] = clf_rf.predict(X_test)\n",
    "    \n",
    "total_accuracy = mt.accuracy_score(y_cls, yhat)\n",
    "print ('Accuracy', total_accuracy)\n",
    "plot_class_acc(y_cls,yhat,title=\"Random Forest, Raw\")"
   ]
  },
  {
   "cell_type": "markdown",
   "metadata": {},
   "source": [
    "##### Logistic Regression"
   ]
  },
  {
   "cell_type": "code",
   "execution_count": 123,
   "metadata": {},
   "outputs": [
    {
     "name": "stdout",
     "output_type": "stream",
     "text": [
      "Fitting 10 folds for each of 7 candidates, totalling 70 fits\n"
     ]
    },
    {
     "name": "stderr",
     "output_type": "stream",
     "text": [
      "[Parallel(n_jobs=-1)]: Using backend LokyBackend with 8 concurrent workers.\n",
      "[Parallel(n_jobs=-1)]: Done  34 tasks      | elapsed:    3.7s\n",
      "[Parallel(n_jobs=-1)]: Done  70 out of  70 | elapsed:    5.4s finished\n"
     ]
    }
   ],
   "source": [
    "from sklearn.model_selection import GridSearchCV\n",
    "from sklearn.metrics import make_scorer\n",
    "from sklearn.metrics import accuracy_score\n",
    "from sklearn.metrics import f1_score\n",
    "from sklearn.metrics import roc_auc_score\n",
    "\n",
    "scoring = {'F1': make_scorer(f1_score), 'Accuracy': make_scorer(accuracy_score), 'AUC': make_scorer(roc_auc_score) }\n",
    "\n",
    "grid_params = {'C': [0.001, 0.01, 0.1, 1, 10, 100, 1000] }\n",
    "\n",
    "logistic_gridsearch = GridSearchCV(\n",
    "    LogisticRegression(),\n",
    "    grid_params,\n",
    "    verbose = 1,\n",
    "    cv = cv_cls,\n",
    "    scoring=scoring,\n",
    "    refit='AUC', \n",
    "    return_train_score=True,\n",
    "    n_jobs = -1\n",
    ")\n",
    "\n",
    "lg_clf = logistic_gridsearch.fit(X_cls_sel_train, y_cls_train)\n",
    "\n",
    "results = lg_clf.cv_results_\n"
   ]
  },
  {
   "cell_type": "code",
   "execution_count": 111,
   "metadata": {},
   "outputs": [
    {
     "data": {
      "text/plain": [
       "LogisticRegression(C=1)"
      ]
     },
     "execution_count": 111,
     "metadata": {},
     "output_type": "execute_result"
    }
   ],
   "source": [
    "lg_clf.best_estimator_"
   ]
  },
  {
   "cell_type": "code",
   "execution_count": 113,
   "metadata": {},
   "outputs": [
    {
     "data": {
      "text/plain": [
       "0.7279195485295903"
      ]
     },
     "execution_count": 113,
     "metadata": {},
     "output_type": "execute_result"
    }
   ],
   "source": [
    "lg_clf.best_score_"
   ]
  },
  {
   "cell_type": "code",
   "execution_count": 114,
   "metadata": {},
   "outputs": [
    {
     "data": {
      "text/plain": [
       "{'C': 1}"
      ]
     },
     "execution_count": 114,
     "metadata": {},
     "output_type": "execute_result"
    }
   ],
   "source": [
    "lg_clf.best_params_"
   ]
  },
  {
   "cell_type": "code",
   "execution_count": 124,
   "metadata": {},
   "outputs": [
    {
     "data": {
      "text/plain": [
       "{'mean_fit_time': array([0.1842648 , 0.20582862, 0.2013835 , 0.1983    , 0.2621273 ,\n",
       "        0.21992235, 0.21069398]),\n",
       " 'std_fit_time': array([0.00776662, 0.01204328, 0.01156077, 0.00651407, 0.05966202,\n",
       "        0.00617133, 0.01502298]),\n",
       " 'mean_score_time': array([0.02714808, 0.02591848, 0.02512939, 0.02635601, 0.0345921 ,\n",
       "        0.02813923, 0.02400339]),\n",
       " 'std_score_time': array([0.00255628, 0.00245737, 0.00271025, 0.00182128, 0.02442098,\n",
       "        0.00378043, 0.00431554]),\n",
       " 'param_C': masked_array(data=[0.001, 0.01, 0.1, 1, 10, 100, 1000],\n",
       "              mask=[False, False, False, False, False, False, False],\n",
       "        fill_value='?',\n",
       "             dtype=object),\n",
       " 'params': [{'C': 0.001},\n",
       "  {'C': 0.01},\n",
       "  {'C': 0.1},\n",
       "  {'C': 1},\n",
       "  {'C': 10},\n",
       "  {'C': 100},\n",
       "  {'C': 1000}],\n",
       " 'split0_test_F1': array([0.61789668, 0.64089888, 0.64289554, 0.64326019, 0.64326019,\n",
       "        0.64326019, 0.64326019]),\n",
       " 'split1_test_F1': array([0.60539238, 0.62776624, 0.63039366, 0.63089665, 0.63089665,\n",
       "        0.63089665, 0.63089665]),\n",
       " 'split2_test_F1': array([0.61166928, 0.6312562 , 0.63313237, 0.63380408, 0.63380408,\n",
       "        0.63391813, 0.63391813]),\n",
       " 'split3_test_F1': array([0.61252644, 0.63282937, 0.6351315 , 0.63549892, 0.63549892,\n",
       "        0.63549892, 0.63549892]),\n",
       " 'split4_test_F1': array([0.612841  , 0.63124775, 0.63372197, 0.63445679, 0.63457919,\n",
       "        0.63457919, 0.63457919]),\n",
       " 'split5_test_F1': array([0.60961183, 0.63022102, 0.63205255, 0.63255396, 0.63249708,\n",
       "        0.63249708, 0.63249708]),\n",
       " 'split6_test_F1': array([0.61708948, 0.63730755, 0.63897079, 0.63905008, 0.63905008,\n",
       "        0.63905008, 0.63905008]),\n",
       " 'split7_test_F1': array([0.61449647, 0.63494903, 0.63701322, 0.63720764, 0.63720764,\n",
       "        0.63720764, 0.63720764]),\n",
       " 'split8_test_F1': array([0.60572484, 0.62588828, 0.62820743, 0.62840746, 0.62803839,\n",
       "        0.62803839, 0.62803839]),\n",
       " 'split9_test_F1': array([0.61238743, 0.63271162, 0.63476161, 0.63489225, 0.63483548,\n",
       "        0.63483548, 0.63483548]),\n",
       " 'mean_test_F1': array([0.61196358, 0.63250759, 0.63462806, 0.6350028 , 0.63496677,\n",
       "        0.63497818, 0.63497818]),\n",
       " 'std_test_F1': array([0.00396079, 0.00417416, 0.00402513, 0.0039721 , 0.00403666,\n",
       "        0.00403352, 0.00403352]),\n",
       " 'rank_test_F1': array([7, 6, 5, 1, 4, 2, 2], dtype=int32),\n",
       " 'split0_train_F1': array([0.60876807, 0.62825665, 0.62983226, 0.63008395, 0.63010061,\n",
       "        0.63005559, 0.63005559]),\n",
       " 'split1_train_F1': array([0.61225616, 0.63230565, 0.63450627, 0.63490854, 0.63500034,\n",
       "        0.6349861 , 0.6349861 ]),\n",
       " 'split2_train_F1': array([0.61167863, 0.63252011, 0.63488721, 0.63506494, 0.6350955 ,\n",
       "        0.63520928, 0.63520928]),\n",
       " 'split3_train_F1': array([0.61283796, 0.63378257, 0.63604209, 0.636445  , 0.63646127,\n",
       "        0.63652228, 0.63652228]),\n",
       " 'split4_train_F1': array([0.61270638, 0.63191274, 0.6345106 , 0.63477403, 0.6347598 ,\n",
       "        0.63474557, 0.63474557]),\n",
       " 'split5_train_F1': array([0.61218008, 0.63184415, 0.63489003, 0.63528779, 0.63534896,\n",
       "        0.63534896, 0.63534896]),\n",
       " 'split6_train_F1': array([0.60952513, 0.62928953, 0.63161922, 0.6322421 , 0.63227287,\n",
       "        0.63230364, 0.63230364]),\n",
       " 'split7_train_F1': array([0.61281939, 0.63220997, 0.63494693, 0.63486592, 0.63495758,\n",
       "        0.63494337, 0.63494337]),\n",
       " 'split8_train_F1': array([0.61385273, 0.63461495, 0.63683174, 0.63716933, 0.63710833,\n",
       "        0.63710833, 0.63710833]),\n",
       " 'split9_train_F1': array([0.61379897, 0.63373581, 0.6355881 , 0.63576337, 0.63576337,\n",
       "        0.63576337, 0.63576337]),\n",
       " 'mean_train_F1': array([0.61204235, 0.63204721, 0.63436544, 0.6346605 , 0.63468686,\n",
       "        0.63469865, 0.63469865]),\n",
       " 'std_train_F1': array([0.00159045, 0.00186562, 0.00198511, 0.00195351, 0.00194459,\n",
       "        0.00195929, 0.00195929]),\n",
       " 'split0_test_Accuracy': array([0.78317542, 0.79087054, 0.79134167, 0.79149872, 0.79149872,\n",
       "        0.79149872, 0.79149872]),\n",
       " 'split1_test_Accuracy': array([0.77705073, 0.78427472, 0.78521698, 0.78537403, 0.78537403,\n",
       "        0.78537403, 0.78537403]),\n",
       " 'split2_test_Accuracy': array([0.77945872, 0.78594985, 0.78657802, 0.78689211, 0.78689211,\n",
       "        0.78699681, 0.78699681]),\n",
       " 'split3_test_Accuracy': array([0.77945872, 0.78642098, 0.7872062 , 0.78736324, 0.78736324,\n",
       "        0.78736324, 0.78736324]),\n",
       " 'split4_test_Accuracy': array([0.77935403, 0.78526933, 0.78621159, 0.78652568, 0.78657802,\n",
       "        0.78657802, 0.78657802]),\n",
       " 'split5_test_Accuracy': array([0.7788829 , 0.78542637, 0.78594985, 0.78610689, 0.78605455,\n",
       "        0.78605455, 0.78605455]),\n",
       " 'split6_test_Accuracy': array([0.78113385, 0.78788672, 0.78846255, 0.78835785, 0.78835785,\n",
       "        0.78835785, 0.78835785]),\n",
       " 'split7_test_Accuracy': array([0.77977281, 0.78631629, 0.78725855, 0.78725855, 0.78725855,\n",
       "        0.78725855, 0.78725855]),\n",
       " 'split8_test_Accuracy': array([0.7764749 , 0.7822855 , 0.78307072, 0.78307072, 0.78291368,\n",
       "        0.78291368, 0.78291368]),\n",
       " 'split9_test_Accuracy': array([0.77919698, 0.78558342, 0.78626394, 0.78626394, 0.78621159,\n",
       "        0.78621159, 0.78621159]),\n",
       " 'mean_test_Accuracy': array([0.77939591, 0.78602837, 0.78675601, 0.78687117, 0.78685023,\n",
       "        0.7868607 , 0.7868607 ]),\n",
       " 'std_test_Accuracy': array([0.00178302, 0.00212989, 0.00203877, 0.00204387, 0.00207614,\n",
       "        0.00207659, 0.00207659]),\n",
       " 'rank_test_Accuracy': array([7, 6, 5, 1, 4, 2, 2], dtype=int32),\n",
       " 'split0_train_Accuracy': array([0.7786779 , 0.78450183, 0.78482901, 0.78490754, 0.78490754,\n",
       "        0.78488136, 0.78488136]),\n",
       " 'split1_train_Accuracy': array([0.77939771, 0.78600688, 0.78671361, 0.78685757, 0.78689683,\n",
       "        0.78688374, 0.78688374]),\n",
       " 'split2_train_Accuracy': array([0.77910979, 0.78591527, 0.78668743, 0.78670052, 0.78671361,\n",
       "        0.78681831, 0.78681831]),\n",
       " 'split3_train_Accuracy': array([0.77960711, 0.78662199, 0.78722402, 0.78735489, 0.78735489,\n",
       "        0.78738107, 0.78738107]),\n",
       " 'split4_train_Accuracy': array([0.77988195, 0.78579748, 0.78668743, 0.78677904, 0.78676596,\n",
       "        0.78675287, 0.78675287]),\n",
       " 'split5_train_Accuracy': array([0.77947624, 0.78581057, 0.78687066, 0.78704079, 0.78706697,\n",
       "        0.78706697, 0.78706697]),\n",
       " 'split6_train_Accuracy': array([0.77874334, 0.78495989, 0.78577131, 0.78608541, 0.7860985 ,\n",
       "        0.78611158, 0.78611158]),\n",
       " 'split7_train_Accuracy': array([0.77967255, 0.78561426, 0.78662199, 0.7865173 , 0.78655656,\n",
       "        0.78654347, 0.78654347]),\n",
       " 'split8_train_Accuracy': array([0.78023531, 0.78694918, 0.78769517, 0.78782604, 0.78779987,\n",
       "        0.78779987, 0.78779987]),\n",
       " 'split9_train_Accuracy': array([0.78030075, 0.7864126 , 0.78700153, 0.78702771, 0.78702771,\n",
       "        0.78702771, 0.78702771]),\n",
       " 'mean_train_Accuracy': array([0.77951027, 0.785859  , 0.78661022, 0.78670968, 0.78671884,\n",
       "        0.78672669, 0.78672669]),\n",
       " 'std_train_Accuracy': array([0.00052722, 0.00069416, 0.00075326, 0.00074663, 0.00074268,\n",
       "        0.00075081, 0.00075081]),\n",
       " 'split0_test_AUC': array([0.71937214, 0.73177364, 0.73281766, 0.73302974, 0.73302974,\n",
       "        0.73302974, 0.73302974]),\n",
       " 'split1_test_AUC': array([0.71212075, 0.72391516, 0.72536237, 0.72563271, 0.72563271,\n",
       "        0.72563271, 0.72563271]),\n",
       " 'split2_test_AUC': array([0.71551819, 0.72597338, 0.72699645, 0.72739147, 0.72739147,\n",
       "        0.72747459, 0.72747459]),\n",
       " 'split3_test_AUC': array([0.71586774, 0.7268135 , 0.72807777, 0.72828985, 0.72828985,\n",
       "        0.72828985, 0.72828985]),\n",
       " 'split4_test_AUC': array([0.71595938, 0.72575348, 0.72714244, 0.72756659, 0.72763728,\n",
       "        0.72763728, 0.72763728]),\n",
       " 'split5_test_AUC': array([0.71447843, 0.72535385, 0.72632292, 0.72659326, 0.72655169,\n",
       "        0.72655169, 0.72655169]),\n",
       " 'split6_test_AUC': array([0.71833376, 0.72925892, 0.73018217, 0.73018643, 0.73018643,\n",
       "        0.73018643, 0.73018643]),\n",
       " 'split7_test_AUC': array([0.71678707, 0.72772075, 0.72893494, 0.72902232, 0.72902232,\n",
       "        0.72902232, 0.72902232]),\n",
       " 'split8_test_AUC': array([0.71204223, 0.72245229, 0.72371656, 0.72380394, 0.72359187,\n",
       "        0.72359187, 0.72359187]),\n",
       " 'split9_test_AUC': array([0.71571818, 0.72649804, 0.72762093, 0.72767919, 0.72763763,\n",
       "        0.72763763, 0.72763763]),\n",
       " 'mean_test_AUC': array([0.71561979, 0.7265513 , 0.72771742, 0.72791955, 0.7278971 ,\n",
       "        0.72790541, 0.72790541]),\n",
       " 'std_test_AUC': array([0.00222149, 0.00249397, 0.0024095 , 0.00238734, 0.00242628,\n",
       "        0.00242468, 0.00242468]),\n",
       " 'rank_test_AUC': array([7, 6, 5, 1, 4, 2, 2], dtype=int32),\n",
       " 'split0_train_AUC': array([0.71406297, 0.72420029, 0.72499174, 0.72512691, 0.7251342 ,\n",
       "        0.72510613, 0.72510613]),\n",
       " 'split1_train_AUC': array([0.71573423, 0.72645131, 0.72764605, 0.7278696 , 0.72792262,\n",
       "        0.72791223, 0.72791223]),\n",
       " 'split2_train_AUC': array([0.71539638, 0.72651695, 0.72780735, 0.72789057, 0.72790825,\n",
       "        0.72799138, 0.72799138]),\n",
       " 'split3_train_AUC': array([0.71604615, 0.72729656, 0.72848829, 0.72870873, 0.72871601,\n",
       "        0.72875136, 0.72875136]),\n",
       " 'split4_train_AUC': array([0.71608956, 0.72621222, 0.72763984, 0.72778541, 0.72777502,\n",
       "        0.72776462, 0.72776462]),\n",
       " 'split5_train_AUC': array([0.71573103, 0.7261862 , 0.72786543, 0.72809519, 0.72813054,\n",
       "        0.72813054, 0.72813054]),\n",
       " 'split6_train_AUC': array([0.71439168, 0.72479704, 0.72607491, 0.7264481 , 0.72646578,\n",
       "        0.72648345, 0.72648345]),\n",
       " 'split7_train_AUC': array([0.71606169, 0.72628524, 0.72781366, 0.7277451 , 0.72779812,\n",
       "        0.72778773, 0.72778773]),\n",
       " 'split8_train_AUC': array([0.71668329, 0.72776754, 0.72898618, 0.72917748, 0.72914214,\n",
       "        0.72914214, 0.72914214]),\n",
       " 'split9_train_AUC': array([0.71668426, 0.72721042, 0.72821696, 0.72830329, 0.72830329,\n",
       "        0.72830329, 0.72830329]),\n",
       " 'mean_train_AUC': array([0.71568812, 0.72629238, 0.72755304, 0.72771504, 0.7277296 ,\n",
       "        0.72773729, 0.72773729]),\n",
       " 'std_train_AUC': array([0.00082598, 0.00103603, 0.0011118 , 0.00109457, 0.00108938,\n",
       "        0.00109866, 0.00109866])}"
      ]
     },
     "execution_count": 124,
     "metadata": {},
     "output_type": "execute_result"
    }
   ],
   "source": [
    "results"
   ]
  },
  {
   "cell_type": "code",
   "execution_count": 125,
   "metadata": {},
   "outputs": [
    {
     "data": {
      "image/png": "[encoded data removed]",
      "text/plain": [
       "<Figure size 936x936 with 1 Axes>"
      ]
     },
     "metadata": {
      "needs_background": "light"
     },
     "output_type": "display_data"
    }
   ],
   "source": [
    "plt.figure(figsize=(13, 13))\n",
    "plt.title(\"GridSearchCV evaluating using multiple scorers simultaneously\",\n",
    "          fontsize=16)\n",
    "\n",
    "plt.xlabel(\"min_samples_split\")\n",
    "plt.ylabel(\"Score\")\n",
    "\n",
    "ax = plt.gca()\n",
    "ax.set_xlim(0, 402)\n",
    "ax.set_ylim(0.73, 1)\n",
    "\n",
    "# Get the regular numpy array from the MaskedArray\n",
    "X_axis = np.array(results['param_C'].data, dtype=float)\n",
    "\n",
    "for scorer, color in zip(sorted(scoring), ['g', 'k']):\n",
    "    for sample, style in (('train', '--'), ('test', '-')):\n",
    "        sample_score_mean = results['mean_%s_%s' % (sample, scorer)]\n",
    "        sample_score_std = results['std_%s_%s' % (sample, scorer)]\n",
    "        ax.fill_between(X_axis, sample_score_mean - sample_score_std,\n",
    "                        sample_score_mean + sample_score_std,\n",
    "                        alpha=0.1 if sample == 'test' else 0, color=color)\n",
    "        ax.plot(X_axis, sample_score_mean, style, color=color,\n",
    "                alpha=1 if sample == 'test' else 0.7,\n",
    "                label=\"%s (%s)\" % (scorer, sample))\n",
    "\n",
    "    best_index = np.nonzero(results['rank_test_%s' % scorer] == 1)[0][0]\n",
    "    best_score = results['mean_test_%s' % scorer][best_index]\n",
    "\n",
    "    # Plot a dotted vertical line at the best score for that scorer marked by x\n",
    "    ax.plot([X_axis[best_index], ] * 2, [0, best_score],\n",
    "            linestyle='-.', color=color, marker='x', markeredgewidth=3, ms=8)\n",
    "\n",
    "    # Annotate the best score for that scorer\n",
    "    ax.annotate(\"%0.2f\" % best_score,\n",
    "                (X_axis[best_index], best_score + 0.005))\n",
    "\n",
    "plt.legend(loc=\"best\")\n",
    "plt.grid(False)\n",
    "plt.show()"
   ]
  },
  {
   "cell_type": "code",
   "execution_count": null,
   "metadata": {},
   "outputs": [],
   "source": [
    "from sklearn.model_selection import StratifiedShuffleSplit \n",
    "from sklearn.model_selection import train_test_split\n",
    "from sklearn import metrics as mt\n",
    "\n",
    "from sklearn.linear_model import LogisticRegression\n",
    "from sklearn.model_selection import ShuffleSplit\n",
    "from sklearn import metrics as mt\n",
    "from sklearn.model_selection import cross_val_score\n",
    "\n",
    "for train_indices, test_indices in cv_cls.split(X_cls_sel,y_cls): \n",
    "    X_train = X_cls_sel.iloc[train_indices]\n",
    "    y_train = y_cls.iloc[train_indices]\n",
    "    \n",
    "    X_test = X_cls_sel.iloc[test_indices]\n",
    "    y_test = y_cls.iloc[test_indices]\n",
    "    \n",
    "clf_logreg = LogisticRegression(random_state=10).fit(X_train,y_train)\n",
    "\n",
    "\n",
    "print(\"Training set score: {:.3f}\".format(clf_logreg.score(X_train,y_train)))\n",
    "print(\"Test set score: {:.3f}\".format(clf_logreg.score(X_test,y_test)))\n",
    "\n",
    "import statsmodels.api as sm\n",
    "y_cls_list = list(y_cls)\n",
    "logit_model=sm.Logit(y_cls_list,X_cls_sel)\n",
    "result=logit_model.fit()\n",
    "print(result.summary())"
   ]
  },
  {
   "cell_type": "markdown",
   "metadata": {},
   "source": [
    "##### Decision Tree"
   ]
  },
  {
   "cell_type": "code",
   "execution_count": 119,
   "metadata": {},
   "outputs": [
    {
     "name": "stdout",
     "output_type": "stream",
     "text": [
      "Fitting 10 folds for each of 2 candidates, totalling 20 fits\n"
     ]
    },
    {
     "name": "stderr",
     "output_type": "stream",
     "text": [
      "[Parallel(n_jobs=-1)]: Using backend LokyBackend with 8 concurrent workers.\n",
      "[Parallel(n_jobs=-1)]: Done  20 out of  20 | elapsed:    2.5s finished\n"
     ]
    }
   ],
   "source": [
    "from sklearn.tree import DecisionTreeClassifier\n",
    "from sklearn.model_selection import train_test_split\n",
    "from sklearn.metrics import confusion_matrix\n",
    "from sklearn.tree import export_graphviz\n",
    "from six import StringIO\n",
    "from IPython.display import Image \n",
    "import pandas as pd\n",
    "import numpy as np\n",
    "from sklearn import metrics as mt\n",
    "from sklearn import tree\n",
    "\n",
    "\n",
    "from sklearn.metrics import make_scorer\n",
    "from sklearn.metrics import accuracy_score\n",
    "from sklearn.metrics import f1_score\n",
    "from sklearn.metrics import roc_auc_score\n",
    "\n",
    "scoring = {'F1': make_scorer(f1_score), 'Accuracy': make_scorer(accuracy_score), 'AUC': make_scorer(roc_auc_score) }\n",
    "\n",
    "\n",
    "grid_params = {\n",
    "    \"criterion\": ['gini','entropy'],\n",
    "}\n",
    "\n",
    "\n",
    "decision_tree_grid = GridSearchCV(DecisionTreeClassifier(),\n",
    "                                  grid_params,\n",
    "                                  verbose = 1,\n",
    "                                  cv = cv_cls,\n",
    "                                  scoring=scoring,\n",
    "                                  refit='AUC', \n",
    "                                  return_train_score=True,\n",
    "                                  n_jobs = -1)\n",
    "\n",
    "\n",
    "dt_clf = decision_tree_grid.fit(X_cls_sel_train, y_cls_train)\n",
    "\n",
    "results = dt_clf.cv_results_\n",
    "\n",
    "\n"
   ]
  },
  {
   "cell_type": "code",
   "execution_count": 121,
   "metadata": {},
   "outputs": [
    {
     "data": {
      "text/plain": [
       "{'mean_fit_time': array([0.70449278, 0.65746217]),\n",
       " 'std_fit_time': array([0.02427431, 0.1055083 ]),\n",
       " 'mean_score_time': array([0.03410571, 0.028055  ]),\n",
       " 'std_score_time': array([0.00250098, 0.00586045]),\n",
       " 'param_criterion': masked_array(data=['gini', 'entropy'],\n",
       "              mask=[False, False],\n",
       "        fill_value='?',\n",
       "             dtype=object),\n",
       " 'params': [{'criterion': 'gini'}, {'criterion': 'entropy'}],\n",
       " 'split0_test_F1': array([0.73924051, 0.74391527]),\n",
       " 'split1_test_F1': array([0.74372634, 0.74042193]),\n",
       " 'split2_test_F1': array([0.737879  , 0.73870695]),\n",
       " 'split3_test_F1': array([0.73741917, 0.73941437]),\n",
       " 'split4_test_F1': array([0.73774853, 0.74062632]),\n",
       " 'split5_test_F1': array([0.73848285, 0.73654748]),\n",
       " 'split6_test_F1': array([0.73569521, 0.74017406]),\n",
       " 'split7_test_F1': array([0.73749738, 0.73439809]),\n",
       " 'split8_test_F1': array([0.73657648, 0.73828346]),\n",
       " 'split9_test_F1': array([0.74171814, 0.73941529]),\n",
       " 'mean_test_F1': array([0.73859836, 0.73919032]),\n",
       " 'std_test_F1': array([0.00229812, 0.00240788]),\n",
       " 'rank_test_F1': array([2, 1], dtype=int32),\n",
       " 'split0_train_F1': array([0.98787081, 0.98787081]),\n",
       " 'split1_train_F1': array([0.98762707, 0.98762707]),\n",
       " 'split2_train_F1': array([0.98805206, 0.98805206]),\n",
       " 'split3_train_F1': array([0.98790552, 0.98790552]),\n",
       " 'split4_train_F1': array([0.9878636, 0.9878636]),\n",
       " 'split5_train_F1': array([0.98838077, 0.98838077]),\n",
       " 'split6_train_F1': array([0.98801053, 0.98801053]),\n",
       " 'split7_train_F1': array([0.98751334, 0.98751334]),\n",
       " 'split8_train_F1': array([0.98789906, 0.98789906]),\n",
       " 'split9_train_F1': array([0.98764686, 0.98764686]),\n",
       " 'mean_train_F1': array([0.98787696, 0.98787696]),\n",
       " 'std_train_F1': array([0.00023483, 0.00023483]),\n",
       " 'split0_test_Accuracy': array([0.80589436, 0.80887819]),\n",
       " 'split1_test_Accuracy': array([0.80861645, 0.80741245]),\n",
       " 'split2_test_Accuracy': array([0.80359106, 0.80620845]),\n",
       " 'split3_test_Accuracy': array([0.80442862, 0.80573732]),\n",
       " 'split4_test_Accuracy': array([0.80390515, 0.80662723]),\n",
       " 'split5_test_Accuracy': array([0.80238706, 0.80291054]),\n",
       " 'split6_test_Accuracy': array([0.80317228, 0.80620845]),\n",
       " 'split7_test_Accuracy': array([0.80353871, 0.80238706]),\n",
       " 'split8_test_Accuracy': array([0.80327697, 0.80589436]),\n",
       " 'split9_test_Accuracy': array([0.8073601 , 0.80636549]),\n",
       " 'mean_test_Accuracy': array([0.80461708, 0.80586295]),\n",
       " 'std_test_Accuracy': array([0.00191742, 0.00182711]),\n",
       " 'rank_test_Accuracy': array([2, 1], dtype=int32),\n",
       " 'split0_train_Accuracy': array([0.99107435, 0.99107435]),\n",
       " 'split1_train_Accuracy': array([0.99090421, 0.99090421]),\n",
       " 'split2_train_Accuracy': array([0.99120522, 0.99120522]),\n",
       " 'split3_train_Accuracy': array([0.99110052, 0.99110052]),\n",
       " 'split4_train_Accuracy': array([0.99106126, 0.99106126]),\n",
       " 'split5_train_Accuracy': array([0.9914408, 0.9914408]),\n",
       " 'split6_train_Accuracy': array([0.99117905, 0.99117905]),\n",
       " 'split7_train_Accuracy': array([0.9908126, 0.9908126]),\n",
       " 'split8_train_Accuracy': array([0.99110052, 0.99110052]),\n",
       " 'split9_train_Accuracy': array([0.99090421, 0.99090421]),\n",
       " 'mean_train_Accuracy': array([0.99107828, 0.99107828]),\n",
       " 'std_train_Accuracy': array([0.00017034, 0.00017034]),\n",
       " 'split0_test_AUC': array([0.79295862, 0.79669674]),\n",
       " 'split1_test_AUC': array([0.79654718, 0.79390178]),\n",
       " 'split2_test_AUC': array([0.79185807, 0.79253804]),\n",
       " 'split3_test_AUC': array([0.79150357, 0.79309609]),\n",
       " 'split4_test_AUC': array([0.7917579 , 0.79406481]),\n",
       " 'split5_test_AUC': array([0.79232943, 0.79079344]),\n",
       " 'split6_test_AUC': array([0.7901274 , 0.79370318]),\n",
       " 'split7_test_AUC': array([0.79155435, 0.78909615]),\n",
       " 'split8_test_AUC': array([0.79082222, 0.79220127]),\n",
       " 'split9_test_AUC': array([0.79493798, 0.79309965]),\n",
       " 'mean_test_AUC': array([0.79243967, 0.79291912]),\n",
       " 'std_test_AUC': array([0.00183904, 0.00192409]),\n",
       " 'rank_test_AUC': array([2, 1], dtype=int32),\n",
       " 'split0_train_AUC': array([0.989148, 0.989148]),\n",
       " 'split1_train_AUC': array([0.988758, 0.988758]),\n",
       " 'split2_train_AUC': array([0.98934659, 0.98934659]),\n",
       " 'split3_train_AUC': array([0.98916149, 0.98916149]),\n",
       " 'split4_train_AUC': array([0.9893124, 0.9893124]),\n",
       " 'split5_train_AUC': array([0.98975212, 0.98975212]),\n",
       " 'split6_train_AUC': array([0.98921656, 0.98921656]),\n",
       " 'split7_train_AUC': array([0.98883821, 0.98883821]),\n",
       " 'split8_train_AUC': array([0.98905225, 0.98905225]),\n",
       " 'split9_train_AUC': array([0.98908575, 0.98908575]),\n",
       " 'mean_train_AUC': array([0.98916714, 0.98916714]),\n",
       " 'std_train_AUC': array([0.00026339, 0.00026339])}"
      ]
     },
     "execution_count": 121,
     "metadata": {},
     "output_type": "execute_result"
    }
   ],
   "source": [
    "results"
   ]
  },
  {
   "cell_type": "code",
   "execution_count": 120,
   "metadata": {},
   "outputs": [
    {
     "ename": "KeyError",
     "evalue": "'param_min_samples_split'",
     "output_type": "error",
     "traceback": [
      "\u001b[0;31m---------------------------------------------------------------------------\u001b[0m",
      "\u001b[0;31mKeyError\u001b[0m                                  Traceback (most recent call last)",
      "\u001b[0;32m<ipython-input-120-4859563e0e81>\u001b[0m in \u001b[0;36m<module>\u001b[0;34m\u001b[0m\n\u001b[1;32m     11\u001b[0m \u001b[0;34m\u001b[0m\u001b[0m\n\u001b[1;32m     12\u001b[0m \u001b[0;31m# Get the regular numpy array from the MaskedArray\u001b[0m\u001b[0;34m\u001b[0m\u001b[0;34m\u001b[0m\u001b[0;34m\u001b[0m\u001b[0m\n\u001b[0;32m---> 13\u001b[0;31m \u001b[0mX_axis\u001b[0m \u001b[0;34m=\u001b[0m \u001b[0mnp\u001b[0m\u001b[0;34m.\u001b[0m\u001b[0marray\u001b[0m\u001b[0;34m(\u001b[0m\u001b[0mresults\u001b[0m\u001b[0;34m[\u001b[0m\u001b[0;34m'param_min_samples_split'\u001b[0m\u001b[0;34m]\u001b[0m\u001b[0;34m.\u001b[0m\u001b[0mdata\u001b[0m\u001b[0;34m,\u001b[0m \u001b[0mdtype\u001b[0m\u001b[0;34m=\u001b[0m\u001b[0mfloat\u001b[0m\u001b[0;34m)\u001b[0m\u001b[0;34m\u001b[0m\u001b[0;34m\u001b[0m\u001b[0m\n\u001b[0m\u001b[1;32m     14\u001b[0m \u001b[0;34m\u001b[0m\u001b[0m\n\u001b[1;32m     15\u001b[0m \u001b[0;32mfor\u001b[0m \u001b[0mscorer\u001b[0m\u001b[0;34m,\u001b[0m \u001b[0mcolor\u001b[0m \u001b[0;32min\u001b[0m \u001b[0mzip\u001b[0m\u001b[0;34m(\u001b[0m\u001b[0msorted\u001b[0m\u001b[0;34m(\u001b[0m\u001b[0mscoring\u001b[0m\u001b[0;34m)\u001b[0m\u001b[0;34m,\u001b[0m \u001b[0;34m[\u001b[0m\u001b[0;34m'g'\u001b[0m\u001b[0;34m,\u001b[0m \u001b[0;34m'k'\u001b[0m\u001b[0;34m]\u001b[0m\u001b[0;34m)\u001b[0m\u001b[0;34m:\u001b[0m\u001b[0;34m\u001b[0m\u001b[0;34m\u001b[0m\u001b[0m\n",
      "\u001b[0;31mKeyError\u001b[0m: 'param_min_samples_split'"
     ]
    },
    {
     "data": {
      "image/png": "[encoded data removed]",
      "text/plain": [
       "<Figure size 936x936 with 1 Axes>"
      ]
     },
     "metadata": {
      "needs_background": "light"
     },
     "output_type": "display_data"
    }
   ],
   "source": [
    "plt.figure(figsize=(13, 13))\n",
    "plt.title(\"GridSearchCV evaluating using multiple scorers simultaneously\",\n",
    "          fontsize=16)\n",
    "\n",
    "plt.xlabel(\"min_samples_split\")\n",
    "plt.ylabel(\"Score\")\n",
    "\n",
    "ax = plt.gca()\n",
    "ax.set_xlim(0, 402)\n",
    "ax.set_ylim(0.73, 1)\n",
    "\n",
    "# Get the regular numpy array from the MaskedArray\n",
    "X_axis = np.array(results['param_min_samples_split'].data, dtype=float)\n",
    "\n",
    "for scorer, color in zip(sorted(scoring), ['g', 'k']):\n",
    "    for sample, style in (('train', '--'), ('test', '-')):\n",
    "        sample_score_mean = results['mean_%s_%s' % (sample, scorer)]\n",
    "        sample_score_std = results['std_%s_%s' % (sample, scorer)]\n",
    "        ax.fill_between(X_axis, sample_score_mean - sample_score_std,\n",
    "                        sample_score_mean + sample_score_std,\n",
    "                        alpha=0.1 if sample == 'test' else 0, color=color)\n",
    "        ax.plot(X_axis, sample_score_mean, style, color=color,\n",
    "                alpha=1 if sample == 'test' else 0.7,\n",
    "                label=\"%s (%s)\" % (scorer, sample))\n",
    "\n",
    "    best_index = np.nonzero(results['rank_test_%s' % scorer] == 1)[0][0]\n",
    "    best_score = results['mean_test_%s' % scorer][best_index]\n",
    "\n",
    "    # Plot a dotted vertical line at the best score for that scorer marked by x\n",
    "    ax.plot([X_axis[best_index], ] * 2, [0, best_score],\n",
    "            linestyle='-.', color=color, marker='x', markeredgewidth=3, ms=8)\n",
    "\n",
    "    # Annotate the best score for that scorer\n",
    "    ax.annotate(\"%0.2f\" % best_score,\n",
    "                (X_axis[best_index], best_score + 0.005))\n",
    "\n",
    "plt.legend(loc=\"best\")\n",
    "plt.grid(False)\n",
    "plt.show()"
   ]
  },
  {
   "cell_type": "code",
   "execution_count": 157,
   "metadata": {},
   "outputs": [],
   "source": [
    "clf_dt = DecisionTreeClassifier(random_state=10)\n",
    "\n",
    "yhat = np.zeros(y_cls.shape) # we will fill this with predictions\n",
    "\n",
    "for train_indices, test_indices in cv_cls.split(X_cls_sel_train, y_cls_train): \n",
    "    X_train = X_cls_sel.iloc[train_indices]\n",
    "    y_train = y_cls.iloc[train_indices]\n",
    "    \n",
    "    X_test = X_cls_sel.iloc[test_indices]\n",
    "    y_test = y_cls.iloc[test_indices]\n",
    "    clf_dt.fit(X_train,y_train)\n",
    "    yhat[test_indices] = clf_dt.predict(X_test)"
   ]
  },
  {
   "cell_type": "code",
   "execution_count": 158,
   "metadata": {},
   "outputs": [
    {
     "name": "stdout",
     "output_type": "stream",
     "text": [
      "Accuracy 0.7910440941283985\n"
     ]
    },
    {
     "data": {
      "image/png": "[encoded data removed]",
      "text/plain": [
       "<Figure size 432x288 with 1 Axes>"
      ]
     },
     "metadata": {
      "needs_background": "light"
     },
     "output_type": "display_data"
    }
   ],
   "source": [
    "total_accuracy = mt.accuracy_score(y_cls, yhat)\n",
    "print ('Accuracy', total_accuracy)\n",
    "plot_class_acc(y_cls,yhat,title=\"Decision Tree\")"
   ]
  },
  {
   "cell_type": "code",
   "execution_count": 176,
   "metadata": {},
   "outputs": [
    {
     "data": {
      "image/png": "[encoded data removed]",
      "text/plain": [
       "<Figure size 864x864 with 1 Axes>"
      ]
     },
     "metadata": {
      "needs_background": "light"
     },
     "output_type": "display_data"
    }
   ],
   "source": [
    "# Visualizing tree using only the first 4 branches.\n",
    "clf_dt2 = tree.DecisionTreeClassifier(max_depth=3)  # set hyperparameter\n",
    "clf_dt2.fit(X_train, y_train)\n",
    "\n",
    "plt.figure(figsize=(12,12))  # set plot size (denoted in inches)\n",
    "tree.plot_tree(clf_dt2, fontsize=10, filled=True)\n",
    "plt.show()"
   ]
  },
  {
   "cell_type": "markdown",
   "metadata": {},
   "source": [
    "##### Naive Bayes"
   ]
  },
  {
   "cell_type": "code",
   "execution_count": 151,
   "metadata": {},
   "outputs": [],
   "source": [
    "from sklearn.naive_bayes import GaussianNB\n",
    "\n",
    "clf_nb = GaussianNB()\n",
    "\n",
    "yhat = np.zeros(y_cls.shape) # we will fill this with predictions\n",
    "\n",
    "#calculate prior probability\n",
    "\n",
    "for train_indices, test_indices in cv_cls.split(X_cls_sel_train, y_cls_train): \n",
    "    X_train = X_cls_sel.iloc[train_indices]\n",
    "    y_train = y_cls.iloc[train_indices]\n",
    "    \n",
    "    X_test = X_cls_sel.iloc[test_indices]\n",
    "    y_test = y_cls.iloc[test_indices]\n",
    "    clf_nb.fit(X_train,y_train)\n",
    "    yhat[test_indices] = clf_nb.predict(X_test)"
   ]
  },
  {
   "cell_type": "code",
   "execution_count": 152,
   "metadata": {},
   "outputs": [
    {
     "name": "stdout",
     "output_type": "stream",
     "text": [
      "Accuracy 0.7517882569729458\n"
     ]
    },
    {
     "ename": "NameError",
     "evalue": "name 'plot_class_acc' is not defined",
     "output_type": "error",
     "traceback": [
      "\u001b[0;31m---------------------------------------------------------------------------\u001b[0m",
      "\u001b[0;31mNameError\u001b[0m                                 Traceback (most recent call last)",
      "\u001b[0;32m<ipython-input-152-1761be1e6a7b>\u001b[0m in \u001b[0;36m<module>\u001b[0;34m\u001b[0m\n\u001b[1;32m      1\u001b[0m \u001b[0mtotal_accuracy\u001b[0m \u001b[0;34m=\u001b[0m \u001b[0mmt\u001b[0m\u001b[0;34m.\u001b[0m\u001b[0maccuracy_score\u001b[0m\u001b[0;34m(\u001b[0m\u001b[0my_cls\u001b[0m\u001b[0;34m,\u001b[0m \u001b[0myhat\u001b[0m\u001b[0;34m)\u001b[0m\u001b[0;34m\u001b[0m\u001b[0;34m\u001b[0m\u001b[0m\n\u001b[1;32m      2\u001b[0m \u001b[0mprint\u001b[0m \u001b[0;34m(\u001b[0m\u001b[0;34m'Accuracy'\u001b[0m\u001b[0;34m,\u001b[0m \u001b[0mtotal_accuracy\u001b[0m\u001b[0;34m)\u001b[0m\u001b[0;34m\u001b[0m\u001b[0;34m\u001b[0m\u001b[0m\n\u001b[0;32m----> 3\u001b[0;31m \u001b[0mplot_class_acc\u001b[0m\u001b[0;34m(\u001b[0m\u001b[0my_cls\u001b[0m\u001b[0;34m,\u001b[0m\u001b[0myhat\u001b[0m\u001b[0;34m,\u001b[0m\u001b[0mtitle\u001b[0m\u001b[0;34m=\u001b[0m\u001b[0;34m\"Naive Bayes\"\u001b[0m\u001b[0;34m)\u001b[0m\u001b[0;34m\u001b[0m\u001b[0;34m\u001b[0m\u001b[0m\n\u001b[0m",
      "\u001b[0;31mNameError\u001b[0m: name 'plot_class_acc' is not defined"
     ]
    }
   ],
   "source": [
    "total_accuracy = mt.accuracy_score(y_cls, yhat)\n",
    "print ('Accuracy', total_accuracy)\n",
    "plot_class_acc(y_cls,yhat,title=\"Naive Bayes\")"
   ]
  },
  {
   "cell_type": "markdown",
   "metadata": {},
   "source": [
    "#### Part 3.b: Models for Regression <a id='model-and-evaluation3b'/> "
   ]
  },
  {
   "cell_type": "code",
   "execution_count": 76,
   "metadata": {},
   "outputs": [],
   "source": [
    "from sklearn.model_selection import cross_validate\n",
    "\n",
    "def EvaluateRegressionEstimator(regEstimator, X, y, cv):\n",
    "    \n",
    "    scores = cross_validate(regEstimator, X, y, scoring=errorScoring, cv=cv, return_train_score=True)\n",
    "\n",
    "    #cross val score sign-flips the outputs of MAE\n",
    "    # https://github.com/scikit-learn/scikit-learn/issues/2439\n",
    "    scores['test_MAE'] = scores['test_MAE'] * -1\n",
    "    scores['test_MAPE'] = scores['test_MAPE'] * -1\n",
    "    scores['test_RMSE'] = scores['test_RMSE'] * -1\n",
    "\n",
    "    #print mean MAE for all folds \n",
    "    maeAvg = scores['test_MAE'].mean()\n",
    "    print_str = \"The average MAE for all cv folds is: \\t\\t\\t {maeAvg:.5}\"\n",
    "    print(print_str.format(maeAvg=maeAvg))\n",
    "\n",
    "    #print mean test_MAPE for all folds\n",
    "    scores['test_MAPE'] = scores['test_MAPE']\n",
    "    mape_avg = scores['test_MAPE'].mean()\n",
    "    print_str = \"The average MAE percentage (MAPE) for all cv folds is: \\t {mape_avg:.5}\"\n",
    "    print(print_str.format(mape_avg=mape_avg))\n",
    "\n",
    "    #print mean MAE for all folds \n",
    "    RMSEavg = scores['test_RMSE'].mean()\n",
    "    print_str = \"The average RMSE for all cv folds is: \\t\\t\\t {RMSEavg:.5}\"\n",
    "    print(print_str.format(RMSEavg=RMSEavg))\n",
    "    print('*********************************************************')\n",
    "\n",
    "    print('Cross Validation Fold Mean Error Scores')\n",
    "    scoresResults = pd.DataFrame()\n",
    "    scoresResults['MAE'] = scores['test_MAE']\n",
    "    scoresResults['MAPE'] = scores['test_MAPE']\n",
    "    scoresResults['RMSE'] = scores['test_RMSE']\n",
    "    return scoresResults"
   ]
  },
  {
   "cell_type": "code",
   "execution_count": 77,
   "metadata": {},
   "outputs": [],
   "source": [
    "\n",
    "#Use mean absolute error (MAE) to score the regression models created \n",
    "#(the scale of MAE is identical to the response variable)\n",
    "from sklearn.metrics import mean_absolute_error, make_scorer, mean_squared_error\n",
    "\n",
    "#Function for Root mean squared error\n",
    "#https://stackoverflow.com/questions/17197492/root-mean-square-error-in-python\n",
    "def rmse(y_actual, y_predicted):\n",
    "    return np.sqrt(mean_squared_error(y_actual, y_predicted))\n",
    "\n",
    "#Function for Mean Absolute Percentage Error (MAPE) - Untested\n",
    "#Adapted from - https://stackoverflow.com/questions/42250958/how-to-optimize-mape-code-in-python\n",
    "def mape(y_actual, y_predicted): \n",
    "    mask = y_actual != 0\n",
    "    return (np.fabs(y_actual - y_predicted)/y_actual)[mask].mean() * 100\n",
    "\n",
    "#Create scorers for rmse and mape functions\n",
    "mae_scorer = make_scorer(score_func=mean_absolute_error, greater_is_better=False)\n",
    "rmse_scorer = make_scorer(score_func=rmse, greater_is_better=False)\n",
    "mape_scorer = make_scorer(score_func=mape, greater_is_better=False)\n",
    "\n",
    "#Make scorer array to pass into cross_validate() function for producing mutiple scores for each cv fold.\n",
    "errorScoring = {'MAE':  mae_scorer, \n",
    "                'RMSE': rmse_scorer,\n",
    "                'MAPE': mape_scorer\n",
    "               }"
   ]
  },
  {
   "cell_type": "markdown",
   "metadata": {},
   "source": [
    "##### Support Vector Regression"
   ]
  },
  {
   "cell_type": "code",
   "execution_count": 78,
   "metadata": {},
   "outputs": [
    {
     "name": "stdout",
     "output_type": "stream",
     "text": [
      "Fitting 3 folds for each of 8 candidates, totalling 24 fits\n"
     ]
    },
    {
     "name": "stderr",
     "output_type": "stream",
     "text": [
      "[Parallel(n_jobs=8)]: Using backend LokyBackend with 8 concurrent workers.\n",
      "[Parallel(n_jobs=8)]: Done  24 out of  24 | elapsed: 55.0min finished\n"
     ]
    },
    {
     "data": {
      "text/plain": [
       "GridSearchCV(cv=ShuffleSplit(n_splits=3, random_state=10, test_size=0.2, train_size=None),\n",
       "             estimator=SVR(), n_jobs=8,\n",
       "             param_grid={'C': [0.001, 0.1], 'gamma': [0.05263157894736842, 0.1],\n",
       "                         'kernel': ['rbf', 'linear']},\n",
       "             scoring=make_scorer(mean_absolute_error, greater_is_better=False),\n",
       "             verbose=1)"
      ]
     },
     "execution_count": 78,
     "metadata": {},
     "output_type": "execute_result"
    }
   ],
   "source": [
    "#Create a Linear regression object and perform a grid search to find the best parameters\n",
    "from sklearn.svm import SVR\n",
    "reg = SVR()\n",
    "\n",
    "#Set up SVR parameters to test (WARNING: Creates 80 models!!!) \n",
    "costs = [0.001, 0.1]\n",
    "defGamma = 1 / X_reg_sel.shape[1]  #This is the default value for the gamma parameter\n",
    "gammas = [defGamma, 0.1]\n",
    "kernels = ['rbf','linear']\n",
    "parameters = {'C': costs, 'gamma' : gammas, 'kernel': kernels}\n",
    "\n",
    "#Create a grid search object using the parameters above\n",
    "from sklearn.model_selection import GridSearchCV\n",
    "regGridSearch = GridSearchCV(estimator=reg\n",
    "                   , n_jobs=8 # jobs to run in parallel\n",
    "                   , verbose=1 # low verbosity\n",
    "                   , param_grid=parameters\n",
    "                   , cv=cv_reg # KFolds = 10\n",
    "                   , scoring=mae_scorer)\n",
    "\n",
    "#Perform hyperparameter search to find the best combination of parameters for our data\n",
    "regGridSearch.fit(X_cls_sel_train, y_cls_train)"
   ]
  },
  {
   "cell_type": "code",
   "execution_count": 79,
   "metadata": {},
   "outputs": [
    {
     "data": {
      "text/plain": [
       "SVR(C=0.1, gamma=0.05263157894736842)"
      ]
     },
     "execution_count": 79,
     "metadata": {},
     "output_type": "execute_result"
    }
   ],
   "source": [
    "\n",
    "#Display the best estimator parameters\n",
    "regGridSearch.best_estimator_"
   ]
  },
  {
   "cell_type": "code",
   "execution_count": 80,
   "metadata": {},
   "outputs": [
    {
     "name": "stdout",
     "output_type": "stream",
     "text": [
      "The average MAE for all cv folds is: \t\t\t 35.443\n",
      "The average MAE percentage (MAPE) for all cv folds is: \t 42.473\n",
      "The average RMSE for all cv folds is: \t\t\t 48.259\n",
      "*********************************************************\n",
      "Cross Validation Fold Mean Error Scores\n"
     ]
    },
    {
     "data": {
      "text/html": [
       "<div>\n",
       "<style scoped>\n",
       "    .dataframe tbody tr th:only-of-type {\n",
       "        vertical-align: middle;\n",
       "    }\n",
       "\n",
       "    .dataframe tbody tr th {\n",
       "        vertical-align: top;\n",
       "    }\n",
       "\n",
       "    .dataframe thead th {\n",
       "        text-align: right;\n",
       "    }\n",
       "</style>\n",
       "<table border=\"1\" class=\"dataframe\">\n",
       "  <thead>\n",
       "    <tr style=\"text-align: right;\">\n",
       "      <th></th>\n",
       "      <th>MAE</th>\n",
       "      <th>MAPE</th>\n",
       "      <th>RMSE</th>\n",
       "    </tr>\n",
       "  </thead>\n",
       "  <tbody>\n",
       "    <tr>\n",
       "      <th>0</th>\n",
       "      <td>35.521926</td>\n",
       "      <td>40.983743</td>\n",
       "      <td>48.231561</td>\n",
       "    </tr>\n",
       "    <tr>\n",
       "      <th>1</th>\n",
       "      <td>35.391718</td>\n",
       "      <td>44.037935</td>\n",
       "      <td>48.424357</td>\n",
       "    </tr>\n",
       "    <tr>\n",
       "      <th>2</th>\n",
       "      <td>35.415893</td>\n",
       "      <td>42.397539</td>\n",
       "      <td>48.119841</td>\n",
       "    </tr>\n",
       "  </tbody>\n",
       "</table>\n",
       "</div>"
      ],
      "text/plain": [
       "         MAE       MAPE       RMSE\n",
       "0  35.521926  40.983743  48.231561\n",
       "1  35.391718  44.037935  48.424357\n",
       "2  35.415893  42.397539  48.119841"
      ]
     },
     "execution_count": 80,
     "metadata": {},
     "output_type": "execute_result"
    }
   ],
   "source": [
    "\n",
    "from sklearn.svm import SVR\n",
    "\n",
    "#Create a regression estimator with best parameters for cross validation\n",
    "regEstimator = SVR(C=0.001, cache_size=200, coef0=0.0, degree=3, epsilon=0.1,\n",
    "                   gamma=0.0016313213703099511, kernel='rbf', max_iter=-1, shrinking=True,\n",
    "                   tol=0.001, verbose=False)\n",
    "\n",
    "#Evaluate the regression estimator above using our pre-defined cross validation and scoring metrics.\n",
    "EvaluateRegressionEstimator(regEstimator, X_reg_sel, y_reg, cv_reg)"
   ]
  },
  {
   "cell_type": "markdown",
   "metadata": {},
   "source": [
    "##### Linear"
   ]
  },
  {
   "cell_type": "code",
   "execution_count": 154,
   "metadata": {},
   "outputs": [],
   "source": [
    "#Make new estimator compatible for use with GridSearchCV() and cross_validate()\n",
    "# -  Cap predict function for LinearRegression between 0 and 100\n",
    "# -  See: Roll your own estimator links above for details. \n",
    "from sklearn.base import BaseEstimator, RegressorMixin\n",
    "from sklearn.linear_model import LinearRegression\n",
    "from sklearn.metrics import mean_absolute_error, make_scorer, mean_squared_error\n",
    "\n",
    "class CappedLinearRegression(LinearRegression):\n",
    "\n",
    "    def predict(self, X):\n",
    "        return np.clip(super(CappedLinearRegression, self).predict(X), 0, 100)"
   ]
  },
  {
   "cell_type": "code",
   "execution_count": 155,
   "metadata": {},
   "outputs": [
    {
     "name": "stdout",
     "output_type": "stream",
     "text": [
      "Fitting 119390 folds for each of 4 candidates, totalling 477560 fits\n"
     ]
    },
    {
     "ename": "KeyboardInterrupt",
     "evalue": "",
     "output_type": "error",
     "traceback": [
      "\u001b[1;31m---------------------------------------------------------------------------\u001b[0m",
      "\u001b[1;31mKeyboardInterrupt\u001b[0m                         Traceback (most recent call last)",
      "\u001b[1;32m<ipython-input-155-251d5f335a80>\u001b[0m in \u001b[0;36m<module>\u001b[1;34m\u001b[0m\n\u001b[0;32m     12\u001b[0m \u001b[1;33m\u001b[0m\u001b[0m\n\u001b[0;32m     13\u001b[0m \u001b[1;31m#Perform hyperparameter search to find the best combination of parameters for our data\u001b[0m\u001b[1;33m\u001b[0m\u001b[1;33m\u001b[0m\u001b[1;33m\u001b[0m\u001b[0m\n\u001b[1;32m---> 14\u001b[1;33m \u001b[0mregGridSearch\u001b[0m\u001b[1;33m.\u001b[0m\u001b[0mfit\u001b[0m\u001b[1;33m(\u001b[0m\u001b[0mX_reg_sel\u001b[0m\u001b[1;33m,\u001b[0m \u001b[0my_reg\u001b[0m\u001b[1;33m)\u001b[0m\u001b[1;33m\u001b[0m\u001b[1;33m\u001b[0m\u001b[0m\n\u001b[0m",
      "\u001b[1;32m~\\anaconda3\\lib\\site-packages\\sklearn\\utils\\validation.py\u001b[0m in \u001b[0;36minner_f\u001b[1;34m(*args, **kwargs)\u001b[0m\n\u001b[0;32m     70\u001b[0m                           FutureWarning)\n\u001b[0;32m     71\u001b[0m         \u001b[0mkwargs\u001b[0m\u001b[1;33m.\u001b[0m\u001b[0mupdate\u001b[0m\u001b[1;33m(\u001b[0m\u001b[1;33m{\u001b[0m\u001b[0mk\u001b[0m\u001b[1;33m:\u001b[0m \u001b[0marg\u001b[0m \u001b[1;32mfor\u001b[0m \u001b[0mk\u001b[0m\u001b[1;33m,\u001b[0m \u001b[0marg\u001b[0m \u001b[1;32min\u001b[0m \u001b[0mzip\u001b[0m\u001b[1;33m(\u001b[0m\u001b[0msig\u001b[0m\u001b[1;33m.\u001b[0m\u001b[0mparameters\u001b[0m\u001b[1;33m,\u001b[0m \u001b[0margs\u001b[0m\u001b[1;33m)\u001b[0m\u001b[1;33m}\u001b[0m\u001b[1;33m)\u001b[0m\u001b[1;33m\u001b[0m\u001b[1;33m\u001b[0m\u001b[0m\n\u001b[1;32m---> 72\u001b[1;33m         \u001b[1;32mreturn\u001b[0m \u001b[0mf\u001b[0m\u001b[1;33m(\u001b[0m\u001b[1;33m**\u001b[0m\u001b[0mkwargs\u001b[0m\u001b[1;33m)\u001b[0m\u001b[1;33m\u001b[0m\u001b[1;33m\u001b[0m\u001b[0m\n\u001b[0m\u001b[0;32m     73\u001b[0m     \u001b[1;32mreturn\u001b[0m \u001b[0minner_f\u001b[0m\u001b[1;33m\u001b[0m\u001b[1;33m\u001b[0m\u001b[0m\n\u001b[0;32m     74\u001b[0m \u001b[1;33m\u001b[0m\u001b[0m\n",
      "\u001b[1;32m~\\anaconda3\\lib\\site-packages\\sklearn\\model_selection\\_search.py\u001b[0m in \u001b[0;36mfit\u001b[1;34m(self, X, y, groups, **fit_params)\u001b[0m\n\u001b[0;32m    734\u001b[0m                 \u001b[1;32mreturn\u001b[0m \u001b[0mresults\u001b[0m\u001b[1;33m\u001b[0m\u001b[1;33m\u001b[0m\u001b[0m\n\u001b[0;32m    735\u001b[0m \u001b[1;33m\u001b[0m\u001b[0m\n\u001b[1;32m--> 736\u001b[1;33m             \u001b[0mself\u001b[0m\u001b[1;33m.\u001b[0m\u001b[0m_run_search\u001b[0m\u001b[1;33m(\u001b[0m\u001b[0mevaluate_candidates\u001b[0m\u001b[1;33m)\u001b[0m\u001b[1;33m\u001b[0m\u001b[1;33m\u001b[0m\u001b[0m\n\u001b[0m\u001b[0;32m    737\u001b[0m \u001b[1;33m\u001b[0m\u001b[0m\n\u001b[0;32m    738\u001b[0m         \u001b[1;31m# For multi-metric evaluation, store the best_index_, best_params_ and\u001b[0m\u001b[1;33m\u001b[0m\u001b[1;33m\u001b[0m\u001b[1;33m\u001b[0m\u001b[0m\n",
      "\u001b[1;32m~\\anaconda3\\lib\\site-packages\\sklearn\\model_selection\\_search.py\u001b[0m in \u001b[0;36m_run_search\u001b[1;34m(self, evaluate_candidates)\u001b[0m\n\u001b[0;32m   1186\u001b[0m     \u001b[1;32mdef\u001b[0m \u001b[0m_run_search\u001b[0m\u001b[1;33m(\u001b[0m\u001b[0mself\u001b[0m\u001b[1;33m,\u001b[0m \u001b[0mevaluate_candidates\u001b[0m\u001b[1;33m)\u001b[0m\u001b[1;33m:\u001b[0m\u001b[1;33m\u001b[0m\u001b[1;33m\u001b[0m\u001b[0m\n\u001b[0;32m   1187\u001b[0m         \u001b[1;34m\"\"\"Search all candidates in param_grid\"\"\"\u001b[0m\u001b[1;33m\u001b[0m\u001b[1;33m\u001b[0m\u001b[0m\n\u001b[1;32m-> 1188\u001b[1;33m         \u001b[0mevaluate_candidates\u001b[0m\u001b[1;33m(\u001b[0m\u001b[0mParameterGrid\u001b[0m\u001b[1;33m(\u001b[0m\u001b[0mself\u001b[0m\u001b[1;33m.\u001b[0m\u001b[0mparam_grid\u001b[0m\u001b[1;33m)\u001b[0m\u001b[1;33m)\u001b[0m\u001b[1;33m\u001b[0m\u001b[1;33m\u001b[0m\u001b[0m\n\u001b[0m\u001b[0;32m   1189\u001b[0m \u001b[1;33m\u001b[0m\u001b[0m\n\u001b[0;32m   1190\u001b[0m \u001b[1;33m\u001b[0m\u001b[0m\n",
      "\u001b[1;32m~\\anaconda3\\lib\\site-packages\\sklearn\\model_selection\\_search.py\u001b[0m in \u001b[0;36mevaluate_candidates\u001b[1;34m(candidate_params)\u001b[0m\n\u001b[0;32m    712\u001b[0m                                                        **fit_and_score_kwargs)\n\u001b[0;32m    713\u001b[0m                                \u001b[1;32mfor\u001b[0m \u001b[0mparameters\u001b[0m\u001b[1;33m,\u001b[0m \u001b[1;33m(\u001b[0m\u001b[0mtrain\u001b[0m\u001b[1;33m,\u001b[0m \u001b[0mtest\u001b[0m\u001b[1;33m)\u001b[0m\u001b[1;33m\u001b[0m\u001b[1;33m\u001b[0m\u001b[0m\n\u001b[1;32m--> 714\u001b[1;33m                                in product(candidate_params,\n\u001b[0m\u001b[0;32m    715\u001b[0m                                           cv.split(X, y, groups)))\n\u001b[0;32m    716\u001b[0m \u001b[1;33m\u001b[0m\u001b[0m\n",
      "\u001b[1;32m~\\anaconda3\\lib\\site-packages\\sklearn\\model_selection\\_split.py\u001b[0m in \u001b[0;36msplit\u001b[1;34m(self, X, y, groups)\u001b[0m\n\u001b[0;32m     80\u001b[0m         \u001b[1;32mfor\u001b[0m \u001b[0mtest_index\u001b[0m \u001b[1;32min\u001b[0m \u001b[0mself\u001b[0m\u001b[1;33m.\u001b[0m\u001b[0m_iter_test_masks\u001b[0m\u001b[1;33m(\u001b[0m\u001b[0mX\u001b[0m\u001b[1;33m,\u001b[0m \u001b[0my\u001b[0m\u001b[1;33m,\u001b[0m \u001b[0mgroups\u001b[0m\u001b[1;33m)\u001b[0m\u001b[1;33m:\u001b[0m\u001b[1;33m\u001b[0m\u001b[1;33m\u001b[0m\u001b[0m\n\u001b[0;32m     81\u001b[0m             \u001b[0mtrain_index\u001b[0m \u001b[1;33m=\u001b[0m \u001b[0mindices\u001b[0m\u001b[1;33m[\u001b[0m\u001b[0mnp\u001b[0m\u001b[1;33m.\u001b[0m\u001b[0mlogical_not\u001b[0m\u001b[1;33m(\u001b[0m\u001b[0mtest_index\u001b[0m\u001b[1;33m)\u001b[0m\u001b[1;33m]\u001b[0m\u001b[1;33m\u001b[0m\u001b[1;33m\u001b[0m\u001b[0m\n\u001b[1;32m---> 82\u001b[1;33m             \u001b[0mtest_index\u001b[0m \u001b[1;33m=\u001b[0m \u001b[0mindices\u001b[0m\u001b[1;33m[\u001b[0m\u001b[0mtest_index\u001b[0m\u001b[1;33m]\u001b[0m\u001b[1;33m\u001b[0m\u001b[1;33m\u001b[0m\u001b[0m\n\u001b[0m\u001b[0;32m     83\u001b[0m             \u001b[1;32myield\u001b[0m \u001b[0mtrain_index\u001b[0m\u001b[1;33m,\u001b[0m \u001b[0mtest_index\u001b[0m\u001b[1;33m\u001b[0m\u001b[1;33m\u001b[0m\u001b[0m\n\u001b[0;32m     84\u001b[0m \u001b[1;33m\u001b[0m\u001b[0m\n",
      "\u001b[1;31mKeyboardInterrupt\u001b[0m: "
     ]
    }
   ],
   "source": [
    "\n",
    "#Create a Linear Regression object and perform a grid search to find the best parameters\n",
    "linreg = CappedLinearRegression()\n",
    "parameters = {'normalize':(True,False), 'fit_intercept':(True,False)}\n",
    "\n",
    "#Create a grid search object using the  \n",
    "from sklearn.model_selection import GridSearchCV\n",
    "regGridSearch = GridSearchCV(estimator=linreg\n",
    "                   , verbose=1 # low verbosity\n",
    "                   , param_grid=parameters\n",
    "                   , cv=cv_reg # KFolds = 10\n",
    "                   , scoring=mae_scorer)\n",
    "\n",
    "#Perform hyperparameter search to find the best combination of parameters for our data\n",
    "regGridSearch.fit(X_cls_sel_train, y_cls_train)"
   ]
  },
  {
   "cell_type": "code",
   "execution_count": null,
   "metadata": {},
   "outputs": [],
   "source": [
    "#Print the parameterization of the best estimator\n",
    "regGridSearch.best_estimator_"
   ]
  },
  {
   "cell_type": "code",
   "execution_count": null,
   "metadata": {},
   "outputs": [],
   "source": [
    "#Create CappedLinearRegression predictions between 0 and 100% using the best parameters for our Linear Regression object\n",
    "regEstimator = regGridSearch.best_estimator_\n",
    "\n",
    "#Evaluate the regression estimator above using our pre-defined cross validation and scoring metrics. \n",
    "EvaluateRegressionEstimator(regEstimator, X_reg_sel, y_reg, cv_reg)"
   ]
  },
  {
   "cell_type": "markdown",
   "metadata": {},
   "source": [
    "##### Lasso"
   ]
  },
  {
   "cell_type": "code",
   "execution_count": null,
   "metadata": {},
   "outputs": [],
   "source": [
    "#Create a regression object and perform a grid search to find the best parameters\n",
    "from sklearn.linear_model import Lasso\n",
    "\n",
    "reg = Lasso(fit_intercept=True, normalize=True,copy_X=True\n",
    "          , max_iter=10000, precompute=True, tol=0.0001, random_state=0)\n",
    "\n",
    "#Test parameters \n",
    "alpha = [0.001, 0.1, 1, 10, 20]\n",
    "selection = ['cyclic','random']\n",
    "warm_start = [True, False]\n",
    "parameters = {'alpha': alpha, 'selection': selection, 'warm_start': warm_start}\n",
    "\n",
    "#Create a grid search object using the parameters above\n",
    "from sklearn.model_selection import GridSearchCV\n",
    "regGridSearch = GridSearchCV(estimator=reg\n",
    "                   , n_jobs=8 # jobs to run in parallel\n",
    "                   , verbose=1 # low verbosity\n",
    "                   , param_grid=parameters\n",
    "                   , cv=cv_reg # KFolds = 10\n",
    "                   , scoring=mae_scorer)\n",
    "\n",
    "#Perform hyperparameter search to find the best combination of parameters for our data\n",
    "regGridSearch.fit(X_reg_sel, y_reg)"
   ]
  },
  {
   "cell_type": "code",
   "execution_count": null,
   "metadata": {},
   "outputs": [],
   "source": [
    "#Display the best estimator parameters\n",
    "regGridSearch.best_estimator_"
   ]
  },
  {
   "cell_type": "code",
   "execution_count": null,
   "metadata": {},
   "outputs": [],
   "source": [
    "from sklearn.linear_model import Lasso\n",
    "\n",
    "#Create a regression estimator with best parameters for cross validation\n",
    "regEstimator = Lasso(alpha=0.1, copy_X=True, fit_intercept=True, max_iter=10000,\n",
    "                     normalize=True, positive=False, precompute=True, random_state=0,\n",
    "                     selection='cyclic', tol=0.0001, warm_start=True)\n",
    "\n",
    "#Evaluate the regression estimator above using our pre-defined cross validation and scoring metrics.\n",
    "EvaluateRegressionEstimator(regEstimator, X_reg_sel, y_reg, cv_reg)"
   ]
  },
  {
   "cell_type": "markdown",
   "metadata": {},
   "source": [
    "##### KNN Regression"
   ]
  },
  {
   "cell_type": "code",
   "execution_count": null,
   "metadata": {},
   "outputs": [],
   "source": [
    "from sklearn.neighbors import KNeighborsRegressor\n",
    "\n",
    "\n",
    "##Making subset smaller to only use top importance\n",
    "X_reg_sel_subset  = X_reg_sel['arrival_date_week_number','reserved_room_type','lead_time','hotel','market_segment']\n",
    "\n",
    "grid_params = {\n",
    "    'n_neighbors': [3,5,11,19],\n",
    "    'weights': ['uniform', 'distance'],\n",
    "    'metric': ['euclidean', 'manhattan'],\n",
    "    'algorithm': ['auto', 'ball_tree', 'kd_tree']\n",
    "}\n",
    "\n",
    "#using grid search value\n",
    "gs = GridSearchCV(\n",
    "    KNeighborsRegressor(),\n",
    "    grid_params,\n",
    "    verbose = 1,\n",
    "    cv = cv_reg,\n",
    "    n_jobs = -1\n",
    ")\n",
    "\n",
    "gs.fit(X_reg_sel,y_reg)"
   ]
  },
  {
   "cell_type": "markdown",
   "metadata": {},
   "source": [
    "### Part 4: Model Analysis with Visualizations <a id='model-and-evaluation4'/>"
   ]
  },
  {
   "cell_type": "markdown",
   "metadata": {},
   "source": [
    "*Analyze the results using your chosen method of evaluation. Use visualizations of the results to bolster the analysis. Explain any visuals and analyze why they are interesting to someone that might use this model.*"
   ]
  },
  {
   "cell_type": "code",
   "execution_count": null,
   "metadata": {},
   "outputs": [],
   "source": []
  },
  {
   "cell_type": "markdown",
   "metadata": {},
   "source": [
    "### Part 5: Model Comparison <a id='model-and-evaluation5'/>"
   ]
  },
  {
   "cell_type": "markdown",
   "metadata": {},
   "source": [
    "*Discuss the advantages of each model for each classification task, if any. If there are not advantages, explain why. Is any model better than another? Is the difference significant with 95% confidence? Use proper statistical comparison methods. You must use statistical comparison techniques—be sure they are appropriate for your chosen method of validation as discussed in unit 7 of the course.*"
   ]
  },
  {
   "cell_type": "markdown",
   "metadata": {},
   "source": [
    "#### ROC"
   ]
  },
  {
   "cell_type": "code",
   "execution_count": 128,
   "metadata": {},
   "outputs": [
    {
     "data": {
      "text/plain": [
       "array([[0.94403929, 0.05596071],\n",
       "       [0.77289388, 0.22710612],\n",
       "       [0.80517205, 0.19482795],\n",
       "       ...,\n",
       "       [1.        , 0.        ],\n",
       "       [0.83556101, 0.16443899],\n",
       "       [1.        , 0.        ]])"
      ]
     },
     "execution_count": 128,
     "metadata": {},
     "output_type": "execute_result"
    }
   ],
   "source": [
    "yhat_score_knn= knn_fit.best_estimator_.predict_proba(X_cls_sel_train_test)\n",
    "yhat_score"
   ]
  },
  {
   "cell_type": "code",
   "execution_count": 135,
   "metadata": {},
   "outputs": [
    {
     "data": {
      "text/plain": [
       "array([0.05596071, 0.22710612, 0.19482795, ..., 0.        , 0.16443899,\n",
       "       0.        ])"
      ]
     },
     "execution_count": 135,
     "metadata": {},
     "output_type": "execute_result"
    }
   ],
   "source": [
    "y_cls_test.ravel()\n",
    "yhat_score[:,1]"
   ]
  },
  {
   "cell_type": "code",
   "execution_count": 140,
   "metadata": {},
   "outputs": [],
   "source": [
    "yhat_score_random_forest= rf_clf.best_estimator_.predict_proba(X_cls_sel_train_test)"
   ]
  },
  {
   "cell_type": "code",
   "execution_count": 143,
   "metadata": {},
   "outputs": [],
   "source": [
    "yhat_score_logistic = lg_clf.best_estimator_.predict_proba(X_cls_sel_train_test)"
   ]
  },
  {
   "cell_type": "code",
   "execution_count": 148,
   "metadata": {},
   "outputs": [],
   "source": [
    "yhat_score_decision_tree = dt_clf.best_estimator_.predict_proba(X_cls_sel_train_test)"
   ]
  },
  {
   "cell_type": "code",
   "execution_count": null,
   "metadata": {},
   "outputs": [],
   "source": [
    "yhat_score_svm = regGridSearch.best_estimator_.predict_proba(X_cls_sel_train_test)"
   ]
  },
  {
   "cell_type": "code",
   "execution_count": 137,
   "metadata": {},
   "outputs": [
    {
     "data": {
      "text/plain": [
       "[<matplotlib.lines.Line2D at 0x1393825e0>]"
      ]
     },
     "execution_count": 137,
     "metadata": {},
     "output_type": "execute_result"
    },
    {
     "data": {
      "image/png": "[encoded data removed]",
      "text/plain": [
       "<Figure size 864x288 with 1 Axes>"
      ]
     },
     "metadata": {
      "needs_background": "light"
     },
     "output_type": "display_data"
    }
   ],
   "source": [
    "import seaborn as sns\n",
    "from sklearn.preprocessing import label_binarize\n",
    "from sklearn import metrics as mt\n",
    "\n",
    "\n",
    "fpr = dict()\n",
    "tpr = dict()\n",
    "roc_auc = dict()\n",
    "fpr[\"micro\"], tpr[\"micro\"], _ = mt.roc_curve(y_cls_test.ravel(),yhat_score[:,1])\n",
    "roc_auc[\"micro\"] = mt.auc(fpr[\"micro\"], tpr[\"micro\"])\n",
    "\n",
    "plt.figure(figsize=(12,4))\n",
    "plt.plot(fpr[\"micro\"], tpr[\"micro\"],\n",
    "         label='micro-average ROC curve (area = {0:0.2f})'\n",
    "               ''.format(roc_auc[\"micro\"]))"
   ]
  },
  {
   "cell_type": "code",
   "execution_count": 149,
   "metadata": {},
   "outputs": [
    {
     "data": {
      "image/png": "[encoded data removed]",
      "text/plain": [
       "<Figure size 864x288 with 1 Axes>"
      ]
     },
     "metadata": {
      "needs_background": "light"
     },
     "output_type": "display_data"
    }
   ],
   "source": [
    "fpr[\"knn\"], tpr[\"knn\"], _ = mt.roc_curve(y_cls_test.ravel(),yhat_score[:,1])\n",
    "roc_auc[\"knn\"] = mt.auc(fpr[\"knn\"], tpr[\"knn\"])\n",
    "\n",
    "\n",
    "fpr[\"rf\"], tpr[\"rf\"], _ = mt.roc_curve(y_cls_test.ravel(),yhat_score_random_forest[:,1])\n",
    "roc_auc[\"rf\"] = mt.auc(fpr[\"rf\"], tpr[\"rf\"])\n",
    "\n",
    "\n",
    "fpr[\"log\"], tpr[\"log\"], _ = mt.roc_curve(y_cls_test.ravel(),yhat_score_logistic[:,1])\n",
    "roc_auc[\"log\"] = mt.auc(fpr[\"log\"], tpr[\"log\"])\n",
    "\n",
    "fpr[\"dt\"], tpr[\"dt\"], _ = mt.roc_curve(y_cls_test.ravel(),yhat_score_decision_tree[:,1])\n",
    "roc_auc[\"dt\"] = mt.auc(fpr[\"dt\"], tpr[\"dt\"])\n",
    "\n",
    "\n",
    "\n",
    "\n",
    "\n",
    "plt.figure(figsize=(12,4))\n",
    "plt.plot(fpr[\"knn\"], tpr[\"knn\"],\n",
    "         label='knn roc curve'\n",
    "               ''.format(roc_auc[\"knn\"]))\n",
    "plt.plot(fpr[\"rf\"], tpr[\"rf\"],\n",
    "         label='rf roc curve'\n",
    "               ''.format(roc_auc[\"rf\"]))\n",
    "plt.plot(fpr[\"log\"], tpr[\"log\"],\n",
    "         label='log roc curve'\n",
    "               ''.format(roc_auc[\"log\"]))\n",
    "\n",
    "plt.plot(fpr[\"dt\"], tpr[\"dt\"],\n",
    "         label='dt roc curve'\n",
    "               ''.format(roc_auc[\"dt\"]))\n",
    "\n",
    "plt.legend(loc=\"lower right\")  \n",
    "plt.xlabel('False Positive Rate')\n",
    "plt.ylabel('True Positive Rate')\n",
    "plt.show()\n"
   ]
  },
  {
   "cell_type": "markdown",
   "metadata": {},
   "source": [
    "#### Area Under the Curve (AUC)"
   ]
  },
  {
   "cell_type": "markdown",
   "metadata": {},
   "source": [
    "#### mlxtend (comparing the regression models)\n",
    "\n",
    "http://rasbt.github.io/mlxtend/user_guide/evaluate/paired_ttest_5x2cv/"
   ]
  },
  {
   "cell_type": "markdown",
   "metadata": {},
   "source": [
    "#### Statistical approach (using mlxtend), alpha = 0.05\n",
    "Using the mlxtend package, we delved into the statistical significance in performance difference among different pairs of models. From the results below, __Random forest__ performed significantly better than the rest of the classification models discussed above (KNN, Decision tree, Logistic regression, Naive Bayes). "
   ]
  },
  {
   "cell_type": "markdown",
   "metadata": {},
   "source": [
    "##### Random forest vs Naive Bayes\n",
    "- Compared Random forest(most accurate model) vs Naive Bayes(least accurate model) using the test dataset.\n",
    "- Since p(0.000) < a (0.05), we __reject__ the null hypothesis that both algorithms perform equally well on the dataset. Thus we find the performance difference between the two models to be __very significant__. "
   ]
  },
  {
   "cell_type": "code",
   "execution_count": 163,
   "metadata": {},
   "outputs": [
    {
     "name": "stdout",
     "output_type": "stream",
     "text": [
      "t statistic: 30.264\n",
      "p value: 0.000\n"
     ]
    }
   ],
   "source": [
    "# Random forest vs Naive bayes\n",
    "from mlxtend.evaluate import paired_ttest_5x2cv\n",
    "\n",
    "for train_indices, test_indices in cv_cls.split(X_cls_sel,y_cls): \n",
    "    X_train = X_cls_sel.iloc[train_indices]\n",
    "    y_train = y_cls.iloc[train_indices]\n",
    "    \n",
    "    X_test = X_cls_sel.iloc[test_indices]\n",
    "    y_test = y_cls.iloc[test_indices]\n",
    "    \n",
    "t, p = paired_ttest_5x2cv(estimator1=clf_rf,\n",
    "                          estimator2=clf_nb,\n",
    "                          X=X_test, y=y_test,\n",
    "                          random_seed=10)\n",
    "\n",
    "print('t statistic: %.3f' % t)\n",
    "print('p value: %.3f' % p)"
   ]
  },
  {
   "cell_type": "markdown",
   "metadata": {},
   "source": [
    "##### KNN vs Naive Bayes\n",
    "- Compared KNN(Second most accurate model) vs Decision tree(third most accurate model) using the test dataset.\n",
    "- Since p(0.471) < a (0.05), we __fail to reject__ the null hypothesis that both algorithms perform equally well on the dataset. Thus we find the performance difference between the two models to be __not significant__. "
   ]
  },
  {
   "cell_type": "code",
   "execution_count": 165,
   "metadata": {},
   "outputs": [
    {
     "name": "stdout",
     "output_type": "stream",
     "text": [
      "t statistic: 0.780\n",
      "p value: 0.471\n"
     ]
    }
   ],
   "source": [
    "# KNN vs Decision tree\n",
    "from mlxtend.evaluate import paired_ttest_5x2cv\n",
    "\n",
    "for train_indices, test_indices in cv_cls.split(X_cls_sel,y_cls): \n",
    "    X_train = X_cls_sel.iloc[train_indices]\n",
    "    y_train = y_cls.iloc[train_indices]\n",
    "    \n",
    "    X_test = X_cls_sel.iloc[test_indices]\n",
    "    y_test = y_cls.iloc[test_indices]\n",
    "    \n",
    "t, p = paired_ttest_5x2cv(estimator1=clf_knn,\n",
    "                          estimator2=clf_dt,\n",
    "                          X=X_test, y=y_test,\n",
    "                          random_seed=10)\n",
    "\n",
    "print('t statistic: %.3f' % t)\n",
    "print('p value: %.3f' % p)"
   ]
  },
  {
   "cell_type": "markdown",
   "metadata": {},
   "source": [
    "##### Visualizing mlxtend results with different models"
   ]
  },
  {
   "cell_type": "code",
   "execution_count": 173,
   "metadata": {},
   "outputs": [
    {
     "data": {
      "image/png": "[encoded data removed]",
      "text/plain": [
       "<Figure size 432x288 with 1 Axes>"
      ]
     },
     "metadata": {
      "needs_background": "light"
     },
     "output_type": "display_data"
    },
    {
     "data": {
      "image/png": "[encoded data removed]",
      "text/plain": [
       "<Figure size 432x288 with 1 Axes>"
      ]
     },
     "metadata": {
      "needs_background": "light"
     },
     "output_type": "display_data"
    },
    {
     "data": {
      "image/png": "[encoded data removed]",
      "text/plain": [
       "<Figure size 432x288 with 1 Axes>"
      ]
     },
     "metadata": {
      "needs_background": "light"
     },
     "output_type": "display_data"
    },
    {
     "name": "stdout",
     "output_type": "stream",
     "text": [
      "Fitting 3 classifiers...\n",
      "Fitting clf1: randomforestclassifier (1/3)\n",
      "RandomForestClassifier(max_depth=50, n_estimators=150, n_jobs=-1,\n",
      "                       oob_score=True)\n",
      "Fitting clf2: kneighborsclassifier (2/3)\n",
      "KNeighborsClassifier(n_neighbors=3)\n",
      "Fitting clf3: decisiontreeclassifier (3/3)\n",
      "DecisionTreeClassifier(random_state=10)\n"
     ]
    },
    {
     "data": {
      "image/png": "[encoded data removed]",
      "text/plain": [
       "<Figure size 432x288 with 1 Axes>"
      ]
     },
     "metadata": {
      "needs_background": "light"
     },
     "output_type": "display_data"
    }
   ],
   "source": [
    "from mlxtend.classifier import EnsembleVoteClassifier\n",
    "from mlxtend.plotting import plot_decision_regions\n",
    "import matplotlib.pyplot as plt\n",
    "from sklearn.decomposition import PCA\n",
    "def visual_ml(clf_rf, clf_knn, clf_dt, X_test, y_test):\n",
    "    y_test = np.array(y_test, dtype = np.uint)\n",
    "    pca = PCA(n_components = 2)\n",
    "    X_test = pca.fit_transform(X_test)\n",
    "    eclf = EnsembleVoteClassifier(clfs = [clf_rf, clf_knn, clf_dt], verbose = 2)\n",
    "    labels = ['Random Forest',\n",
    "          'KNN',\n",
    "          'Decision Tree',\n",
    "          'Ensemble']\n",
    "    for clf, lab in zip([clf_rf, clf_knn, clf_dt, eclf], labels):\n",
    "        clf.fit(X_test, y_test)\n",
    "        plt.figure()\n",
    "        fig = plot_decision_regions(X=X_test, y=y_test, clf=clf)\n",
    "        plt.title(lab)\n",
    "        plt.show()\n",
    "        plt.close()\n",
    "visual_ml(clf_rf, clf_knn, clf_dt, X_test, y_test)"
   ]
  },
  {
   "cell_type": "markdown",
   "metadata": {},
   "source": [
    "### Part 6: Feature Importance <a id='model-and-evaluation6'/>"
   ]
  },
  {
   "cell_type": "markdown",
   "metadata": {},
   "source": [
    "###### Which attributes from your analysis are most important?\n",
    "###### Use proper methods discussed in class to evaluate the importance of different attributes. Discuss the results and hypothesize about why certain attributes are more important than others for a given classification task.*\n"
   ]
  },
  {
   "cell_type": "markdown",
   "metadata": {},
   "source": [
    "# Deployment <a id='deployment'/>"
   ]
  },
  {
   "cell_type": "markdown",
   "metadata": {},
   "source": [
    "###### How useful is your model for interested parties (i.e., the companies or organizations that might want to use it for prediction)?\n",
    "###### How would you measure the model's value if it was used by these parties? How would your deploy your model for interested parties? \n",
    "###### What other data should be collected? \n",
    "###### How often would the model need to be updated, etc.?*"
   ]
  },
  {
   "cell_type": "markdown",
   "metadata": {},
   "source": [
    "# Exceptional Work <a id='exceptional-work'/>"
   ]
  },
  {
   "cell_type": "markdown",
   "metadata": {},
   "source": [
    "*You have free reign to provide additional analyses. One idea: grid search parameters in a parallelized fashion and visualize the performances across attributes. Which parameters are most significant for making a good model for each classification algorithm?*"
   ]
  },
  {
   "cell_type": "code",
   "execution_count": null,
   "metadata": {},
   "outputs": [],
   "source": []
  }
 ],
 "metadata": {
  "kernelspec": {
   "display_name": "Python 3",
   "language": "python",
   "name": "python3"
  },
  "language_info": {
   "codemirror_mode": {
    "name": "ipython",
    "version": 3
   },
   "file_extension": ".py",
   "mimetype": "text/x-python",
   "name": "python",
   "nbconvert_exporter": "python",
   "pygments_lexer": "ipython3",
   "version": "3.8.5"
  }
 },
 "nbformat": 4,
 "nbformat_minor": 4
}
